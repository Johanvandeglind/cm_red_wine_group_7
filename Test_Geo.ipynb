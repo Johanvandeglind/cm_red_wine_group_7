{
 "cells": [
  {
   "cell_type": "code",
   "metadata": {
    "tags": [],
    "cell_id": "00000-515eb45e-0000-427f-9a2b-83b9dffcf5a7",
    "deepnote_to_be_reexecuted": false,
    "source_hash": "8b96cb35",
    "execution_start": 1633091199303,
    "execution_millis": 1601,
    "deepnote_cell_type": "code"
   },
   "source": "import pandas as pd\n\n# import packages\nimport pandas as pd\nimport seaborn as sns\n\ndf = pd.read_csv('pt_infosolo.csv',sep=',',encoding ='ISO-8859-1')\n\ndf.sample(5)\n\n# 4 tables: SOIL, PROPERTIES, METHODS, DESCRIPTION",
   "execution_count": 1,
   "outputs": [
    {
     "output_type": "execute_result",
     "execution_count": 1,
     "data": {
      "application/vnd.deepnote.dataframe.v2+json": {
       "row_count": 5,
       "column_count": 52,
       "columns": [
        {
         "name": "X",
         "dtype": "float64",
         "stats": {
          "unique_count": 5,
          "nan_count": 0,
          "min": "-8.70896",
          "max": "-6.882166",
          "histogram": [
           {
            "bin_start": -8.70896,
            "bin_end": -8.5262806,
            "count": 1
           },
           {
            "bin_start": -8.5262806,
            "bin_end": -8.3436012,
            "count": 0
           },
           {
            "bin_start": -8.3436012,
            "bin_end": -8.160921799999999,
            "count": 1
           },
           {
            "bin_start": -8.160921799999999,
            "bin_end": -7.978242399999999,
            "count": 2
           },
           {
            "bin_start": -7.978242399999999,
            "bin_end": -7.795563,
            "count": 0
           },
           {
            "bin_start": -7.795563,
            "bin_end": -7.6128836,
            "count": 0
           },
           {
            "bin_start": -7.6128836,
            "bin_end": -7.4302041999999995,
            "count": 0
           },
           {
            "bin_start": -7.4302041999999995,
            "bin_end": -7.2475248,
            "count": 0
           },
           {
            "bin_start": -7.2475248,
            "bin_end": -7.064845399999999,
            "count": 0
           },
           {
            "bin_start": -7.064845399999999,
            "bin_end": -6.882166,
            "count": 1
           }
          ]
         }
        },
        {
         "name": "Y",
         "dtype": "float64",
         "stats": {
          "unique_count": 5,
          "nan_count": 0,
          "min": "38.7271",
          "max": "41.48489",
          "histogram": [
           {
            "bin_start": 38.7271,
            "bin_end": 39.002879,
            "count": 1
           },
           {
            "bin_start": 39.002879,
            "bin_end": 39.278658,
            "count": 0
           },
           {
            "bin_start": 39.278658,
            "bin_end": 39.554437,
            "count": 1
           },
           {
            "bin_start": 39.554437,
            "bin_end": 39.830216,
            "count": 0
           },
           {
            "bin_start": 39.830216,
            "bin_end": 40.105995,
            "count": 0
           },
           {
            "bin_start": 40.105995,
            "bin_end": 40.381774,
            "count": 0
           },
           {
            "bin_start": 40.381774,
            "bin_end": 40.657553,
            "count": 1
           },
           {
            "bin_start": 40.657553,
            "bin_end": 40.933332,
            "count": 0
           },
           {
            "bin_start": 40.933332,
            "bin_end": 41.209111,
            "count": 0
           },
           {
            "bin_start": 41.209111,
            "bin_end": 41.48489,
            "count": 2
           }
          ]
         }
        },
        {
         "name": "pt_infosolo_site_id",
         "dtype": "int64",
         "stats": {
          "unique_count": 5,
          "nan_count": 0,
          "min": "142",
          "max": "3156",
          "histogram": [
           {
            "bin_start": 142,
            "bin_end": 443.4,
            "count": 1
           },
           {
            "bin_start": 443.4,
            "bin_end": 744.8,
            "count": 0
           },
           {
            "bin_start": 744.8,
            "bin_end": 1046.1999999999998,
            "count": 1
           },
           {
            "bin_start": 1046.1999999999998,
            "bin_end": 1347.6,
            "count": 1
           },
           {
            "bin_start": 1347.6,
            "bin_end": 1649,
            "count": 0
           },
           {
            "bin_start": 1649,
            "bin_end": 1950.3999999999999,
            "count": 1
           },
           {
            "bin_start": 1950.3999999999999,
            "bin_end": 2251.7999999999997,
            "count": 0
           },
           {
            "bin_start": 2251.7999999999997,
            "bin_end": 2553.2,
            "count": 0
           },
           {
            "bin_start": 2553.2,
            "bin_end": 2854.6,
            "count": 0
           },
           {
            "bin_start": 2854.6,
            "bin_end": 3156,
            "count": 1
           }
          ]
         }
        },
        {
         "name": "pt_infosolo_horizon_id",
         "dtype": "int64",
         "stats": {
          "unique_count": 5,
          "nan_count": 0,
          "min": "475",
          "max": "9028",
          "histogram": [
           {
            "bin_start": 475,
            "bin_end": 1330.3,
            "count": 1
           },
           {
            "bin_start": 1330.3,
            "bin_end": 2185.6,
            "count": 0
           },
           {
            "bin_start": 2185.6,
            "bin_end": 3040.8999999999996,
            "count": 0
           },
           {
            "bin_start": 3040.8999999999996,
            "bin_end": 3896.2,
            "count": 2
           },
           {
            "bin_start": 3896.2,
            "bin_end": 4751.5,
            "count": 0
           },
           {
            "bin_start": 4751.5,
            "bin_end": 5606.799999999999,
            "count": 1
           },
           {
            "bin_start": 5606.799999999999,
            "bin_end": 6462.099999999999,
            "count": 0
           },
           {
            "bin_start": 6462.099999999999,
            "bin_end": 7317.4,
            "count": 0
           },
           {
            "bin_start": 7317.4,
            "bin_end": 8172.7,
            "count": 0
           },
           {
            "bin_start": 8172.7,
            "bin_end": 9028,
            "count": 1
           }
          ]
         }
        },
        {
         "name": "profile_code",
         "dtype": "object",
         "stats": {
          "unique_count": 5,
          "nan_count": 0,
          "categories": [
           {
            "name": "C8",
            "count": 1
           },
           {
            "name": "192X",
            "count": 1
           },
           {
            "name": "3 others",
            "count": 3
           }
          ]
         }
        },
        {
         "name": "longitude",
         "dtype": "float64",
         "stats": {
          "unique_count": 5,
          "nan_count": 0,
          "min": "-8.70896",
          "max": "-6.882166",
          "histogram": [
           {
            "bin_start": -8.70896,
            "bin_end": -8.5262806,
            "count": 1
           },
           {
            "bin_start": -8.5262806,
            "bin_end": -8.3436012,
            "count": 0
           },
           {
            "bin_start": -8.3436012,
            "bin_end": -8.160921799999999,
            "count": 1
           },
           {
            "bin_start": -8.160921799999999,
            "bin_end": -7.978242399999999,
            "count": 2
           },
           {
            "bin_start": -7.978242399999999,
            "bin_end": -7.795563,
            "count": 0
           },
           {
            "bin_start": -7.795563,
            "bin_end": -7.6128836,
            "count": 0
           },
           {
            "bin_start": -7.6128836,
            "bin_end": -7.4302041999999995,
            "count": 0
           },
           {
            "bin_start": -7.4302041999999995,
            "bin_end": -7.2475248,
            "count": 0
           },
           {
            "bin_start": -7.2475248,
            "bin_end": -7.064845399999999,
            "count": 0
           },
           {
            "bin_start": -7.064845399999999,
            "bin_end": -6.882166,
            "count": 1
           }
          ]
         }
        },
        {
         "name": "latitude",
         "dtype": "float64",
         "stats": {
          "unique_count": 5,
          "nan_count": 0,
          "min": "38.7271",
          "max": "41.48489",
          "histogram": [
           {
            "bin_start": 38.7271,
            "bin_end": 39.002879,
            "count": 1
           },
           {
            "bin_start": 39.002879,
            "bin_end": 39.278658,
            "count": 0
           },
           {
            "bin_start": 39.278658,
            "bin_end": 39.554437,
            "count": 1
           },
           {
            "bin_start": 39.554437,
            "bin_end": 39.830216,
            "count": 0
           },
           {
            "bin_start": 39.830216,
            "bin_end": 40.105995,
            "count": 0
           },
           {
            "bin_start": 40.105995,
            "bin_end": 40.381774,
            "count": 0
           },
           {
            "bin_start": 40.381774,
            "bin_end": 40.657553,
            "count": 1
           },
           {
            "bin_start": 40.657553,
            "bin_end": 40.933332,
            "count": 0
           },
           {
            "bin_start": 40.933332,
            "bin_end": 41.209111,
            "count": 0
           },
           {
            "bin_start": 41.209111,
            "bin_end": 41.48489,
            "count": 2
           }
          ]
         }
        },
        {
         "name": "altitude",
         "dtype": "int64",
         "stats": {
          "unique_count": 5,
          "nan_count": 0,
          "min": "60",
          "max": "800",
          "histogram": [
           {
            "bin_start": 60,
            "bin_end": 134,
            "count": 1
           },
           {
            "bin_start": 134,
            "bin_end": 208,
            "count": 0
           },
           {
            "bin_start": 208,
            "bin_end": 282,
            "count": 2
           },
           {
            "bin_start": 282,
            "bin_end": 356,
            "count": 0
           },
           {
            "bin_start": 356,
            "bin_end": 430,
            "count": 1
           },
           {
            "bin_start": 430,
            "bin_end": 504,
            "count": 0
           },
           {
            "bin_start": 504,
            "bin_end": 578,
            "count": 0
           },
           {
            "bin_start": 578,
            "bin_end": 652,
            "count": 0
           },
           {
            "bin_start": 652,
            "bin_end": 726,
            "count": 0
           },
           {
            "bin_start": 726,
            "bin_end": 800,
            "count": 1
           }
          ]
         }
        },
        {
         "name": "coordinates",
         "dtype": "object",
         "stats": {
          "unique_count": 2,
          "nan_count": 0,
          "categories": [
           {
            "name": "Estimated",
            "count": 3
           },
           {
            "name": "Available",
            "count": 2
           }
          ]
         }
        },
        {
         "name": "year",
         "dtype": "int64",
         "stats": {
          "unique_count": 4,
          "nan_count": 0,
          "min": "1973",
          "max": "2009",
          "histogram": [
           {
            "bin_start": 1973,
            "bin_end": 1976.6,
            "count": 1
           },
           {
            "bin_start": 1976.6,
            "bin_end": 1980.2,
            "count": 0
           },
           {
            "bin_start": 1980.2,
            "bin_end": 1983.8,
            "count": 0
           },
           {
            "bin_start": 1983.8,
            "bin_end": 1987.4,
            "count": 0
           },
           {
            "bin_start": 1987.4,
            "bin_end": 1991,
            "count": 0
           },
           {
            "bin_start": 1991,
            "bin_end": 1994.6,
            "count": 0
           },
           {
            "bin_start": 1994.6,
            "bin_end": 1998.2,
            "count": 2
           },
           {
            "bin_start": 1998.2,
            "bin_end": 2001.8,
            "count": 1
           },
           {
            "bin_start": 2001.8,
            "bin_end": 2005.4,
            "count": 0
           },
           {
            "bin_start": 2005.4,
            "bin_end": 2009,
            "count": 1
           }
          ]
         }
        },
        {
         "name": "soil",
         "dtype": "object",
         "stats": {
          "unique_count": 3,
          "nan_count": 1,
          "categories": [
           {
            "name": "Cambisols",
            "count": 2
           },
           {
            "name": "2 others",
            "count": 2
           },
           {
            "name": "Missing",
            "count": 1
           }
          ]
         }
        },
        {
         "name": "qualifier1",
         "dtype": "object",
         "stats": {
          "unique_count": 3,
          "nan_count": 1,
          "categories": [
           {
            "name": "Humic",
            "count": 2
           },
           {
            "name": "2 others",
            "count": 2
           },
           {
            "name": "Missing",
            "count": 1
           }
          ]
         }
        },
        {
         "name": "qualifier2",
         "dtype": "object",
         "stats": {
          "unique_count": 2,
          "nan_count": 2,
          "categories": [
           {
            "name": "Hyperdystric",
            "count": 2
           },
           {
            "name": "Dystric",
            "count": 1
           },
           {
            "name": "Missing",
            "count": 2
           }
          ]
         }
        },
        {
         "name": "qualifier3",
         "dtype": "object",
         "stats": {
          "unique_count": 2,
          "nan_count": 3,
          "categories": [
           {
            "name": "Skeletic",
            "count": 1
           },
           {
            "name": "Escalic",
            "count": 1
           },
           {
            "name": "Missing",
            "count": 3
           }
          ]
         }
        },
        {
         "name": "wrb_m",
         "dtype": "object",
         "stats": {
          "unique_count": 2,
          "nan_count": 0,
          "categories": [
           {
            "name": "WRB 2006",
            "count": 4
           },
           {
            "name": "Not classified",
            "count": 1
           }
          ]
         }
        },
        {
         "name": "parent_material",
         "dtype": "object",
         "stats": {
          "unique_count": 2,
          "nan_count": 1,
          "categories": [
           {
            "name": "Consolidated clastic sedimentary rocks",
            "count": 3
           },
           {
            "name": "Igneous rocks",
            "count": 1
           },
           {
            "name": "Missing",
            "count": 1
           }
          ]
         }
        },
        {
         "name": "land_use",
         "dtype": "object",
         "stats": {
          "unique_count": 2,
          "nan_count": 2,
          "categories": [
           {
            "name": "Irrigated arable crop",
            "count": 2
           },
           {
            "name": "Pasture",
            "count": 1
           },
           {
            "name": "Missing",
            "count": 2
           }
          ]
         }
        },
        {
         "name": "hor_top",
         "dtype": "float64",
         "stats": {
          "unique_count": 1,
          "nan_count": 0,
          "min": "0.0",
          "max": "0.0",
          "histogram": [
           {
            "bin_start": -0.5,
            "bin_end": -0.4,
            "count": 0
           },
           {
            "bin_start": -0.4,
            "bin_end": -0.3,
            "count": 0
           },
           {
            "bin_start": -0.3,
            "bin_end": -0.19999999999999996,
            "count": 0
           },
           {
            "bin_start": -0.19999999999999996,
            "bin_end": -0.09999999999999998,
            "count": 0
           },
           {
            "bin_start": -0.09999999999999998,
            "bin_end": 0,
            "count": 0
           },
           {
            "bin_start": 0,
            "bin_end": 0.10000000000000009,
            "count": 5
           },
           {
            "bin_start": 0.10000000000000009,
            "bin_end": 0.20000000000000007,
            "count": 0
           },
           {
            "bin_start": 0.20000000000000007,
            "bin_end": 0.30000000000000004,
            "count": 0
           },
           {
            "bin_start": 0.30000000000000004,
            "bin_end": 0.4,
            "count": 0
           },
           {
            "bin_start": 0.4,
            "bin_end": 0.5,
            "count": 0
           }
          ]
         }
        },
        {
         "name": "hor_bot",
         "dtype": "float64",
         "stats": {
          "unique_count": 2,
          "nan_count": 0,
          "min": "20.0",
          "max": "25.0",
          "histogram": [
           {
            "bin_start": 20,
            "bin_end": 20.5,
            "count": 3
           },
           {
            "bin_start": 20.5,
            "bin_end": 21,
            "count": 0
           },
           {
            "bin_start": 21,
            "bin_end": 21.5,
            "count": 0
           },
           {
            "bin_start": 21.5,
            "bin_end": 22,
            "count": 0
           },
           {
            "bin_start": 22,
            "bin_end": 22.5,
            "count": 0
           },
           {
            "bin_start": 22.5,
            "bin_end": 23,
            "count": 0
           },
           {
            "bin_start": 23,
            "bin_end": 23.5,
            "count": 0
           },
           {
            "bin_start": 23.5,
            "bin_end": 24,
            "count": 0
           },
           {
            "bin_start": 24,
            "bin_end": 24.5,
            "count": 0
           },
           {
            "bin_start": 24.5,
            "bin_end": 25,
            "count": 2
           }
          ]
         }
        },
        {
         "name": "hor_name",
         "dtype": "object",
         "stats": {
          "unique_count": 3,
          "nan_count": 0,
          "categories": [
           {
            "name": "Ap",
            "count": 3
           },
           {
            "name": "A",
            "count": 1
           },
           {
            "name": "A1",
            "count": 1
           }
          ]
         }
        },
        {
         "name": "coarse",
         "dtype": "float64",
         "stats": {
          "unique_count": 5,
          "nan_count": 0,
          "min": "8.0",
          "max": "43.9",
          "histogram": [
           {
            "bin_start": 8,
            "bin_end": 11.59,
            "count": 2
           },
           {
            "bin_start": 11.59,
            "bin_end": 15.18,
            "count": 0
           },
           {
            "bin_start": 15.18,
            "bin_end": 18.77,
            "count": 1
           },
           {
            "bin_start": 18.77,
            "bin_end": 22.36,
            "count": 0
           },
           {
            "bin_start": 22.36,
            "bin_end": 25.95,
            "count": 1
           },
           {
            "bin_start": 25.95,
            "bin_end": 29.54,
            "count": 0
           },
           {
            "bin_start": 29.54,
            "bin_end": 33.129999999999995,
            "count": 0
           },
           {
            "bin_start": 33.129999999999995,
            "bin_end": 36.72,
            "count": 0
           },
           {
            "bin_start": 36.72,
            "bin_end": 40.31,
            "count": 0
           },
           {
            "bin_start": 40.31,
            "bin_end": 43.9,
            "count": 1
           }
          ]
         }
        },
        {
         "name": "cs",
         "dtype": "float64",
         "stats": {
          "unique_count": 5,
          "nan_count": 0,
          "min": "13.8",
          "max": "71.5",
          "histogram": [
           {
            "bin_start": 13.8,
            "bin_end": 19.57,
            "count": 1
           },
           {
            "bin_start": 19.57,
            "bin_end": 25.340000000000003,
            "count": 0
           },
           {
            "bin_start": 25.340000000000003,
            "bin_end": 31.110000000000003,
            "count": 0
           },
           {
            "bin_start": 31.110000000000003,
            "bin_end": 36.88,
            "count": 1
           },
           {
            "bin_start": 36.88,
            "bin_end": 42.650000000000006,
            "count": 0
           },
           {
            "bin_start": 42.650000000000006,
            "bin_end": 48.42,
            "count": 0
           },
           {
            "bin_start": 48.42,
            "bin_end": 54.19,
            "count": 1
           },
           {
            "bin_start": 54.19,
            "bin_end": 59.96000000000001,
            "count": 0
           },
           {
            "bin_start": 59.96000000000001,
            "bin_end": 65.73,
            "count": 0
           },
           {
            "bin_start": 65.73,
            "bin_end": 71.5,
            "count": 2
           }
          ]
         }
        },
        {
         "name": "fs",
         "dtype": "float64",
         "stats": {
          "unique_count": 5,
          "nan_count": 0,
          "min": "17.4",
          "max": "52.5",
          "histogram": [
           {
            "bin_start": 17.4,
            "bin_end": 20.91,
            "count": 1
           },
           {
            "bin_start": 20.91,
            "bin_end": 24.419999999999998,
            "count": 2
           },
           {
            "bin_start": 24.419999999999998,
            "bin_end": 27.93,
            "count": 1
           },
           {
            "bin_start": 27.93,
            "bin_end": 31.439999999999998,
            "count": 0
           },
           {
            "bin_start": 31.439999999999998,
            "bin_end": 34.95,
            "count": 0
           },
           {
            "bin_start": 34.95,
            "bin_end": 38.46,
            "count": 0
           },
           {
            "bin_start": 38.46,
            "bin_end": 41.97,
            "count": 0
           },
           {
            "bin_start": 41.97,
            "bin_end": 45.480000000000004,
            "count": 0
           },
           {
            "bin_start": 45.480000000000004,
            "bin_end": 48.99,
            "count": 0
           },
           {
            "bin_start": 48.99,
            "bin_end": 52.5,
            "count": 1
           }
          ]
         }
        },
        {
         "name": "si",
         "dtype": "float64",
         "stats": {
          "unique_count": 5,
          "nan_count": 0,
          "min": "2.6",
          "max": "25.9",
          "histogram": [
           {
            "bin_start": 2.6,
            "bin_end": 4.93,
            "count": 1
           },
           {
            "bin_start": 4.93,
            "bin_end": 7.26,
            "count": 1
           },
           {
            "bin_start": 7.26,
            "bin_end": 9.589999999999998,
            "count": 0
           },
           {
            "bin_start": 9.589999999999998,
            "bin_end": 11.919999999999998,
            "count": 0
           },
           {
            "bin_start": 11.919999999999998,
            "bin_end": 14.249999999999998,
            "count": 1
           },
           {
            "bin_start": 14.249999999999998,
            "bin_end": 16.58,
            "count": 0
           },
           {
            "bin_start": 16.58,
            "bin_end": 18.91,
            "count": 0
           },
           {
            "bin_start": 18.91,
            "bin_end": 21.24,
            "count": 0
           },
           {
            "bin_start": 21.24,
            "bin_end": 23.569999999999997,
            "count": 0
           },
           {
            "bin_start": 23.569999999999997,
            "bin_end": 25.9,
            "count": 2
           }
          ]
         }
        },
        {
         "name": "c",
         "dtype": "float64",
         "stats": {
          "unique_count": 5,
          "nan_count": 0,
          "min": "3.0",
          "max": "19.9",
          "histogram": [
           {
            "bin_start": 3,
            "bin_end": 4.6899999999999995,
            "count": 1
           },
           {
            "bin_start": 4.6899999999999995,
            "bin_end": 6.38,
            "count": 0
           },
           {
            "bin_start": 6.38,
            "bin_end": 8.07,
            "count": 2
           },
           {
            "bin_start": 8.07,
            "bin_end": 9.76,
            "count": 1
           },
           {
            "bin_start": 9.76,
            "bin_end": 11.45,
            "count": 0
           },
           {
            "bin_start": 11.45,
            "bin_end": 13.14,
            "count": 0
           },
           {
            "bin_start": 13.14,
            "bin_end": 14.83,
            "count": 0
           },
           {
            "bin_start": 14.83,
            "bin_end": 16.52,
            "count": 0
           },
           {
            "bin_start": 16.52,
            "bin_end": 18.21,
            "count": 0
           },
           {
            "bin_start": 18.21,
            "bin_end": 19.9,
            "count": 1
           }
          ]
         }
        },
        {
         "name": "texture_m",
         "dtype": "object",
         "stats": {
          "unique_count": 2,
          "nan_count": 0,
          "categories": [
           {
            "name": "Pipette method for particles having diameters <20 mm (clay and silt fractions), and by sieving for particles between 200 and 2000 mm (coarse sand) and between 20 and 200 mm (fine sand).",
            "count": 4
           },
           {
            "name": "Pipette method for particles having diameters <63 mm (clay and silt fractions), and by sieving for particles between 63 and 2000 mm (sand). Texture limits converted to the Atterberg scale using smooth splines.",
            "count": 1
           }
          ]
         }
        },
        {
         "name": "bd",
         "dtype": "float64",
         "stats": {
          "unique_count": 0,
          "nan_count": 5,
          "min": null,
          "max": null,
          "histogram": [
           {
            "bin_start": 0,
            "bin_end": 0.1,
            "count": 0
           },
           {
            "bin_start": 0.1,
            "bin_end": 0.2,
            "count": 0
           },
           {
            "bin_start": 0.2,
            "bin_end": 0.30000000000000004,
            "count": 0
           },
           {
            "bin_start": 0.30000000000000004,
            "bin_end": 0.4,
            "count": 0
           },
           {
            "bin_start": 0.4,
            "bin_end": 0.5,
            "count": 0
           },
           {
            "bin_start": 0.5,
            "bin_end": 0.6000000000000001,
            "count": 0
           },
           {
            "bin_start": 0.6000000000000001,
            "bin_end": 0.7000000000000001,
            "count": 0
           },
           {
            "bin_start": 0.7000000000000001,
            "bin_end": 0.8,
            "count": 0
           },
           {
            "bin_start": 0.8,
            "bin_end": 0.9,
            "count": 0
           },
           {
            "bin_start": 0.9,
            "bin_end": 1,
            "count": 0
           }
          ]
         }
        },
        {
         "name": "bd_m",
         "dtype": "object",
         "stats": {
          "unique_count": 1,
          "nan_count": 0,
          "categories": [
           {
            "name": "Not determined",
            "count": 5
           }
          ]
         }
        },
        {
         "name": "oc",
         "dtype": "float64",
         "stats": {
          "unique_count": 5,
          "nan_count": 0,
          "min": "0.97",
          "max": "2.16",
          "histogram": [
           {
            "bin_start": 0.97,
            "bin_end": 1.089,
            "count": 2
           },
           {
            "bin_start": 1.089,
            "bin_end": 1.208,
            "count": 0
           },
           {
            "bin_start": 1.208,
            "bin_end": 1.327,
            "count": 0
           },
           {
            "bin_start": 1.327,
            "bin_end": 1.4460000000000002,
            "count": 0
           },
           {
            "bin_start": 1.4460000000000002,
            "bin_end": 1.565,
            "count": 1
           },
           {
            "bin_start": 1.565,
            "bin_end": 1.6840000000000002,
            "count": 0
           },
           {
            "bin_start": 1.6840000000000002,
            "bin_end": 1.8030000000000002,
            "count": 0
           },
           {
            "bin_start": 1.8030000000000002,
            "bin_end": 1.9220000000000002,
            "count": 0
           },
           {
            "bin_start": 1.9220000000000002,
            "bin_end": 2.0410000000000004,
            "count": 0
           },
           {
            "bin_start": 2.0410000000000004,
            "bin_end": 2.16,
            "count": 2
           }
          ]
         }
        },
        {
         "name": "oc_m",
         "dtype": "object",
         "stats": {
          "unique_count": 3,
          "nan_count": 0,
          "categories": [
           {
            "name": "Walkley-Black",
            "count": 2
           },
           {
            "name": "Dry combustion",
            "count": 2
           },
           {
            "name": "Near-infrared spectroscopy. Dry combustion",
            "count": 1
           }
          ]
         }
        },
        {
         "name": "n",
         "dtype": "float64",
         "stats": {
          "unique_count": 4,
          "nan_count": 1,
          "min": "0.7",
          "max": "2.05",
          "histogram": [
           {
            "bin_start": 0.7,
            "bin_end": 0.835,
            "count": 2
           },
           {
            "bin_start": 0.835,
            "bin_end": 0.97,
            "count": 0
           },
           {
            "bin_start": 0.97,
            "bin_end": 1.105,
            "count": 0
           },
           {
            "bin_start": 1.105,
            "bin_end": 1.2399999999999998,
            "count": 1
           },
           {
            "bin_start": 1.2399999999999998,
            "bin_end": 1.375,
            "count": 0
           },
           {
            "bin_start": 1.375,
            "bin_end": 1.5099999999999998,
            "count": 0
           },
           {
            "bin_start": 1.5099999999999998,
            "bin_end": 1.6449999999999998,
            "count": 0
           },
           {
            "bin_start": 1.6449999999999998,
            "bin_end": 1.7799999999999998,
            "count": 0
           },
           {
            "bin_start": 1.7799999999999998,
            "bin_end": 1.9149999999999998,
            "count": 0
           },
           {
            "bin_start": 1.9149999999999998,
            "bin_end": 2.05,
            "count": 1
           }
          ]
         }
        },
        {
         "name": "n_m",
         "dtype": "object",
         "stats": {
          "unique_count": 2,
          "nan_count": 0,
          "categories": [
           {
            "name": "Kjeldahl",
            "count": 4
           },
           {
            "name": "Not determined",
            "count": 1
           }
          ]
         }
        },
        {
         "name": "p",
         "dtype": "float64",
         "stats": {
          "unique_count": 4,
          "nan_count": 1,
          "min": "0.0",
          "max": "97.3",
          "histogram": [
           {
            "bin_start": 0,
            "bin_end": 9.73,
            "count": 1
           },
           {
            "bin_start": 9.73,
            "bin_end": 19.46,
            "count": 0
           },
           {
            "bin_start": 19.46,
            "bin_end": 29.19,
            "count": 0
           },
           {
            "bin_start": 29.19,
            "bin_end": 38.92,
            "count": 0
           },
           {
            "bin_start": 38.92,
            "bin_end": 48.650000000000006,
            "count": 1
           },
           {
            "bin_start": 48.650000000000006,
            "bin_end": 58.38,
            "count": 1
           },
           {
            "bin_start": 58.38,
            "bin_end": 68.11,
            "count": 0
           },
           {
            "bin_start": 68.11,
            "bin_end": 77.84,
            "count": 0
           },
           {
            "bin_start": 77.84,
            "bin_end": 87.57000000000001,
            "count": 0
           },
           {
            "bin_start": 87.57000000000001,
            "bin_end": 97.3,
            "count": 1
           }
          ]
         }
        },
        {
         "name": "p_m",
         "dtype": "object",
         "stats": {
          "unique_count": 3,
          "nan_count": 0,
          "categories": [
           {
            "name": "Egner-Riehm",
            "count": 3
           },
           {
            "name": "Spectrometric",
            "count": 1
           },
           {
            "name": "Not determined",
            "count": 1
           }
          ]
         }
        },
        {
         "name": "k",
         "dtype": "float64",
         "stats": {
          "unique_count": 4,
          "nan_count": 1,
          "min": "40.5",
          "max": "199.2",
          "histogram": [
           {
            "bin_start": 40.5,
            "bin_end": 56.37,
            "count": 1
           },
           {
            "bin_start": 56.37,
            "bin_end": 72.24,
            "count": 0
           },
           {
            "bin_start": 72.24,
            "bin_end": 88.11,
            "count": 1
           },
           {
            "bin_start": 88.11,
            "bin_end": 103.97999999999999,
            "count": 1
           },
           {
            "bin_start": 103.97999999999999,
            "bin_end": 119.85,
            "count": 0
           },
           {
            "bin_start": 119.85,
            "bin_end": 135.72,
            "count": 0
           },
           {
            "bin_start": 135.72,
            "bin_end": 151.58999999999997,
            "count": 0
           },
           {
            "bin_start": 151.58999999999997,
            "bin_end": 167.45999999999998,
            "count": 0
           },
           {
            "bin_start": 167.45999999999998,
            "bin_end": 183.32999999999998,
            "count": 0
           },
           {
            "bin_start": 183.32999999999998,
            "bin_end": 199.2,
            "count": 1
           }
          ]
         }
        },
        {
         "name": "k_m",
         "dtype": "object",
         "stats": {
          "unique_count": 3,
          "nan_count": 0,
          "categories": [
           {
            "name": "Egner-Riehm",
            "count": 3
           },
           {
            "name": "Unkown",
            "count": 1
           },
           {
            "name": "Not determined",
            "count": 1
           }
          ]
         }
        },
        {
         "name": "ph",
         "dtype": "float64",
         "stats": {
          "unique_count": 5,
          "nan_count": 0,
          "min": "4.5",
          "max": "5.3",
          "histogram": [
           {
            "bin_start": 4.5,
            "bin_end": 4.58,
            "count": 1
           },
           {
            "bin_start": 4.58,
            "bin_end": 4.66,
            "count": 1
           },
           {
            "bin_start": 4.66,
            "bin_end": 4.74,
            "count": 0
           },
           {
            "bin_start": 4.74,
            "bin_end": 4.82,
            "count": 0
           },
           {
            "bin_start": 4.82,
            "bin_end": 4.9,
            "count": 0
           },
           {
            "bin_start": 4.9,
            "bin_end": 4.9799999999999995,
            "count": 0
           },
           {
            "bin_start": 4.9799999999999995,
            "bin_end": 5.06,
            "count": 1
           },
           {
            "bin_start": 5.06,
            "bin_end": 5.14,
            "count": 0
           },
           {
            "bin_start": 5.14,
            "bin_end": 5.22,
            "count": 1
           },
           {
            "bin_start": 5.22,
            "bin_end": 5.3,
            "count": 1
           }
          ]
         }
        },
        {
         "name": "ph_m",
         "dtype": "object",
         "stats": {
          "unique_count": 2,
          "nan_count": 0,
          "categories": [
           {
            "name": "pH H2O. Soil/Water relation 1:2.5. Potenciometry",
            "count": 4
           },
           {
            "name": "pH H2O. Soil/Water relation 1:5. Potenciometry",
            "count": 1
           }
          ]
         }
        },
        {
         "name": "caco3",
         "dtype": "float64",
         "stats": {
          "unique_count": 1,
          "nan_count": 0,
          "min": "0.0",
          "max": "0.0",
          "histogram": [
           {
            "bin_start": -0.5,
            "bin_end": -0.4,
            "count": 0
           },
           {
            "bin_start": -0.4,
            "bin_end": -0.3,
            "count": 0
           },
           {
            "bin_start": -0.3,
            "bin_end": -0.19999999999999996,
            "count": 0
           },
           {
            "bin_start": -0.19999999999999996,
            "bin_end": -0.09999999999999998,
            "count": 0
           },
           {
            "bin_start": -0.09999999999999998,
            "bin_end": 0,
            "count": 0
           },
           {
            "bin_start": 0,
            "bin_end": 0.10000000000000009,
            "count": 5
           },
           {
            "bin_start": 0.10000000000000009,
            "bin_end": 0.20000000000000007,
            "count": 0
           },
           {
            "bin_start": 0.20000000000000007,
            "bin_end": 0.30000000000000004,
            "count": 0
           },
           {
            "bin_start": 0.30000000000000004,
            "bin_end": 0.4,
            "count": 0
           },
           {
            "bin_start": 0.4,
            "bin_end": 0.5,
            "count": 0
           }
          ]
         }
        },
        {
         "name": "caco3_m",
         "dtype": "object",
         "stats": {
          "unique_count": 1,
          "nan_count": 0,
          "categories": [
           {
            "name": "Calcimeter (Volumetric)",
            "count": 5
           }
          ]
         }
        },
        {
         "name": "ca_ex",
         "dtype": "float64",
         "stats": {
          "unique_count": 4,
          "nan_count": 1,
          "min": "1.25",
          "max": "3.62",
          "histogram": [
           {
            "bin_start": 1.25,
            "bin_end": 1.487,
            "count": 1
           },
           {
            "bin_start": 1.487,
            "bin_end": 1.724,
            "count": 0
           },
           {
            "bin_start": 1.724,
            "bin_end": 1.961,
            "count": 1
           },
           {
            "bin_start": 1.961,
            "bin_end": 2.198,
            "count": 0
           },
           {
            "bin_start": 2.198,
            "bin_end": 2.435,
            "count": 0
           },
           {
            "bin_start": 2.435,
            "bin_end": 2.672,
            "count": 1
           },
           {
            "bin_start": 2.672,
            "bin_end": 2.909,
            "count": 0
           },
           {
            "bin_start": 2.909,
            "bin_end": 3.146,
            "count": 0
           },
           {
            "bin_start": 3.146,
            "bin_end": 3.383,
            "count": 0
           },
           {
            "bin_start": 3.383,
            "bin_end": 3.62,
            "count": 1
           }
          ]
         }
        },
        {
         "name": "mg_ex",
         "dtype": "float64",
         "stats": {
          "unique_count": 4,
          "nan_count": 1,
          "min": "0.34",
          "max": "0.5",
          "histogram": [
           {
            "bin_start": 0.34,
            "bin_end": 0.35600000000000004,
            "count": 1
           },
           {
            "bin_start": 0.35600000000000004,
            "bin_end": 0.372,
            "count": 0
           },
           {
            "bin_start": 0.372,
            "bin_end": 0.388,
            "count": 0
           },
           {
            "bin_start": 0.388,
            "bin_end": 0.404,
            "count": 0
           },
           {
            "bin_start": 0.404,
            "bin_end": 0.42000000000000004,
            "count": 0
           },
           {
            "bin_start": 0.42000000000000004,
            "bin_end": 0.436,
            "count": 0
           },
           {
            "bin_start": 0.436,
            "bin_end": 0.452,
            "count": 1
           },
           {
            "bin_start": 0.452,
            "bin_end": 0.46799999999999997,
            "count": 0
           },
           {
            "bin_start": 0.46799999999999997,
            "bin_end": 0.484,
            "count": 0
           },
           {
            "bin_start": 0.484,
            "bin_end": 0.5,
            "count": 2
           }
          ]
         }
        },
        {
         "name": "k_ex",
         "dtype": "float64",
         "stats": {
          "unique_count": 3,
          "nan_count": 1,
          "min": "0.13",
          "max": "0.18",
          "histogram": [
           {
            "bin_start": 0.13,
            "bin_end": 0.135,
            "count": 1
           },
           {
            "bin_start": 0.135,
            "bin_end": 0.14,
            "count": 0
           },
           {
            "bin_start": 0.14,
            "bin_end": 0.145,
            "count": 1
           },
           {
            "bin_start": 0.145,
            "bin_end": 0.15,
            "count": 0
           },
           {
            "bin_start": 0.15,
            "bin_end": 0.155,
            "count": 0
           },
           {
            "bin_start": 0.155,
            "bin_end": 0.16,
            "count": 0
           },
           {
            "bin_start": 0.16,
            "bin_end": 0.165,
            "count": 0
           },
           {
            "bin_start": 0.165,
            "bin_end": 0.16999999999999998,
            "count": 0
           },
           {
            "bin_start": 0.16999999999999998,
            "bin_end": 0.175,
            "count": 0
           },
           {
            "bin_start": 0.175,
            "bin_end": 0.18,
            "count": 2
           }
          ]
         }
        },
        {
         "name": "na_ex",
         "dtype": "float64",
         "stats": {
          "unique_count": 2,
          "nan_count": 1,
          "min": "0.05",
          "max": "0.25",
          "histogram": [
           {
            "bin_start": 0.05,
            "bin_end": 0.07,
            "count": 3
           },
           {
            "bin_start": 0.07,
            "bin_end": 0.09,
            "count": 0
           },
           {
            "bin_start": 0.09,
            "bin_end": 0.11,
            "count": 0
           },
           {
            "bin_start": 0.11,
            "bin_end": 0.13,
            "count": 0
           },
           {
            "bin_start": 0.13,
            "bin_end": 0.15000000000000002,
            "count": 0
           },
           {
            "bin_start": 0.15000000000000002,
            "bin_end": 0.16999999999999998,
            "count": 0
           },
           {
            "bin_start": 0.16999999999999998,
            "bin_end": 0.19,
            "count": 0
           },
           {
            "bin_start": 0.19,
            "bin_end": 0.21000000000000002,
            "count": 0
           },
           {
            "bin_start": 0.21000000000000002,
            "bin_end": 0.22999999999999998,
            "count": 0
           },
           {
            "bin_start": 0.22999999999999998,
            "bin_end": 0.25,
            "count": 1
           }
          ]
         }
        },
        {
         "name": "cations_m",
         "dtype": "object",
         "stats": {
          "unique_count": 3,
          "nan_count": 0,
          "categories": [
           {
            "name": "Not discriminated (Ammonium acetate at pH 7.0 or Mehlich at pH 8.2)",
            "count": 3
           },
           {
            "name": "Not determined",
            "count": 1
           },
           {
            "name": "Ammonium acetate at pH 7.0",
            "count": 1
           }
          ]
         }
        },
        {
         "name": "cec",
         "dtype": "float64",
         "stats": {
          "unique_count": 5,
          "nan_count": 0,
          "min": "1.0",
          "max": "15.0",
          "histogram": [
           {
            "bin_start": 1,
            "bin_end": 2.4,
            "count": 1
           },
           {
            "bin_start": 2.4,
            "bin_end": 3.8,
            "count": 0
           },
           {
            "bin_start": 3.8,
            "bin_end": 5.199999999999999,
            "count": 0
           },
           {
            "bin_start": 5.199999999999999,
            "bin_end": 6.6,
            "count": 0
           },
           {
            "bin_start": 6.6,
            "bin_end": 8,
            "count": 1
           },
           {
            "bin_start": 8,
            "bin_end": 9.399999999999999,
            "count": 0
           },
           {
            "bin_start": 9.399999999999999,
            "bin_end": 10.799999999999999,
            "count": 0
           },
           {
            "bin_start": 10.799999999999999,
            "bin_end": 12.2,
            "count": 1
           },
           {
            "bin_start": 12.2,
            "bin_end": 13.6,
            "count": 1
           },
           {
            "bin_start": 13.6,
            "bin_end": 15,
            "count": 1
           }
          ]
         }
        },
        {
         "name": "cec_m",
         "dtype": "object",
         "stats": {
          "unique_count": 3,
          "nan_count": 0,
          "categories": [
           {
            "name": "Not discriminated (Ammonium acetate at pH 7.0 or Mehlich at pH 8.2)",
            "count": 3
           },
           {
            "name": "Spectrometric",
            "count": 1
           },
           {
            "name": "Ammonium acetate at pH 7.0",
            "count": 1
           }
          ]
         }
        },
        {
         "name": "v",
         "dtype": "float64",
         "stats": {
          "unique_count": 4,
          "nan_count": 1,
          "min": "11.8",
          "max": "57.8",
          "histogram": [
           {
            "bin_start": 11.8,
            "bin_end": 16.4,
            "count": 1
           },
           {
            "bin_start": 16.4,
            "bin_end": 21,
            "count": 0
           },
           {
            "bin_start": 21,
            "bin_end": 25.6,
            "count": 1
           },
           {
            "bin_start": 25.6,
            "bin_end": 30.2,
            "count": 1
           },
           {
            "bin_start": 30.2,
            "bin_end": 34.8,
            "count": 0
           },
           {
            "bin_start": 34.8,
            "bin_end": 39.4,
            "count": 0
           },
           {
            "bin_start": 39.4,
            "bin_end": 44,
            "count": 0
           },
           {
            "bin_start": 44,
            "bin_end": 48.599999999999994,
            "count": 0
           },
           {
            "bin_start": 48.599999999999994,
            "bin_end": 53.2,
            "count": 0
           },
           {
            "bin_start": 53.2,
            "bin_end": 57.8,
            "count": 1
           }
          ]
         }
        },
        {
         "name": "theta_fc",
         "dtype": "float64",
         "stats": {
          "unique_count": 5,
          "nan_count": 0,
          "min": "0.0805",
          "max": "0.2787",
          "histogram": [
           {
            "bin_start": 0.0805,
            "bin_end": 0.10031999999999999,
            "count": 1
           },
           {
            "bin_start": 0.10031999999999999,
            "bin_end": 0.12014,
            "count": 0
           },
           {
            "bin_start": 0.12014,
            "bin_end": 0.13996,
            "count": 0
           },
           {
            "bin_start": 0.13996,
            "bin_end": 0.15977999999999998,
            "count": 1
           },
           {
            "bin_start": 0.15977999999999998,
            "bin_end": 0.17959999999999998,
            "count": 0
           },
           {
            "bin_start": 0.17959999999999998,
            "bin_end": 0.19942,
            "count": 0
           },
           {
            "bin_start": 0.19942,
            "bin_end": 0.21924,
            "count": 0
           },
           {
            "bin_start": 0.21924,
            "bin_end": 0.23906,
            "count": 1
           },
           {
            "bin_start": 0.23906,
            "bin_end": 0.25888,
            "count": 1
           },
           {
            "bin_start": 0.25888,
            "bin_end": 0.2787,
            "count": 1
           }
          ]
         }
        },
        {
         "name": "theta_wp",
         "dtype": "float64",
         "stats": {
          "unique_count": 5,
          "nan_count": 0,
          "min": "0.0199",
          "max": "0.1393",
          "histogram": [
           {
            "bin_start": 0.0199,
            "bin_end": 0.03184,
            "count": 1
           },
           {
            "bin_start": 0.03184,
            "bin_end": 0.04378,
            "count": 0
           },
           {
            "bin_start": 0.04378,
            "bin_end": 0.055720000000000006,
            "count": 0
           },
           {
            "bin_start": 0.055720000000000006,
            "bin_end": 0.06766,
            "count": 1
           },
           {
            "bin_start": 0.06766,
            "bin_end": 0.0796,
            "count": 0
           },
           {
            "bin_start": 0.0796,
            "bin_end": 0.09154000000000001,
            "count": 1
           },
           {
            "bin_start": 0.09154000000000001,
            "bin_end": 0.10348,
            "count": 0
           },
           {
            "bin_start": 0.10348,
            "bin_end": 0.11542000000000001,
            "count": 0
           },
           {
            "bin_start": 0.11542000000000001,
            "bin_end": 0.12736000000000003,
            "count": 1
           },
           {
            "bin_start": 0.12736000000000003,
            "bin_end": 0.1393,
            "count": 1
           }
          ]
         }
        },
        {
         "name": "theta_m",
         "dtype": "object",
         "stats": {
          "unique_count": 1,
          "nan_count": 0,
          "categories": [
           {
            "name": "Pedotransfer functions for estimating soil water content at field capacity (Theta_FC) and at the wilting point (Theta_WP) from soil texture",
            "count": 5
           }
          ]
         }
        },
        {
         "name": "institution",
         "dtype": "object",
         "stats": {
          "unique_count": 3,
          "nan_count": 0,
          "categories": [
           {
            "name": "DirecÃ§Ã£o Geral de Agricultura e do Desenvolvimento Rural",
            "count": 2
           },
           {
            "name": "DirecÃ§Ã£o Regional de Agricultura e Pescas do Norte",
            "count": 2
           },
           {
            "name": "Joint Research Centre",
            "count": 1
           }
          ]
         }
        },
        {
         "name": "_deepnote_index_column",
         "dtype": "int64"
        }
       ],
       "rows_top": [
        {
         "X": -6.882166,
         "Y": 40.48189,
         "pt_infosolo_site_id": 142,
         "pt_infosolo_horizon_id": 475,
         "profile_code": "C8",
         "longitude": -6.882166,
         "latitude": 40.48189,
         "altitude": 800,
         "coordinates": "Available",
         "year": 2000,
         "soil": "Acrisols",
         "qualifier1": "Ferric",
         "qualifier2": "Hyperdystric",
         "qualifier3": "Skeletic",
         "wrb_m": "WRB 2006",
         "parent_material": "Consolidated clastic sedimentary rocks",
         "land_use": "Pasture",
         "hor_top": 0,
         "hor_bot": 25,
         "hor_name": "Ap",
         "coarse": 25.4,
         "cs": 33.3,
         "fs": 23.2,
         "si": 23.6,
         "c": 19.9,
         "texture_m": "Pipette method for particles having diameters <20 mm (clay and silt fractions), and by sieving for …",
         "bd": "nan",
         "bd_m": "Not determined",
         "oc": 1.07,
         "oc_m": "Near-infrared spectroscopy. Dry combustion",
         "n": 1.17,
         "n_m": "Kjeldahl",
         "p": 47,
         "p_m": "Egner-Riehm",
         "k": 90,
         "k_m": "Egner-Riehm",
         "ph": 5,
         "ph_m": "pH H2O. Soil/Water relation 1:2.5. Potenciometry",
         "caco3": 0,
         "caco3_m": "Calcimeter (Volumetric)",
         "ca_ex": 1.25,
         "mg_ex": 0.34,
         "k_ex": 0.13,
         "na_ex": 0.05,
         "cations_m": "Not discriminated (Ammonium acetate at pH 7.0 or Mehlich at pH 8.2)",
         "cec": 15,
         "cec_m": "Not discriminated (Ammonium acetate at pH 7.0 or Mehlich at pH 8.2)",
         "v": 11.8,
         "theta_fc": 0.2577,
         "theta_wp": 0.1393,
         "theta_m": "Pedotransfer functions for estimating soil water content at field capacity (Theta_FC) and at the wi…",
         "institution": "DirecÃ§Ã£o Geral de Agricultura e do Desenvolvimento Rural",
         "_deepnote_index_column": 474
        },
        {
         "X": -8.32203,
         "Y": 41.48489,
         "pt_infosolo_site_id": 1129,
         "pt_infosolo_horizon_id": 3814,
         "profile_code": "192X",
         "longitude": -8.32203,
         "latitude": 41.48489,
         "altitude": 250,
         "coordinates": "Estimated",
         "year": 1995,
         "soil": "Leptosols",
         "qualifier1": "Humic",
         "qualifier2": "Dystric",
         "qualifier3": "nan",
         "wrb_m": "WRB 2006",
         "parent_material": "Igneous rocks",
         "land_use": "Irrigated arable crop",
         "hor_top": 0,
         "hor_bot": 20,
         "hor_name": "Ap",
         "coarse": 43.9,
         "cs": 52.3,
         "fs": 25.9,
         "si": 13.5,
         "c": 8.3,
         "texture_m": "Pipette method for particles having diameters <20 mm (clay and silt fractions), and by sieving for …",
         "bd": "nan",
         "bd_m": "Not determined",
         "oc": 2.16,
         "oc_m": "Walkley-Black",
         "n": 2.05,
         "n_m": "Kjeldahl",
         "p": 51.9,
         "p_m": "Egner-Riehm",
         "k": 199.2,
         "k_m": "Egner-Riehm",
         "ph": 5.3,
         "ph_m": "pH H2O. Soil/Water relation 1:2.5. Potenciometry",
         "caco3": 0,
         "caco3_m": "Calcimeter (Volumetric)",
         "ca_ex": 1.84,
         "mg_ex": 0.44,
         "k_ex": 0.18,
         "na_ex": 0.25,
         "cations_m": "Not discriminated (Ammonium acetate at pH 7.0 or Mehlich at pH 8.2)",
         "cec": 12.06,
         "cec_m": "Not discriminated (Ammonium acetate at pH 7.0 or Mehlich at pH 8.2)",
         "v": 22.5,
         "theta_fc": 0.2218,
         "theta_wp": 0.0878,
         "theta_m": "Pedotransfer functions for estimating soil water content at field capacity (Theta_FC) and at the wi…",
         "institution": "DirecÃ§Ã£o Regional de Agricultura e Pescas do Norte",
         "_deepnote_index_column": 3831
        },
        {
         "X": -8.70896,
         "Y": 38.7271,
         "pt_infosolo_site_id": 3156,
         "pt_infosolo_horizon_id": 9028,
         "profile_code": "27021938",
         "longitude": -8.70896,
         "latitude": 38.7271,
         "altitude": 60,
         "coordinates": "Available",
         "year": 2009,
         "soil": "nan",
         "qualifier1": "nan",
         "qualifier2": "nan",
         "qualifier3": "nan",
         "wrb_m": "Not classified",
         "parent_material": "nan",
         "land_use": "nan",
         "hor_top": 0,
         "hor_bot": 20,
         "hor_name": "A",
         "coarse": 8,
         "cs": 71.5,
         "fs": 22.9,
         "si": 2.6,
         "c": 3,
         "texture_m": "Pipette method for particles having diameters <63 mm (clay and silt fractions), and by sieving for …",
         "bd": "nan",
         "bd_m": "Not determined",
         "oc": 1.52,
         "oc_m": "Dry combustion",
         "n": 0.7,
         "n_m": "Kjeldahl",
         "p": 0,
         "p_m": "Spectrometric",
         "k": 40.5,
         "k_m": "Unkown",
         "ph": 4.5,
         "ph_m": "pH H2O. Soil/Water relation 1:5. Potenciometry",
         "caco3": 0,
         "caco3_m": "Calcimeter (Volumetric)",
         "ca_ex": "nan",
         "mg_ex": "nan",
         "k_ex": "nan",
         "na_ex": "nan",
         "cations_m": "Not determined",
         "cec": 1,
         "cec_m": "Spectrometric",
         "v": "nan",
         "theta_fc": 0.0805,
         "theta_wp": 0.0199,
         "theta_m": "Pedotransfer functions for estimating soil water content at field capacity (Theta_FC) and at the wi…",
         "institution": "Joint Research Centre",
         "_deepnote_index_column": 9028
        },
        {
         "X": -8.15311,
         "Y": 41.34943,
         "pt_infosolo_site_id": 1023,
         "pt_infosolo_horizon_id": 3445,
         "profile_code": "938Q",
         "longitude": -8.15311,
         "latitude": 41.34943,
         "altitude": 385,
         "coordinates": "Estimated",
         "year": 1995,
         "soil": "Cambisols",
         "qualifier1": "Humic",
         "qualifier2": "Hyperdystric",
         "qualifier3": "Escalic",
         "wrb_m": "WRB 2006",
         "parent_material": "Consolidated clastic sedimentary rocks",
         "land_use": "Irrigated arable crop",
         "hor_top": 0,
         "hor_bot": 25,
         "hor_name": "Ap",
         "coarse": 16.6,
         "cs": 13.8,
         "fs": 52.5,
         "si": 25.9,
         "c": 7.8,
         "texture_m": "Pipette method for particles having diameters <20 mm (clay and silt fractions), and by sieving for …",
         "bd": "nan",
         "bd_m": "Not determined",
         "oc": 2.14,
         "oc_m": "Walkley-Black",
         "n": "nan",
         "n_m": "Not determined",
         "p": 97.3,
         "p_m": "Egner-Riehm",
         "k": 84.7,
         "k_m": "Egner-Riehm",
         "ph": 4.6,
         "ph_m": "pH H2O. Soil/Water relation 1:2.5. Potenciometry",
         "caco3": 0,
         "caco3_m": "Calcimeter (Volumetric)",
         "ca_ex": 2.54,
         "mg_ex": 0.49,
         "k_ex": 0.18,
         "na_ex": 0.05,
         "cations_m": "Not discriminated (Ammonium acetate at pH 7.0 or Mehlich at pH 8.2)",
         "cec": 12.65,
         "cec_m": "Not discriminated (Ammonium acetate at pH 7.0 or Mehlich at pH 8.2)",
         "v": 25.8,
         "theta_fc": 0.2787,
         "theta_wp": 0.1266,
         "theta_m": "Pedotransfer functions for estimating soil water content at field capacity (Theta_FC) and at the wi…",
         "institution": "DirecÃ§Ã£o Regional de Agricultura e Pescas do Norte",
         "_deepnote_index_column": 3458
        },
        {
         "X": -8.064788,
         "Y": 39.29953,
         "pt_infosolo_site_id": 1729,
         "pt_infosolo_horizon_id": 5586,
         "profile_code": "908",
         "longitude": -8.064788,
         "latitude": 39.29953,
         "altitude": 210,
         "coordinates": "Estimated",
         "year": 1973,
         "soil": "Cambisols",
         "qualifier1": "Haplic",
         "qualifier2": "nan",
         "qualifier3": "nan",
         "wrb_m": "WRB 2006",
         "parent_material": "Consolidated clastic sedimentary rocks",
         "land_use": "nan",
         "hor_top": 0,
         "hor_bot": 20,
         "hor_name": "A1",
         "coarse": 10.5,
         "cs": 70.4,
         "fs": 17.4,
         "si": 5.2,
         "c": 7,
         "texture_m": "Pipette method for particles having diameters <20 mm (clay and silt fractions), and by sieving for …",
         "bd": "nan",
         "bd_m": "Not determined",
         "oc": 0.97,
         "oc_m": "Dry combustion",
         "n": 0.8,
         "n_m": "Kjeldahl",
         "p": "nan",
         "p_m": "Not determined",
         "k": "nan",
         "k_m": "Not determined",
         "ph": 5.2,
         "ph_m": "pH H2O. Soil/Water relation 1:2.5. Potenciometry",
         "caco3": 0,
         "caco3_m": "Calcimeter (Volumetric)",
         "ca_ex": 3.62,
         "mg_ex": 0.5,
         "k_ex": 0.14,
         "na_ex": 0.05,
         "cations_m": "Ammonium acetate at pH 7.0",
         "cec": 7.46,
         "cec_m": "Ammonium acetate at pH 7.0",
         "v": 57.8,
         "theta_fc": 0.1504,
         "theta_wp": 0.0622,
         "theta_m": "Pedotransfer functions for estimating soil water content at field capacity (Theta_FC) and at the wi…",
         "institution": "DirecÃ§Ã£o Geral de Agricultura e do Desenvolvimento Rural",
         "_deepnote_index_column": 5602
        }
       ],
       "rows_bottom": null
      },
      "text/plain": "             X         Y  pt_infosolo_site_id  pt_infosolo_horizon_id  \\\n474  -6.882166  40.48189                  142                     475   \n3831 -8.322030  41.48489                 1129                    3814   \n9028 -8.708960  38.72710                 3156                    9028   \n3458 -8.153110  41.34943                 1023                    3445   \n5602 -8.064788  39.29953                 1729                    5586   \n\n     profile_code  longitude  latitude  altitude coordinates  year  ...  k_ex  \\\n474            C8  -6.882166  40.48189       800   Available  2000  ...  0.13   \n3831         192X  -8.322030  41.48489       250   Estimated  1995  ...  0.18   \n9028     27021938  -8.708960  38.72710        60   Available  2009  ...   NaN   \n3458         938Q  -8.153110  41.34943       385   Estimated  1995  ...  0.18   \n5602          908  -8.064788  39.29953       210   Estimated  1973  ...  0.14   \n\n     na_ex                                          cations_m    cec  \\\n474   0.05  Not discriminated (Ammonium acetate at pH 7.0 ...  15.00   \n3831  0.25  Not discriminated (Ammonium acetate at pH 7.0 ...  12.06   \n9028   NaN                                     Not determined   1.00   \n3458  0.05  Not discriminated (Ammonium acetate at pH 7.0 ...  12.65   \n5602  0.05                         Ammonium acetate at pH 7.0   7.46   \n\n                                                  cec_m     v theta_fc  \\\n474   Not discriminated (Ammonium acetate at pH 7.0 ...  11.8   0.2577   \n3831  Not discriminated (Ammonium acetate at pH 7.0 ...  22.5   0.2218   \n9028                                      Spectrometric   NaN   0.0805   \n3458  Not discriminated (Ammonium acetate at pH 7.0 ...  25.8   0.2787   \n5602                         Ammonium acetate at pH 7.0  57.8   0.1504   \n\n      theta_wp                                            theta_m  \\\n474     0.1393  Pedotransfer functions for estimating soil wat...   \n3831    0.0878  Pedotransfer functions for estimating soil wat...   \n9028    0.0199  Pedotransfer functions for estimating soil wat...   \n3458    0.1266  Pedotransfer functions for estimating soil wat...   \n5602    0.0622  Pedotransfer functions for estimating soil wat...   \n\n                                            institution  \n474   DirecÃ§Ã£o Geral de Agricultura e do Desenvolv...  \n3831  DirecÃ§Ã£o Regional de Agricultura e Pescas do...  \n9028                              Joint Research Centre  \n3458  DirecÃ§Ã£o Regional de Agricultura e Pescas do...  \n5602  DirecÃ§Ã£o Geral de Agricultura e do Desenvolv...  \n\n[5 rows x 52 columns]",
      "text/html": "<div>\n<style scoped>\n    .dataframe tbody tr th:only-of-type {\n        vertical-align: middle;\n    }\n\n    .dataframe tbody tr th {\n        vertical-align: top;\n    }\n\n    .dataframe thead th {\n        text-align: right;\n    }\n</style>\n<table border=\"1\" class=\"dataframe\">\n  <thead>\n    <tr style=\"text-align: right;\">\n      <th></th>\n      <th>X</th>\n      <th>Y</th>\n      <th>pt_infosolo_site_id</th>\n      <th>pt_infosolo_horizon_id</th>\n      <th>profile_code</th>\n      <th>longitude</th>\n      <th>latitude</th>\n      <th>altitude</th>\n      <th>coordinates</th>\n      <th>year</th>\n      <th>...</th>\n      <th>k_ex</th>\n      <th>na_ex</th>\n      <th>cations_m</th>\n      <th>cec</th>\n      <th>cec_m</th>\n      <th>v</th>\n      <th>theta_fc</th>\n      <th>theta_wp</th>\n      <th>theta_m</th>\n      <th>institution</th>\n    </tr>\n  </thead>\n  <tbody>\n    <tr>\n      <th>474</th>\n      <td>-6.882166</td>\n      <td>40.48189</td>\n      <td>142</td>\n      <td>475</td>\n      <td>C8</td>\n      <td>-6.882166</td>\n      <td>40.48189</td>\n      <td>800</td>\n      <td>Available</td>\n      <td>2000</td>\n      <td>...</td>\n      <td>0.13</td>\n      <td>0.05</td>\n      <td>Not discriminated (Ammonium acetate at pH 7.0 ...</td>\n      <td>15.00</td>\n      <td>Not discriminated (Ammonium acetate at pH 7.0 ...</td>\n      <td>11.8</td>\n      <td>0.2577</td>\n      <td>0.1393</td>\n      <td>Pedotransfer functions for estimating soil wat...</td>\n      <td>DirecÃ§Ã£o Geral de Agricultura e do Desenvolv...</td>\n    </tr>\n    <tr>\n      <th>3831</th>\n      <td>-8.322030</td>\n      <td>41.48489</td>\n      <td>1129</td>\n      <td>3814</td>\n      <td>192X</td>\n      <td>-8.322030</td>\n      <td>41.48489</td>\n      <td>250</td>\n      <td>Estimated</td>\n      <td>1995</td>\n      <td>...</td>\n      <td>0.18</td>\n      <td>0.25</td>\n      <td>Not discriminated (Ammonium acetate at pH 7.0 ...</td>\n      <td>12.06</td>\n      <td>Not discriminated (Ammonium acetate at pH 7.0 ...</td>\n      <td>22.5</td>\n      <td>0.2218</td>\n      <td>0.0878</td>\n      <td>Pedotransfer functions for estimating soil wat...</td>\n      <td>DirecÃ§Ã£o Regional de Agricultura e Pescas do...</td>\n    </tr>\n    <tr>\n      <th>9028</th>\n      <td>-8.708960</td>\n      <td>38.72710</td>\n      <td>3156</td>\n      <td>9028</td>\n      <td>27021938</td>\n      <td>-8.708960</td>\n      <td>38.72710</td>\n      <td>60</td>\n      <td>Available</td>\n      <td>2009</td>\n      <td>...</td>\n      <td>NaN</td>\n      <td>NaN</td>\n      <td>Not determined</td>\n      <td>1.00</td>\n      <td>Spectrometric</td>\n      <td>NaN</td>\n      <td>0.0805</td>\n      <td>0.0199</td>\n      <td>Pedotransfer functions for estimating soil wat...</td>\n      <td>Joint Research Centre</td>\n    </tr>\n    <tr>\n      <th>3458</th>\n      <td>-8.153110</td>\n      <td>41.34943</td>\n      <td>1023</td>\n      <td>3445</td>\n      <td>938Q</td>\n      <td>-8.153110</td>\n      <td>41.34943</td>\n      <td>385</td>\n      <td>Estimated</td>\n      <td>1995</td>\n      <td>...</td>\n      <td>0.18</td>\n      <td>0.05</td>\n      <td>Not discriminated (Ammonium acetate at pH 7.0 ...</td>\n      <td>12.65</td>\n      <td>Not discriminated (Ammonium acetate at pH 7.0 ...</td>\n      <td>25.8</td>\n      <td>0.2787</td>\n      <td>0.1266</td>\n      <td>Pedotransfer functions for estimating soil wat...</td>\n      <td>DirecÃ§Ã£o Regional de Agricultura e Pescas do...</td>\n    </tr>\n    <tr>\n      <th>5602</th>\n      <td>-8.064788</td>\n      <td>39.29953</td>\n      <td>1729</td>\n      <td>5586</td>\n      <td>908</td>\n      <td>-8.064788</td>\n      <td>39.29953</td>\n      <td>210</td>\n      <td>Estimated</td>\n      <td>1973</td>\n      <td>...</td>\n      <td>0.14</td>\n      <td>0.05</td>\n      <td>Ammonium acetate at pH 7.0</td>\n      <td>7.46</td>\n      <td>Ammonium acetate at pH 7.0</td>\n      <td>57.8</td>\n      <td>0.1504</td>\n      <td>0.0622</td>\n      <td>Pedotransfer functions for estimating soil wat...</td>\n      <td>DirecÃ§Ã£o Geral de Agricultura e do Desenvolv...</td>\n    </tr>\n  </tbody>\n</table>\n<p>5 rows × 52 columns</p>\n</div>"
     },
     "metadata": {}
    }
   ]
  },
  {
   "cell_type": "code",
   "metadata": {
    "tags": [],
    "cell_id": "00001-a158deeb-47ea-4e68-b579-c81b528b13d5",
    "deepnote_to_be_reexecuted": false,
    "source_hash": "f88152d9",
    "execution_start": 1633091200938,
    "execution_millis": 283,
    "deepnote_cell_type": "code"
   },
   "source": "df.describe()",
   "execution_count": 2,
   "outputs": [
    {
     "output_type": "execute_result",
     "execution_count": 2,
     "data": {
      "application/vnd.deepnote.dataframe.v2+json": {
       "row_count": 8,
       "column_count": 30,
       "columns": [
        {
         "name": "X",
         "dtype": "float64",
         "stats": {
          "unique_count": 8,
          "nan_count": 0,
          "min": "-9.409583",
          "max": "9934.0",
          "histogram": [
           {
            "bin_start": -9.409583,
            "bin_end": 984.9313753,
            "count": 7
           },
           {
            "bin_start": 984.9313753,
            "bin_end": 1979.2723336,
            "count": 0
           },
           {
            "bin_start": 1979.2723336,
            "bin_end": 2973.6132918999997,
            "count": 0
           },
           {
            "bin_start": 2973.6132918999997,
            "bin_end": 3967.9542502,
            "count": 0
           },
           {
            "bin_start": 3967.9542502,
            "bin_end": 4962.295208500001,
            "count": 0
           },
           {
            "bin_start": 4962.295208500001,
            "bin_end": 5956.6361668,
            "count": 0
           },
           {
            "bin_start": 5956.6361668,
            "bin_end": 6950.9771251,
            "count": 0
           },
           {
            "bin_start": 6950.9771251,
            "bin_end": 7945.3180834,
            "count": 0
           },
           {
            "bin_start": 7945.3180834,
            "bin_end": 8939.659041699999,
            "count": 0
           },
           {
            "bin_start": 8939.659041699999,
            "bin_end": 9934,
            "count": 1
           }
          ]
         }
        },
        {
         "name": "Y",
         "dtype": "float64",
         "stats": {
          "unique_count": 8,
          "nan_count": 0,
          "min": "1.4526426342677166",
          "max": "9934.0",
          "histogram": [
           {
            "bin_start": 1.4526426342677166,
            "bin_end": 994.707378370841,
            "count": 7
           },
           {
            "bin_start": 994.707378370841,
            "bin_end": 1987.9621141074142,
            "count": 0
           },
           {
            "bin_start": 1987.9621141074142,
            "bin_end": 2981.2168498439873,
            "count": 0
           },
           {
            "bin_start": 2981.2168498439873,
            "bin_end": 3974.4715855805607,
            "count": 0
           },
           {
            "bin_start": 3974.4715855805607,
            "bin_end": 4967.7263213171345,
            "count": 0
           },
           {
            "bin_start": 4967.7263213171345,
            "bin_end": 5960.981057053707,
            "count": 0
           },
           {
            "bin_start": 5960.981057053707,
            "bin_end": 6954.235792790281,
            "count": 0
           },
           {
            "bin_start": 6954.235792790281,
            "bin_end": 7947.490528526854,
            "count": 0
           },
           {
            "bin_start": 7947.490528526854,
            "bin_end": 8940.745264263427,
            "count": 0
           },
           {
            "bin_start": 8940.745264263427,
            "bin_end": 9934,
            "count": 1
           }
          ]
         }
        },
        {
         "name": "pt_infosolo_site_id",
         "dtype": "float64",
         "stats": {
          "unique_count": 8,
          "nan_count": 0,
          "min": "1.0",
          "max": "9934.0",
          "histogram": [
           {
            "bin_start": 1,
            "bin_end": 994.3,
            "count": 3
           },
           {
            "bin_start": 994.3,
            "bin_end": 1987.6,
            "count": 2
           },
           {
            "bin_start": 1987.6,
            "bin_end": 2980.8999999999996,
            "count": 1
           },
           {
            "bin_start": 2980.8999999999996,
            "bin_end": 3974.2,
            "count": 1
           },
           {
            "bin_start": 3974.2,
            "bin_end": 4967.5,
            "count": 0
           },
           {
            "bin_start": 4967.5,
            "bin_end": 5960.799999999999,
            "count": 0
           },
           {
            "bin_start": 5960.799999999999,
            "bin_end": 6954.099999999999,
            "count": 0
           },
           {
            "bin_start": 6954.099999999999,
            "bin_end": 7947.4,
            "count": 0
           },
           {
            "bin_start": 7947.4,
            "bin_end": 8940.699999999999,
            "count": 0
           },
           {
            "bin_start": 8940.699999999999,
            "bin_end": 9934,
            "count": 1
           }
          ]
         }
        },
        {
         "name": "pt_infosolo_horizon_id",
         "dtype": "float64",
         "stats": {
          "unique_count": 6,
          "nan_count": 0,
          "min": "1.0",
          "max": "9934.0",
          "histogram": [
           {
            "bin_start": 1,
            "bin_end": 994.3,
            "count": 1
           },
           {
            "bin_start": 994.3,
            "bin_end": 1987.6,
            "count": 0
           },
           {
            "bin_start": 1987.6,
            "bin_end": 2980.8999999999996,
            "count": 2
           },
           {
            "bin_start": 2980.8999999999996,
            "bin_end": 3974.2,
            "count": 0
           },
           {
            "bin_start": 3974.2,
            "bin_end": 4967.5,
            "count": 0
           },
           {
            "bin_start": 4967.5,
            "bin_end": 5960.799999999999,
            "count": 2
           },
           {
            "bin_start": 5960.799999999999,
            "bin_end": 6954.099999999999,
            "count": 0
           },
           {
            "bin_start": 6954.099999999999,
            "bin_end": 7947.4,
            "count": 1
           },
           {
            "bin_start": 7947.4,
            "bin_end": 8940.699999999999,
            "count": 0
           },
           {
            "bin_start": 8940.699999999999,
            "bin_end": 9934,
            "count": 2
           }
          ]
         }
        },
        {
         "name": "longitude",
         "dtype": "float64",
         "stats": {
          "unique_count": 8,
          "nan_count": 0,
          "min": "-9.409583",
          "max": "9934.0",
          "histogram": [
           {
            "bin_start": -9.409583,
            "bin_end": 984.9313753,
            "count": 7
           },
           {
            "bin_start": 984.9313753,
            "bin_end": 1979.2723336,
            "count": 0
           },
           {
            "bin_start": 1979.2723336,
            "bin_end": 2973.6132918999997,
            "count": 0
           },
           {
            "bin_start": 2973.6132918999997,
            "bin_end": 3967.9542502,
            "count": 0
           },
           {
            "bin_start": 3967.9542502,
            "bin_end": 4962.295208500001,
            "count": 0
           },
           {
            "bin_start": 4962.295208500001,
            "bin_end": 5956.6361668,
            "count": 0
           },
           {
            "bin_start": 5956.6361668,
            "bin_end": 6950.9771251,
            "count": 0
           },
           {
            "bin_start": 6950.9771251,
            "bin_end": 7945.3180834,
            "count": 0
           },
           {
            "bin_start": 7945.3180834,
            "bin_end": 8939.659041699999,
            "count": 0
           },
           {
            "bin_start": 8939.659041699999,
            "bin_end": 9934,
            "count": 1
           }
          ]
         }
        },
        {
         "name": "latitude",
         "dtype": "float64",
         "stats": {
          "unique_count": 8,
          "nan_count": 0,
          "min": "1.45264317632366",
          "max": "9934.0",
          "histogram": [
           {
            "bin_start": 1.45264317632366,
            "bin_end": 994.7073788586913,
            "count": 7
           },
           {
            "bin_start": 994.7073788586913,
            "bin_end": 1987.9621145410588,
            "count": 0
           },
           {
            "bin_start": 1987.9621145410588,
            "bin_end": 2981.2168502234267,
            "count": 0
           },
           {
            "bin_start": 2981.2168502234267,
            "bin_end": 3974.471585905794,
            "count": 0
           },
           {
            "bin_start": 3974.471585905794,
            "bin_end": 4967.726321588161,
            "count": 0
           },
           {
            "bin_start": 4967.726321588161,
            "bin_end": 5960.981057270529,
            "count": 0
           },
           {
            "bin_start": 5960.981057270529,
            "bin_end": 6954.235792952896,
            "count": 0
           },
           {
            "bin_start": 6954.235792952896,
            "bin_end": 7947.490528635264,
            "count": 0
           },
           {
            "bin_start": 7947.490528635264,
            "bin_end": 8940.745264317633,
            "count": 0
           },
           {
            "bin_start": 8940.745264317633,
            "bin_end": 9934,
            "count": 1
           }
          ]
         }
        },
        {
         "name": "altitude",
         "dtype": "float64",
         "stats": {
          "unique_count": 8,
          "nan_count": 0,
          "min": "1.0",
          "max": "9934.0",
          "histogram": [
           {
            "bin_start": 1,
            "bin_end": 994.3,
            "count": 6
           },
           {
            "bin_start": 994.3,
            "bin_end": 1987.6,
            "count": 1
           },
           {
            "bin_start": 1987.6,
            "bin_end": 2980.8999999999996,
            "count": 0
           },
           {
            "bin_start": 2980.8999999999996,
            "bin_end": 3974.2,
            "count": 0
           },
           {
            "bin_start": 3974.2,
            "bin_end": 4967.5,
            "count": 0
           },
           {
            "bin_start": 4967.5,
            "bin_end": 5960.799999999999,
            "count": 0
           },
           {
            "bin_start": 5960.799999999999,
            "bin_end": 6954.099999999999,
            "count": 0
           },
           {
            "bin_start": 6954.099999999999,
            "bin_end": 7947.4,
            "count": 0
           },
           {
            "bin_start": 7947.4,
            "bin_end": 8940.699999999999,
            "count": 0
           },
           {
            "bin_start": 8940.699999999999,
            "bin_end": 9934,
            "count": 1
           }
          ]
         }
        },
        {
         "name": "year",
         "dtype": "float64",
         "stats": {
          "unique_count": 8,
          "nan_count": 0,
          "min": "9.52265139563445",
          "max": "9934.0",
          "histogram": [
           {
            "bin_start": 9.52265139563445,
            "bin_end": 1001.9703862560709,
            "count": 1
           },
           {
            "bin_start": 1001.9703862560709,
            "bin_end": 1994.4181211165076,
            "count": 2
           },
           {
            "bin_start": 1994.4181211165076,
            "bin_end": 2986.865855976944,
            "count": 4
           },
           {
            "bin_start": 2986.865855976944,
            "bin_end": 3979.3135908373806,
            "count": 0
           },
           {
            "bin_start": 3979.3135908373806,
            "bin_end": 4971.761325697817,
            "count": 0
           },
           {
            "bin_start": 4971.761325697817,
            "bin_end": 5964.209060558253,
            "count": 0
           },
           {
            "bin_start": 5964.209060558253,
            "bin_end": 6956.656795418689,
            "count": 0
           },
           {
            "bin_start": 6956.656795418689,
            "bin_end": 7949.104530279126,
            "count": 0
           },
           {
            "bin_start": 7949.104530279126,
            "bin_end": 8941.552265139564,
            "count": 0
           },
           {
            "bin_start": 8941.552265139564,
            "bin_end": 9934,
            "count": 1
           }
          ]
         }
        },
        {
         "name": "hor_top",
         "dtype": "float64",
         "stats": {
          "unique_count": 7,
          "nan_count": 0,
          "min": "0.0",
          "max": "9934.0",
          "histogram": [
           {
            "bin_start": 0,
            "bin_end": 993.4,
            "count": 7
           },
           {
            "bin_start": 993.4,
            "bin_end": 1986.8,
            "count": 0
           },
           {
            "bin_start": 1986.8,
            "bin_end": 2980.2,
            "count": 0
           },
           {
            "bin_start": 2980.2,
            "bin_end": 3973.6,
            "count": 0
           },
           {
            "bin_start": 3973.6,
            "bin_end": 4967,
            "count": 0
           },
           {
            "bin_start": 4967,
            "bin_end": 5960.4,
            "count": 0
           },
           {
            "bin_start": 5960.4,
            "bin_end": 6953.8,
            "count": 0
           },
           {
            "bin_start": 6953.8,
            "bin_end": 7947.2,
            "count": 0
           },
           {
            "bin_start": 7947.2,
            "bin_end": 8940.6,
            "count": 0
           },
           {
            "bin_start": 8940.6,
            "bin_end": 9934,
            "count": 1
           }
          ]
         }
        },
        {
         "name": "hor_bot",
         "dtype": "float64",
         "stats": {
          "unique_count": 8,
          "nan_count": 0,
          "min": "2.0",
          "max": "9934.0",
          "histogram": [
           {
            "bin_start": 2,
            "bin_end": 995.2,
            "count": 7
           },
           {
            "bin_start": 995.2,
            "bin_end": 1988.4,
            "count": 0
           },
           {
            "bin_start": 1988.4,
            "bin_end": 2981.6000000000004,
            "count": 0
           },
           {
            "bin_start": 2981.6000000000004,
            "bin_end": 3974.8,
            "count": 0
           },
           {
            "bin_start": 3974.8,
            "bin_end": 4968,
            "count": 0
           },
           {
            "bin_start": 4968,
            "bin_end": 5961.200000000001,
            "count": 0
           },
           {
            "bin_start": 5961.200000000001,
            "bin_end": 6954.400000000001,
            "count": 0
           },
           {
            "bin_start": 6954.400000000001,
            "bin_end": 7947.6,
            "count": 0
           },
           {
            "bin_start": 7947.6,
            "bin_end": 8940.800000000001,
            "count": 0
           },
           {
            "bin_start": 8940.800000000001,
            "bin_end": 9934,
            "count": 1
           }
          ]
         }
        },
        {
         "name": "coarse",
         "dtype": "float64",
         "stats": {
          "unique_count": 8,
          "nan_count": 0,
          "min": "0.0",
          "max": "8353.0",
          "histogram": [
           {
            "bin_start": 0,
            "bin_end": 835.3,
            "count": 7
           },
           {
            "bin_start": 835.3,
            "bin_end": 1670.6,
            "count": 0
           },
           {
            "bin_start": 1670.6,
            "bin_end": 2505.8999999999996,
            "count": 0
           },
           {
            "bin_start": 2505.8999999999996,
            "bin_end": 3341.2,
            "count": 0
           },
           {
            "bin_start": 3341.2,
            "bin_end": 4176.5,
            "count": 0
           },
           {
            "bin_start": 4176.5,
            "bin_end": 5011.799999999999,
            "count": 0
           },
           {
            "bin_start": 5011.799999999999,
            "bin_end": 5847.099999999999,
            "count": 0
           },
           {
            "bin_start": 5847.099999999999,
            "bin_end": 6682.4,
            "count": 0
           },
           {
            "bin_start": 6682.4,
            "bin_end": 7517.7,
            "count": 0
           },
           {
            "bin_start": 7517.7,
            "bin_end": 8353,
            "count": 1
           }
          ]
         }
        },
        {
         "name": "cs",
         "dtype": "float64",
         "stats": {
          "unique_count": 8,
          "nan_count": 0,
          "min": "0.0",
          "max": "9934.0",
          "histogram": [
           {
            "bin_start": 0,
            "bin_end": 993.4,
            "count": 7
           },
           {
            "bin_start": 993.4,
            "bin_end": 1986.8,
            "count": 0
           },
           {
            "bin_start": 1986.8,
            "bin_end": 2980.2,
            "count": 0
           },
           {
            "bin_start": 2980.2,
            "bin_end": 3973.6,
            "count": 0
           },
           {
            "bin_start": 3973.6,
            "bin_end": 4967,
            "count": 0
           },
           {
            "bin_start": 4967,
            "bin_end": 5960.4,
            "count": 0
           },
           {
            "bin_start": 5960.4,
            "bin_end": 6953.8,
            "count": 0
           },
           {
            "bin_start": 6953.8,
            "bin_end": 7947.2,
            "count": 0
           },
           {
            "bin_start": 7947.2,
            "bin_end": 8940.6,
            "count": 0
           },
           {
            "bin_start": 8940.6,
            "bin_end": 9934,
            "count": 1
           }
          ]
         }
        },
        {
         "name": "fs",
         "dtype": "float64",
         "stats": {
          "unique_count": 8,
          "nan_count": 0,
          "min": "0.3",
          "max": "9934.0",
          "histogram": [
           {
            "bin_start": 0.3,
            "bin_end": 993.6700000000001,
            "count": 7
           },
           {
            "bin_start": 993.6700000000001,
            "bin_end": 1987.0400000000002,
            "count": 0
           },
           {
            "bin_start": 1987.0400000000002,
            "bin_end": 2980.4100000000008,
            "count": 0
           },
           {
            "bin_start": 2980.4100000000008,
            "bin_end": 3973.7800000000007,
            "count": 0
           },
           {
            "bin_start": 3973.7800000000007,
            "bin_end": 4967.150000000001,
            "count": 0
           },
           {
            "bin_start": 4967.150000000001,
            "bin_end": 5960.520000000001,
            "count": 0
           },
           {
            "bin_start": 5960.520000000001,
            "bin_end": 6953.890000000001,
            "count": 0
           },
           {
            "bin_start": 6953.890000000001,
            "bin_end": 7947.260000000001,
            "count": 0
           },
           {
            "bin_start": 7947.260000000001,
            "bin_end": 8940.630000000001,
            "count": 0
           },
           {
            "bin_start": 8940.630000000001,
            "bin_end": 9934,
            "count": 1
           }
          ]
         }
        },
        {
         "name": "si",
         "dtype": "float64",
         "stats": {
          "unique_count": 8,
          "nan_count": 0,
          "min": "0.0",
          "max": "9934.0",
          "histogram": [
           {
            "bin_start": 0,
            "bin_end": 993.4,
            "count": 7
           },
           {
            "bin_start": 993.4,
            "bin_end": 1986.8,
            "count": 0
           },
           {
            "bin_start": 1986.8,
            "bin_end": 2980.2,
            "count": 0
           },
           {
            "bin_start": 2980.2,
            "bin_end": 3973.6,
            "count": 0
           },
           {
            "bin_start": 3973.6,
            "bin_end": 4967,
            "count": 0
           },
           {
            "bin_start": 4967,
            "bin_end": 5960.4,
            "count": 0
           },
           {
            "bin_start": 5960.4,
            "bin_end": 6953.8,
            "count": 0
           },
           {
            "bin_start": 6953.8,
            "bin_end": 7947.2,
            "count": 0
           },
           {
            "bin_start": 7947.2,
            "bin_end": 8940.6,
            "count": 0
           },
           {
            "bin_start": 8940.6,
            "bin_end": 9934,
            "count": 1
           }
          ]
         }
        },
        {
         "name": "c",
         "dtype": "float64",
         "stats": {
          "unique_count": 8,
          "nan_count": 0,
          "min": "0.0",
          "max": "9934.0",
          "histogram": [
           {
            "bin_start": 0,
            "bin_end": 993.4,
            "count": 7
           },
           {
            "bin_start": 993.4,
            "bin_end": 1986.8,
            "count": 0
           },
           {
            "bin_start": 1986.8,
            "bin_end": 2980.2,
            "count": 0
           },
           {
            "bin_start": 2980.2,
            "bin_end": 3973.6,
            "count": 0
           },
           {
            "bin_start": 3973.6,
            "bin_end": 4967,
            "count": 0
           },
           {
            "bin_start": 4967,
            "bin_end": 5960.4,
            "count": 0
           },
           {
            "bin_start": 5960.4,
            "bin_end": 6953.8,
            "count": 0
           },
           {
            "bin_start": 6953.8,
            "bin_end": 7947.2,
            "count": 0
           },
           {
            "bin_start": 7947.2,
            "bin_end": 8940.6,
            "count": 0
           },
           {
            "bin_start": 8940.6,
            "bin_end": 9934,
            "count": 1
           }
          ]
         }
        },
        {
         "name": "bd",
         "dtype": "float64",
         "stats": {
          "unique_count": 8,
          "nan_count": 0,
          "min": "0.20703244442035124",
          "max": "1521.0",
          "histogram": [
           {
            "bin_start": 0.20703244442035124,
            "bin_end": 152.28632919997833,
            "count": 7
           },
           {
            "bin_start": 152.28632919997833,
            "bin_end": 304.3656259555363,
            "count": 0
           },
           {
            "bin_start": 304.3656259555363,
            "bin_end": 456.4449227110943,
            "count": 0
           },
           {
            "bin_start": 456.4449227110943,
            "bin_end": 608.5242194666523,
            "count": 0
           },
           {
            "bin_start": 608.5242194666523,
            "bin_end": 760.6035162222103,
            "count": 0
           },
           {
            "bin_start": 760.6035162222103,
            "bin_end": 912.6828129777683,
            "count": 0
           },
           {
            "bin_start": 912.6828129777683,
            "bin_end": 1064.762109733326,
            "count": 0
           },
           {
            "bin_start": 1064.762109733326,
            "bin_end": 1216.841406488884,
            "count": 0
           },
           {
            "bin_start": 1216.841406488884,
            "bin_end": 1368.9207032444422,
            "count": 0
           },
           {
            "bin_start": 1368.9207032444422,
            "bin_end": 1521,
            "count": 1
           }
          ]
         }
        },
        {
         "name": "oc",
         "dtype": "float64",
         "stats": {
          "unique_count": 8,
          "nan_count": 0,
          "min": "0.0",
          "max": "8074.0",
          "histogram": [
           {
            "bin_start": 0,
            "bin_end": 807.4,
            "count": 7
           },
           {
            "bin_start": 807.4,
            "bin_end": 1614.8,
            "count": 0
           },
           {
            "bin_start": 1614.8,
            "bin_end": 2422.2,
            "count": 0
           },
           {
            "bin_start": 2422.2,
            "bin_end": 3229.6,
            "count": 0
           },
           {
            "bin_start": 3229.6,
            "bin_end": 4037,
            "count": 0
           },
           {
            "bin_start": 4037,
            "bin_end": 4844.4,
            "count": 0
           },
           {
            "bin_start": 4844.4,
            "bin_end": 5651.8,
            "count": 0
           },
           {
            "bin_start": 5651.8,
            "bin_end": 6459.2,
            "count": 0
           },
           {
            "bin_start": 6459.2,
            "bin_end": 7266.599999999999,
            "count": 0
           },
           {
            "bin_start": 7266.599999999999,
            "bin_end": 8074,
            "count": 1
           }
          ]
         }
        },
        {
         "name": "n",
         "dtype": "float64",
         "stats": {
          "unique_count": 8,
          "nan_count": 0,
          "min": "0.0",
          "max": "6386.0",
          "histogram": [
           {
            "bin_start": 0,
            "bin_end": 638.6,
            "count": 7
           },
           {
            "bin_start": 638.6,
            "bin_end": 1277.2,
            "count": 0
           },
           {
            "bin_start": 1277.2,
            "bin_end": 1915.8000000000002,
            "count": 0
           },
           {
            "bin_start": 1915.8000000000002,
            "bin_end": 2554.4,
            "count": 0
           },
           {
            "bin_start": 2554.4,
            "bin_end": 3193,
            "count": 0
           },
           {
            "bin_start": 3193,
            "bin_end": 3831.6000000000004,
            "count": 0
           },
           {
            "bin_start": 3831.6000000000004,
            "bin_end": 4470.2,
            "count": 0
           },
           {
            "bin_start": 4470.2,
            "bin_end": 5108.8,
            "count": 0
           },
           {
            "bin_start": 5108.8,
            "bin_end": 5747.400000000001,
            "count": 0
           },
           {
            "bin_start": 5747.400000000001,
            "bin_end": 6386,
            "count": 1
           }
          ]
         }
        },
        {
         "name": "p",
         "dtype": "float64",
         "stats": {
          "unique_count": 8,
          "nan_count": 0,
          "min": "0.0",
          "max": "5883.0",
          "histogram": [
           {
            "bin_start": 0,
            "bin_end": 588.3,
            "count": 6
           },
           {
            "bin_start": 588.3,
            "bin_end": 1176.6,
            "count": 0
           },
           {
            "bin_start": 1176.6,
            "bin_end": 1764.8999999999999,
            "count": 0
           },
           {
            "bin_start": 1764.8999999999999,
            "bin_end": 2353.2,
            "count": 0
           },
           {
            "bin_start": 2353.2,
            "bin_end": 2941.5,
            "count": 1
           },
           {
            "bin_start": 2941.5,
            "bin_end": 3529.7999999999997,
            "count": 0
           },
           {
            "bin_start": 3529.7999999999997,
            "bin_end": 4118.099999999999,
            "count": 0
           },
           {
            "bin_start": 4118.099999999999,
            "bin_end": 4706.4,
            "count": 0
           },
           {
            "bin_start": 4706.4,
            "bin_end": 5294.7,
            "count": 0
           },
           {
            "bin_start": 5294.7,
            "bin_end": 5883,
            "count": 1
           }
          ]
         }
        },
        {
         "name": "k",
         "dtype": "float64",
         "stats": {
          "unique_count": 8,
          "nan_count": 0,
          "min": "0.0",
          "max": "5908.0",
          "histogram": [
           {
            "bin_start": 0,
            "bin_end": 590.8,
            "count": 6
           },
           {
            "bin_start": 590.8,
            "bin_end": 1181.6,
            "count": 1
           },
           {
            "bin_start": 1181.6,
            "bin_end": 1772.3999999999999,
            "count": 0
           },
           {
            "bin_start": 1772.3999999999999,
            "bin_end": 2363.2,
            "count": 0
           },
           {
            "bin_start": 2363.2,
            "bin_end": 2954,
            "count": 0
           },
           {
            "bin_start": 2954,
            "bin_end": 3544.7999999999997,
            "count": 0
           },
           {
            "bin_start": 3544.7999999999997,
            "bin_end": 4135.599999999999,
            "count": 0
           },
           {
            "bin_start": 4135.599999999999,
            "bin_end": 4726.4,
            "count": 0
           },
           {
            "bin_start": 4726.4,
            "bin_end": 5317.2,
            "count": 0
           },
           {
            "bin_start": 5317.2,
            "bin_end": 5908,
            "count": 1
           }
          ]
         }
        },
        {
         "name": "ph",
         "dtype": "float64",
         "stats": {
          "unique_count": 8,
          "nan_count": 0,
          "min": "1.1488342123106845",
          "max": "9732.0",
          "histogram": [
           {
            "bin_start": 1.1488342123106845,
            "bin_end": 974.2339507910797,
            "count": 7
           },
           {
            "bin_start": 974.2339507910797,
            "bin_end": 1947.3190673698487,
            "count": 0
           },
           {
            "bin_start": 1947.3190673698487,
            "bin_end": 2920.4041839486176,
            "count": 0
           },
           {
            "bin_start": 2920.4041839486176,
            "bin_end": 3893.4893005273866,
            "count": 0
           },
           {
            "bin_start": 3893.4893005273866,
            "bin_end": 4866.574417106155,
            "count": 0
           },
           {
            "bin_start": 4866.574417106155,
            "bin_end": 5839.659533684924,
            "count": 0
           },
           {
            "bin_start": 5839.659533684924,
            "bin_end": 6812.744650263693,
            "count": 0
           },
           {
            "bin_start": 6812.744650263693,
            "bin_end": 7785.829766842462,
            "count": 0
           },
           {
            "bin_start": 7785.829766842462,
            "bin_end": 8758.91488342123,
            "count": 0
           },
           {
            "bin_start": 8758.91488342123,
            "bin_end": 9732,
            "count": 1
           }
          ]
         }
        },
        {
         "name": "caco3",
         "dtype": "float64",
         "stats": {
          "unique_count": 5,
          "nan_count": 0,
          "min": "0.0",
          "max": "9658.0",
          "histogram": [
           {
            "bin_start": 0,
            "bin_end": 965.8,
            "count": 7
           },
           {
            "bin_start": 965.8,
            "bin_end": 1931.6,
            "count": 0
           },
           {
            "bin_start": 1931.6,
            "bin_end": 2897.3999999999996,
            "count": 0
           },
           {
            "bin_start": 2897.3999999999996,
            "bin_end": 3863.2,
            "count": 0
           },
           {
            "bin_start": 3863.2,
            "bin_end": 4829,
            "count": 0
           },
           {
            "bin_start": 4829,
            "bin_end": 5794.799999999999,
            "count": 0
           },
           {
            "bin_start": 5794.799999999999,
            "bin_end": 6760.599999999999,
            "count": 0
           },
           {
            "bin_start": 6760.599999999999,
            "bin_end": 7726.4,
            "count": 0
           },
           {
            "bin_start": 7726.4,
            "bin_end": 8692.199999999999,
            "count": 0
           },
           {
            "bin_start": 8692.199999999999,
            "bin_end": 9658,
            "count": 1
           }
          ]
         }
        },
        {
         "name": "ca_ex",
         "dtype": "float64",
         "stats": {
          "unique_count": 8,
          "nan_count": 0,
          "min": "0.0",
          "max": "8310.0",
          "histogram": [
           {
            "bin_start": 0,
            "bin_end": 831,
            "count": 7
           },
           {
            "bin_start": 831,
            "bin_end": 1662,
            "count": 0
           },
           {
            "bin_start": 1662,
            "bin_end": 2493,
            "count": 0
           },
           {
            "bin_start": 2493,
            "bin_end": 3324,
            "count": 0
           },
           {
            "bin_start": 3324,
            "bin_end": 4155,
            "count": 0
           },
           {
            "bin_start": 4155,
            "bin_end": 4986,
            "count": 0
           },
           {
            "bin_start": 4986,
            "bin_end": 5817,
            "count": 0
           },
           {
            "bin_start": 5817,
            "bin_end": 6648,
            "count": 0
           },
           {
            "bin_start": 6648,
            "bin_end": 7479,
            "count": 0
           },
           {
            "bin_start": 7479,
            "bin_end": 8310,
            "count": 1
           }
          ]
         }
        },
        {
         "name": "mg_ex",
         "dtype": "float64",
         "stats": {
          "unique_count": 8,
          "nan_count": 0,
          "min": "0.0",
          "max": "8312.0",
          "histogram": [
           {
            "bin_start": 0,
            "bin_end": 831.2,
            "count": 7
           },
           {
            "bin_start": 831.2,
            "bin_end": 1662.4,
            "count": 0
           },
           {
            "bin_start": 1662.4,
            "bin_end": 2493.6000000000004,
            "count": 0
           },
           {
            "bin_start": 2493.6000000000004,
            "bin_end": 3324.8,
            "count": 0
           },
           {
            "bin_start": 3324.8,
            "bin_end": 4156,
            "count": 0
           },
           {
            "bin_start": 4156,
            "bin_end": 4987.200000000001,
            "count": 0
           },
           {
            "bin_start": 4987.200000000001,
            "bin_end": 5818.400000000001,
            "count": 0
           },
           {
            "bin_start": 5818.400000000001,
            "bin_end": 6649.6,
            "count": 0
           },
           {
            "bin_start": 6649.6,
            "bin_end": 7480.8,
            "count": 0
           },
           {
            "bin_start": 7480.8,
            "bin_end": 8312,
            "count": 1
           }
          ]
         }
        },
        {
         "name": "k_ex",
         "dtype": "float64",
         "stats": {
          "unique_count": 8,
          "nan_count": 0,
          "min": "0.0",
          "max": "8257.0",
          "histogram": [
           {
            "bin_start": 0,
            "bin_end": 825.7,
            "count": 7
           },
           {
            "bin_start": 825.7,
            "bin_end": 1651.4,
            "count": 0
           },
           {
            "bin_start": 1651.4,
            "bin_end": 2477.1000000000004,
            "count": 0
           },
           {
            "bin_start": 2477.1000000000004,
            "bin_end": 3302.8,
            "count": 0
           },
           {
            "bin_start": 3302.8,
            "bin_end": 4128.5,
            "count": 0
           },
           {
            "bin_start": 4128.5,
            "bin_end": 4954.200000000001,
            "count": 0
           },
           {
            "bin_start": 4954.200000000001,
            "bin_end": 5779.900000000001,
            "count": 0
           },
           {
            "bin_start": 5779.900000000001,
            "bin_end": 6605.6,
            "count": 0
           },
           {
            "bin_start": 6605.6,
            "bin_end": 7431.3,
            "count": 0
           },
           {
            "bin_start": 7431.3,
            "bin_end": 8257,
            "count": 1
           }
          ]
         }
        },
        {
         "name": "na_ex",
         "dtype": "float64",
         "stats": {
          "unique_count": 8,
          "nan_count": 0,
          "min": "0.0",
          "max": "8338.0",
          "histogram": [
           {
            "bin_start": 0,
            "bin_end": 833.8,
            "count": 7
           },
           {
            "bin_start": 833.8,
            "bin_end": 1667.6,
            "count": 0
           },
           {
            "bin_start": 1667.6,
            "bin_end": 2501.3999999999996,
            "count": 0
           },
           {
            "bin_start": 2501.3999999999996,
            "bin_end": 3335.2,
            "count": 0
           },
           {
            "bin_start": 3335.2,
            "bin_end": 4169,
            "count": 0
           },
           {
            "bin_start": 4169,
            "bin_end": 5002.799999999999,
            "count": 0
           },
           {
            "bin_start": 5002.799999999999,
            "bin_end": 5836.599999999999,
            "count": 0
           },
           {
            "bin_start": 5836.599999999999,
            "bin_end": 6670.4,
            "count": 0
           },
           {
            "bin_start": 6670.4,
            "bin_end": 7504.2,
            "count": 0
           },
           {
            "bin_start": 7504.2,
            "bin_end": 8338,
            "count": 1
           }
          ]
         }
        },
        {
         "name": "cec",
         "dtype": "float64",
         "stats": {
          "unique_count": 8,
          "nan_count": 0,
          "min": "0.1",
          "max": "8880.0",
          "histogram": [
           {
            "bin_start": 0.1,
            "bin_end": 888.09,
            "count": 7
           },
           {
            "bin_start": 888.09,
            "bin_end": 1776.08,
            "count": 0
           },
           {
            "bin_start": 1776.08,
            "bin_end": 2664.07,
            "count": 0
           },
           {
            "bin_start": 2664.07,
            "bin_end": 3552.06,
            "count": 0
           },
           {
            "bin_start": 3552.06,
            "bin_end": 4440.05,
            "count": 0
           },
           {
            "bin_start": 4440.05,
            "bin_end": 5328.040000000001,
            "count": 0
           },
           {
            "bin_start": 5328.040000000001,
            "bin_end": 6216.030000000001,
            "count": 0
           },
           {
            "bin_start": 6216.030000000001,
            "bin_end": 7104.02,
            "count": 0
           },
           {
            "bin_start": 7104.02,
            "bin_end": 7992.01,
            "count": 0
           },
           {
            "bin_start": 7992.01,
            "bin_end": 8880,
            "count": 1
           }
          ]
         }
        },
        {
         "name": "v",
         "dtype": "float64",
         "stats": {
          "unique_count": 8,
          "nan_count": 0,
          "min": "0.0",
          "max": "8252.0",
          "histogram": [
           {
            "bin_start": 0,
            "bin_end": 825.2,
            "count": 7
           },
           {
            "bin_start": 825.2,
            "bin_end": 1650.4,
            "count": 0
           },
           {
            "bin_start": 1650.4,
            "bin_end": 2475.6000000000004,
            "count": 0
           },
           {
            "bin_start": 2475.6000000000004,
            "bin_end": 3300.8,
            "count": 0
           },
           {
            "bin_start": 3300.8,
            "bin_end": 4126,
            "count": 0
           },
           {
            "bin_start": 4126,
            "bin_end": 4951.200000000001,
            "count": 0
           },
           {
            "bin_start": 4951.200000000001,
            "bin_end": 5776.400000000001,
            "count": 0
           },
           {
            "bin_start": 5776.400000000001,
            "bin_end": 6601.6,
            "count": 0
           },
           {
            "bin_start": 6601.6,
            "bin_end": 7426.8,
            "count": 0
           },
           {
            "bin_start": 7426.8,
            "bin_end": 8252,
            "count": 1
           }
          ]
         }
        },
        {
         "name": "theta_fc",
         "dtype": "float64",
         "stats": {
          "unique_count": 8,
          "nan_count": 0,
          "min": "0.0574",
          "max": "9934.0",
          "histogram": [
           {
            "bin_start": 0.0574,
            "bin_end": 993.4516600000001,
            "count": 7
           },
           {
            "bin_start": 993.4516600000001,
            "bin_end": 1986.84592,
            "count": 0
           },
           {
            "bin_start": 1986.84592,
            "bin_end": 2980.2401800000002,
            "count": 0
           },
           {
            "bin_start": 2980.2401800000002,
            "bin_end": 3973.6344400000003,
            "count": 0
           },
           {
            "bin_start": 3973.6344400000003,
            "bin_end": 4967.0287,
            "count": 0
           },
           {
            "bin_start": 4967.0287,
            "bin_end": 5960.42296,
            "count": 0
           },
           {
            "bin_start": 5960.42296,
            "bin_end": 6953.81722,
            "count": 0
           },
           {
            "bin_start": 6953.81722,
            "bin_end": 7947.21148,
            "count": 0
           },
           {
            "bin_start": 7947.21148,
            "bin_end": 8940.60574,
            "count": 0
           },
           {
            "bin_start": 8940.60574,
            "bin_end": 9934,
            "count": 1
           }
          ]
         }
        },
        {
         "name": "theta_wp",
         "dtype": "float64",
         "stats": {
          "unique_count": 8,
          "nan_count": 0,
          "min": "0.0139",
          "max": "9934.0",
          "histogram": [
           {
            "bin_start": 0.0139,
            "bin_end": 993.41251,
            "count": 7
           },
           {
            "bin_start": 993.41251,
            "bin_end": 1986.8111199999998,
            "count": 0
           },
           {
            "bin_start": 1986.8111199999998,
            "bin_end": 2980.2097299999996,
            "count": 0
           },
           {
            "bin_start": 2980.2097299999996,
            "bin_end": 3973.6083399999998,
            "count": 0
           },
           {
            "bin_start": 3973.6083399999998,
            "bin_end": 4967.00695,
            "count": 0
           },
           {
            "bin_start": 4967.00695,
            "bin_end": 5960.405559999999,
            "count": 0
           },
           {
            "bin_start": 5960.405559999999,
            "bin_end": 6953.804169999999,
            "count": 0
           },
           {
            "bin_start": 6953.804169999999,
            "bin_end": 7947.20278,
            "count": 0
           },
           {
            "bin_start": 7947.20278,
            "bin_end": 8940.60139,
            "count": 0
           },
           {
            "bin_start": 8940.60139,
            "bin_end": 9934,
            "count": 1
           }
          ]
         }
        },
        {
         "name": "_deepnote_index_column",
         "dtype": "object"
        }
       ],
       "rows_top": [
        {
         "X": 9934,
         "Y": 9934,
         "pt_infosolo_site_id": 9934,
         "pt_infosolo_horizon_id": 9934,
         "longitude": 9934,
         "latitude": 9934,
         "altitude": 9934,
         "year": 9934,
         "hor_top": 9934,
         "hor_bot": 9934,
         "coarse": 8353,
         "cs": 9934,
         "fs": 9934,
         "si": 9934,
         "c": 9934,
         "bd": 1521,
         "oc": 8074,
         "n": 6386,
         "p": 5883,
         "k": 5908,
         "ph": 9732,
         "caco3": 9658,
         "ca_ex": 8310,
         "mg_ex": 8312,
         "k_ex": 8257,
         "na_ex": 8338,
         "cec": 8880,
         "v": 8252,
         "theta_fc": 9934,
         "theta_wp": 9934,
         "_deepnote_index_column": "count"
        },
        {
         "X": -8.09362845257473,
         "Y": 40.223408747171796,
         "pt_infosolo_site_id": 1587.8479967787396,
         "pt_infosolo_horizon_id": 4967.5,
         "longitude": -8.093627442218644,
         "latitude": 40.2234092190457,
         "altitude": 242.72075699617474,
         "year": 1995.833702436078,
         "hor_top": 33.98812160257701,
         "hor_bot": 60.75719750352325,
         "coarse": 19.180833233568777,
         "cs": 32.96275417757197,
         "fs": 32.4125327159251,
         "si": 18.41894503724582,
         "c": 16.209865109724177,
         "bd": 1.507869822485207,
         "oc": 1.4734642060936338,
         "n": 1.3023567178202318,
         "p": 31.234982151963283,
         "k": 84.6932633716994,
         "ph": 5.79966091245376,
         "caco3": 1.4412921930006213,
         "ca_ex": 4.608868832731648,
         "mg_ex": 1.5592877767083733,
         "k_ex": 0.13852731016107547,
         "na_ex": 0.27421443991364836,
         "cec": 13.573592342342343,
         "v": 40.82491517207949,
         "theta_fc": 0.2531999899335615,
         "theta_wp": 0.12634212804509767,
         "_deepnote_index_column": "mean"
        },
        {
         "X": 0.5804460803602602,
         "Y": 1.4526426342677166,
         "pt_infosolo_site_id": 988.4511264418965,
         "pt_infosolo_horizon_id": 2867.8431209999385,
         "longitude": 0.5804458939513255,
         "latitude": 1.45264317632366,
         "altitude": 223.32702562047075,
         "year": 9.52265139563445,
         "hor_top": 35.7613213252042,
         "hor_bot": 39.99421628423696,
         "coarse": 15.001787734306166,
         "cs": 19.181392936881927,
         "fs": 12.582029686165285,
         "si": 9.686451395462877,
         "c": 12.485565342135697,
         "bd": 0.20703244442035124,
         "oc": 1.5711305983703527,
         "n": 1.0805974616581426,
         "p": 69.36541378202959,
         "k": 76.78355849773514,
         "ph": 1.1488342123106845,
         "caco3": 7.24991908753135,
         "ca_ex": 7.135110528831249,
         "mg_ex": 2.8222307321221756,
         "k_ex": 0.15332944629208456,
         "na_ex": 0.8858348915173522,
         "cec": 8.914839546541925,
         "v": 34.354032179932396,
         "theta_fc": 0.06679263443146767,
         "theta_wp": 0.061937169915619004,
         "_deepnote_index_column": "std"
        },
        {
         "X": -9.409583,
         "Y": 37.02099,
         "pt_infosolo_site_id": 1,
         "pt_infosolo_horizon_id": 1,
         "longitude": -9.409583,
         "latitude": 37.02099,
         "altitude": 1,
         "year": 1966,
         "hor_top": 0,
         "hor_bot": 2,
         "coarse": 0,
         "cs": 0,
         "fs": 0.3,
         "si": 0,
         "c": 0,
         "bd": 0.91,
         "oc": 0,
         "n": 0,
         "p": 0,
         "k": 0,
         "ph": 3.4,
         "caco3": 0,
         "ca_ex": 0,
         "mg_ex": 0,
         "k_ex": 0,
         "na_ex": 0,
         "cec": 0.1,
         "v": 0,
         "theta_fc": 0.0574,
         "theta_wp": 0.0139,
         "_deepnote_index_column": "min"
        },
        {
         "X": -8.516191,
         "Y": 38.9058875,
         "pt_infosolo_site_id": 726,
         "pt_infosolo_horizon_id": 2484.25,
         "longitude": -8.516191,
         "latitude": 38.9058875,
         "altitude": 86,
         "year": 1993,
         "hor_top": 0,
         "hor_bot": 28,
         "coarse": 7.3,
         "cs": 17.8,
         "fs": 24.2,
         "si": 12.1,
         "c": 8,
         "bd": 1.37,
         "oc": 0.41,
         "n": 0.5,
         "p": 3.8,
         "k": 38.150000000000006,
         "ph": 5,
         "caco3": 0,
         "ca_ex": 0.73,
         "mg_ex": 0.15,
         "k_ex": 0.05,
         "na_ex": 0.05,
         "cec": 7.34,
         "v": 11.875,
         "theta_fc": 0.2277,
         "theta_wp": 0.0892,
         "_deepnote_index_column": "25%"
        },
        {
         "X": -8.2089585,
         "Y": 40.87148,
         "pt_infosolo_site_id": 1508,
         "pt_infosolo_horizon_id": 4967.5,
         "longitude": -8.2089585,
         "latitude": 40.87148,
         "altitude": 188,
         "year": 1996,
         "hor_top": 25,
         "hor_bot": 50,
         "coarse": 16.3,
         "cs": 32.2,
         "fs": 30.9,
         "si": 17,
         "c": 12.1,
         "bd": 1.53,
         "oc": 0.95,
         "n": 1,
         "p": 12.7,
         "k": 63.4,
         "ph": 5.4,
         "caco3": 0,
         "ca_ex": 1.81,
         "mg_ex": 0.37,
         "k_ex": 0.1,
         "na_ex": 0.1,
         "cec": 11.35,
         "v": 28.7,
         "theta_fc": 0.2468,
         "theta_wp": 0.1118,
         "_deepnote_index_column": "50%"
        },
        {
         "X": -7.75172475,
         "Y": 41.46296,
         "pt_infosolo_site_id": 2444,
         "pt_infosolo_horizon_id": 7450.75,
         "longitude": -7.75172475,
         "latitude": 41.46296,
         "altitude": 310,
         "year": 2002,
         "hor_top": 55,
         "hor_bot": 85,
         "coarse": 28.1,
         "cs": 45.6,
         "fs": 39.6,
         "si": 22.9,
         "c": 19.8,
         "bd": 1.66,
         "oc": 2.06,
         "n": 1.89,
         "p": 32.7,
         "k": 107.9,
         "ph": 6.3,
         "caco3": 0,
         "ca_ex": 4.7775,
         "mg_ex": 1.4,
         "k_ex": 0.18,
         "na_ex": 0.2,
         "cec": 17.3825,
         "v": 72.32499999999999,
         "theta_fc": 0.2825,
         "theta_wp": 0.1433,
         "_deepnote_index_column": "75%"
        },
        {
         "X": -6.255,
         "Y": 42.13078,
         "pt_infosolo_site_id": 3461,
         "pt_infosolo_horizon_id": 9934,
         "longitude": -6.255,
         "latitude": 42.13078,
         "altitude": 1880,
         "year": 2016,
         "hor_top": 270,
         "hor_bot": 400,
         "coarse": 87.7,
         "cs": 99,
         "fs": 87.4,
         "si": 68.6,
         "c": 85.5,
         "bd": 1.94,
         "oc": 24.19,
         "n": 13.18,
         "p": 2816,
         "k": 1019.4,
         "ph": 9.9,
         "caco3": 97.6,
         "ca_ex": 55.87,
         "mg_ex": 42.45,
         "k_ex": 2.62,
         "na_ex": 27.3,
         "cec": 65.3,
         "v": 100,
         "theta_fc": 0.4753,
         "theta_wp": 0.3336,
         "_deepnote_index_column": "max"
        }
       ],
       "rows_bottom": null
      },
      "text/plain": "                 X            Y  pt_infosolo_site_id  pt_infosolo_horizon_id  \\\ncount  9934.000000  9934.000000          9934.000000             9934.000000   \nmean     -8.093628    40.223409          1587.847997             4967.500000   \nstd       0.580446     1.452643           988.451126             2867.843121   \nmin      -9.409583    37.020990             1.000000                1.000000   \n25%      -8.516191    38.905887           726.000000             2484.250000   \n50%      -8.208958    40.871480          1508.000000             4967.500000   \n75%      -7.751725    41.462960          2444.000000             7450.750000   \nmax      -6.255000    42.130780          3461.000000             9934.000000   \n\n         longitude     latitude     altitude         year      hor_top  \\\ncount  9934.000000  9934.000000  9934.000000  9934.000000  9934.000000   \nmean     -8.093627    40.223409   242.720757  1995.833702    33.988122   \nstd       0.580446     1.452643   223.327026     9.522651    35.761321   \nmin      -9.409583    37.020990     1.000000  1966.000000     0.000000   \n25%      -8.516191    38.905887    86.000000  1993.000000     0.000000   \n50%      -8.208958    40.871480   188.000000  1996.000000    25.000000   \n75%      -7.751725    41.462960   310.000000  2002.000000    55.000000   \nmax      -6.255000    42.130780  1880.000000  2016.000000   270.000000   \n\n           hor_bot  ...           ph        caco3        ca_ex        mg_ex  \\\ncount  9934.000000  ...  9732.000000  9658.000000  8310.000000  8312.000000   \nmean     60.757198  ...     5.799661     1.441292     4.608869     1.559288   \nstd      39.994216  ...     1.148834     7.249919     7.135111     2.822231   \nmin       2.000000  ...     3.400000     0.000000     0.000000     0.000000   \n25%      28.000000  ...     5.000000     0.000000     0.730000     0.150000   \n50%      50.000000  ...     5.400000     0.000000     1.810000     0.370000   \n75%      85.000000  ...     6.300000     0.000000     4.777500     1.400000   \nmax     400.000000  ...     9.900000    97.600000    55.870000    42.450000   \n\n              k_ex        na_ex          cec            v     theta_fc  \\\ncount  8257.000000  8338.000000  8880.000000  8252.000000  9934.000000   \nmean      0.138527     0.274214    13.573592    40.824915     0.253200   \nstd       0.153329     0.885835     8.914840    34.354032     0.066793   \nmin       0.000000     0.000000     0.100000     0.000000     0.057400   \n25%       0.050000     0.050000     7.340000    11.875000     0.227700   \n50%       0.100000     0.100000    11.350000    28.700000     0.246800   \n75%       0.180000     0.200000    17.382500    72.325000     0.282500   \nmax       2.620000    27.300000    65.300000   100.000000     0.475300   \n\n          theta_wp  \ncount  9934.000000  \nmean      0.126342  \nstd       0.061937  \nmin       0.013900  \n25%       0.089200  \n50%       0.111800  \n75%       0.143300  \nmax       0.333600  \n\n[8 rows x 30 columns]",
      "text/html": "<div>\n<style scoped>\n    .dataframe tbody tr th:only-of-type {\n        vertical-align: middle;\n    }\n\n    .dataframe tbody tr th {\n        vertical-align: top;\n    }\n\n    .dataframe thead th {\n        text-align: right;\n    }\n</style>\n<table border=\"1\" class=\"dataframe\">\n  <thead>\n    <tr style=\"text-align: right;\">\n      <th></th>\n      <th>X</th>\n      <th>Y</th>\n      <th>pt_infosolo_site_id</th>\n      <th>pt_infosolo_horizon_id</th>\n      <th>longitude</th>\n      <th>latitude</th>\n      <th>altitude</th>\n      <th>year</th>\n      <th>hor_top</th>\n      <th>hor_bot</th>\n      <th>...</th>\n      <th>ph</th>\n      <th>caco3</th>\n      <th>ca_ex</th>\n      <th>mg_ex</th>\n      <th>k_ex</th>\n      <th>na_ex</th>\n      <th>cec</th>\n      <th>v</th>\n      <th>theta_fc</th>\n      <th>theta_wp</th>\n    </tr>\n  </thead>\n  <tbody>\n    <tr>\n      <th>count</th>\n      <td>9934.000000</td>\n      <td>9934.000000</td>\n      <td>9934.000000</td>\n      <td>9934.000000</td>\n      <td>9934.000000</td>\n      <td>9934.000000</td>\n      <td>9934.000000</td>\n      <td>9934.000000</td>\n      <td>9934.000000</td>\n      <td>9934.000000</td>\n      <td>...</td>\n      <td>9732.000000</td>\n      <td>9658.000000</td>\n      <td>8310.000000</td>\n      <td>8312.000000</td>\n      <td>8257.000000</td>\n      <td>8338.000000</td>\n      <td>8880.000000</td>\n      <td>8252.000000</td>\n      <td>9934.000000</td>\n      <td>9934.000000</td>\n    </tr>\n    <tr>\n      <th>mean</th>\n      <td>-8.093628</td>\n      <td>40.223409</td>\n      <td>1587.847997</td>\n      <td>4967.500000</td>\n      <td>-8.093627</td>\n      <td>40.223409</td>\n      <td>242.720757</td>\n      <td>1995.833702</td>\n      <td>33.988122</td>\n      <td>60.757198</td>\n      <td>...</td>\n      <td>5.799661</td>\n      <td>1.441292</td>\n      <td>4.608869</td>\n      <td>1.559288</td>\n      <td>0.138527</td>\n      <td>0.274214</td>\n      <td>13.573592</td>\n      <td>40.824915</td>\n      <td>0.253200</td>\n      <td>0.126342</td>\n    </tr>\n    <tr>\n      <th>std</th>\n      <td>0.580446</td>\n      <td>1.452643</td>\n      <td>988.451126</td>\n      <td>2867.843121</td>\n      <td>0.580446</td>\n      <td>1.452643</td>\n      <td>223.327026</td>\n      <td>9.522651</td>\n      <td>35.761321</td>\n      <td>39.994216</td>\n      <td>...</td>\n      <td>1.148834</td>\n      <td>7.249919</td>\n      <td>7.135111</td>\n      <td>2.822231</td>\n      <td>0.153329</td>\n      <td>0.885835</td>\n      <td>8.914840</td>\n      <td>34.354032</td>\n      <td>0.066793</td>\n      <td>0.061937</td>\n    </tr>\n    <tr>\n      <th>min</th>\n      <td>-9.409583</td>\n      <td>37.020990</td>\n      <td>1.000000</td>\n      <td>1.000000</td>\n      <td>-9.409583</td>\n      <td>37.020990</td>\n      <td>1.000000</td>\n      <td>1966.000000</td>\n      <td>0.000000</td>\n      <td>2.000000</td>\n      <td>...</td>\n      <td>3.400000</td>\n      <td>0.000000</td>\n      <td>0.000000</td>\n      <td>0.000000</td>\n      <td>0.000000</td>\n      <td>0.000000</td>\n      <td>0.100000</td>\n      <td>0.000000</td>\n      <td>0.057400</td>\n      <td>0.013900</td>\n    </tr>\n    <tr>\n      <th>25%</th>\n      <td>-8.516191</td>\n      <td>38.905887</td>\n      <td>726.000000</td>\n      <td>2484.250000</td>\n      <td>-8.516191</td>\n      <td>38.905887</td>\n      <td>86.000000</td>\n      <td>1993.000000</td>\n      <td>0.000000</td>\n      <td>28.000000</td>\n      <td>...</td>\n      <td>5.000000</td>\n      <td>0.000000</td>\n      <td>0.730000</td>\n      <td>0.150000</td>\n      <td>0.050000</td>\n      <td>0.050000</td>\n      <td>7.340000</td>\n      <td>11.875000</td>\n      <td>0.227700</td>\n      <td>0.089200</td>\n    </tr>\n    <tr>\n      <th>50%</th>\n      <td>-8.208958</td>\n      <td>40.871480</td>\n      <td>1508.000000</td>\n      <td>4967.500000</td>\n      <td>-8.208958</td>\n      <td>40.871480</td>\n      <td>188.000000</td>\n      <td>1996.000000</td>\n      <td>25.000000</td>\n      <td>50.000000</td>\n      <td>...</td>\n      <td>5.400000</td>\n      <td>0.000000</td>\n      <td>1.810000</td>\n      <td>0.370000</td>\n      <td>0.100000</td>\n      <td>0.100000</td>\n      <td>11.350000</td>\n      <td>28.700000</td>\n      <td>0.246800</td>\n      <td>0.111800</td>\n    </tr>\n    <tr>\n      <th>75%</th>\n      <td>-7.751725</td>\n      <td>41.462960</td>\n      <td>2444.000000</td>\n      <td>7450.750000</td>\n      <td>-7.751725</td>\n      <td>41.462960</td>\n      <td>310.000000</td>\n      <td>2002.000000</td>\n      <td>55.000000</td>\n      <td>85.000000</td>\n      <td>...</td>\n      <td>6.300000</td>\n      <td>0.000000</td>\n      <td>4.777500</td>\n      <td>1.400000</td>\n      <td>0.180000</td>\n      <td>0.200000</td>\n      <td>17.382500</td>\n      <td>72.325000</td>\n      <td>0.282500</td>\n      <td>0.143300</td>\n    </tr>\n    <tr>\n      <th>max</th>\n      <td>-6.255000</td>\n      <td>42.130780</td>\n      <td>3461.000000</td>\n      <td>9934.000000</td>\n      <td>-6.255000</td>\n      <td>42.130780</td>\n      <td>1880.000000</td>\n      <td>2016.000000</td>\n      <td>270.000000</td>\n      <td>400.000000</td>\n      <td>...</td>\n      <td>9.900000</td>\n      <td>97.600000</td>\n      <td>55.870000</td>\n      <td>42.450000</td>\n      <td>2.620000</td>\n      <td>27.300000</td>\n      <td>65.300000</td>\n      <td>100.000000</td>\n      <td>0.475300</td>\n      <td>0.333600</td>\n    </tr>\n  </tbody>\n</table>\n<p>8 rows × 30 columns</p>\n</div>"
     },
     "metadata": {}
    }
   ]
  },
  {
   "cell_type": "markdown",
   "source": "Below we drop all the rows from before the year 1995, because they might not be reliable anymore and our oldest wines are ",
   "metadata": {
    "tags": [],
    "cell_id": "00002-c727c726-bcaf-4ae4-9d37-0bd8803d1fef",
    "deepnote_cell_type": "markdown"
   }
  },
  {
   "cell_type": "code",
   "source": "df = df[df.year > 1995]\ndf.describe()",
   "metadata": {
    "tags": [],
    "cell_id": "00002-5c390c0a-6c4a-4b71-b5bd-a82ae83d9f76",
    "deepnote_to_be_reexecuted": false,
    "source_hash": "63bc44ca",
    "execution_start": 1633091201230,
    "execution_millis": 250,
    "deepnote_cell_type": "code"
   },
   "outputs": [
    {
     "output_type": "execute_result",
     "execution_count": 3,
     "data": {
      "application/vnd.deepnote.dataframe.v2+json": {
       "row_count": 8,
       "column_count": 30,
       "columns": [
        {
         "name": "X",
         "dtype": "float64",
         "stats": {
          "unique_count": 8,
          "nan_count": 0,
          "min": "-9.36144",
          "max": "5400.0",
          "histogram": [
           {
            "bin_start": -9.36144,
            "bin_end": 531.574704,
            "count": 7
           },
           {
            "bin_start": 531.574704,
            "bin_end": 1072.5108480000001,
            "count": 0
           },
           {
            "bin_start": 1072.5108480000001,
            "bin_end": 1613.4469920000001,
            "count": 0
           },
           {
            "bin_start": 1613.4469920000001,
            "bin_end": 2154.383136,
            "count": 0
           },
           {
            "bin_start": 2154.383136,
            "bin_end": 2695.31928,
            "count": 0
           },
           {
            "bin_start": 2695.31928,
            "bin_end": 3236.255424,
            "count": 0
           },
           {
            "bin_start": 3236.255424,
            "bin_end": 3777.1915679999997,
            "count": 0
           },
           {
            "bin_start": 3777.1915679999997,
            "bin_end": 4318.127712,
            "count": 0
           },
           {
            "bin_start": 4318.127712,
            "bin_end": 4859.063856000001,
            "count": 0
           },
           {
            "bin_start": 4859.063856000001,
            "bin_end": 5400,
            "count": 1
           }
          ]
         }
        },
        {
         "name": "Y",
         "dtype": "float64",
         "stats": {
          "unique_count": 8,
          "nan_count": 0,
          "min": "1.406572185004623",
          "max": "5400.0",
          "histogram": [
           {
            "bin_start": 1.406572185004623,
            "bin_end": 541.2659149665042,
            "count": 7
           },
           {
            "bin_start": 541.2659149665042,
            "bin_end": 1081.1252577480038,
            "count": 0
           },
           {
            "bin_start": 1081.1252577480038,
            "bin_end": 1620.9846005295035,
            "count": 0
           },
           {
            "bin_start": 1620.9846005295035,
            "bin_end": 2160.843943311003,
            "count": 0
           },
           {
            "bin_start": 2160.843943311003,
            "bin_end": 2700.7032860925024,
            "count": 0
           },
           {
            "bin_start": 2700.7032860925024,
            "bin_end": 3240.5626288740023,
            "count": 0
           },
           {
            "bin_start": 3240.5626288740023,
            "bin_end": 3780.4219716555017,
            "count": 0
           },
           {
            "bin_start": 3780.4219716555017,
            "bin_end": 4320.281314437001,
            "count": 0
           },
           {
            "bin_start": 4320.281314437001,
            "bin_end": 4860.140657218501,
            "count": 0
           },
           {
            "bin_start": 4860.140657218501,
            "bin_end": 5400,
            "count": 1
           }
          ]
         }
        },
        {
         "name": "pt_infosolo_site_id",
         "dtype": "float64",
         "stats": {
          "unique_count": 8,
          "nan_count": 0,
          "min": "1.0",
          "max": "5400.0",
          "histogram": [
           {
            "bin_start": 1,
            "bin_end": 540.9,
            "count": 1
           },
           {
            "bin_start": 540.9,
            "bin_end": 1080.8,
            "count": 2
           },
           {
            "bin_start": 1080.8,
            "bin_end": 1620.6999999999998,
            "count": 2
           },
           {
            "bin_start": 1620.6999999999998,
            "bin_end": 2160.6,
            "count": 0
           },
           {
            "bin_start": 2160.6,
            "bin_end": 2700.5,
            "count": 1
           },
           {
            "bin_start": 2700.5,
            "bin_end": 3240.3999999999996,
            "count": 0
           },
           {
            "bin_start": 3240.3999999999996,
            "bin_end": 3780.2999999999997,
            "count": 1
           },
           {
            "bin_start": 3780.2999999999997,
            "bin_end": 4320.2,
            "count": 0
           },
           {
            "bin_start": 4320.2,
            "bin_end": 4860.099999999999,
            "count": 0
           },
           {
            "bin_start": 4860.099999999999,
            "bin_end": 5400,
            "count": 1
           }
          ]
         }
        },
        {
         "name": "pt_infosolo_horizon_id",
         "dtype": "float64",
         "stats": {
          "unique_count": 8,
          "nan_count": 0,
          "min": "1.0",
          "max": "9934.0",
          "histogram": [
           {
            "bin_start": 1,
            "bin_end": 994.3,
            "count": 1
           },
           {
            "bin_start": 994.3,
            "bin_end": 1987.6,
            "count": 0
           },
           {
            "bin_start": 1987.6,
            "bin_end": 2980.8999999999996,
            "count": 1
           },
           {
            "bin_start": 2980.8999999999996,
            "bin_end": 3974.2,
            "count": 1
           },
           {
            "bin_start": 3974.2,
            "bin_end": 4967.5,
            "count": 2
           },
           {
            "bin_start": 4967.5,
            "bin_end": 5960.799999999999,
            "count": 1
           },
           {
            "bin_start": 5960.799999999999,
            "bin_end": 6954.099999999999,
            "count": 0
           },
           {
            "bin_start": 6954.099999999999,
            "bin_end": 7947.4,
            "count": 1
           },
           {
            "bin_start": 7947.4,
            "bin_end": 8940.699999999999,
            "count": 0
           },
           {
            "bin_start": 8940.699999999999,
            "bin_end": 9934,
            "count": 1
           }
          ]
         }
        },
        {
         "name": "longitude",
         "dtype": "float64",
         "stats": {
          "unique_count": 8,
          "nan_count": 0,
          "min": "-9.36144",
          "max": "5400.0",
          "histogram": [
           {
            "bin_start": -9.36144,
            "bin_end": 531.574704,
            "count": 7
           },
           {
            "bin_start": 531.574704,
            "bin_end": 1072.5108480000001,
            "count": 0
           },
           {
            "bin_start": 1072.5108480000001,
            "bin_end": 1613.4469920000001,
            "count": 0
           },
           {
            "bin_start": 1613.4469920000001,
            "bin_end": 2154.383136,
            "count": 0
           },
           {
            "bin_start": 2154.383136,
            "bin_end": 2695.31928,
            "count": 0
           },
           {
            "bin_start": 2695.31928,
            "bin_end": 3236.255424,
            "count": 0
           },
           {
            "bin_start": 3236.255424,
            "bin_end": 3777.1915679999997,
            "count": 0
           },
           {
            "bin_start": 3777.1915679999997,
            "bin_end": 4318.127712,
            "count": 0
           },
           {
            "bin_start": 4318.127712,
            "bin_end": 4859.063856000001,
            "count": 0
           },
           {
            "bin_start": 4859.063856000001,
            "bin_end": 5400,
            "count": 1
           }
          ]
         }
        },
        {
         "name": "latitude",
         "dtype": "float64",
         "stats": {
          "unique_count": 8,
          "nan_count": 0,
          "min": "1.4065734020264697",
          "max": "5400.0",
          "histogram": [
           {
            "bin_start": 1.4065734020264697,
            "bin_end": 541.2659160618238,
            "count": 7
           },
           {
            "bin_start": 541.2659160618238,
            "bin_end": 1081.125258721621,
            "count": 0
           },
           {
            "bin_start": 1081.125258721621,
            "bin_end": 1620.9846013814185,
            "count": 0
           },
           {
            "bin_start": 1620.9846013814185,
            "bin_end": 2160.8439440412158,
            "count": 0
           },
           {
            "bin_start": 2160.8439440412158,
            "bin_end": 2700.703286701013,
            "count": 0
           },
           {
            "bin_start": 2700.703286701013,
            "bin_end": 3240.5626293608107,
            "count": 0
           },
           {
            "bin_start": 3240.5626293608107,
            "bin_end": 3780.421972020608,
            "count": 0
           },
           {
            "bin_start": 3780.421972020608,
            "bin_end": 4320.281314680406,
            "count": 0
           },
           {
            "bin_start": 4320.281314680406,
            "bin_end": 4860.140657340203,
            "count": 0
           },
           {
            "bin_start": 4860.140657340203,
            "bin_end": 5400,
            "count": 1
           }
          ]
         }
        },
        {
         "name": "altitude",
         "dtype": "float64",
         "stats": {
          "unique_count": 8,
          "nan_count": 0,
          "min": "3.0",
          "max": "5400.0",
          "histogram": [
           {
            "bin_start": 3,
            "bin_end": 542.7,
            "count": 6
           },
           {
            "bin_start": 542.7,
            "bin_end": 1082.4,
            "count": 0
           },
           {
            "bin_start": 1082.4,
            "bin_end": 1622.1000000000001,
            "count": 0
           },
           {
            "bin_start": 1622.1000000000001,
            "bin_end": 2161.8,
            "count": 1
           },
           {
            "bin_start": 2161.8,
            "bin_end": 2701.5,
            "count": 0
           },
           {
            "bin_start": 2701.5,
            "bin_end": 3241.2000000000003,
            "count": 0
           },
           {
            "bin_start": 3241.2000000000003,
            "bin_end": 3780.9000000000005,
            "count": 0
           },
           {
            "bin_start": 3780.9000000000005,
            "bin_end": 4320.6,
            "count": 0
           },
           {
            "bin_start": 4320.6,
            "bin_end": 4860.3,
            "count": 0
           },
           {
            "bin_start": 4860.3,
            "bin_end": 5400,
            "count": 1
           }
          ]
         }
        },
        {
         "name": "year",
         "dtype": "float64",
         "stats": {
          "unique_count": 7,
          "nan_count": 0,
          "min": "5.346054573867289",
          "max": "5400.0",
          "histogram": [
           {
            "bin_start": 5.346054573867289,
            "bin_end": 544.8114491164805,
            "count": 1
           },
           {
            "bin_start": 544.8114491164805,
            "bin_end": 1084.2768436590939,
            "count": 0
           },
           {
            "bin_start": 1084.2768436590939,
            "bin_end": 1623.742238201707,
            "count": 0
           },
           {
            "bin_start": 1623.742238201707,
            "bin_end": 2163.20763274432,
            "count": 6
           },
           {
            "bin_start": 2163.20763274432,
            "bin_end": 2702.6730272869336,
            "count": 0
           },
           {
            "bin_start": 2702.6730272869336,
            "bin_end": 3242.1384218295466,
            "count": 0
           },
           {
            "bin_start": 3242.1384218295466,
            "bin_end": 3781.6038163721596,
            "count": 0
           },
           {
            "bin_start": 3781.6038163721596,
            "bin_end": 4321.069210914773,
            "count": 0
           },
           {
            "bin_start": 4321.069210914773,
            "bin_end": 4860.5346054573865,
            "count": 0
           },
           {
            "bin_start": 4860.5346054573865,
            "bin_end": 5400,
            "count": 1
           }
          ]
         }
        },
        {
         "name": "hor_top",
         "dtype": "float64",
         "stats": {
          "unique_count": 7,
          "nan_count": 0,
          "min": "0.0",
          "max": "5400.0",
          "histogram": [
           {
            "bin_start": 0,
            "bin_end": 540,
            "count": 7
           },
           {
            "bin_start": 540,
            "bin_end": 1080,
            "count": 0
           },
           {
            "bin_start": 1080,
            "bin_end": 1620,
            "count": 0
           },
           {
            "bin_start": 1620,
            "bin_end": 2160,
            "count": 0
           },
           {
            "bin_start": 2160,
            "bin_end": 2700,
            "count": 0
           },
           {
            "bin_start": 2700,
            "bin_end": 3240,
            "count": 0
           },
           {
            "bin_start": 3240,
            "bin_end": 3780,
            "count": 0
           },
           {
            "bin_start": 3780,
            "bin_end": 4320,
            "count": 0
           },
           {
            "bin_start": 4320,
            "bin_end": 4860,
            "count": 0
           },
           {
            "bin_start": 4860,
            "bin_end": 5400,
            "count": 1
           }
          ]
         }
        },
        {
         "name": "hor_bot",
         "dtype": "float64",
         "stats": {
          "unique_count": 8,
          "nan_count": 0,
          "min": "2.0",
          "max": "5400.0",
          "histogram": [
           {
            "bin_start": 2,
            "bin_end": 541.8,
            "count": 7
           },
           {
            "bin_start": 541.8,
            "bin_end": 1081.6,
            "count": 0
           },
           {
            "bin_start": 1081.6,
            "bin_end": 1621.3999999999999,
            "count": 0
           },
           {
            "bin_start": 1621.3999999999999,
            "bin_end": 2161.2,
            "count": 0
           },
           {
            "bin_start": 2161.2,
            "bin_end": 2701,
            "count": 0
           },
           {
            "bin_start": 2701,
            "bin_end": 3240.7999999999997,
            "count": 0
           },
           {
            "bin_start": 3240.7999999999997,
            "bin_end": 3780.5999999999995,
            "count": 0
           },
           {
            "bin_start": 3780.5999999999995,
            "bin_end": 4320.4,
            "count": 0
           },
           {
            "bin_start": 4320.4,
            "bin_end": 4860.2,
            "count": 0
           },
           {
            "bin_start": 4860.2,
            "bin_end": 5400,
            "count": 1
           }
          ]
         }
        },
        {
         "name": "coarse",
         "dtype": "float64",
         "stats": {
          "unique_count": 8,
          "nan_count": 0,
          "min": "0.0",
          "max": "4657.0",
          "histogram": [
           {
            "bin_start": 0,
            "bin_end": 465.7,
            "count": 7
           },
           {
            "bin_start": 465.7,
            "bin_end": 931.4,
            "count": 0
           },
           {
            "bin_start": 931.4,
            "bin_end": 1397.1,
            "count": 0
           },
           {
            "bin_start": 1397.1,
            "bin_end": 1862.8,
            "count": 0
           },
           {
            "bin_start": 1862.8,
            "bin_end": 2328.5,
            "count": 0
           },
           {
            "bin_start": 2328.5,
            "bin_end": 2794.2,
            "count": 0
           },
           {
            "bin_start": 2794.2,
            "bin_end": 3259.9,
            "count": 0
           },
           {
            "bin_start": 3259.9,
            "bin_end": 3725.6,
            "count": 0
           },
           {
            "bin_start": 3725.6,
            "bin_end": 4191.3,
            "count": 0
           },
           {
            "bin_start": 4191.3,
            "bin_end": 4657,
            "count": 1
           }
          ]
         }
        },
        {
         "name": "cs",
         "dtype": "float64",
         "stats": {
          "unique_count": 8,
          "nan_count": 0,
          "min": "0.0",
          "max": "5400.0",
          "histogram": [
           {
            "bin_start": 0,
            "bin_end": 540,
            "count": 7
           },
           {
            "bin_start": 540,
            "bin_end": 1080,
            "count": 0
           },
           {
            "bin_start": 1080,
            "bin_end": 1620,
            "count": 0
           },
           {
            "bin_start": 1620,
            "bin_end": 2160,
            "count": 0
           },
           {
            "bin_start": 2160,
            "bin_end": 2700,
            "count": 0
           },
           {
            "bin_start": 2700,
            "bin_end": 3240,
            "count": 0
           },
           {
            "bin_start": 3240,
            "bin_end": 3780,
            "count": 0
           },
           {
            "bin_start": 3780,
            "bin_end": 4320,
            "count": 0
           },
           {
            "bin_start": 4320,
            "bin_end": 4860,
            "count": 0
           },
           {
            "bin_start": 4860,
            "bin_end": 5400,
            "count": 1
           }
          ]
         }
        },
        {
         "name": "fs",
         "dtype": "float64",
         "stats": {
          "unique_count": 8,
          "nan_count": 0,
          "min": "0.8",
          "max": "5400.0",
          "histogram": [
           {
            "bin_start": 0.8,
            "bin_end": 540.7199999999999,
            "count": 7
           },
           {
            "bin_start": 540.7199999999999,
            "bin_end": 1080.6399999999999,
            "count": 0
           },
           {
            "bin_start": 1080.6399999999999,
            "bin_end": 1620.5599999999997,
            "count": 0
           },
           {
            "bin_start": 1620.5599999999997,
            "bin_end": 2160.48,
            "count": 0
           },
           {
            "bin_start": 2160.48,
            "bin_end": 2700.4,
            "count": 0
           },
           {
            "bin_start": 2700.4,
            "bin_end": 3240.3199999999997,
            "count": 0
           },
           {
            "bin_start": 3240.3199999999997,
            "bin_end": 3780.24,
            "count": 0
           },
           {
            "bin_start": 3780.24,
            "bin_end": 4320.16,
            "count": 0
           },
           {
            "bin_start": 4320.16,
            "bin_end": 4860.08,
            "count": 0
           },
           {
            "bin_start": 4860.08,
            "bin_end": 5400,
            "count": 1
           }
          ]
         }
        },
        {
         "name": "si",
         "dtype": "float64",
         "stats": {
          "unique_count": 8,
          "nan_count": 0,
          "min": "0.0",
          "max": "5400.0",
          "histogram": [
           {
            "bin_start": 0,
            "bin_end": 540,
            "count": 7
           },
           {
            "bin_start": 540,
            "bin_end": 1080,
            "count": 0
           },
           {
            "bin_start": 1080,
            "bin_end": 1620,
            "count": 0
           },
           {
            "bin_start": 1620,
            "bin_end": 2160,
            "count": 0
           },
           {
            "bin_start": 2160,
            "bin_end": 2700,
            "count": 0
           },
           {
            "bin_start": 2700,
            "bin_end": 3240,
            "count": 0
           },
           {
            "bin_start": 3240,
            "bin_end": 3780,
            "count": 0
           },
           {
            "bin_start": 3780,
            "bin_end": 4320,
            "count": 0
           },
           {
            "bin_start": 4320,
            "bin_end": 4860,
            "count": 0
           },
           {
            "bin_start": 4860,
            "bin_end": 5400,
            "count": 1
           }
          ]
         }
        },
        {
         "name": "c",
         "dtype": "float64",
         "stats": {
          "unique_count": 8,
          "nan_count": 0,
          "min": "0.0",
          "max": "5400.0",
          "histogram": [
           {
            "bin_start": 0,
            "bin_end": 540,
            "count": 7
           },
           {
            "bin_start": 540,
            "bin_end": 1080,
            "count": 0
           },
           {
            "bin_start": 1080,
            "bin_end": 1620,
            "count": 0
           },
           {
            "bin_start": 1620,
            "bin_end": 2160,
            "count": 0
           },
           {
            "bin_start": 2160,
            "bin_end": 2700,
            "count": 0
           },
           {
            "bin_start": 2700,
            "bin_end": 3240,
            "count": 0
           },
           {
            "bin_start": 3240,
            "bin_end": 3780,
            "count": 0
           },
           {
            "bin_start": 3780,
            "bin_end": 4320,
            "count": 0
           },
           {
            "bin_start": 4320,
            "bin_end": 4860,
            "count": 0
           },
           {
            "bin_start": 4860,
            "bin_end": 5400,
            "count": 1
           }
          ]
         }
        },
        {
         "name": "bd",
         "dtype": "float64",
         "stats": {
          "unique_count": 8,
          "nan_count": 0,
          "min": "0.20831507700842086",
          "max": "1174.0",
          "histogram": [
           {
            "bin_start": 0.20831507700842086,
            "bin_end": 117.58748356930758,
            "count": 7
           },
           {
            "bin_start": 117.58748356930758,
            "bin_end": 234.96665206160674,
            "count": 0
           },
           {
            "bin_start": 234.96665206160674,
            "bin_end": 352.34582055390587,
            "count": 0
           },
           {
            "bin_start": 352.34582055390587,
            "bin_end": 469.72498904620505,
            "count": 0
           },
           {
            "bin_start": 469.72498904620505,
            "bin_end": 587.1041575385042,
            "count": 0
           },
           {
            "bin_start": 587.1041575385042,
            "bin_end": 704.4833260308033,
            "count": 0
           },
           {
            "bin_start": 704.4833260308033,
            "bin_end": 821.8624945231024,
            "count": 0
           },
           {
            "bin_start": 821.8624945231024,
            "bin_end": 939.2416630154016,
            "count": 0
           },
           {
            "bin_start": 939.2416630154016,
            "bin_end": 1056.6208315077008,
            "count": 0
           },
           {
            "bin_start": 1056.6208315077008,
            "bin_end": 1174,
            "count": 1
           }
          ]
         }
        },
        {
         "name": "oc",
         "dtype": "float64",
         "stats": {
          "unique_count": 8,
          "nan_count": 0,
          "min": "0.0",
          "max": "4536.0",
          "histogram": [
           {
            "bin_start": 0,
            "bin_end": 453.6,
            "count": 7
           },
           {
            "bin_start": 453.6,
            "bin_end": 907.2,
            "count": 0
           },
           {
            "bin_start": 907.2,
            "bin_end": 1360.8000000000002,
            "count": 0
           },
           {
            "bin_start": 1360.8000000000002,
            "bin_end": 1814.4,
            "count": 0
           },
           {
            "bin_start": 1814.4,
            "bin_end": 2268,
            "count": 0
           },
           {
            "bin_start": 2268,
            "bin_end": 2721.6000000000004,
            "count": 0
           },
           {
            "bin_start": 2721.6000000000004,
            "bin_end": 3175.2000000000003,
            "count": 0
           },
           {
            "bin_start": 3175.2000000000003,
            "bin_end": 3628.8,
            "count": 0
           },
           {
            "bin_start": 3628.8,
            "bin_end": 4082.4,
            "count": 0
           },
           {
            "bin_start": 4082.4,
            "bin_end": 4536,
            "count": 1
           }
          ]
         }
        },
        {
         "name": "n",
         "dtype": "float64",
         "stats": {
          "unique_count": 8,
          "nan_count": 0,
          "min": "0.0",
          "max": "3570.0",
          "histogram": [
           {
            "bin_start": 0,
            "bin_end": 357,
            "count": 7
           },
           {
            "bin_start": 357,
            "bin_end": 714,
            "count": 0
           },
           {
            "bin_start": 714,
            "bin_end": 1071,
            "count": 0
           },
           {
            "bin_start": 1071,
            "bin_end": 1428,
            "count": 0
           },
           {
            "bin_start": 1428,
            "bin_end": 1785,
            "count": 0
           },
           {
            "bin_start": 1785,
            "bin_end": 2142,
            "count": 0
           },
           {
            "bin_start": 2142,
            "bin_end": 2499,
            "count": 0
           },
           {
            "bin_start": 2499,
            "bin_end": 2856,
            "count": 0
           },
           {
            "bin_start": 2856,
            "bin_end": 3213,
            "count": 0
           },
           {
            "bin_start": 3213,
            "bin_end": 3570,
            "count": 1
           }
          ]
         }
        },
        {
         "name": "p",
         "dtype": "float64",
         "stats": {
          "unique_count": 8,
          "nan_count": 0,
          "min": "0.0",
          "max": "3500.0",
          "histogram": [
           {
            "bin_start": 0,
            "bin_end": 350,
            "count": 6
           },
           {
            "bin_start": 350,
            "bin_end": 700,
            "count": 0
           },
           {
            "bin_start": 700,
            "bin_end": 1050,
            "count": 0
           },
           {
            "bin_start": 1050,
            "bin_end": 1400,
            "count": 0
           },
           {
            "bin_start": 1400,
            "bin_end": 1750,
            "count": 0
           },
           {
            "bin_start": 1750,
            "bin_end": 2100,
            "count": 0
           },
           {
            "bin_start": 2100,
            "bin_end": 2450,
            "count": 0
           },
           {
            "bin_start": 2450,
            "bin_end": 2800,
            "count": 0
           },
           {
            "bin_start": 2800,
            "bin_end": 3150,
            "count": 1
           },
           {
            "bin_start": 3150,
            "bin_end": 3500,
            "count": 1
           }
          ]
         }
        },
        {
         "name": "k",
         "dtype": "float64",
         "stats": {
          "unique_count": 8,
          "nan_count": 0,
          "min": "0.0",
          "max": "3501.0",
          "histogram": [
           {
            "bin_start": 0,
            "bin_end": 350.1,
            "count": 6
           },
           {
            "bin_start": 350.1,
            "bin_end": 700.2,
            "count": 0
           },
           {
            "bin_start": 700.2,
            "bin_end": 1050.3000000000002,
            "count": 1
           },
           {
            "bin_start": 1050.3000000000002,
            "bin_end": 1400.4,
            "count": 0
           },
           {
            "bin_start": 1400.4,
            "bin_end": 1750.5,
            "count": 0
           },
           {
            "bin_start": 1750.5,
            "bin_end": 2100.6000000000004,
            "count": 0
           },
           {
            "bin_start": 2100.6000000000004,
            "bin_end": 2450.7000000000003,
            "count": 0
           },
           {
            "bin_start": 2450.7000000000003,
            "bin_end": 2800.8,
            "count": 0
           },
           {
            "bin_start": 2800.8,
            "bin_end": 3150.9,
            "count": 0
           },
           {
            "bin_start": 3150.9,
            "bin_end": 3501,
            "count": 1
           }
          ]
         }
        },
        {
         "name": "ph",
         "dtype": "float64",
         "stats": {
          "unique_count": 8,
          "nan_count": 0,
          "min": "1.1441051068846269",
          "max": "5221.0",
          "histogram": [
           {
            "bin_start": 1.1441051068846269,
            "bin_end": 523.129694596196,
            "count": 7
           },
           {
            "bin_start": 523.129694596196,
            "bin_end": 1045.1152840855075,
            "count": 0
           },
           {
            "bin_start": 1045.1152840855075,
            "bin_end": 1567.100873574819,
            "count": 0
           },
           {
            "bin_start": 1567.100873574819,
            "bin_end": 2089.0864630641304,
            "count": 0
           },
           {
            "bin_start": 2089.0864630641304,
            "bin_end": 2611.072052553442,
            "count": 0
           },
           {
            "bin_start": 2611.072052553442,
            "bin_end": 3133.0576420427533,
            "count": 0
           },
           {
            "bin_start": 3133.0576420427533,
            "bin_end": 3655.0432315320645,
            "count": 0
           },
           {
            "bin_start": 3655.0432315320645,
            "bin_end": 4177.028821021377,
            "count": 0
           },
           {
            "bin_start": 4177.028821021377,
            "bin_end": 4699.014410510688,
            "count": 0
           },
           {
            "bin_start": 4699.014410510688,
            "bin_end": 5221,
            "count": 1
           }
          ]
         }
        },
        {
         "name": "caco3",
         "dtype": "float64",
         "stats": {
          "unique_count": 5,
          "nan_count": 0,
          "min": "0.0",
          "max": "5169.0",
          "histogram": [
           {
            "bin_start": 0,
            "bin_end": 516.9,
            "count": 7
           },
           {
            "bin_start": 516.9,
            "bin_end": 1033.8,
            "count": 0
           },
           {
            "bin_start": 1033.8,
            "bin_end": 1550.6999999999998,
            "count": 0
           },
           {
            "bin_start": 1550.6999999999998,
            "bin_end": 2067.6,
            "count": 0
           },
           {
            "bin_start": 2067.6,
            "bin_end": 2584.5,
            "count": 0
           },
           {
            "bin_start": 2584.5,
            "bin_end": 3101.3999999999996,
            "count": 0
           },
           {
            "bin_start": 3101.3999999999996,
            "bin_end": 3618.2999999999997,
            "count": 0
           },
           {
            "bin_start": 3618.2999999999997,
            "bin_end": 4135.2,
            "count": 0
           },
           {
            "bin_start": 4135.2,
            "bin_end": 4652.099999999999,
            "count": 0
           },
           {
            "bin_start": 4652.099999999999,
            "bin_end": 5169,
            "count": 1
           }
          ]
         }
        },
        {
         "name": "ca_ex",
         "dtype": "float64",
         "stats": {
          "unique_count": 8,
          "nan_count": 0,
          "min": "0.0",
          "max": "4342.0",
          "histogram": [
           {
            "bin_start": 0,
            "bin_end": 434.2,
            "count": 7
           },
           {
            "bin_start": 434.2,
            "bin_end": 868.4,
            "count": 0
           },
           {
            "bin_start": 868.4,
            "bin_end": 1302.6,
            "count": 0
           },
           {
            "bin_start": 1302.6,
            "bin_end": 1736.8,
            "count": 0
           },
           {
            "bin_start": 1736.8,
            "bin_end": 2171,
            "count": 0
           },
           {
            "bin_start": 2171,
            "bin_end": 2605.2,
            "count": 0
           },
           {
            "bin_start": 2605.2,
            "bin_end": 3039.4,
            "count": 0
           },
           {
            "bin_start": 3039.4,
            "bin_end": 3473.6,
            "count": 0
           },
           {
            "bin_start": 3473.6,
            "bin_end": 3907.7999999999997,
            "count": 0
           },
           {
            "bin_start": 3907.7999999999997,
            "bin_end": 4342,
            "count": 1
           }
          ]
         }
        },
        {
         "name": "mg_ex",
         "dtype": "float64",
         "stats": {
          "unique_count": 8,
          "nan_count": 0,
          "min": "0.0",
          "max": "4342.0",
          "histogram": [
           {
            "bin_start": 0,
            "bin_end": 434.2,
            "count": 7
           },
           {
            "bin_start": 434.2,
            "bin_end": 868.4,
            "count": 0
           },
           {
            "bin_start": 868.4,
            "bin_end": 1302.6,
            "count": 0
           },
           {
            "bin_start": 1302.6,
            "bin_end": 1736.8,
            "count": 0
           },
           {
            "bin_start": 1736.8,
            "bin_end": 2171,
            "count": 0
           },
           {
            "bin_start": 2171,
            "bin_end": 2605.2,
            "count": 0
           },
           {
            "bin_start": 2605.2,
            "bin_end": 3039.4,
            "count": 0
           },
           {
            "bin_start": 3039.4,
            "bin_end": 3473.6,
            "count": 0
           },
           {
            "bin_start": 3473.6,
            "bin_end": 3907.7999999999997,
            "count": 0
           },
           {
            "bin_start": 3907.7999999999997,
            "bin_end": 4342,
            "count": 1
           }
          ]
         }
        },
        {
         "name": "k_ex",
         "dtype": "float64",
         "stats": {
          "unique_count": 8,
          "nan_count": 0,
          "min": "0.0",
          "max": "4322.0",
          "histogram": [
           {
            "bin_start": 0,
            "bin_end": 432.2,
            "count": 7
           },
           {
            "bin_start": 432.2,
            "bin_end": 864.4,
            "count": 0
           },
           {
            "bin_start": 864.4,
            "bin_end": 1296.6,
            "count": 0
           },
           {
            "bin_start": 1296.6,
            "bin_end": 1728.8,
            "count": 0
           },
           {
            "bin_start": 1728.8,
            "bin_end": 2161,
            "count": 0
           },
           {
            "bin_start": 2161,
            "bin_end": 2593.2,
            "count": 0
           },
           {
            "bin_start": 2593.2,
            "bin_end": 3025.4,
            "count": 0
           },
           {
            "bin_start": 3025.4,
            "bin_end": 3457.6,
            "count": 0
           },
           {
            "bin_start": 3457.6,
            "bin_end": 3889.7999999999997,
            "count": 0
           },
           {
            "bin_start": 3889.7999999999997,
            "bin_end": 4322,
            "count": 1
           }
          ]
         }
        },
        {
         "name": "na_ex",
         "dtype": "float64",
         "stats": {
          "unique_count": 8,
          "nan_count": 0,
          "min": "0.0",
          "max": "4341.0",
          "histogram": [
           {
            "bin_start": 0,
            "bin_end": 434.1,
            "count": 7
           },
           {
            "bin_start": 434.1,
            "bin_end": 868.2,
            "count": 0
           },
           {
            "bin_start": 868.2,
            "bin_end": 1302.3000000000002,
            "count": 0
           },
           {
            "bin_start": 1302.3000000000002,
            "bin_end": 1736.4,
            "count": 0
           },
           {
            "bin_start": 1736.4,
            "bin_end": 2170.5,
            "count": 0
           },
           {
            "bin_start": 2170.5,
            "bin_end": 2604.6000000000004,
            "count": 0
           },
           {
            "bin_start": 2604.6000000000004,
            "bin_end": 3038.7000000000003,
            "count": 0
           },
           {
            "bin_start": 3038.7000000000003,
            "bin_end": 3472.8,
            "count": 0
           },
           {
            "bin_start": 3472.8,
            "bin_end": 3906.9,
            "count": 0
           },
           {
            "bin_start": 3906.9,
            "bin_end": 4341,
            "count": 1
           }
          ]
         }
        },
        {
         "name": "cec",
         "dtype": "float64",
         "stats": {
          "unique_count": 8,
          "nan_count": 0,
          "min": "0.1",
          "max": "4813.0",
          "histogram": [
           {
            "bin_start": 0.1,
            "bin_end": 481.39,
            "count": 7
           },
           {
            "bin_start": 481.39,
            "bin_end": 962.68,
            "count": 0
           },
           {
            "bin_start": 962.68,
            "bin_end": 1443.9699999999998,
            "count": 0
           },
           {
            "bin_start": 1443.9699999999998,
            "bin_end": 1925.2599999999998,
            "count": 0
           },
           {
            "bin_start": 1925.2599999999998,
            "bin_end": 2406.5499999999997,
            "count": 0
           },
           {
            "bin_start": 2406.5499999999997,
            "bin_end": 2887.8399999999997,
            "count": 0
           },
           {
            "bin_start": 2887.8399999999997,
            "bin_end": 3369.1299999999997,
            "count": 0
           },
           {
            "bin_start": 3369.1299999999997,
            "bin_end": 3850.4199999999996,
            "count": 0
           },
           {
            "bin_start": 3850.4199999999996,
            "bin_end": 4331.71,
            "count": 0
           },
           {
            "bin_start": 4331.71,
            "bin_end": 4813,
            "count": 1
           }
          ]
         }
        },
        {
         "name": "v",
         "dtype": "float64",
         "stats": {
          "unique_count": 8,
          "nan_count": 0,
          "min": "0.0",
          "max": "4316.0",
          "histogram": [
           {
            "bin_start": 0,
            "bin_end": 431.6,
            "count": 7
           },
           {
            "bin_start": 431.6,
            "bin_end": 863.2,
            "count": 0
           },
           {
            "bin_start": 863.2,
            "bin_end": 1294.8000000000002,
            "count": 0
           },
           {
            "bin_start": 1294.8000000000002,
            "bin_end": 1726.4,
            "count": 0
           },
           {
            "bin_start": 1726.4,
            "bin_end": 2158,
            "count": 0
           },
           {
            "bin_start": 2158,
            "bin_end": 2589.6000000000004,
            "count": 0
           },
           {
            "bin_start": 2589.6000000000004,
            "bin_end": 3021.2000000000003,
            "count": 0
           },
           {
            "bin_start": 3021.2000000000003,
            "bin_end": 3452.8,
            "count": 0
           },
           {
            "bin_start": 3452.8,
            "bin_end": 3884.4,
            "count": 0
           },
           {
            "bin_start": 3884.4,
            "bin_end": 4316,
            "count": 1
           }
          ]
         }
        },
        {
         "name": "theta_fc",
         "dtype": "float64",
         "stats": {
          "unique_count": 8,
          "nan_count": 0,
          "min": "0.0574",
          "max": "5400.0",
          "histogram": [
           {
            "bin_start": 0.0574,
            "bin_end": 540.0516600000001,
            "count": 7
           },
           {
            "bin_start": 540.0516600000001,
            "bin_end": 1080.04592,
            "count": 0
           },
           {
            "bin_start": 1080.04592,
            "bin_end": 1620.0401800000002,
            "count": 0
           },
           {
            "bin_start": 1620.0401800000002,
            "bin_end": 2160.0344400000004,
            "count": 0
           },
           {
            "bin_start": 2160.0344400000004,
            "bin_end": 2700.0287000000003,
            "count": 0
           },
           {
            "bin_start": 2700.0287000000003,
            "bin_end": 3240.0229600000007,
            "count": 0
           },
           {
            "bin_start": 3240.0229600000007,
            "bin_end": 3780.0172200000006,
            "count": 0
           },
           {
            "bin_start": 3780.0172200000006,
            "bin_end": 4320.01148,
            "count": 0
           },
           {
            "bin_start": 4320.01148,
            "bin_end": 4860.0057400000005,
            "count": 0
           },
           {
            "bin_start": 4860.0057400000005,
            "bin_end": 5400,
            "count": 1
           }
          ]
         }
        },
        {
         "name": "theta_wp",
         "dtype": "float64",
         "stats": {
          "unique_count": 8,
          "nan_count": 0,
          "min": "0.0139",
          "max": "5400.0",
          "histogram": [
           {
            "bin_start": 0.0139,
            "bin_end": 540.01251,
            "count": 7
           },
           {
            "bin_start": 540.01251,
            "bin_end": 1080.01112,
            "count": 0
           },
           {
            "bin_start": 1080.01112,
            "bin_end": 1620.0097299999998,
            "count": 0
           },
           {
            "bin_start": 1620.0097299999998,
            "bin_end": 2160.00834,
            "count": 0
           },
           {
            "bin_start": 2160.00834,
            "bin_end": 2700.00695,
            "count": 0
           },
           {
            "bin_start": 2700.00695,
            "bin_end": 3240.0055599999996,
            "count": 0
           },
           {
            "bin_start": 3240.0055599999996,
            "bin_end": 3780.0041699999997,
            "count": 0
           },
           {
            "bin_start": 3780.0041699999997,
            "bin_end": 4320.00278,
            "count": 0
           },
           {
            "bin_start": 4320.00278,
            "bin_end": 4860.001389999999,
            "count": 0
           },
           {
            "bin_start": 4860.001389999999,
            "bin_end": 5400,
            "count": 1
           }
          ]
         }
        },
        {
         "name": "_deepnote_index_column",
         "dtype": "object"
        }
       ],
       "rows_top": [
        {
         "X": 5400,
         "Y": 5400,
         "pt_infosolo_site_id": 5400,
         "pt_infosolo_horizon_id": 5400,
         "longitude": 5400,
         "latitude": 5400,
         "altitude": 5400,
         "year": 5400,
         "hor_top": 5400,
         "hor_bot": 5400,
         "coarse": 4657,
         "cs": 5400,
         "fs": 5400,
         "si": 5400,
         "c": 5400,
         "bd": 1174,
         "oc": 4536,
         "n": 3570,
         "p": 3500,
         "k": 3501,
         "ph": 5221,
         "caco3": 5169,
         "ca_ex": 4342,
         "mg_ex": 4342,
         "k_ex": 4322,
         "na_ex": 4341,
         "cec": 4813,
         "v": 4316,
         "theta_fc": 5400,
         "theta_wp": 5400,
         "_deepnote_index_column": "count"
        },
        {
         "X": -8.049829948310624,
         "Y": 39.920313126000856,
         "pt_infosolo_site_id": 1568.9277777777777,
         "pt_infosolo_horizon_id": 4901.60462962963,
         "longitude": -8.049828089629628,
         "latitude": 39.92031399407407,
         "altitude": 256.9812962962963,
         "year": 2001.9407407407407,
         "hor_top": 31.188703703703705,
         "hor_bot": 57.34481481481482,
         "coarse": 19.085333905948033,
         "cs": 36.267074074074074,
         "fs": 30.52777777777778,
         "si": 17.57437037037037,
         "c": 15.636037037037038,
         "bd": 1.5219931856899491,
         "oc": 1.4562499999999998,
         "n": 1.2819971988795518,
         "p": 32.542,
         "k": 82.59163096258212,
         "ph": 5.84066270829343,
         "caco3": 1.4650222480170247,
         "ca_ex": 5.037003684937817,
         "mg_ex": 1.68980884385076,
         "k_ex": 0.12753586302637668,
         "na_ex": 0.25026952315134765,
         "cec": 13.518007479742364,
         "v": 42.84993049119555,
         "theta_fc": 0.24841620370370365,
         "theta_wp": 0.12330633333333334,
         "_deepnote_index_column": "mean"
        },
        {
         "X": 0.5072906955643345,
         "Y": 1.406572185004623,
         "pt_infosolo_site_id": 1042.0720411198756,
         "pt_infosolo_horizon_id": 3060.512095045539,
         "longitude": 0.5072901426489991,
         "latitude": 1.4065734020264697,
         "altitude": 212.07141503119462,
         "year": 5.346054573867289,
         "hor_top": 35.49700756420634,
         "hor_bot": 39.98550847611083,
         "coarse": 16.08056584837169,
         "cs": 19.27644334336765,
         "fs": 11.680139355687416,
         "si": 9.193686004854346,
         "c": 12.39715750504778,
         "bd": 0.20831507700842086,
         "oc": 1.6434099269453009,
         "n": 1.1235265822129867,
         "p": 81.14702967264279,
         "k": 78.953893027671,
         "ph": 1.1441051068846269,
         "caco3": 7.486849100059841,
         "ca_ex": 7.927246159850359,
         "mg_ex": 2.7855931539589056,
         "k_ex": 0.12002068877934538,
         "na_ex": 0.5611999127646731,
         "cec": 9.548066687621413,
         "v": 33.66910295244069,
         "theta_fc": 0.06643264328719792,
         "theta_wp": 0.0619057386556046,
         "_deepnote_index_column": "std"
        },
        {
         "X": -9.36144,
         "Y": 37.06174,
         "pt_infosolo_site_id": 1,
         "pt_infosolo_horizon_id": 1,
         "longitude": -9.36144,
         "latitude": 37.06174,
         "altitude": 3,
         "year": 1996,
         "hor_top": 0,
         "hor_bot": 2,
         "coarse": 0,
         "cs": 0,
         "fs": 0.8,
         "si": 0,
         "c": 0,
         "bd": 0.93,
         "oc": 0,
         "n": 0,
         "p": 0,
         "k": 0,
         "ph": 3.4,
         "caco3": 0,
         "ca_ex": 0,
         "mg_ex": 0,
         "k_ex": 0,
         "na_ex": 0,
         "cec": 0.1,
         "v": 0,
         "theta_fc": 0.0574,
         "theta_wp": 0.0139,
         "_deepnote_index_column": "min"
        },
        {
         "X": -8.441107,
         "Y": 38.4924275,
         "pt_infosolo_site_id": 676,
         "pt_infosolo_horizon_id": 2326.75,
         "longitude": -8.441107,
         "latitude": 38.4924275,
         "altitude": 110,
         "year": 1996,
         "hor_top": 0,
         "hor_bot": 25,
         "coarse": 6.3,
         "cs": 21.5,
         "fs": 23.5,
         "si": 11.3,
         "c": 7.5,
         "bd": 1.3925,
         "oc": 0.38,
         "n": 0.44,
         "p": 3,
         "k": 35.7,
         "ph": 5,
         "caco3": 0,
         "ca_ex": 0.91,
         "mg_ex": 0.2,
         "k_ex": 0.06,
         "na_ex": 0.06,
         "cec": 6.94,
         "v": 15,
         "theta_fc": 0.2213,
         "theta_wp": 0.0878,
         "_deepnote_index_column": "25%"
        },
        {
         "X": -8.094403,
         "Y": 40.152255,
         "pt_infosolo_site_id": 1497,
         "pt_infosolo_horizon_id": 4919.5,
         "longitude": -8.094403,
         "latitude": 40.152255,
         "altitude": 200,
         "year": 2002,
         "hor_top": 25,
         "hor_bot": 47.5,
         "coarse": 14.2,
         "cs": 34.5,
         "fs": 28.2,
         "si": 16.3,
         "c": 11.3,
         "bd": 1.54,
         "oc": 0.89,
         "n": 0.995,
         "p": 12.7,
         "k": 60,
         "ph": 5.4,
         "caco3": 0,
         "ca_ex": 1.955,
         "mg_ex": 0.42,
         "k_ex": 0.1,
         "na_ex": 0.1,
         "cec": 10.87,
         "v": 31.35,
         "theta_fc": 0.2468,
         "theta_wp": 0.1112,
         "_deepnote_index_column": "50%"
        },
        {
         "X": -7.730506999999999,
         "Y": 41.12167,
         "pt_infosolo_site_id": 2327.25,
         "pt_infosolo_horizon_id": 7303.25,
         "longitude": -7.730506999999999,
         "latitude": 41.12167,
         "altitude": 330,
         "year": 2007,
         "hor_top": 50,
         "hor_bot": 80,
         "coarse": 28.9,
         "cs": 49.7,
         "fs": 37.3,
         "si": 22.4,
         "c": 19.3,
         "bd": 1.67,
         "oc": 1.96,
         "n": 1.86,
         "p": 33.2,
         "k": 102.1,
         "ph": 6.3,
         "caco3": 0,
         "ca_ex": 4.9375,
         "mg_ex": 1.57,
         "k_ex": 0.17,
         "na_ex": 0.21,
         "cec": 17.48,
         "v": 74.9,
         "theta_fc": 0.2822,
         "theta_wp": 0.1411,
         "_deepnote_index_column": "75%"
        },
        {
         "X": -6.255,
         "Y": 42.12696,
         "pt_infosolo_site_id": 3461,
         "pt_infosolo_horizon_id": 9934,
         "longitude": -6.255,
         "latitude": 42.12696,
         "altitude": 1880,
         "year": 2016,
         "hor_top": 270,
         "hor_bot": 300,
         "coarse": 87.7,
         "cs": 99,
         "fs": 81.9,
         "si": 66.3,
         "c": 79.3,
         "bd": 1.94,
         "oc": 24.19,
         "n": 13.18,
         "p": 2816,
         "k": 990.6,
         "ph": 9.9,
         "caco3": 80.1,
         "ca_ex": 55.87,
         "mg_ex": 20.25,
         "k_ex": 2.17,
         "na_ex": 7.59,
         "cec": 65.3,
         "v": 100,
         "theta_fc": 0.4571,
         "theta_wp": 0.3291,
         "_deepnote_index_column": "max"
        }
       ],
       "rows_bottom": null
      },
      "text/plain": "                 X            Y  pt_infosolo_site_id  pt_infosolo_horizon_id  \\\ncount  5400.000000  5400.000000          5400.000000             5400.000000   \nmean     -8.049830    39.920313          1568.927778             4901.604630   \nstd       0.507291     1.406572          1042.072041             3060.512095   \nmin      -9.361440    37.061740             1.000000                1.000000   \n25%      -8.441107    38.492427           676.000000             2326.750000   \n50%      -8.094403    40.152255          1497.000000             4919.500000   \n75%      -7.730507    41.121670          2327.250000             7303.250000   \nmax      -6.255000    42.126960          3461.000000             9934.000000   \n\n         longitude     latitude     altitude         year      hor_top  \\\ncount  5400.000000  5400.000000  5400.000000  5400.000000  5400.000000   \nmean     -8.049828    39.920314   256.981296  2001.940741    31.188704   \nstd       0.507290     1.406573   212.071415     5.346055    35.497008   \nmin      -9.361440    37.061740     3.000000  1996.000000     0.000000   \n25%      -8.441107    38.492427   110.000000  1996.000000     0.000000   \n50%      -8.094403    40.152255   200.000000  2002.000000    25.000000   \n75%      -7.730507    41.121670   330.000000  2007.000000    50.000000   \nmax      -6.255000    42.126960  1880.000000  2016.000000   270.000000   \n\n           hor_bot  ...           ph        caco3        ca_ex        mg_ex  \\\ncount  5400.000000  ...  5221.000000  5169.000000  4342.000000  4342.000000   \nmean     57.344815  ...     5.840663     1.465022     5.037004     1.689809   \nstd      39.985508  ...     1.144105     7.486849     7.927246     2.785593   \nmin       2.000000  ...     3.400000     0.000000     0.000000     0.000000   \n25%      25.000000  ...     5.000000     0.000000     0.910000     0.200000   \n50%      47.500000  ...     5.400000     0.000000     1.955000     0.420000   \n75%      80.000000  ...     6.300000     0.000000     4.937500     1.570000   \nmax     300.000000  ...     9.900000    80.100000    55.870000    20.250000   \n\n              k_ex       na_ex          cec            v     theta_fc  \\\ncount  4322.000000  4341.00000  4813.000000  4316.000000  5400.000000   \nmean      0.127536     0.25027    13.518007    42.849930     0.248416   \nstd       0.120021     0.56120     9.548067    33.669103     0.066433   \nmin       0.000000     0.00000     0.100000     0.000000     0.057400   \n25%       0.060000     0.06000     6.940000    15.000000     0.221300   \n50%       0.100000     0.10000    10.870000    31.350000     0.246800   \n75%       0.170000     0.21000    17.480000    74.900000     0.282200   \nmax       2.170000     7.59000    65.300000   100.000000     0.457100   \n\n          theta_wp  \ncount  5400.000000  \nmean      0.123306  \nstd       0.061906  \nmin       0.013900  \n25%       0.087800  \n50%       0.111200  \n75%       0.141100  \nmax       0.329100  \n\n[8 rows x 30 columns]",
      "text/html": "<div>\n<style scoped>\n    .dataframe tbody tr th:only-of-type {\n        vertical-align: middle;\n    }\n\n    .dataframe tbody tr th {\n        vertical-align: top;\n    }\n\n    .dataframe thead th {\n        text-align: right;\n    }\n</style>\n<table border=\"1\" class=\"dataframe\">\n  <thead>\n    <tr style=\"text-align: right;\">\n      <th></th>\n      <th>X</th>\n      <th>Y</th>\n      <th>pt_infosolo_site_id</th>\n      <th>pt_infosolo_horizon_id</th>\n      <th>longitude</th>\n      <th>latitude</th>\n      <th>altitude</th>\n      <th>year</th>\n      <th>hor_top</th>\n      <th>hor_bot</th>\n      <th>...</th>\n      <th>ph</th>\n      <th>caco3</th>\n      <th>ca_ex</th>\n      <th>mg_ex</th>\n      <th>k_ex</th>\n      <th>na_ex</th>\n      <th>cec</th>\n      <th>v</th>\n      <th>theta_fc</th>\n      <th>theta_wp</th>\n    </tr>\n  </thead>\n  <tbody>\n    <tr>\n      <th>count</th>\n      <td>5400.000000</td>\n      <td>5400.000000</td>\n      <td>5400.000000</td>\n      <td>5400.000000</td>\n      <td>5400.000000</td>\n      <td>5400.000000</td>\n      <td>5400.000000</td>\n      <td>5400.000000</td>\n      <td>5400.000000</td>\n      <td>5400.000000</td>\n      <td>...</td>\n      <td>5221.000000</td>\n      <td>5169.000000</td>\n      <td>4342.000000</td>\n      <td>4342.000000</td>\n      <td>4322.000000</td>\n      <td>4341.00000</td>\n      <td>4813.000000</td>\n      <td>4316.000000</td>\n      <td>5400.000000</td>\n      <td>5400.000000</td>\n    </tr>\n    <tr>\n      <th>mean</th>\n      <td>-8.049830</td>\n      <td>39.920313</td>\n      <td>1568.927778</td>\n      <td>4901.604630</td>\n      <td>-8.049828</td>\n      <td>39.920314</td>\n      <td>256.981296</td>\n      <td>2001.940741</td>\n      <td>31.188704</td>\n      <td>57.344815</td>\n      <td>...</td>\n      <td>5.840663</td>\n      <td>1.465022</td>\n      <td>5.037004</td>\n      <td>1.689809</td>\n      <td>0.127536</td>\n      <td>0.25027</td>\n      <td>13.518007</td>\n      <td>42.849930</td>\n      <td>0.248416</td>\n      <td>0.123306</td>\n    </tr>\n    <tr>\n      <th>std</th>\n      <td>0.507291</td>\n      <td>1.406572</td>\n      <td>1042.072041</td>\n      <td>3060.512095</td>\n      <td>0.507290</td>\n      <td>1.406573</td>\n      <td>212.071415</td>\n      <td>5.346055</td>\n      <td>35.497008</td>\n      <td>39.985508</td>\n      <td>...</td>\n      <td>1.144105</td>\n      <td>7.486849</td>\n      <td>7.927246</td>\n      <td>2.785593</td>\n      <td>0.120021</td>\n      <td>0.56120</td>\n      <td>9.548067</td>\n      <td>33.669103</td>\n      <td>0.066433</td>\n      <td>0.061906</td>\n    </tr>\n    <tr>\n      <th>min</th>\n      <td>-9.361440</td>\n      <td>37.061740</td>\n      <td>1.000000</td>\n      <td>1.000000</td>\n      <td>-9.361440</td>\n      <td>37.061740</td>\n      <td>3.000000</td>\n      <td>1996.000000</td>\n      <td>0.000000</td>\n      <td>2.000000</td>\n      <td>...</td>\n      <td>3.400000</td>\n      <td>0.000000</td>\n      <td>0.000000</td>\n      <td>0.000000</td>\n      <td>0.000000</td>\n      <td>0.00000</td>\n      <td>0.100000</td>\n      <td>0.000000</td>\n      <td>0.057400</td>\n      <td>0.013900</td>\n    </tr>\n    <tr>\n      <th>25%</th>\n      <td>-8.441107</td>\n      <td>38.492427</td>\n      <td>676.000000</td>\n      <td>2326.750000</td>\n      <td>-8.441107</td>\n      <td>38.492427</td>\n      <td>110.000000</td>\n      <td>1996.000000</td>\n      <td>0.000000</td>\n      <td>25.000000</td>\n      <td>...</td>\n      <td>5.000000</td>\n      <td>0.000000</td>\n      <td>0.910000</td>\n      <td>0.200000</td>\n      <td>0.060000</td>\n      <td>0.06000</td>\n      <td>6.940000</td>\n      <td>15.000000</td>\n      <td>0.221300</td>\n      <td>0.087800</td>\n    </tr>\n    <tr>\n      <th>50%</th>\n      <td>-8.094403</td>\n      <td>40.152255</td>\n      <td>1497.000000</td>\n      <td>4919.500000</td>\n      <td>-8.094403</td>\n      <td>40.152255</td>\n      <td>200.000000</td>\n      <td>2002.000000</td>\n      <td>25.000000</td>\n      <td>47.500000</td>\n      <td>...</td>\n      <td>5.400000</td>\n      <td>0.000000</td>\n      <td>1.955000</td>\n      <td>0.420000</td>\n      <td>0.100000</td>\n      <td>0.10000</td>\n      <td>10.870000</td>\n      <td>31.350000</td>\n      <td>0.246800</td>\n      <td>0.111200</td>\n    </tr>\n    <tr>\n      <th>75%</th>\n      <td>-7.730507</td>\n      <td>41.121670</td>\n      <td>2327.250000</td>\n      <td>7303.250000</td>\n      <td>-7.730507</td>\n      <td>41.121670</td>\n      <td>330.000000</td>\n      <td>2007.000000</td>\n      <td>50.000000</td>\n      <td>80.000000</td>\n      <td>...</td>\n      <td>6.300000</td>\n      <td>0.000000</td>\n      <td>4.937500</td>\n      <td>1.570000</td>\n      <td>0.170000</td>\n      <td>0.21000</td>\n      <td>17.480000</td>\n      <td>74.900000</td>\n      <td>0.282200</td>\n      <td>0.141100</td>\n    </tr>\n    <tr>\n      <th>max</th>\n      <td>-6.255000</td>\n      <td>42.126960</td>\n      <td>3461.000000</td>\n      <td>9934.000000</td>\n      <td>-6.255000</td>\n      <td>42.126960</td>\n      <td>1880.000000</td>\n      <td>2016.000000</td>\n      <td>270.000000</td>\n      <td>300.000000</td>\n      <td>...</td>\n      <td>9.900000</td>\n      <td>80.100000</td>\n      <td>55.870000</td>\n      <td>20.250000</td>\n      <td>2.170000</td>\n      <td>7.59000</td>\n      <td>65.300000</td>\n      <td>100.000000</td>\n      <td>0.457100</td>\n      <td>0.329100</td>\n    </tr>\n  </tbody>\n</table>\n<p>8 rows × 30 columns</p>\n</div>"
     },
     "metadata": {}
    }
   ],
   "execution_count": 3
  },
  {
   "cell_type": "code",
   "metadata": {
    "tags": [],
    "cell_id": "00002-9fff685a-d598-465d-9887-b0aeb2dc54ff",
    "deepnote_to_be_reexecuted": false,
    "source_hash": "59e4f8b5",
    "execution_start": 1633091201465,
    "execution_millis": 66352,
    "deepnote_cell_type": "code"
   },
   "source": "#sns.pairplot(df[[, 'cs', 'fs', 'si', 'c', 'bd', 'oc', 'n', 'p', 'k', 'ph', 'caco3', 'ca_ex', 'mg_ex']])",
   "execution_count": 4,
   "outputs": []
  },
  {
   "cell_type": "code",
   "source": "df.dtypes",
   "metadata": {
    "tags": [],
    "cell_id": "00003-a0581130-ba5e-43ae-ab3d-f448a1788da3",
    "deepnote_to_be_reexecuted": false,
    "source_hash": "52430027",
    "execution_start": 1633091201465,
    "execution_millis": 15,
    "deepnote_cell_type": "code"
   },
   "outputs": [
    {
     "output_type": "execute_result",
     "execution_count": 5,
     "data": {
      "text/plain": "X                         float64\nY                         float64\npt_infosolo_site_id         int64\npt_infosolo_horizon_id      int64\nprofile_code               object\nlongitude                 float64\nlatitude                  float64\naltitude                    int64\ncoordinates                object\nyear                        int64\nsoil                       object\nqualifier1                 object\nqualifier2                 object\nqualifier3                 object\nwrb_m                      object\nparent_material            object\nland_use                   object\nhor_top                   float64\nhor_bot                   float64\nhor_name                   object\ncoarse                    float64\ncs                        float64\nfs                        float64\nsi                        float64\nc                         float64\ntexture_m                  object\nbd                        float64\nbd_m                       object\noc                        float64\noc_m                       object\nn                         float64\nn_m                        object\np                         float64\np_m                        object\nk                         float64\nk_m                        object\nph                        float64\nph_m                       object\ncaco3                     float64\ncaco3_m                    object\nca_ex                     float64\nmg_ex                     float64\nk_ex                      float64\nna_ex                     float64\ncations_m                  object\ncec                       float64\ncec_m                      object\nv                         float64\ntheta_fc                  float64\ntheta_wp                  float64\ntheta_m                    object\ninstitution                object\ndtype: object"
     },
     "metadata": {}
    }
   ],
   "execution_count": 5
  },
  {
   "cell_type": "code",
   "source": "",
   "metadata": {
    "tags": [],
    "cell_id": "00004-9efc8248-c66c-4458-9675-055766bb191c",
    "deepnote_to_be_reexecuted": false,
    "source_hash": "b623e53d",
    "execution_start": 1633091201483,
    "execution_millis": 66355,
    "deepnote_cell_type": "code"
   },
   "outputs": [],
   "execution_count": 5
  },
  {
   "cell_type": "markdown",
   "source": "<a style='text-decoration:none;line-height:16px;display:flex;color:#5B5B62;padding:10px;justify-content:end;' href='https://deepnote.com?utm_source=created-in-deepnote-cell&projectId=1e9b27b8-a34d-4e11-8ef1-1fdc6f91d699' target=\"_blank\">\n<img alt='Created in deepnote.com' style='display:inline;max-height:16px;margin:0px;margin-right:7.5px;' src='data:image/svg+xml;base64,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' > </img>\nCreated in <span style='font-weight:600;margin-left:4px;'>Deepnote</span></a>",
   "metadata": {
    "tags": [],
    "created_in_deepnote_cell": true,
    "deepnote_cell_type": "markdown"
   }
  }
 ],
 "nbformat": 4,
 "nbformat_minor": 2,
 "metadata": {
  "orig_nbformat": 2,
  "deepnote": {
   "is_reactive": false
  },
  "deepnote_notebook_id": "7131748d-4e80-45cc-a16d-9575ef1483e8",
  "deepnote_execution_queue": []
 }
}