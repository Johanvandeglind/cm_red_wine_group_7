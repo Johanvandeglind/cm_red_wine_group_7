{
 "cells": [
  {
   "cell_type": "markdown",
   "source": "# CM07 - Lineaire regressie - oefening 2\n\nIn deze oefening gaan we onderzoeken of het verbruik van auto's is te voorspellen aan de hand van diverse kenmerken. Er worden eerst een aantal analyses en bewerkingen op de data uitgevoerd, voordat we starten met enkele opdrachten.",
   "metadata": {
    "cell_id": "00000-929a0590-211b-4b51-88d1-2f9cbe841670",
    "deepnote_cell_type": "markdown"
   }
  },
  {
   "cell_type": "code",
   "metadata": {
    "cell_id": "00001-b2757ba5-f3bf-408b-979b-7fcc8c7f7c1c",
    "deepnote_cell_type": "code"
   },
   "source": "# Bronnen\n# Dowload: https://archive.ics.uci.edu/ml/datasets/Auto+MPG \n# Omvormen naar csv: http://fatihsarigoz.com/autompg-data.html \n# Lineaire regressie: http://benalexkeen.com/linear-regression-in-python-using-scikit-learn/ ",
   "execution_count": 4,
   "outputs": []
  },
  {
   "cell_type": "code",
   "metadata": {
    "cell_id": "00002-0d702511-97b1-47a7-a886-5d1958b4e3ae",
    "deepnote_cell_type": "code"
   },
   "source": "# Libraries importeren\n\nimport pandas as pd\nimport numpy as np\nfrom sklearn.model_selection import train_test_split\nfrom sklearn.linear_model import LinearRegression\nfrom sklearn.metrics import mean_squared_error\nfrom sklearn.metrics import r2_score\nimport math\nimport matplotlib.pyplot as plt",
   "execution_count": 5,
   "outputs": []
  },
  {
   "cell_type": "code",
   "metadata": {
    "cell_id": "00003-566a10f9-6db0-4ea7-8395-e6cd0cbf370d",
    "deepnote_cell_type": "code"
   },
   "source": "# Analyseren welke attributen er in de dataset zitten. Als je de inhoud niet snapt, is het handig om ff te Googlen!\n\ndf = pd.read_csv('lineaire_regressie_auto_mpg.csv')\ndf.head()",
   "execution_count": 6,
   "outputs": [
    {
     "data": {
      "text/html": "<div>\n<style scoped>\n    .dataframe tbody tr th:only-of-type {\n        vertical-align: middle;\n    }\n\n    .dataframe tbody tr th {\n        vertical-align: top;\n    }\n\n    .dataframe thead th {\n        text-align: right;\n    }\n</style>\n<table border=\"1\" class=\"dataframe\">\n  <thead>\n    <tr style=\"text-align: right;\">\n      <th></th>\n      <th>mpg</th>\n      <th>cylinders</th>\n      <th>displacement</th>\n      <th>horsepower</th>\n      <th>weight</th>\n      <th>acceleration</th>\n      <th>year</th>\n      <th>origin</th>\n      <th>name</th>\n    </tr>\n  </thead>\n  <tbody>\n    <tr>\n      <th>0</th>\n      <td>18.0</td>\n      <td>8</td>\n      <td>307.0</td>\n      <td>130.0</td>\n      <td>3504.0</td>\n      <td>12.0</td>\n      <td>70</td>\n      <td>1</td>\n      <td>chevrolet chevelle malibu</td>\n    </tr>\n    <tr>\n      <th>1</th>\n      <td>15.0</td>\n      <td>8</td>\n      <td>350.0</td>\n      <td>165.0</td>\n      <td>3693.0</td>\n      <td>11.5</td>\n      <td>70</td>\n      <td>1</td>\n      <td>buick skylark 320</td>\n    </tr>\n    <tr>\n      <th>2</th>\n      <td>18.0</td>\n      <td>8</td>\n      <td>318.0</td>\n      <td>150.0</td>\n      <td>3436.0</td>\n      <td>11.0</td>\n      <td>70</td>\n      <td>1</td>\n      <td>plymouth satellite</td>\n    </tr>\n    <tr>\n      <th>3</th>\n      <td>16.0</td>\n      <td>8</td>\n      <td>304.0</td>\n      <td>150.0</td>\n      <td>3433.0</td>\n      <td>12.0</td>\n      <td>70</td>\n      <td>1</td>\n      <td>amc rebel sst</td>\n    </tr>\n    <tr>\n      <th>4</th>\n      <td>17.0</td>\n      <td>8</td>\n      <td>302.0</td>\n      <td>140.0</td>\n      <td>3449.0</td>\n      <td>10.5</td>\n      <td>70</td>\n      <td>1</td>\n      <td>ford torino</td>\n    </tr>\n  </tbody>\n</table>\n</div>",
      "text/plain": "    mpg  cylinders  displacement  horsepower  weight  acceleration  year  \\\n0  18.0          8         307.0       130.0  3504.0          12.0    70   \n1  15.0          8         350.0       165.0  3693.0          11.5    70   \n2  18.0          8         318.0       150.0  3436.0          11.0    70   \n3  16.0          8         304.0       150.0  3433.0          12.0    70   \n4  17.0          8         302.0       140.0  3449.0          10.5    70   \n\n   origin                       name  \n0       1  chevrolet chevelle malibu  \n1       1          buick skylark 320  \n2       1         plymouth satellite  \n3       1              amc rebel sst  \n4       1                ford torino  "
     },
     "execution_count": 6,
     "metadata": {},
     "output_type": "execute_result"
    }
   ]
  },
  {
   "cell_type": "code",
   "metadata": {
    "cell_id": "00004-0410b073-c5ae-4c86-bd76-7ed76b306c6c",
    "deepnote_cell_type": "code"
   },
   "source": "# Inhoud van de attributen analyseren, check wat describe() doet met het attribuut `origin`\n\ndf.describe()",
   "execution_count": 7,
   "outputs": [
    {
     "data": {
      "text/html": "<div>\n<style scoped>\n    .dataframe tbody tr th:only-of-type {\n        vertical-align: middle;\n    }\n\n    .dataframe tbody tr th {\n        vertical-align: top;\n    }\n\n    .dataframe thead th {\n        text-align: right;\n    }\n</style>\n<table border=\"1\" class=\"dataframe\">\n  <thead>\n    <tr style=\"text-align: right;\">\n      <th></th>\n      <th>mpg</th>\n      <th>cylinders</th>\n      <th>displacement</th>\n      <th>horsepower</th>\n      <th>weight</th>\n      <th>acceleration</th>\n      <th>year</th>\n      <th>origin</th>\n    </tr>\n  </thead>\n  <tbody>\n    <tr>\n      <th>count</th>\n      <td>392.000000</td>\n      <td>392.000000</td>\n      <td>392.000000</td>\n      <td>392.000000</td>\n      <td>392.000000</td>\n      <td>392.000000</td>\n      <td>392.000000</td>\n      <td>392.000000</td>\n    </tr>\n    <tr>\n      <th>mean</th>\n      <td>23.445918</td>\n      <td>5.471939</td>\n      <td>194.411990</td>\n      <td>104.469388</td>\n      <td>2977.584184</td>\n      <td>15.541327</td>\n      <td>75.979592</td>\n      <td>1.576531</td>\n    </tr>\n    <tr>\n      <th>std</th>\n      <td>7.805007</td>\n      <td>1.705783</td>\n      <td>104.644004</td>\n      <td>38.491160</td>\n      <td>849.402560</td>\n      <td>2.758864</td>\n      <td>3.683737</td>\n      <td>0.805518</td>\n    </tr>\n    <tr>\n      <th>min</th>\n      <td>9.000000</td>\n      <td>3.000000</td>\n      <td>68.000000</td>\n      <td>46.000000</td>\n      <td>1613.000000</td>\n      <td>8.000000</td>\n      <td>70.000000</td>\n      <td>1.000000</td>\n    </tr>\n    <tr>\n      <th>25%</th>\n      <td>17.000000</td>\n      <td>4.000000</td>\n      <td>105.000000</td>\n      <td>75.000000</td>\n      <td>2225.250000</td>\n      <td>13.775000</td>\n      <td>73.000000</td>\n      <td>1.000000</td>\n    </tr>\n    <tr>\n      <th>50%</th>\n      <td>22.750000</td>\n      <td>4.000000</td>\n      <td>151.000000</td>\n      <td>93.500000</td>\n      <td>2803.500000</td>\n      <td>15.500000</td>\n      <td>76.000000</td>\n      <td>1.000000</td>\n    </tr>\n    <tr>\n      <th>75%</th>\n      <td>29.000000</td>\n      <td>8.000000</td>\n      <td>275.750000</td>\n      <td>126.000000</td>\n      <td>3614.750000</td>\n      <td>17.025000</td>\n      <td>79.000000</td>\n      <td>2.000000</td>\n    </tr>\n    <tr>\n      <th>max</th>\n      <td>46.600000</td>\n      <td>8.000000</td>\n      <td>455.000000</td>\n      <td>230.000000</td>\n      <td>5140.000000</td>\n      <td>24.800000</td>\n      <td>82.000000</td>\n      <td>3.000000</td>\n    </tr>\n  </tbody>\n</table>\n</div>",
      "text/plain": "              mpg   cylinders  displacement  horsepower       weight  \\\ncount  392.000000  392.000000    392.000000  392.000000   392.000000   \nmean    23.445918    5.471939    194.411990  104.469388  2977.584184   \nstd      7.805007    1.705783    104.644004   38.491160   849.402560   \nmin      9.000000    3.000000     68.000000   46.000000  1613.000000   \n25%     17.000000    4.000000    105.000000   75.000000  2225.250000   \n50%     22.750000    4.000000    151.000000   93.500000  2803.500000   \n75%     29.000000    8.000000    275.750000  126.000000  3614.750000   \nmax     46.600000    8.000000    455.000000  230.000000  5140.000000   \n\n       acceleration        year      origin  \ncount    392.000000  392.000000  392.000000  \nmean      15.541327   75.979592    1.576531  \nstd        2.758864    3.683737    0.805518  \nmin        8.000000   70.000000    1.000000  \n25%       13.775000   73.000000    1.000000  \n50%       15.500000   76.000000    1.000000  \n75%       17.025000   79.000000    2.000000  \nmax       24.800000   82.000000    3.000000  "
     },
     "execution_count": 7,
     "metadata": {},
     "output_type": "execute_result"
    }
   ]
  },
  {
   "cell_type": "code",
   "metadata": {
    "cell_id": "00005-7477694f-2b88-47d7-a4ba-fb9543446e05",
    "deepnote_cell_type": "code"
   },
   "source": "# Drop name: die hebben we niet nodig \n\ndf = df.drop('name', axis=1)",
   "execution_count": 8,
   "outputs": []
  },
  {
   "cell_type": "code",
   "metadata": {
    "cell_id": "00006-05cd7c4e-7448-4442-afae-420d4be7cae7",
    "deepnote_cell_type": "code"
   },
   "source": "# Origin lijkt een numerieke waarde, maar het is een categorie. \n# Dit attribuut moeten we aanpassen voordat we het kunnen gebruiken voor lineaire regressie\n\ndf = pd.get_dummies(df, columns=['origin'])\ndf.head()",
   "execution_count": 9,
   "outputs": [
    {
     "data": {
      "text/html": "<div>\n<style scoped>\n    .dataframe tbody tr th:only-of-type {\n        vertical-align: middle;\n    }\n\n    .dataframe tbody tr th {\n        vertical-align: top;\n    }\n\n    .dataframe thead th {\n        text-align: right;\n    }\n</style>\n<table border=\"1\" class=\"dataframe\">\n  <thead>\n    <tr style=\"text-align: right;\">\n      <th></th>\n      <th>mpg</th>\n      <th>cylinders</th>\n      <th>displacement</th>\n      <th>horsepower</th>\n      <th>weight</th>\n      <th>acceleration</th>\n      <th>year</th>\n      <th>origin_1</th>\n      <th>origin_2</th>\n      <th>origin_3</th>\n    </tr>\n  </thead>\n  <tbody>\n    <tr>\n      <th>0</th>\n      <td>18.0</td>\n      <td>8</td>\n      <td>307.0</td>\n      <td>130.0</td>\n      <td>3504.0</td>\n      <td>12.0</td>\n      <td>70</td>\n      <td>1</td>\n      <td>0</td>\n      <td>0</td>\n    </tr>\n    <tr>\n      <th>1</th>\n      <td>15.0</td>\n      <td>8</td>\n      <td>350.0</td>\n      <td>165.0</td>\n      <td>3693.0</td>\n      <td>11.5</td>\n      <td>70</td>\n      <td>1</td>\n      <td>0</td>\n      <td>0</td>\n    </tr>\n    <tr>\n      <th>2</th>\n      <td>18.0</td>\n      <td>8</td>\n      <td>318.0</td>\n      <td>150.0</td>\n      <td>3436.0</td>\n      <td>11.0</td>\n      <td>70</td>\n      <td>1</td>\n      <td>0</td>\n      <td>0</td>\n    </tr>\n    <tr>\n      <th>3</th>\n      <td>16.0</td>\n      <td>8</td>\n      <td>304.0</td>\n      <td>150.0</td>\n      <td>3433.0</td>\n      <td>12.0</td>\n      <td>70</td>\n      <td>1</td>\n      <td>0</td>\n      <td>0</td>\n    </tr>\n    <tr>\n      <th>4</th>\n      <td>17.0</td>\n      <td>8</td>\n      <td>302.0</td>\n      <td>140.0</td>\n      <td>3449.0</td>\n      <td>10.5</td>\n      <td>70</td>\n      <td>1</td>\n      <td>0</td>\n      <td>0</td>\n    </tr>\n  </tbody>\n</table>\n</div>",
      "text/plain": "    mpg  cylinders  displacement  horsepower  weight  acceleration  year  \\\n0  18.0          8         307.0       130.0  3504.0          12.0    70   \n1  15.0          8         350.0       165.0  3693.0          11.5    70   \n2  18.0          8         318.0       150.0  3436.0          11.0    70   \n3  16.0          8         304.0       150.0  3433.0          12.0    70   \n4  17.0          8         302.0       140.0  3449.0          10.5    70   \n\n   origin_1  origin_2  origin_3  \n0         1         0         0  \n1         1         0         0  \n2         1         0         0  \n3         1         0         0  \n4         1         0         0  "
     },
     "execution_count": 9,
     "metadata": {},
     "output_type": "execute_result"
    }
   ]
  },
  {
   "cell_type": "code",
   "metadata": {
    "tags": [
     "student"
    ],
    "cell_id": "00007-758523cc-546f-4a24-aac6-4e2e9abf6858",
    "deepnote_cell_type": "code"
   },
   "source": "# Verkenning van de correlaties\n\nprint(df.corr()['mpg'])\n\nplt.subplots(dpi=100)\nplt.scatter(df.displacement, df.mpg)\nplt.show()",
   "execution_count": 11,
   "outputs": [
    {
     "name": "stdout",
     "output_type": "stream",
     "text": "mpg             1.000000\ncylinders      -0.777618\ndisplacement   -0.805127\nhorsepower     -0.778427\nweight         -0.832244\nacceleration    0.423329\nyear            0.580541\norigin_1       -0.565161\norigin_2        0.244313\norigin_3        0.451454\nName: mpg, dtype: float64\n"
    },
    {
     "data": {
      "image/png": "[encoded data removed]",
      "text/plain": "<Figure size 600x400 with 1 Axes>"
     },
     "metadata": {
      "needs_background": "light",
      "image/png": {
       "width": 512,
       "height": 345
      }
     },
     "output_type": "display_data"
    }
   ]
  },
  {
   "cell_type": "markdown",
   "source": "### 1. Kies het juiste modeltype",
   "metadata": {
    "cell_id": "00008-8cb5a5bc-9d72-4fcf-8f7b-1266b1dcc4ea",
    "deepnote_cell_type": "markdown"
   }
  },
  {
   "cell_type": "code",
   "metadata": {
    "tags": [
     "student"
    ],
    "cell_id": "00009-f8985871-4f5c-4969-92fc-bfb783e99a07",
    "deepnote_to_be_reexecuted": false,
    "source_hash": "eafea7bc",
    "execution_start": 1632990127344,
    "execution_millis": 4,
    "deepnote_cell_type": "code"
   },
   "source": "# Lineaire regressie\n",
   "execution_count": 1,
   "outputs": []
  },
  {
   "cell_type": "markdown",
   "source": "### 2. Kies de hyperparameters",
   "metadata": {
    "cell_id": "00010-e72fb292-fcf0-4143-acfb-54e64d3db3b5",
    "deepnote_cell_type": "markdown"
   }
  },
  {
   "cell_type": "code",
   "metadata": {
    "tags": [
     "student"
    ],
    "cell_id": "00011-44e68d91-bb1b-4c8d-9f2c-926897df918b",
    "deepnote_cell_type": "code"
   },
   "source": "",
   "execution_count": null,
   "outputs": []
  },
  {
   "cell_type": "markdown",
   "source": "### 3. Organiseer de data: _features_ (eigenschappen) en _target_ (resultaat)",
   "metadata": {
    "cell_id": "00012-64697935-4ba3-448b-a054-7206b48e3f38",
    "deepnote_cell_type": "markdown"
   }
  },
  {
   "cell_type": "code",
   "metadata": {
    "tags": [
     "student"
    ],
    "cell_id": "00013-cb362c67-2e08-4c68-8abf-ffb03ef6cb9c",
    "deepnote_cell_type": "code"
   },
   "source": "X = df.drop('mpg',axis=1) #df wordt hier niet aangepast\ny = df['mpg']\n",
   "execution_count": 30,
   "outputs": []
  },
  {
   "cell_type": "markdown",
   "source": "### 4. Creëer een training- en validatieset",
   "metadata": {
    "cell_id": "00014-64873c93-ff68-41ca-93af-ab72fcfc37ce",
    "deepnote_cell_type": "markdown"
   }
  },
  {
   "cell_type": "code",
   "metadata": {
    "tags": [
     "student"
    ],
    "cell_id": "00015-0af9802e-1fd8-448a-ade6-8bac9ff3fd26",
    "deepnote_cell_type": "code"
   },
   "source": "X_train,X_test,y_train,y_test=train_test_split(X,y,random_state = 0)",
   "execution_count": 33,
   "outputs": []
  },
  {
   "cell_type": "markdown",
   "source": "### 5. Start het leerproces",
   "metadata": {
    "cell_id": "00016-55acce80-cb8c-4b44-9b3e-caaa73c5d6f8",
    "deepnote_cell_type": "markdown"
   }
  },
  {
   "cell_type": "code",
   "metadata": {
    "tags": [
     "student"
    ],
    "cell_id": "00017-4cd31d3b-0e7c-4131-9476-c150126698ce",
    "deepnote_cell_type": "code"
   },
   "source": "lr = LinearRegression()\nlr.fit(X_train,y_train)\n\ny1 = lr.intercept_+lr.coef_[0]*x\nprint('a = {:.0f}, b = {:.0f}'.format(lr.intercept_, lr.coef_[0]))\n",
   "execution_count": 35,
   "outputs": [
    {
     "name": "stdout",
     "output_type": "stream",
     "text": "a = -15, b = -0\n"
    }
   ]
  },
  {
   "cell_type": "markdown",
   "source": "### 6. Valideer het model\n\nBereken de determinatiecoëfficient $r^2$.",
   "metadata": {
    "cell_id": "00018-6c617c6a-17b8-4256-a997-12f287a0553a",
    "deepnote_cell_type": "markdown"
   }
  },
  {
   "cell_type": "code",
   "metadata": {
    "tags": [
     "student"
    ],
    "cell_id": "00019-c459b7db-9f1f-4c1f-bc0c-27a216d8c41c",
    "deepnote_cell_type": "code"
   },
   "source": "lr.score(X_test,y_test)",
   "execution_count": 37,
   "outputs": [
    {
     "data": {
      "text/plain": "0.8237889838877073"
     },
     "execution_count": 37,
     "metadata": {},
     "output_type": "execute_result"
    }
   ]
  },
  {
   "cell_type": "code",
   "metadata": {
    "cell_id": "00020-cee3d2b8-b14e-457f-9d7d-32ce2ed4aa03",
    "deepnote_cell_type": "code"
   },
   "source": "predmpg = lr.predict(X_test)\nr2_score(y_test,predmpg)",
   "execution_count": 38,
   "outputs": [
    {
     "data": {
      "text/plain": "0.8237889838877073"
     },
     "execution_count": 38,
     "metadata": {},
     "output_type": "execute_result"
    }
   ]
  },
  {
   "cell_type": "markdown",
   "source": "Bereken de *root mean squared error*, gebruik makend van `mean_squared_error()`.",
   "metadata": {
    "cell_id": "00021-625a7500-f546-496e-8a5d-9c79691f27d8",
    "deepnote_cell_type": "markdown"
   }
  },
  {
   "cell_type": "code",
   "metadata": {
    "tags": [
     "student"
    ],
    "cell_id": "00022-20ed6fdd-5313-468c-a1bb-c05f67fe1dae",
    "deepnote_cell_type": "code"
   },
   "source": "np.sqrt(mean_squared_error(y_test,predmpg))",
   "execution_count": 40,
   "outputs": [
    {
     "data": {
      "text/plain": "3.2377283837386472"
     },
     "execution_count": 40,
     "metadata": {},
     "output_type": "execute_result"
    }
   ]
  },
  {
   "cell_type": "markdown",
   "source": "Wat is de betekenis van dit getal?",
   "metadata": {
    "cell_id": "00023-72784655-aa19-446b-8799-a8fd0e78e018",
    "deepnote_cell_type": "markdown"
   }
  },
  {
   "cell_type": "markdown",
   "source": "",
   "metadata": {
    "tags": [
     "student"
    ],
    "cell_id": "00024-ad9ba52c-2334-4e79-a02a-98d7650311bb",
    "deepnote_cell_type": "markdown"
   }
  },
  {
   "cell_type": "markdown",
   "source": "Wat gebeurt er met de lineaire regressie als je andere _features_ kiest? Welke deelverzameling van kenmerken is het beste?\n",
   "metadata": {
    "cell_id": "00025-c92f37eb-7191-476a-af87-f669123821d1",
    "deepnote_cell_type": "markdown"
   }
  },
  {
   "cell_type": "code",
   "metadata": {
    "tags": [
     "student"
    ],
    "cell_id": "00026-0261d239-2c4b-4de4-ae57-c87b457c2958",
    "deepnote_cell_type": "code"
   },
   "source": "",
   "execution_count": null,
   "outputs": []
  },
  {
   "cell_type": "markdown",
   "source": "<a style='text-decoration:none;line-height:16px;display:flex;color:#5B5B62;padding:10px;justify-content:end;' href='https://deepnote.com?utm_source=created-in-deepnote-cell&projectId=1e9b27b8-a34d-4e11-8ef1-1fdc6f91d699' target=\"_blank\">\n<img alt='Created in deepnote.com' style='display:inline;max-height:16px;margin:0px;margin-right:7.5px;' src='data:image/svg+xml;base64,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' > </img>\nCreated in <span style='font-weight:600;margin-left:4px;'>Deepnote</span></a>",
   "metadata": {
    "tags": [],
    "created_in_deepnote_cell": true,
    "deepnote_cell_type": "markdown"
   }
  }
 ],
 "nbformat": 4,
 "nbformat_minor": 2,
 "metadata": {
  "celltoolbar": "Tags",
  "kernelspec": {
   "display_name": "Python 3",
   "language": "python",
   "name": "python3"
  },
  "language_info": {
   "codemirror_mode": {
    "name": "ipython",
    "version": 3
   },
   "file_extension": ".py",
   "mimetype": "text/x-python",
   "name": "python",
   "nbconvert_exporter": "python",
   "pygments_lexer": "ipython3",
   "version": "3.8.8"
  },
  "deepnote_notebook_id": "96ed3354-886c-4f53-8e45-8a1a518fe544",
  "deepnote": {},
  "deepnote_execution_queue": []
 }
}