{
 "cells": [
  {
   "cell_type": "markdown",
   "source": "# Portuguese wine",
   "metadata": {
    "tags": [],
    "cell_id": "00000-b8a429a1-441f-4704-8b19-67a5ef91165e",
    "deepnote_cell_type": "markdown"
   }
  },
  {
   "cell_type": "markdown",
   "source": "### Research questions\n<ol>\n<li> Is there a correlation between the chemical properties of wine and the perceived rating. Can we (accurately) predict the amount of points given when only taking into account the chemical properties?</li>\n<li> To what extend does the soil on which the grapes are grown have an influence on the different chemical aspects of a given wine?</li>\n</ol>\n",
   "metadata": {
    "tags": [],
    "cell_id": "00001-17490fb3-ffc5-47a6-bfc3-2a63d793b112",
    "deepnote_cell_type": "markdown"
   }
  },
  {
   "cell_type": "markdown",
   "source": "### Contents:\n- Import Necessary Libraries  \n- Read In and Explore the Data  \n- Data Analysis/Cleaning Data  \n- Data Visualization  \n- Choosing the Best Model  ",
   "metadata": {
    "tags": [],
    "cell_id": "00001-fa989750-34cc-4ef8-920f-2ba3e0b6759b",
    "deepnote_cell_type": "markdown"
   }
  },
  {
   "cell_type": "markdown",
   "source": "#### 1) Import Necessary Libraries\nTo start off, the necessary libraries are imported such as numpy, pandas, matplotlib, holoviews, panel and seaborn.",
   "metadata": {
    "tags": [],
    "cell_id": "00002-fba3cee2-cb77-4375-a930-0e8d1c9f61e2",
    "deepnote_cell_type": "markdown"
   }
  },
  {
   "cell_type": "code",
   "metadata": {
    "cell_id": "00000-b6b64599-5f80-457d-8b45-8fe4abebb051",
    "deepnote_to_be_reexecuted": false,
    "source_hash": "7b414755",
    "execution_start": 1633692050900,
    "execution_millis": 2672,
    "deepnote_cell_type": "code"
   },
   "source": "#data analysis:\nimport pandas as pd\nimport numpy as np\n\n#visualisation:\nimport seaborn as sns\nimport matplotlib.pyplot as plt\n\nfrom sklearn.model_selection import train_test_split\nfrom sklearn.linear_model import LinearRegression\nfrom sklearn.metrics import mean_squared_error\nfrom sklearn.metrics import r2_score\n\nimport itertools",
   "execution_count": null,
   "outputs": []
  },
  {
   "cell_type": "markdown",
   "source": "#### 2) Read in and Explore the Data\nHere we explore the data from the csv file",
   "metadata": {
    "tags": [],
    "cell_id": "00004-5431d647-ce9f-4802-8348-51749f53879f",
    "deepnote_cell_type": "markdown"
   }
  },
  {
   "cell_type": "code",
   "metadata": {
    "cell_id": "00001-720cd1a0-e520-477f-bd66-dee25b752edf",
    "deepnote_to_be_reexecuted": false,
    "source_hash": "72341594",
    "execution_start": 1633692053591,
    "execution_millis": 212,
    "deepnote_cell_type": "code"
   },
   "source": "# Read the redwine.csv file into a Pandas dataframe\ndf = pd.read_csv('redwine.csv',index_col = 0,sep=';',encoding ='ISO-8859-1')\ndf.columns = [c.replace(' ', '_') for c in df.columns]\n\n# Sample 5 random rows of the dataframe\ndf.sample(5)",
   "execution_count": null,
   "outputs": [
    {
     "output_type": "execute_result",
     "execution_count": 2,
     "data": {
      "application/vnd.deepnote.dataframe.v2+json": {
       "row_count": 5,
       "column_count": 21,
       "columns": [
        {
         "name": "country",
         "dtype": "object",
         "stats": {
          "unique_count": 1,
          "nan_count": 0,
          "categories": [
           {
            "name": "Portugal",
            "count": 5
           }
          ]
         }
        },
        {
         "name": "description",
         "dtype": "object",
         "stats": {
          "unique_count": 5,
          "nan_count": 0,
          "categories": [
           {
            "name": "A wine for early drinking, this is soft, fruity and bright, With red berry flavor and gentle tannins, it's direct and packed with fruitiness, Drink now,",
            "count": 1
           },
           {
            "name": "Named after a local aristocrat, this wine is soft, fruity and fresh, Red berry fruits are light and crisp, Behind them, gentle tannins give a hint of structure, The wine is ready to drink,",
            "count": 1
           },
           {
            "name": "3 others",
            "count": 3
           }
          ]
         }
        },
        {
         "name": "designation",
         "dtype": "object",
         "stats": {
          "unique_count": 5,
          "nan_count": 0,
          "categories": [
           {
            "name": "Pé Tinto",
            "count": 1
           },
           {
            "name": "Visconde de Borba",
            "count": 1
           },
           {
            "name": "3 others",
            "count": 3
           }
          ]
         }
        },
        {
         "name": "points",
         "dtype": "int64",
         "stats": {
          "unique_count": 5,
          "nan_count": 0,
          "min": "84",
          "max": "94",
          "histogram": [
           {
            "bin_start": 84,
            "bin_end": 85,
            "count": 1
           },
           {
            "bin_start": 85,
            "bin_end": 86,
            "count": 1
           },
           {
            "bin_start": 86,
            "bin_end": 87,
            "count": 0
           },
           {
            "bin_start": 87,
            "bin_end": 88,
            "count": 0
           },
           {
            "bin_start": 88,
            "bin_end": 89,
            "count": 1
           },
           {
            "bin_start": 89,
            "bin_end": 90,
            "count": 0
           },
           {
            "bin_start": 90,
            "bin_end": 91,
            "count": 0
           },
           {
            "bin_start": 91,
            "bin_end": 92,
            "count": 0
           },
           {
            "bin_start": 92,
            "bin_end": 93,
            "count": 0
           },
           {
            "bin_start": 93,
            "bin_end": 94,
            "count": 2
           }
          ]
         }
        },
        {
         "name": "price",
         "dtype": "float64",
         "stats": {
          "unique_count": 4,
          "nan_count": 0,
          "min": "7.0",
          "max": "60.0",
          "histogram": [
           {
            "bin_start": 7,
            "bin_end": 12.3,
            "count": 3
           },
           {
            "bin_start": 12.3,
            "bin_end": 17.6,
            "count": 0
           },
           {
            "bin_start": 17.6,
            "bin_end": 22.9,
            "count": 0
           },
           {
            "bin_start": 22.9,
            "bin_end": 28.2,
            "count": 0
           },
           {
            "bin_start": 28.2,
            "bin_end": 33.5,
            "count": 0
           },
           {
            "bin_start": 33.5,
            "bin_end": 38.8,
            "count": 0
           },
           {
            "bin_start": 38.8,
            "bin_end": 44.1,
            "count": 1
           },
           {
            "bin_start": 44.1,
            "bin_end": 49.4,
            "count": 0
           },
           {
            "bin_start": 49.4,
            "bin_end": 54.699999999999996,
            "count": 0
           },
           {
            "bin_start": 54.699999999999996,
            "bin_end": 60,
            "count": 1
           }
          ]
         }
        },
        {
         "name": "province",
         "dtype": "object",
         "stats": {
          "unique_count": 5,
          "nan_count": 0,
          "categories": [
           {
            "name": "Portuguese Table Wine",
            "count": 1
           },
           {
            "name": "Alentejo",
            "count": 1
           },
           {
            "name": "3 others",
            "count": 3
           }
          ]
         }
        },
        {
         "name": "taster_name",
         "dtype": "object",
         "stats": {
          "unique_count": 3,
          "nan_count": 0,
          "categories": [
           {
            "name": "Roger Voss",
            "count": 3
           },
           {
            "name": "Matt Kettmann",
            "count": 1
           },
           {
            "name": "Anna Lee C. Iijima",
            "count": 1
           }
          ]
         }
        },
        {
         "name": "title",
         "dtype": "object",
         "stats": {
          "unique_count": 5,
          "nan_count": 0,
          "categories": [
           {
            "name": "Herdade do Esporão 2015 Pé Tinto Red (Portuguese Table Wine)",
            "count": 1
           },
           {
            "name": "Marcolino Sebo 2014 Visconde de Borba Red (Alentejo)",
            "count": 1
           },
           {
            "name": "3 others",
            "count": 3
           }
          ]
         }
        },
        {
         "name": "variety",
         "dtype": "object",
         "stats": {
          "unique_count": 1,
          "nan_count": 0,
          "categories": [
           {
            "name": "Portuguese Red",
            "count": 5
           }
          ]
         }
        },
        {
         "name": "winery",
         "dtype": "object",
         "stats": {
          "unique_count": 5,
          "nan_count": 0,
          "categories": [
           {
            "name": "Herdade do Esporão",
            "count": 1
           },
           {
            "name": "Marcolino Sebo",
            "count": 1
           },
           {
            "name": "3 others",
            "count": 3
           }
          ]
         }
        },
        {
         "name": "fixed_acidity",
         "dtype": "float64",
         "stats": {
          "unique_count": 4,
          "nan_count": 0,
          "min": "6.3",
          "max": "11.6",
          "histogram": [
           {
            "bin_start": 6.3,
            "bin_end": 6.83,
            "count": 2
           },
           {
            "bin_start": 6.83,
            "bin_end": 7.359999999999999,
            "count": 0
           },
           {
            "bin_start": 7.359999999999999,
            "bin_end": 7.89,
            "count": 0
           },
           {
            "bin_start": 7.89,
            "bin_end": 8.42,
            "count": 0
           },
           {
            "bin_start": 8.42,
            "bin_end": 8.95,
            "count": 0
           },
           {
            "bin_start": 8.95,
            "bin_end": 9.48,
            "count": 2
           },
           {
            "bin_start": 9.48,
            "bin_end": 10.01,
            "count": 0
           },
           {
            "bin_start": 10.01,
            "bin_end": 10.54,
            "count": 0
           },
           {
            "bin_start": 10.54,
            "bin_end": 11.07,
            "count": 0
           },
           {
            "bin_start": 11.07,
            "bin_end": 11.6,
            "count": 1
           }
          ]
         }
        },
        {
         "name": "volatile_acidity",
         "dtype": "float64",
         "stats": {
          "unique_count": 5,
          "nan_count": 0,
          "min": "0.21",
          "max": "0.64",
          "histogram": [
           {
            "bin_start": 0.21,
            "bin_end": 0.253,
            "count": 1
           },
           {
            "bin_start": 0.253,
            "bin_end": 0.296,
            "count": 0
           },
           {
            "bin_start": 0.296,
            "bin_end": 0.33899999999999997,
            "count": 0
           },
           {
            "bin_start": 0.33899999999999997,
            "bin_end": 0.382,
            "count": 1
           },
           {
            "bin_start": 0.382,
            "bin_end": 0.42500000000000004,
            "count": 0
           },
           {
            "bin_start": 0.42500000000000004,
            "bin_end": 0.46799999999999997,
            "count": 1
           },
           {
            "bin_start": 0.46799999999999997,
            "bin_end": 0.511,
            "count": 0
           },
           {
            "bin_start": 0.511,
            "bin_end": 0.554,
            "count": 0
           },
           {
            "bin_start": 0.554,
            "bin_end": 0.597,
            "count": 1
           },
           {
            "bin_start": 0.597,
            "bin_end": 0.64,
            "count": 1
           }
          ]
         }
        },
        {
         "name": "citric_acid",
         "dtype": "object",
         "stats": {
          "unique_count": 5,
          "nan_count": 0,
          "categories": [
           {
            "name": "0.28",
            "count": 1
           },
           {
            "name": "0.31",
            "count": 1
           },
           {
            "name": "3 others",
            "count": 3
           }
          ]
         }
        },
        {
         "name": "residual_sugar",
         "dtype": "float64",
         "stats": {
          "unique_count": 4,
          "nan_count": 0,
          "min": "1.6",
          "max": "6.1",
          "histogram": [
           {
            "bin_start": 1.6,
            "bin_end": 2.0500000000000003,
            "count": 2
           },
           {
            "bin_start": 2.0500000000000003,
            "bin_end": 2.5,
            "count": 2
           },
           {
            "bin_start": 2.5,
            "bin_end": 2.95,
            "count": 0
           },
           {
            "bin_start": 2.95,
            "bin_end": 3.4000000000000004,
            "count": 0
           },
           {
            "bin_start": 3.4000000000000004,
            "bin_end": 3.85,
            "count": 0
           },
           {
            "bin_start": 3.85,
            "bin_end": 4.300000000000001,
            "count": 0
           },
           {
            "bin_start": 4.300000000000001,
            "bin_end": 4.75,
            "count": 0
           },
           {
            "bin_start": 4.75,
            "bin_end": 5.2,
            "count": 0
           },
           {
            "bin_start": 5.2,
            "bin_end": 5.65,
            "count": 0
           },
           {
            "bin_start": 5.65,
            "bin_end": 6.1,
            "count": 1
           }
          ]
         }
        },
        {
         "name": "chlorides",
         "dtype": "float64",
         "stats": {
          "unique_count": 5,
          "nan_count": 0,
          "min": "0.048",
          "max": "0.083",
          "histogram": [
           {
            "bin_start": 0.048,
            "bin_end": 0.051500000000000004,
            "count": 1
           },
           {
            "bin_start": 0.051500000000000004,
            "bin_end": 0.055,
            "count": 0
           },
           {
            "bin_start": 0.055,
            "bin_end": 0.0585,
            "count": 0
           },
           {
            "bin_start": 0.0585,
            "bin_end": 0.062,
            "count": 2
           },
           {
            "bin_start": 0.062,
            "bin_end": 0.0655,
            "count": 0
           },
           {
            "bin_start": 0.0655,
            "bin_end": 0.069,
            "count": 1
           },
           {
            "bin_start": 0.069,
            "bin_end": 0.07250000000000001,
            "count": 0
           },
           {
            "bin_start": 0.07250000000000001,
            "bin_end": 0.07600000000000001,
            "count": 0
           },
           {
            "bin_start": 0.07600000000000001,
            "bin_end": 0.07950000000000002,
            "count": 0
           },
           {
            "bin_start": 0.07950000000000002,
            "bin_end": 0.083,
            "count": 1
           }
          ]
         }
        },
        {
         "name": "free_sulfur_dioxide",
         "dtype": "float64",
         "stats": {
          "unique_count": 5,
          "nan_count": 0,
          "min": "5.0",
          "max": "21.0",
          "histogram": [
           {
            "bin_start": 5,
            "bin_end": 6.6,
            "count": 2
           },
           {
            "bin_start": 6.6,
            "bin_end": 8.2,
            "count": 1
           },
           {
            "bin_start": 8.2,
            "bin_end": 9.8,
            "count": 0
           },
           {
            "bin_start": 9.8,
            "bin_end": 11.4,
            "count": 0
           },
           {
            "bin_start": 11.4,
            "bin_end": 13,
            "count": 0
           },
           {
            "bin_start": 13,
            "bin_end": 14.600000000000001,
            "count": 1
           },
           {
            "bin_start": 14.600000000000001,
            "bin_end": 16.200000000000003,
            "count": 0
           },
           {
            "bin_start": 16.200000000000003,
            "bin_end": 17.8,
            "count": 0
           },
           {
            "bin_start": 17.8,
            "bin_end": 19.4,
            "count": 0
           },
           {
            "bin_start": 19.4,
            "bin_end": 21,
            "count": 1
           }
          ]
         }
        },
        {
         "name": "total_sulfur_dioxide",
         "dtype": "float64",
         "stats": {
          "unique_count": 4,
          "nan_count": 0,
          "min": "10.0",
          "max": "55.0",
          "histogram": [
           {
            "bin_start": 10,
            "bin_end": 14.5,
            "count": 1
           },
           {
            "bin_start": 14.5,
            "bin_end": 19,
            "count": 1
           },
           {
            "bin_start": 19,
            "bin_end": 23.5,
            "count": 0
           },
           {
            "bin_start": 23.5,
            "bin_end": 28,
            "count": 0
           },
           {
            "bin_start": 28,
            "bin_end": 32.5,
            "count": 0
           },
           {
            "bin_start": 32.5,
            "bin_end": 37,
            "count": 0
           },
           {
            "bin_start": 37,
            "bin_end": 41.5,
            "count": 0
           },
           {
            "bin_start": 41.5,
            "bin_end": 46,
            "count": 0
           },
           {
            "bin_start": 46,
            "bin_end": 50.5,
            "count": 2
           },
           {
            "bin_start": 50.5,
            "bin_end": 55,
            "count": 1
           }
          ]
         }
        },
        {
         "name": "density",
         "dtype": "object",
         "stats": {
          "unique_count": 5,
          "nan_count": 0,
          "categories": [
           {
            "name": "0.99374",
            "count": 1
           },
           {
            "name": "0.99718",
            "count": 1
           },
           {
            "name": "3 others",
            "count": 3
           }
          ]
         }
        },
        {
         "name": "pH",
         "dtype": "float64",
         "stats": {
          "unique_count": 5,
          "nan_count": 0,
          "min": "3.18",
          "max": "3.41",
          "histogram": [
           {
            "bin_start": 3.18,
            "bin_end": 3.2030000000000003,
            "count": 1
           },
           {
            "bin_start": 3.2030000000000003,
            "bin_end": 3.226,
            "count": 1
           },
           {
            "bin_start": 3.226,
            "bin_end": 3.249,
            "count": 1
           },
           {
            "bin_start": 3.249,
            "bin_end": 3.2720000000000002,
            "count": 0
           },
           {
            "bin_start": 3.2720000000000002,
            "bin_end": 3.295,
            "count": 0
           },
           {
            "bin_start": 3.295,
            "bin_end": 3.318,
            "count": 0
           },
           {
            "bin_start": 3.318,
            "bin_end": 3.341,
            "count": 0
           },
           {
            "bin_start": 3.341,
            "bin_end": 3.3640000000000003,
            "count": 1
           },
           {
            "bin_start": 3.3640000000000003,
            "bin_end": 3.387,
            "count": 0
           },
           {
            "bin_start": 3.387,
            "bin_end": 3.41,
            "count": 1
           }
          ]
         }
        },
        {
         "name": "sulphates",
         "dtype": "float64",
         "stats": {
          "unique_count": 5,
          "nan_count": 0,
          "min": "0.58",
          "max": "0.82",
          "histogram": [
           {
            "bin_start": 0.58,
            "bin_end": 0.604,
            "count": 2
           },
           {
            "bin_start": 0.604,
            "bin_end": 0.628,
            "count": 0
           },
           {
            "bin_start": 0.628,
            "bin_end": 0.6519999999999999,
            "count": 0
           },
           {
            "bin_start": 0.6519999999999999,
            "bin_end": 0.6759999999999999,
            "count": 1
           },
           {
            "bin_start": 0.6759999999999999,
            "bin_end": 0.7,
            "count": 1
           },
           {
            "bin_start": 0.7,
            "bin_end": 0.724,
            "count": 0
           },
           {
            "bin_start": 0.724,
            "bin_end": 0.748,
            "count": 0
           },
           {
            "bin_start": 0.748,
            "bin_end": 0.772,
            "count": 0
           },
           {
            "bin_start": 0.772,
            "bin_end": 0.7959999999999999,
            "count": 0
           },
           {
            "bin_start": 0.7959999999999999,
            "bin_end": 0.82,
            "count": 1
           }
          ]
         }
        },
        {
         "name": "alcohol",
         "dtype": "object",
         "stats": {
          "unique_count": 5,
          "nan_count": 0,
          "categories": [
           {
            "name": "12.8",
            "count": 1
           },
           {
            "name": "10.3",
            "count": 1
           },
           {
            "name": "3 others",
            "count": 3
           }
          ]
         }
        },
        {
         "name": "_deepnote_index_column",
         "dtype": "int64"
        }
       ],
       "rows_top": [
        {
         "country": "Portugal",
         "description": "A wine for early drinking, this is soft, fruity and bright, With red berry flavor and gentle tannin…",
         "designation": "Pé Tinto",
         "points": 85,
         "price": 10,
         "province": "Portuguese Table Wine",
         "taster_name": "Roger Voss",
         "title": "Herdade do Esporão 2015 Pé Tinto Red (Portuguese Table Wine)",
         "variety": "Portuguese Red",
         "winery": "Herdade do Esporão",
         "fixed_acidity": 6.3,
         "volatile_acidity": 0.57,
         "citric_acid": "0.28",
         "residual_sugar": 2.1,
         "chlorides": 0.048,
         "free_sulfur_dioxide": 13,
         "total_sulfur_dioxide": 49,
         "density": "0.99374",
         "pH": 3.41,
         "sulphates": 0.6,
         "alcohol": "12.8",
         "_deepnote_index_column": 1176
        },
        {
         "country": "Portugal",
         "description": "Named after a local aristocrat, this wine is soft, fruity and fresh, Red berry fruits are light and…",
         "designation": "Visconde de Borba",
         "points": 84,
         "price": 7,
         "province": "Alentejo",
         "taster_name": "Roger Voss",
         "title": "Marcolino Sebo 2014 Visconde de Borba Red (Alentejo)",
         "variety": "Portuguese Red",
         "winery": "Marcolino Sebo",
         "fixed_acidity": 6.6,
         "volatile_acidity": 0.64,
         "citric_acid": "0.31",
         "residual_sugar": 6.1,
         "chlorides": 0.083,
         "free_sulfur_dioxide": 7,
         "total_sulfur_dioxide": 49,
         "density": "0.99718",
         "pH": 3.35,
         "sulphates": 0.68,
         "alcohol": "10.3",
         "_deepnote_index_column": 2373
        },
        {
         "country": "Portugal",
         "description": "This is a serious wine from Aveleda's estate in Bairrada, With its bold, tarry tannins and solid st…",
         "designation": "Quinta da Aguieira Grande Follies",
         "points": 93,
         "price": 40,
         "province": "Bairrada",
         "taster_name": "Matt Kettmann",
         "title": "Aveleda 2011 Quinta da Aguieira Grande Follies Red (Bairrada)",
         "variety": "Portuguese Red",
         "winery": "Aveleda",
         "fixed_acidity": 9.1,
         "volatile_acidity": 0.36,
         "citric_acid": "0.39",
         "residual_sugar": 1.8,
         "chlorides": 0.06,
         "free_sulfur_dioxide": 21,
         "total_sulfur_dioxide": 55,
         "density": "0.99495",
         "pH": 3.18,
         "sulphates": 0.82,
         "alcohol": "11",
         "_deepnote_index_column": 688
        },
        {
         "country": "Portugal",
         "description": "Produced by Winemaker Luis Duarte, this wine is darkly colored and boldly composed, with long wood-…",
         "designation": "Reserva",
         "points": 94,
         "price": 60,
         "province": "Alentejano",
         "taster_name": "Roger Voss",
         "title": "Herdade dos Grous 2013 Reserva Red (Alentejano)",
         "variety": "Portuguese Red",
         "winery": "Herdade dos Grous",
         "fixed_acidity": 9.1,
         "volatile_acidity": 0.21,
         "citric_acid": "0.37",
         "residual_sugar": 1.6,
         "chlorides": 0.067,
         "free_sulfur_dioxide": 6,
         "total_sulfur_dioxide": 10,
         "density": "0.99552",
         "pH": 3.23,
         "sulphates": 0.58,
         "alcohol": "11.1",
         "_deepnote_index_column": 1503
        },
        {
         "country": "Portugal",
         "description": "A blend of Castelão and Cabernet Sauvignon, this is a soft and smooth wine, Red berry fruits are ba…",
         "designation": "Capoeira Tinto",
         "points": 88,
         "price": 10,
         "province": "Tejo",
         "taster_name": "Anna Lee C. Iijima",
         "title": "Quinta do Casal Branco 2014 Capoeira Tinto Red (Tejo)",
         "variety": "Portuguese Red",
         "winery": "Quinta do Casal Branco",
         "fixed_acidity": 11.6,
         "volatile_acidity": 0.44,
         "citric_acid": "0.64",
         "residual_sugar": 2.1,
         "chlorides": 0.059,
         "free_sulfur_dioxide": 5,
         "total_sulfur_dioxide": 15,
         "density": "0.998",
         "pH": 3.21,
         "sulphates": 0.67,
         "alcohol": "10.2",
         "_deepnote_index_column": 2066
        }
       ],
       "rows_bottom": null
      },
      "text/plain": "       country                                        description  \\\nid                                                                  \n1176  Portugal  A wine for early drinking, this is soft, fruit...   \n2373  Portugal  Named after a local aristocrat, this wine is s...   \n688   Portugal  This is a serious wine from Aveleda's estate i...   \n1503  Portugal  Produced by Winemaker Luis Duarte, this wine i...   \n2066  Portugal  A blend of Castelão and Cabernet Sauvignon, th...   \n\n                            designation  points  price               province  \\\nid                                                                              \n1176                           Pé Tinto      85   10.0  Portuguese Table Wine   \n2373                  Visconde de Borba      84    7.0               Alentejo   \n688   Quinta da Aguieira Grande Follies      93   40.0               Bairrada   \n1503                            Reserva      94   60.0             Alentejano   \n2066                     Capoeira Tinto      88   10.0                   Tejo   \n\n             taster_name                                              title  \\\nid                                                                            \n1176          Roger Voss  Herdade do Esporão 2015 Pé Tinto Red (Portugue...   \n2373          Roger Voss  Marcolino Sebo 2014 Visconde de Borba Red (Ale...   \n688        Matt Kettmann  Aveleda 2011 Quinta da Aguieira Grande Follies...   \n1503          Roger Voss    Herdade dos Grous 2013 Reserva Red (Alentejano)   \n2066  Anna Lee C. Iijima  Quinta do Casal Branco 2014 Capoeira Tinto Red...   \n\n             variety                  winery  ...  volatile_acidity  \\\nid                                            ...                     \n1176  Portuguese Red      Herdade do Esporão  ...              0.57   \n2373  Portuguese Red          Marcolino Sebo  ...              0.64   \n688   Portuguese Red                 Aveleda  ...              0.36   \n1503  Portuguese Red       Herdade dos Grous  ...              0.21   \n2066  Portuguese Red  Quinta do Casal Branco  ...              0.44   \n\n      citric_acid residual_sugar  chlorides  free_sulfur_dioxide  \\\nid                                                                 \n1176         0.28            2.1      0.048                 13.0   \n2373         0.31            6.1      0.083                  7.0   \n688          0.39            1.8      0.060                 21.0   \n1503         0.37            1.6      0.067                  6.0   \n2066         0.64            2.1      0.059                  5.0   \n\n      total_sulfur_dioxide  density    pH  sulphates  alcohol  \nid                                                             \n1176                  49.0  0.99374  3.41       0.60     12.8  \n2373                  49.0  0.99718  3.35       0.68     10.3  \n688                   55.0  0.99495  3.18       0.82       11  \n1503                  10.0  0.99552  3.23       0.58     11.1  \n2066                  15.0    0.998  3.21       0.67     10.2  \n\n[5 rows x 21 columns]",
      "text/html": "<div>\n<style scoped>\n    .dataframe tbody tr th:only-of-type {\n        vertical-align: middle;\n    }\n\n    .dataframe tbody tr th {\n        vertical-align: top;\n    }\n\n    .dataframe thead th {\n        text-align: right;\n    }\n</style>\n<table border=\"1\" class=\"dataframe\">\n  <thead>\n    <tr style=\"text-align: right;\">\n      <th></th>\n      <th>country</th>\n      <th>description</th>\n      <th>designation</th>\n      <th>points</th>\n      <th>price</th>\n      <th>province</th>\n      <th>taster_name</th>\n      <th>title</th>\n      <th>variety</th>\n      <th>winery</th>\n      <th>...</th>\n      <th>volatile_acidity</th>\n      <th>citric_acid</th>\n      <th>residual_sugar</th>\n      <th>chlorides</th>\n      <th>free_sulfur_dioxide</th>\n      <th>total_sulfur_dioxide</th>\n      <th>density</th>\n      <th>pH</th>\n      <th>sulphates</th>\n      <th>alcohol</th>\n    </tr>\n    <tr>\n      <th>id</th>\n      <th></th>\n      <th></th>\n      <th></th>\n      <th></th>\n      <th></th>\n      <th></th>\n      <th></th>\n      <th></th>\n      <th></th>\n      <th></th>\n      <th></th>\n      <th></th>\n      <th></th>\n      <th></th>\n      <th></th>\n      <th></th>\n      <th></th>\n      <th></th>\n      <th></th>\n      <th></th>\n      <th></th>\n    </tr>\n  </thead>\n  <tbody>\n    <tr>\n      <th>1176</th>\n      <td>Portugal</td>\n      <td>A wine for early drinking, this is soft, fruit...</td>\n      <td>Pé Tinto</td>\n      <td>85</td>\n      <td>10.0</td>\n      <td>Portuguese Table Wine</td>\n      <td>Roger Voss</td>\n      <td>Herdade do Esporão 2015 Pé Tinto Red (Portugue...</td>\n      <td>Portuguese Red</td>\n      <td>Herdade do Esporão</td>\n      <td>...</td>\n      <td>0.57</td>\n      <td>0.28</td>\n      <td>2.1</td>\n      <td>0.048</td>\n      <td>13.0</td>\n      <td>49.0</td>\n      <td>0.99374</td>\n      <td>3.41</td>\n      <td>0.60</td>\n      <td>12.8</td>\n    </tr>\n    <tr>\n      <th>2373</th>\n      <td>Portugal</td>\n      <td>Named after a local aristocrat, this wine is s...</td>\n      <td>Visconde de Borba</td>\n      <td>84</td>\n      <td>7.0</td>\n      <td>Alentejo</td>\n      <td>Roger Voss</td>\n      <td>Marcolino Sebo 2014 Visconde de Borba Red (Ale...</td>\n      <td>Portuguese Red</td>\n      <td>Marcolino Sebo</td>\n      <td>...</td>\n      <td>0.64</td>\n      <td>0.31</td>\n      <td>6.1</td>\n      <td>0.083</td>\n      <td>7.0</td>\n      <td>49.0</td>\n      <td>0.99718</td>\n      <td>3.35</td>\n      <td>0.68</td>\n      <td>10.3</td>\n    </tr>\n    <tr>\n      <th>688</th>\n      <td>Portugal</td>\n      <td>This is a serious wine from Aveleda's estate i...</td>\n      <td>Quinta da Aguieira Grande Follies</td>\n      <td>93</td>\n      <td>40.0</td>\n      <td>Bairrada</td>\n      <td>Matt Kettmann</td>\n      <td>Aveleda 2011 Quinta da Aguieira Grande Follies...</td>\n      <td>Portuguese Red</td>\n      <td>Aveleda</td>\n      <td>...</td>\n      <td>0.36</td>\n      <td>0.39</td>\n      <td>1.8</td>\n      <td>0.060</td>\n      <td>21.0</td>\n      <td>55.0</td>\n      <td>0.99495</td>\n      <td>3.18</td>\n      <td>0.82</td>\n      <td>11</td>\n    </tr>\n    <tr>\n      <th>1503</th>\n      <td>Portugal</td>\n      <td>Produced by Winemaker Luis Duarte, this wine i...</td>\n      <td>Reserva</td>\n      <td>94</td>\n      <td>60.0</td>\n      <td>Alentejano</td>\n      <td>Roger Voss</td>\n      <td>Herdade dos Grous 2013 Reserva Red (Alentejano)</td>\n      <td>Portuguese Red</td>\n      <td>Herdade dos Grous</td>\n      <td>...</td>\n      <td>0.21</td>\n      <td>0.37</td>\n      <td>1.6</td>\n      <td>0.067</td>\n      <td>6.0</td>\n      <td>10.0</td>\n      <td>0.99552</td>\n      <td>3.23</td>\n      <td>0.58</td>\n      <td>11.1</td>\n    </tr>\n    <tr>\n      <th>2066</th>\n      <td>Portugal</td>\n      <td>A blend of Castelão and Cabernet Sauvignon, th...</td>\n      <td>Capoeira Tinto</td>\n      <td>88</td>\n      <td>10.0</td>\n      <td>Tejo</td>\n      <td>Anna Lee C. Iijima</td>\n      <td>Quinta do Casal Branco 2014 Capoeira Tinto Red...</td>\n      <td>Portuguese Red</td>\n      <td>Quinta do Casal Branco</td>\n      <td>...</td>\n      <td>0.44</td>\n      <td>0.64</td>\n      <td>2.1</td>\n      <td>0.059</td>\n      <td>5.0</td>\n      <td>15.0</td>\n      <td>0.998</td>\n      <td>3.21</td>\n      <td>0.67</td>\n      <td>10.2</td>\n    </tr>\n  </tbody>\n</table>\n<p>5 rows × 21 columns</p>\n</div>"
     },
     "metadata": {}
    }
   ]
  },
  {
   "cell_type": "code",
   "metadata": {
    "tags": [],
    "cell_id": "00007-4da6344e-9ce9-4fab-9f53-bb53f151a2db",
    "deepnote_to_be_reexecuted": false,
    "source_hash": "18cb99eb",
    "execution_start": 1633692053787,
    "execution_millis": 383,
    "deepnote_cell_type": "code"
   },
   "source": "# Read the csv file with geodata into a Pandas Dataframe\ngeo = pd.read_csv('pt_infosolo.csv',sep=',',encoding ='ISO-8859-1')\n\n# Sample 3 random rows of the geo-dataframe\ngeo.sample(3)\n\n#For us the coördination columns and the \"soil\" column are the most interesting ones.",
   "execution_count": null,
   "outputs": [
    {
     "output_type": "execute_result",
     "execution_count": 3,
     "data": {
      "application/vnd.deepnote.dataframe.v2+json": {
       "row_count": 3,
       "column_count": 52,
       "columns": [
        {
         "name": "X",
         "dtype": "float64",
         "stats": {
          "unique_count": 3,
          "nan_count": 0,
          "min": "-8.60752",
          "max": "-8.041139",
          "histogram": [
           {
            "bin_start": -8.60752,
            "bin_end": -8.550881899999998,
            "count": 1
           },
           {
            "bin_start": -8.550881899999998,
            "bin_end": -8.4942438,
            "count": 0
           },
           {
            "bin_start": -8.4942438,
            "bin_end": -8.437605699999999,
            "count": 0
           },
           {
            "bin_start": -8.437605699999999,
            "bin_end": -8.3809676,
            "count": 0
           },
           {
            "bin_start": -8.3809676,
            "bin_end": -8.3243295,
            "count": 0
           },
           {
            "bin_start": -8.3243295,
            "bin_end": -8.267691399999999,
            "count": 0
           },
           {
            "bin_start": -8.267691399999999,
            "bin_end": -8.2110533,
            "count": 1
           },
           {
            "bin_start": -8.2110533,
            "bin_end": -8.154415199999999,
            "count": 0
           },
           {
            "bin_start": -8.154415199999999,
            "bin_end": -8.0977771,
            "count": 0
           },
           {
            "bin_start": -8.0977771,
            "bin_end": -8.041139,
            "count": 1
           }
          ]
         }
        },
        {
         "name": "Y",
         "dtype": "float64",
         "stats": {
          "unique_count": 3,
          "nan_count": 0,
          "min": "38.33306",
          "max": "41.28422",
          "histogram": [
           {
            "bin_start": 38.33306,
            "bin_end": 38.628176,
            "count": 1
           },
           {
            "bin_start": 38.628176,
            "bin_end": 38.923292000000004,
            "count": 0
           },
           {
            "bin_start": 38.923292000000004,
            "bin_end": 39.218408000000004,
            "count": 0
           },
           {
            "bin_start": 39.218408000000004,
            "bin_end": 39.513524000000004,
            "count": 0
           },
           {
            "bin_start": 39.513524000000004,
            "bin_end": 39.80864,
            "count": 0
           },
           {
            "bin_start": 39.80864,
            "bin_end": 40.103756,
            "count": 0
           },
           {
            "bin_start": 40.103756,
            "bin_end": 40.398872,
            "count": 0
           },
           {
            "bin_start": 40.398872,
            "bin_end": 40.693988,
            "count": 0
           },
           {
            "bin_start": 40.693988,
            "bin_end": 40.989104,
            "count": 0
           },
           {
            "bin_start": 40.989104,
            "bin_end": 41.28422,
            "count": 2
           }
          ]
         }
        },
        {
         "name": "pt_infosolo_site_id",
         "dtype": "int64",
         "stats": {
          "unique_count": 3,
          "nan_count": 0,
          "min": "404",
          "max": "2714",
          "histogram": [
           {
            "bin_start": 404,
            "bin_end": 635,
            "count": 2
           },
           {
            "bin_start": 635,
            "bin_end": 866,
            "count": 0
           },
           {
            "bin_start": 866,
            "bin_end": 1097,
            "count": 0
           },
           {
            "bin_start": 1097,
            "bin_end": 1328,
            "count": 0
           },
           {
            "bin_start": 1328,
            "bin_end": 1559,
            "count": 0
           },
           {
            "bin_start": 1559,
            "bin_end": 1790,
            "count": 0
           },
           {
            "bin_start": 1790,
            "bin_end": 2021,
            "count": 0
           },
           {
            "bin_start": 2021,
            "bin_end": 2252,
            "count": 0
           },
           {
            "bin_start": 2252,
            "bin_end": 2483,
            "count": 0
           },
           {
            "bin_start": 2483,
            "bin_end": 2714,
            "count": 1
           }
          ]
         }
        },
        {
         "name": "pt_infosolo_horizon_id",
         "dtype": "int64",
         "stats": {
          "unique_count": 3,
          "nan_count": 0,
          "min": "1391",
          "max": "8467",
          "histogram": [
           {
            "bin_start": 1391,
            "bin_end": 2098.6,
            "count": 1
           },
           {
            "bin_start": 2098.6,
            "bin_end": 2806.2,
            "count": 1
           },
           {
            "bin_start": 2806.2,
            "bin_end": 3513.8,
            "count": 0
           },
           {
            "bin_start": 3513.8,
            "bin_end": 4221.4,
            "count": 0
           },
           {
            "bin_start": 4221.4,
            "bin_end": 4929,
            "count": 0
           },
           {
            "bin_start": 4929,
            "bin_end": 5636.6,
            "count": 0
           },
           {
            "bin_start": 5636.6,
            "bin_end": 6344.2,
            "count": 0
           },
           {
            "bin_start": 6344.2,
            "bin_end": 7051.8,
            "count": 0
           },
           {
            "bin_start": 7051.8,
            "bin_end": 7759.400000000001,
            "count": 0
           },
           {
            "bin_start": 7759.400000000001,
            "bin_end": 8467,
            "count": 1
           }
          ]
         }
        },
        {
         "name": "profile_code",
         "dtype": "object",
         "stats": {
          "unique_count": 3,
          "nan_count": 0,
          "categories": [
           {
            "name": "422H",
            "count": 1
           },
           {
            "name": "96G",
            "count": 1
           },
           {
            "name": "P5N",
            "count": 1
           }
          ]
         }
        },
        {
         "name": "longitude",
         "dtype": "float64",
         "stats": {
          "unique_count": 3,
          "nan_count": 0,
          "min": "-8.60752",
          "max": "-8.041139",
          "histogram": [
           {
            "bin_start": -8.60752,
            "bin_end": -8.550881899999998,
            "count": 1
           },
           {
            "bin_start": -8.550881899999998,
            "bin_end": -8.4942438,
            "count": 0
           },
           {
            "bin_start": -8.4942438,
            "bin_end": -8.437605699999999,
            "count": 0
           },
           {
            "bin_start": -8.437605699999999,
            "bin_end": -8.3809676,
            "count": 0
           },
           {
            "bin_start": -8.3809676,
            "bin_end": -8.3243295,
            "count": 0
           },
           {
            "bin_start": -8.3243295,
            "bin_end": -8.267691399999999,
            "count": 0
           },
           {
            "bin_start": -8.267691399999999,
            "bin_end": -8.2110533,
            "count": 1
           },
           {
            "bin_start": -8.2110533,
            "bin_end": -8.154415199999999,
            "count": 0
           },
           {
            "bin_start": -8.154415199999999,
            "bin_end": -8.0977771,
            "count": 0
           },
           {
            "bin_start": -8.0977771,
            "bin_end": -8.041139,
            "count": 1
           }
          ]
         }
        },
        {
         "name": "latitude",
         "dtype": "float64",
         "stats": {
          "unique_count": 3,
          "nan_count": 0,
          "min": "38.33306",
          "max": "41.28422",
          "histogram": [
           {
            "bin_start": 38.33306,
            "bin_end": 38.628176,
            "count": 1
           },
           {
            "bin_start": 38.628176,
            "bin_end": 38.923292000000004,
            "count": 0
           },
           {
            "bin_start": 38.923292000000004,
            "bin_end": 39.218408000000004,
            "count": 0
           },
           {
            "bin_start": 39.218408000000004,
            "bin_end": 39.513524000000004,
            "count": 0
           },
           {
            "bin_start": 39.513524000000004,
            "bin_end": 39.80864,
            "count": 0
           },
           {
            "bin_start": 39.80864,
            "bin_end": 40.103756,
            "count": 0
           },
           {
            "bin_start": 40.103756,
            "bin_end": 40.398872,
            "count": 0
           },
           {
            "bin_start": 40.398872,
            "bin_end": 40.693988,
            "count": 0
           },
           {
            "bin_start": 40.693988,
            "bin_end": 40.989104,
            "count": 0
           },
           {
            "bin_start": 40.989104,
            "bin_end": 41.28422,
            "count": 2
           }
          ]
         }
        },
        {
         "name": "altitude",
         "dtype": "int64",
         "stats": {
          "unique_count": 3,
          "nan_count": 0,
          "min": "100",
          "max": "202",
          "histogram": [
           {
            "bin_start": 100,
            "bin_end": 110.2,
            "count": 1
           },
           {
            "bin_start": 110.2,
            "bin_end": 120.4,
            "count": 1
           },
           {
            "bin_start": 120.4,
            "bin_end": 130.6,
            "count": 0
           },
           {
            "bin_start": 130.6,
            "bin_end": 140.8,
            "count": 0
           },
           {
            "bin_start": 140.8,
            "bin_end": 151,
            "count": 0
           },
           {
            "bin_start": 151,
            "bin_end": 161.2,
            "count": 0
           },
           {
            "bin_start": 161.2,
            "bin_end": 171.39999999999998,
            "count": 0
           },
           {
            "bin_start": 171.39999999999998,
            "bin_end": 181.6,
            "count": 0
           },
           {
            "bin_start": 181.6,
            "bin_end": 191.8,
            "count": 0
           },
           {
            "bin_start": 191.8,
            "bin_end": 202,
            "count": 1
           }
          ]
         }
        },
        {
         "name": "coordinates",
         "dtype": "object",
         "stats": {
          "unique_count": 2,
          "nan_count": 0,
          "categories": [
           {
            "name": "Estimated",
            "count": 2
           },
           {
            "name": "Available",
            "count": 1
           }
          ]
         }
        },
        {
         "name": "year",
         "dtype": "int64",
         "stats": {
          "unique_count": 3,
          "nan_count": 0,
          "min": "1994",
          "max": "2001",
          "histogram": [
           {
            "bin_start": 1994,
            "bin_end": 1994.7,
            "count": 1
           },
           {
            "bin_start": 1994.7,
            "bin_end": 1995.4,
            "count": 0
           },
           {
            "bin_start": 1995.4,
            "bin_end": 1996.1,
            "count": 1
           },
           {
            "bin_start": 1996.1,
            "bin_end": 1996.8,
            "count": 0
           },
           {
            "bin_start": 1996.8,
            "bin_end": 1997.5,
            "count": 0
           },
           {
            "bin_start": 1997.5,
            "bin_end": 1998.2,
            "count": 0
           },
           {
            "bin_start": 1998.2,
            "bin_end": 1998.9,
            "count": 0
           },
           {
            "bin_start": 1998.9,
            "bin_end": 1999.6,
            "count": 0
           },
           {
            "bin_start": 1999.6,
            "bin_end": 2000.3,
            "count": 0
           },
           {
            "bin_start": 2000.3,
            "bin_end": 2001,
            "count": 1
           }
          ]
         }
        },
        {
         "name": "soil",
         "dtype": "object",
         "stats": {
          "unique_count": 3,
          "nan_count": 0,
          "categories": [
           {
            "name": "Regosols",
            "count": 1
           },
           {
            "name": "Anthrosols",
            "count": 1
           },
           {
            "name": "Luvisols",
            "count": 1
           }
          ]
         }
        },
        {
         "name": "qualifier1",
         "dtype": "object",
         "stats": {
          "unique_count": 3,
          "nan_count": 0,
          "categories": [
           {
            "name": "Humic",
            "count": 1
           },
           {
            "name": "Plaggic",
            "count": 1
           },
           {
            "name": "Haplic",
            "count": 1
           }
          ]
         }
        },
        {
         "name": "qualifier2",
         "dtype": "object",
         "stats": {
          "unique_count": 2,
          "nan_count": 1,
          "categories": [
           {
            "name": "Dystric",
            "count": 1
           },
           {
            "name": "Hyperdystric",
            "count": 1
           },
           {
            "name": "Missing",
            "count": 1
           }
          ]
         }
        },
        {
         "name": "qualifier3",
         "dtype": "object",
         "stats": {
          "unique_count": 1,
          "nan_count": 2,
          "categories": [
           {
            "name": "Escalic",
            "count": 1
           },
           {
            "name": "Missing",
            "count": 2
           }
          ]
         }
        },
        {
         "name": "wrb_m",
         "dtype": "object",
         "stats": {
          "unique_count": 1,
          "nan_count": 0,
          "categories": [
           {
            "name": "WRB 2006",
            "count": 3
           }
          ]
         }
        },
        {
         "name": "parent_material",
         "dtype": "object",
         "stats": {
          "unique_count": 1,
          "nan_count": 0,
          "categories": [
           {
            "name": "Igneous rocks",
            "count": 3
           }
          ]
         }
        },
        {
         "name": "land_use",
         "dtype": "object",
         "stats": {
          "unique_count": 3,
          "nan_count": 0,
          "categories": [
           {
            "name": "Horticulture",
            "count": 1
           },
           {
            "name": "Irrigated arable crop",
            "count": 1
           },
           {
            "name": "Rainfed arable crop",
            "count": 1
           }
          ]
         }
        },
        {
         "name": "hor_top",
         "dtype": "float64",
         "stats": {
          "unique_count": 3,
          "nan_count": 0,
          "min": "0.0",
          "max": "34.0",
          "histogram": [
           {
            "bin_start": 0,
            "bin_end": 3.4,
            "count": 1
           },
           {
            "bin_start": 3.4,
            "bin_end": 6.8,
            "count": 0
           },
           {
            "bin_start": 6.8,
            "bin_end": 10.2,
            "count": 0
           },
           {
            "bin_start": 10.2,
            "bin_end": 13.6,
            "count": 0
           },
           {
            "bin_start": 13.6,
            "bin_end": 17,
            "count": 0
           },
           {
            "bin_start": 17,
            "bin_end": 20.4,
            "count": 0
           },
           {
            "bin_start": 20.4,
            "bin_end": 23.8,
            "count": 0
           },
           {
            "bin_start": 23.8,
            "bin_end": 27.2,
            "count": 0
           },
           {
            "bin_start": 27.2,
            "bin_end": 30.599999999999998,
            "count": 1
           },
           {
            "bin_start": 30.599999999999998,
            "bin_end": 34,
            "count": 1
           }
          ]
         }
        },
        {
         "name": "hor_bot",
         "dtype": "float64",
         "stats": {
          "unique_count": 3,
          "nan_count": 0,
          "min": "30.0",
          "max": "65.0",
          "histogram": [
           {
            "bin_start": 30,
            "bin_end": 33.5,
            "count": 1
           },
           {
            "bin_start": 33.5,
            "bin_end": 37,
            "count": 0
           },
           {
            "bin_start": 37,
            "bin_end": 40.5,
            "count": 0
           },
           {
            "bin_start": 40.5,
            "bin_end": 44,
            "count": 0
           },
           {
            "bin_start": 44,
            "bin_end": 47.5,
            "count": 0
           },
           {
            "bin_start": 47.5,
            "bin_end": 51,
            "count": 1
           },
           {
            "bin_start": 51,
            "bin_end": 54.5,
            "count": 0
           },
           {
            "bin_start": 54.5,
            "bin_end": 58,
            "count": 0
           },
           {
            "bin_start": 58,
            "bin_end": 61.5,
            "count": 0
           },
           {
            "bin_start": 61.5,
            "bin_end": 65,
            "count": 1
           }
          ]
         }
        },
        {
         "name": "hor_name",
         "dtype": "object",
         "stats": {
          "unique_count": 3,
          "nan_count": 0,
          "categories": [
           {
            "name": "CB",
            "count": 1
           },
           {
            "name": "Ap1",
            "count": 1
           },
           {
            "name": "Bt",
            "count": 1
           }
          ]
         }
        },
        {
         "name": "coarse",
         "dtype": "float64",
         "stats": {
          "unique_count": 3,
          "nan_count": 0,
          "min": "0.2",
          "max": "33.7",
          "histogram": [
           {
            "bin_start": 0.2,
            "bin_end": 3.5500000000000003,
            "count": 1
           },
           {
            "bin_start": 3.5500000000000003,
            "bin_end": 6.9,
            "count": 0
           },
           {
            "bin_start": 6.9,
            "bin_end": 10.25,
            "count": 0
           },
           {
            "bin_start": 10.25,
            "bin_end": 13.6,
            "count": 0
           },
           {
            "bin_start": 13.6,
            "bin_end": 16.95,
            "count": 0
           },
           {
            "bin_start": 16.95,
            "bin_end": 20.3,
            "count": 0
           },
           {
            "bin_start": 20.3,
            "bin_end": 23.65,
            "count": 1
           },
           {
            "bin_start": 23.65,
            "bin_end": 27,
            "count": 0
           },
           {
            "bin_start": 27,
            "bin_end": 30.35,
            "count": 0
           },
           {
            "bin_start": 30.35,
            "bin_end": 33.7,
            "count": 1
           }
          ]
         }
        },
        {
         "name": "cs",
         "dtype": "float64",
         "stats": {
          "unique_count": 3,
          "nan_count": 0,
          "min": "22.2",
          "max": "46.4",
          "histogram": [
           {
            "bin_start": 22.2,
            "bin_end": 24.619999999999997,
            "count": 1
           },
           {
            "bin_start": 24.619999999999997,
            "bin_end": 27.04,
            "count": 0
           },
           {
            "bin_start": 27.04,
            "bin_end": 29.46,
            "count": 0
           },
           {
            "bin_start": 29.46,
            "bin_end": 31.88,
            "count": 0
           },
           {
            "bin_start": 31.88,
            "bin_end": 34.3,
            "count": 0
           },
           {
            "bin_start": 34.3,
            "bin_end": 36.72,
            "count": 0
           },
           {
            "bin_start": 36.72,
            "bin_end": 39.14,
            "count": 0
           },
           {
            "bin_start": 39.14,
            "bin_end": 41.56,
            "count": 0
           },
           {
            "bin_start": 41.56,
            "bin_end": 43.980000000000004,
            "count": 0
           },
           {
            "bin_start": 43.980000000000004,
            "bin_end": 46.4,
            "count": 2
           }
          ]
         }
        },
        {
         "name": "fs",
         "dtype": "float64",
         "stats": {
          "unique_count": 3,
          "nan_count": 0,
          "min": "30.2",
          "max": "34.4",
          "histogram": [
           {
            "bin_start": 30.2,
            "bin_end": 30.619999999999997,
            "count": 2
           },
           {
            "bin_start": 30.619999999999997,
            "bin_end": 31.04,
            "count": 0
           },
           {
            "bin_start": 31.04,
            "bin_end": 31.46,
            "count": 0
           },
           {
            "bin_start": 31.46,
            "bin_end": 31.88,
            "count": 0
           },
           {
            "bin_start": 31.88,
            "bin_end": 32.3,
            "count": 0
           },
           {
            "bin_start": 32.3,
            "bin_end": 32.72,
            "count": 0
           },
           {
            "bin_start": 32.72,
            "bin_end": 33.14,
            "count": 0
           },
           {
            "bin_start": 33.14,
            "bin_end": 33.56,
            "count": 0
           },
           {
            "bin_start": 33.56,
            "bin_end": 33.98,
            "count": 0
           },
           {
            "bin_start": 33.98,
            "bin_end": 34.4,
            "count": 1
           }
          ]
         }
        },
        {
         "name": "si",
         "dtype": "float64",
         "stats": {
          "unique_count": 3,
          "nan_count": 0,
          "min": "11.6",
          "max": "14.6",
          "histogram": [
           {
            "bin_start": 11.6,
            "bin_end": 11.9,
            "count": 1
           },
           {
            "bin_start": 11.9,
            "bin_end": 12.2,
            "count": 0
           },
           {
            "bin_start": 12.2,
            "bin_end": 12.5,
            "count": 0
           },
           {
            "bin_start": 12.5,
            "bin_end": 12.799999999999999,
            "count": 0
           },
           {
            "bin_start": 12.799999999999999,
            "bin_end": 13.1,
            "count": 0
           },
           {
            "bin_start": 13.1,
            "bin_end": 13.399999999999999,
            "count": 0
           },
           {
            "bin_start": 13.399999999999999,
            "bin_end": 13.7,
            "count": 0
           },
           {
            "bin_start": 13.7,
            "bin_end": 14,
            "count": 0
           },
           {
            "bin_start": 14,
            "bin_end": 14.299999999999999,
            "count": 0
           },
           {
            "bin_start": 14.299999999999999,
            "bin_end": 14.6,
            "count": 2
           }
          ]
         }
        },
        {
         "name": "c",
         "dtype": "float64",
         "stats": {
          "unique_count": 3,
          "nan_count": 0,
          "min": "8.6",
          "max": "31.8",
          "histogram": [
           {
            "bin_start": 8.6,
            "bin_end": 10.92,
            "count": 1
           },
           {
            "bin_start": 10.92,
            "bin_end": 13.24,
            "count": 1
           },
           {
            "bin_start": 13.24,
            "bin_end": 15.56,
            "count": 0
           },
           {
            "bin_start": 15.56,
            "bin_end": 17.880000000000003,
            "count": 0
           },
           {
            "bin_start": 17.880000000000003,
            "bin_end": 20.200000000000003,
            "count": 0
           },
           {
            "bin_start": 20.200000000000003,
            "bin_end": 22.520000000000003,
            "count": 0
           },
           {
            "bin_start": 22.520000000000003,
            "bin_end": 24.840000000000003,
            "count": 0
           },
           {
            "bin_start": 24.840000000000003,
            "bin_end": 27.160000000000004,
            "count": 0
           },
           {
            "bin_start": 27.160000000000004,
            "bin_end": 29.480000000000004,
            "count": 0
           },
           {
            "bin_start": 29.480000000000004,
            "bin_end": 31.8,
            "count": 1
           }
          ]
         }
        },
        {
         "name": "texture_m",
         "dtype": "object",
         "stats": {
          "unique_count": 1,
          "nan_count": 0,
          "categories": [
           {
            "name": "Pipette method for particles having diameters <20 mm (clay and silt fractions), and by sieving for particles between 200 and 2000 mm (coarse sand) and between 20 and 200 mm (fine sand).",
            "count": 3
           }
          ]
         }
        },
        {
         "name": "bd",
         "dtype": "float64",
         "stats": {
          "unique_count": 1,
          "nan_count": 2,
          "min": "1.68",
          "max": "1.68",
          "histogram": [
           {
            "bin_start": 1.18,
            "bin_end": 1.2799999999999998,
            "count": 0
           },
           {
            "bin_start": 1.2799999999999998,
            "bin_end": 1.38,
            "count": 0
           },
           {
            "bin_start": 1.38,
            "bin_end": 1.48,
            "count": 0
           },
           {
            "bin_start": 1.48,
            "bin_end": 1.5799999999999998,
            "count": 0
           },
           {
            "bin_start": 1.5799999999999998,
            "bin_end": 1.6799999999999997,
            "count": 0
           },
           {
            "bin_start": 1.6799999999999997,
            "bin_end": 1.7799999999999998,
            "count": 1
           },
           {
            "bin_start": 1.7799999999999998,
            "bin_end": 1.88,
            "count": 0
           },
           {
            "bin_start": 1.88,
            "bin_end": 1.9799999999999998,
            "count": 0
           },
           {
            "bin_start": 1.9799999999999998,
            "bin_end": 2.0799999999999996,
            "count": 0
           },
           {
            "bin_start": 2.0799999999999996,
            "bin_end": 2.1799999999999997,
            "count": 0
           }
          ]
         }
        },
        {
         "name": "bd_m",
         "dtype": "object",
         "stats": {
          "unique_count": 2,
          "nan_count": 0,
          "categories": [
           {
            "name": "Not determined",
            "count": 2
           },
           {
            "name": "Owen dry undisturbed volumetric soil samples (150 cm3) at 105ÂºC",
            "count": 1
           }
          ]
         }
        },
        {
         "name": "oc",
         "dtype": "float64",
         "stats": {
          "unique_count": 3,
          "nan_count": 0,
          "min": "0.39",
          "max": "2.11",
          "histogram": [
           {
            "bin_start": 0.39,
            "bin_end": 0.562,
            "count": 1
           },
           {
            "bin_start": 0.562,
            "bin_end": 0.734,
            "count": 0
           },
           {
            "bin_start": 0.734,
            "bin_end": 0.906,
            "count": 0
           },
           {
            "bin_start": 0.906,
            "bin_end": 1.0779999999999998,
            "count": 1
           },
           {
            "bin_start": 1.0779999999999998,
            "bin_end": 1.25,
            "count": 0
           },
           {
            "bin_start": 1.25,
            "bin_end": 1.4220000000000002,
            "count": 0
           },
           {
            "bin_start": 1.4220000000000002,
            "bin_end": 1.5939999999999999,
            "count": 0
           },
           {
            "bin_start": 1.5939999999999999,
            "bin_end": 1.766,
            "count": 0
           },
           {
            "bin_start": 1.766,
            "bin_end": 1.9379999999999997,
            "count": 0
           },
           {
            "bin_start": 1.9379999999999997,
            "bin_end": 2.11,
            "count": 1
           }
          ]
         }
        },
        {
         "name": "oc_m",
         "dtype": "object",
         "stats": {
          "unique_count": 2,
          "nan_count": 0,
          "categories": [
           {
            "name": "Walkley-Black",
            "count": 2
           },
           {
            "name": "Springer & Klee. Wet combustion",
            "count": 1
           }
          ]
         }
        },
        {
         "name": "n",
         "dtype": "float64",
         "stats": {
          "unique_count": 3,
          "nan_count": 0,
          "min": "0.38",
          "max": "1.8",
          "histogram": [
           {
            "bin_start": 0.38,
            "bin_end": 0.522,
            "count": 1
           },
           {
            "bin_start": 0.522,
            "bin_end": 0.6639999999999999,
            "count": 0
           },
           {
            "bin_start": 0.6639999999999999,
            "bin_end": 0.8059999999999999,
            "count": 0
           },
           {
            "bin_start": 0.8059999999999999,
            "bin_end": 0.948,
            "count": 0
           },
           {
            "bin_start": 0.948,
            "bin_end": 1.0899999999999999,
            "count": 1
           },
           {
            "bin_start": 1.0899999999999999,
            "bin_end": 1.2319999999999998,
            "count": 0
           },
           {
            "bin_start": 1.2319999999999998,
            "bin_end": 1.3739999999999999,
            "count": 0
           },
           {
            "bin_start": 1.3739999999999999,
            "bin_end": 1.516,
            "count": 0
           },
           {
            "bin_start": 1.516,
            "bin_end": 1.658,
            "count": 0
           },
           {
            "bin_start": 1.658,
            "bin_end": 1.8,
            "count": 1
           }
          ]
         }
        },
        {
         "name": "n_m",
         "dtype": "object",
         "stats": {
          "unique_count": 1,
          "nan_count": 0,
          "categories": [
           {
            "name": "Kjeldahl",
            "count": 3
           }
          ]
         }
        },
        {
         "name": "p",
         "dtype": "float64",
         "stats": {
          "unique_count": 3,
          "nan_count": 0,
          "min": "0.8",
          "max": "139.6",
          "histogram": [
           {
            "bin_start": 0.8,
            "bin_end": 14.68,
            "count": 1
           },
           {
            "bin_start": 14.68,
            "bin_end": 28.56,
            "count": 0
           },
           {
            "bin_start": 28.56,
            "bin_end": 42.44,
            "count": 0
           },
           {
            "bin_start": 42.44,
            "bin_end": 56.31999999999999,
            "count": 0
           },
           {
            "bin_start": 56.31999999999999,
            "bin_end": 70.19999999999999,
            "count": 1
           },
           {
            "bin_start": 70.19999999999999,
            "bin_end": 84.08,
            "count": 0
           },
           {
            "bin_start": 84.08,
            "bin_end": 97.96,
            "count": 0
           },
           {
            "bin_start": 97.96,
            "bin_end": 111.83999999999999,
            "count": 0
           },
           {
            "bin_start": 111.83999999999999,
            "bin_end": 125.71999999999998,
            "count": 0
           },
           {
            "bin_start": 125.71999999999998,
            "bin_end": 139.6,
            "count": 1
           }
          ]
         }
        },
        {
         "name": "p_m",
         "dtype": "object",
         "stats": {
          "unique_count": 2,
          "nan_count": 0,
          "categories": [
           {
            "name": "Egner-Riehm",
            "count": 2
           },
           {
            "name": "Not discriminated (Egner-Riehm, Olsen, Bray II, Mehlich 3 or Self-Davies et al., 2000)",
            "count": 1
           }
          ]
         }
        },
        {
         "name": "k",
         "dtype": "float64",
         "stats": {
          "unique_count": 3,
          "nan_count": 0,
          "min": "60.6",
          "max": "124.5",
          "histogram": [
           {
            "bin_start": 60.6,
            "bin_end": 66.99,
            "count": 1
           },
           {
            "bin_start": 66.99,
            "bin_end": 73.38,
            "count": 1
           },
           {
            "bin_start": 73.38,
            "bin_end": 79.77,
            "count": 0
           },
           {
            "bin_start": 79.77,
            "bin_end": 86.16,
            "count": 0
           },
           {
            "bin_start": 86.16,
            "bin_end": 92.55,
            "count": 0
           },
           {
            "bin_start": 92.55,
            "bin_end": 98.94,
            "count": 0
           },
           {
            "bin_start": 98.94,
            "bin_end": 105.33,
            "count": 0
           },
           {
            "bin_start": 105.33,
            "bin_end": 111.72,
            "count": 0
           },
           {
            "bin_start": 111.72,
            "bin_end": 118.11,
            "count": 0
           },
           {
            "bin_start": 118.11,
            "bin_end": 124.5,
            "count": 1
           }
          ]
         }
        },
        {
         "name": "k_m",
         "dtype": "object",
         "stats": {
          "unique_count": 1,
          "nan_count": 0,
          "categories": [
           {
            "name": "Egner-Riehm",
            "count": 3
           }
          ]
         }
        },
        {
         "name": "ph",
         "dtype": "float64",
         "stats": {
          "unique_count": 3,
          "nan_count": 0,
          "min": "4.7",
          "max": "6.7",
          "histogram": [
           {
            "bin_start": 4.7,
            "bin_end": 4.9,
            "count": 1
           },
           {
            "bin_start": 4.9,
            "bin_end": 5.1000000000000005,
            "count": 1
           },
           {
            "bin_start": 5.1000000000000005,
            "bin_end": 5.300000000000001,
            "count": 0
           },
           {
            "bin_start": 5.300000000000001,
            "bin_end": 5.5,
            "count": 0
           },
           {
            "bin_start": 5.5,
            "bin_end": 5.7,
            "count": 0
           },
           {
            "bin_start": 5.7,
            "bin_end": 5.9,
            "count": 0
           },
           {
            "bin_start": 5.9,
            "bin_end": 6.1000000000000005,
            "count": 0
           },
           {
            "bin_start": 6.1000000000000005,
            "bin_end": 6.300000000000001,
            "count": 0
           },
           {
            "bin_start": 6.300000000000001,
            "bin_end": 6.5,
            "count": 0
           },
           {
            "bin_start": 6.5,
            "bin_end": 6.7,
            "count": 1
           }
          ]
         }
        },
        {
         "name": "ph_m",
         "dtype": "object",
         "stats": {
          "unique_count": 1,
          "nan_count": 0,
          "categories": [
           {
            "name": "pH H2O. Soil/Water relation 1:2.5. Potenciometry",
            "count": 3
           }
          ]
         }
        },
        {
         "name": "caco3",
         "dtype": "float64",
         "stats": {
          "unique_count": 1,
          "nan_count": 1,
          "min": "0.0",
          "max": "0.0",
          "histogram": [
           {
            "bin_start": -0.5,
            "bin_end": -0.4,
            "count": 0
           },
           {
            "bin_start": -0.4,
            "bin_end": -0.3,
            "count": 0
           },
           {
            "bin_start": -0.3,
            "bin_end": -0.19999999999999996,
            "count": 0
           },
           {
            "bin_start": -0.19999999999999996,
            "bin_end": -0.09999999999999998,
            "count": 0
           },
           {
            "bin_start": -0.09999999999999998,
            "bin_end": 0,
            "count": 0
           },
           {
            "bin_start": 0,
            "bin_end": 0.10000000000000009,
            "count": 2
           },
           {
            "bin_start": 0.10000000000000009,
            "bin_end": 0.20000000000000007,
            "count": 0
           },
           {
            "bin_start": 0.20000000000000007,
            "bin_end": 0.30000000000000004,
            "count": 0
           },
           {
            "bin_start": 0.30000000000000004,
            "bin_end": 0.4,
            "count": 0
           },
           {
            "bin_start": 0.4,
            "bin_end": 0.5,
            "count": 0
           }
          ]
         }
        },
        {
         "name": "caco3_m",
         "dtype": "object",
         "stats": {
          "unique_count": 2,
          "nan_count": 0,
          "categories": [
           {
            "name": "Calcimeter (Volumetric)",
            "count": 2
           },
           {
            "name": "Not determined",
            "count": 1
           }
          ]
         }
        },
        {
         "name": "ca_ex",
         "dtype": "float64",
         "stats": {
          "unique_count": 3,
          "nan_count": 0,
          "min": "1.97",
          "max": "11.82",
          "histogram": [
           {
            "bin_start": 1.97,
            "bin_end": 2.955,
            "count": 1
           },
           {
            "bin_start": 2.955,
            "bin_end": 3.94,
            "count": 1
           },
           {
            "bin_start": 3.94,
            "bin_end": 4.925,
            "count": 0
           },
           {
            "bin_start": 4.925,
            "bin_end": 5.91,
            "count": 0
           },
           {
            "bin_start": 5.91,
            "bin_end": 6.895,
            "count": 0
           },
           {
            "bin_start": 6.895,
            "bin_end": 7.88,
            "count": 0
           },
           {
            "bin_start": 7.88,
            "bin_end": 8.865,
            "count": 0
           },
           {
            "bin_start": 8.865,
            "bin_end": 9.85,
            "count": 0
           },
           {
            "bin_start": 9.85,
            "bin_end": 10.835,
            "count": 0
           },
           {
            "bin_start": 10.835,
            "bin_end": 11.82,
            "count": 1
           }
          ]
         }
        },
        {
         "name": "mg_ex",
         "dtype": "float64",
         "stats": {
          "unique_count": 3,
          "nan_count": 0,
          "min": "0.28",
          "max": "9.27",
          "histogram": [
           {
            "bin_start": 0.28,
            "bin_end": 1.179,
            "count": 2
           },
           {
            "bin_start": 1.179,
            "bin_end": 2.0780000000000003,
            "count": 0
           },
           {
            "bin_start": 2.0780000000000003,
            "bin_end": 2.9770000000000003,
            "count": 0
           },
           {
            "bin_start": 2.9770000000000003,
            "bin_end": 3.8760000000000003,
            "count": 0
           },
           {
            "bin_start": 3.8760000000000003,
            "bin_end": 4.775,
            "count": 0
           },
           {
            "bin_start": 4.775,
            "bin_end": 5.674,
            "count": 0
           },
           {
            "bin_start": 5.674,
            "bin_end": 6.573,
            "count": 0
           },
           {
            "bin_start": 6.573,
            "bin_end": 7.472,
            "count": 0
           },
           {
            "bin_start": 7.472,
            "bin_end": 8.371,
            "count": 0
           },
           {
            "bin_start": 8.371,
            "bin_end": 9.27,
            "count": 1
           }
          ]
         }
        },
        {
         "name": "k_ex",
         "dtype": "float64",
         "stats": {
          "unique_count": 3,
          "nan_count": 0,
          "min": "0.08",
          "max": "0.27",
          "histogram": [
           {
            "bin_start": 0.08,
            "bin_end": 0.099,
            "count": 1
           },
           {
            "bin_start": 0.099,
            "bin_end": 0.118,
            "count": 0
           },
           {
            "bin_start": 0.118,
            "bin_end": 0.137,
            "count": 0
           },
           {
            "bin_start": 0.137,
            "bin_end": 0.156,
            "count": 1
           },
           {
            "bin_start": 0.156,
            "bin_end": 0.175,
            "count": 0
           },
           {
            "bin_start": 0.175,
            "bin_end": 0.194,
            "count": 0
           },
           {
            "bin_start": 0.194,
            "bin_end": 0.21300000000000002,
            "count": 0
           },
           {
            "bin_start": 0.21300000000000002,
            "bin_end": 0.23199999999999998,
            "count": 0
           },
           {
            "bin_start": 0.23199999999999998,
            "bin_end": 0.251,
            "count": 0
           },
           {
            "bin_start": 0.251,
            "bin_end": 0.27,
            "count": 1
           }
          ]
         }
        },
        {
         "name": "na_ex",
         "dtype": "float64",
         "stats": {
          "unique_count": 3,
          "nan_count": 0,
          "min": "0.1",
          "max": "0.73",
          "histogram": [
           {
            "bin_start": 0.1,
            "bin_end": 0.163,
            "count": 1
           },
           {
            "bin_start": 0.163,
            "bin_end": 0.226,
            "count": 0
           },
           {
            "bin_start": 0.226,
            "bin_end": 0.28900000000000003,
            "count": 0
           },
           {
            "bin_start": 0.28900000000000003,
            "bin_end": 0.352,
            "count": 1
           },
           {
            "bin_start": 0.352,
            "bin_end": 0.41500000000000004,
            "count": 0
           },
           {
            "bin_start": 0.41500000000000004,
            "bin_end": 0.478,
            "count": 0
           },
           {
            "bin_start": 0.478,
            "bin_end": 0.541,
            "count": 0
           },
           {
            "bin_start": 0.541,
            "bin_end": 0.604,
            "count": 0
           },
           {
            "bin_start": 0.604,
            "bin_end": 0.6669999999999999,
            "count": 0
           },
           {
            "bin_start": 0.6669999999999999,
            "bin_end": 0.73,
            "count": 1
           }
          ]
         }
        },
        {
         "name": "cations_m",
         "dtype": "object",
         "stats": {
          "unique_count": 1,
          "nan_count": 0,
          "categories": [
           {
            "name": "Not discriminated (Ammonium acetate at pH 7.0 or Mehlich at pH 8.2)",
            "count": 3
           }
          ]
         }
        },
        {
         "name": "cec",
         "dtype": "float64",
         "stats": {
          "unique_count": 3,
          "nan_count": 0,
          "min": "7.88",
          "max": "21.9",
          "histogram": [
           {
            "bin_start": 7.88,
            "bin_end": 9.282,
            "count": 1
           },
           {
            "bin_start": 9.282,
            "bin_end": 10.684,
            "count": 1
           },
           {
            "bin_start": 10.684,
            "bin_end": 12.085999999999999,
            "count": 0
           },
           {
            "bin_start": 12.085999999999999,
            "bin_end": 13.488,
            "count": 0
           },
           {
            "bin_start": 13.488,
            "bin_end": 14.89,
            "count": 0
           },
           {
            "bin_start": 14.89,
            "bin_end": 16.291999999999998,
            "count": 0
           },
           {
            "bin_start": 16.291999999999998,
            "bin_end": 17.694,
            "count": 0
           },
           {
            "bin_start": 17.694,
            "bin_end": 19.096,
            "count": 0
           },
           {
            "bin_start": 19.096,
            "bin_end": 20.497999999999998,
            "count": 0
           },
           {
            "bin_start": 20.497999999999998,
            "bin_end": 21.9,
            "count": 1
           }
          ]
         }
        },
        {
         "name": "cec_m",
         "dtype": "object",
         "stats": {
          "unique_count": 1,
          "nan_count": 0,
          "categories": [
           {
            "name": "Not discriminated (Ammonium acetate at pH 7.0 or Mehlich at pH 8.2)",
            "count": 3
           }
          ]
         }
        },
        {
         "name": "v",
         "dtype": "float64",
         "stats": {
          "unique_count": 3,
          "nan_count": 0,
          "min": "32.7",
          "max": "100.0",
          "histogram": [
           {
            "bin_start": 32.7,
            "bin_end": 39.43,
            "count": 1
           },
           {
            "bin_start": 39.43,
            "bin_end": 46.160000000000004,
            "count": 1
           },
           {
            "bin_start": 46.160000000000004,
            "bin_end": 52.89,
            "count": 0
           },
           {
            "bin_start": 52.89,
            "bin_end": 59.620000000000005,
            "count": 0
           },
           {
            "bin_start": 59.620000000000005,
            "bin_end": 66.35,
            "count": 0
           },
           {
            "bin_start": 66.35,
            "bin_end": 73.08,
            "count": 0
           },
           {
            "bin_start": 73.08,
            "bin_end": 79.81,
            "count": 0
           },
           {
            "bin_start": 79.81,
            "bin_end": 86.53999999999999,
            "count": 0
           },
           {
            "bin_start": 86.53999999999999,
            "bin_end": 93.27,
            "count": 0
           },
           {
            "bin_start": 93.27,
            "bin_end": 100,
            "count": 1
           }
          ]
         }
        },
        {
         "name": "theta_fc",
         "dtype": "float64",
         "stats": {
          "unique_count": 3,
          "nan_count": 0,
          "min": "0.2278",
          "max": "0.2991",
          "histogram": [
           {
            "bin_start": 0.2278,
            "bin_end": 0.23493,
            "count": 2
           },
           {
            "bin_start": 0.23493,
            "bin_end": 0.24206,
            "count": 0
           },
           {
            "bin_start": 0.24206,
            "bin_end": 0.24919,
            "count": 0
           },
           {
            "bin_start": 0.24919,
            "bin_end": 0.25632,
            "count": 0
           },
           {
            "bin_start": 0.25632,
            "bin_end": 0.26344999999999996,
            "count": 0
           },
           {
            "bin_start": 0.26344999999999996,
            "bin_end": 0.27058,
            "count": 0
           },
           {
            "bin_start": 0.27058,
            "bin_end": 0.27771,
            "count": 0
           },
           {
            "bin_start": 0.27771,
            "bin_end": 0.28484,
            "count": 0
           },
           {
            "bin_start": 0.28484,
            "bin_end": 0.29196999999999995,
            "count": 0
           },
           {
            "bin_start": 0.29196999999999995,
            "bin_end": 0.2991,
            "count": 1
           }
          ]
         }
        },
        {
         "name": "theta_wp",
         "dtype": "float64",
         "stats": {
          "unique_count": 3,
          "nan_count": 0,
          "min": "0.0878",
          "max": "0.1981",
          "histogram": [
           {
            "bin_start": 0.0878,
            "bin_end": 0.09883,
            "count": 2
           },
           {
            "bin_start": 0.09883,
            "bin_end": 0.10986,
            "count": 0
           },
           {
            "bin_start": 0.10986,
            "bin_end": 0.12089,
            "count": 0
           },
           {
            "bin_start": 0.12089,
            "bin_end": 0.13192,
            "count": 0
           },
           {
            "bin_start": 0.13192,
            "bin_end": 0.14295,
            "count": 0
           },
           {
            "bin_start": 0.14295,
            "bin_end": 0.15398,
            "count": 0
           },
           {
            "bin_start": 0.15398,
            "bin_end": 0.16501,
            "count": 0
           },
           {
            "bin_start": 0.16501,
            "bin_end": 0.17604,
            "count": 0
           },
           {
            "bin_start": 0.17604,
            "bin_end": 0.18707000000000001,
            "count": 0
           },
           {
            "bin_start": 0.18707000000000001,
            "bin_end": 0.1981,
            "count": 1
           }
          ]
         }
        },
        {
         "name": "theta_m",
         "dtype": "object",
         "stats": {
          "unique_count": 1,
          "nan_count": 0,
          "categories": [
           {
            "name": "Pedotransfer functions for estimating soil water content at field capacity (Theta_FC) and at the wilting point (Theta_WP) from soil texture",
            "count": 3
           }
          ]
         }
        },
        {
         "name": "institution",
         "dtype": "object",
         "stats": {
          "unique_count": 2,
          "nan_count": 0,
          "categories": [
           {
            "name": "DirecÃ§Ã£o Regional de Agricultura e Pescas do Norte",
            "count": 2
           },
           {
            "name": "Instituto Superior de Agronomia",
            "count": 1
           }
          ]
         }
        },
        {
         "name": "_deepnote_index_column",
         "dtype": "int64"
        }
       ],
       "rows_top": [
        {
         "X": -8.23802,
         "Y": 41.06539,
         "pt_infosolo_site_id": 404,
         "pt_infosolo_horizon_id": 1391,
         "profile_code": "422H",
         "longitude": -8.23802,
         "latitude": 41.06539,
         "altitude": 100,
         "coordinates": "Estimated",
         "year": 1996,
         "soil": "Regosols",
         "qualifier1": "Humic",
         "qualifier2": "Dystric",
         "qualifier3": "Escalic",
         "wrb_m": "WRB 2006",
         "parent_material": "Igneous rocks",
         "land_use": "Horticulture",
         "hor_top": 30,
         "hor_bot": 50,
         "hor_name": "CB",
         "coarse": 33.7,
         "cs": 46.4,
         "fs": 30.4,
         "si": 14.6,
         "c": 8.6,
         "texture_m": "Pipette method for particles having diameters <20 mm (clay and silt fractions), and by sieving for …",
         "bd": "nan",
         "bd_m": "Not determined",
         "oc": 0.92,
         "oc_m": "Walkley-Black",
         "n": 1.07,
         "n_m": "Kjeldahl",
         "p": 60.2,
         "p_m": "Egner-Riehm",
         "k": 60.6,
         "k_m": "Egner-Riehm",
         "ph": 5,
         "ph_m": "pH H2O. Soil/Water relation 1:2.5. Potenciometry",
         "caco3": 0,
         "caco3_m": "Calcimeter (Volumetric)",
         "ca_ex": 1.97,
         "mg_ex": 0.37,
         "k_ex": 0.14,
         "na_ex": 0.1,
         "cations_m": "Not discriminated (Ammonium acetate at pH 7.0 or Mehlich at pH 8.2)",
         "cec": 7.88,
         "cec_m": "Not discriminated (Ammonium acetate at pH 7.0 or Mehlich at pH 8.2)",
         "v": 32.7,
         "theta_fc": 0.2278,
         "theta_wp": 0.0878,
         "theta_m": "Pedotransfer functions for estimating soil water content at field capacity (Theta_FC) and at the wi…",
         "institution": "DirecÃ§Ã£o Regional de Agricultura e Pescas do Norte",
         "_deepnote_index_column": 1391
        },
        {
         "X": -8.60752,
         "Y": 41.28422,
         "pt_infosolo_site_id": 617,
         "pt_infosolo_horizon_id": 2123,
         "profile_code": "96G",
         "longitude": -8.60752,
         "latitude": 41.28422,
         "altitude": 120,
         "coordinates": "Estimated",
         "year": 1994,
         "soil": "Anthrosols",
         "qualifier1": "Plaggic",
         "qualifier2": "Hyperdystric",
         "qualifier3": "nan",
         "wrb_m": "WRB 2006",
         "parent_material": "Igneous rocks",
         "land_use": "Irrigated arable crop",
         "hor_top": 0,
         "hor_bot": 30,
         "hor_name": "Ap1",
         "coarse": 21.3,
         "cs": 44.1,
         "fs": 30.2,
         "si": 14.3,
         "c": 11.4,
         "texture_m": "Pipette method for particles having diameters <20 mm (clay and silt fractions), and by sieving for …",
         "bd": "nan",
         "bd_m": "Not determined",
         "oc": 2.11,
         "oc_m": "Walkley-Black",
         "n": 1.8,
         "n_m": "Kjeldahl",
         "p": 139.6,
         "p_m": "Egner-Riehm",
         "k": 124.5,
         "k_m": "Egner-Riehm",
         "ph": 4.7,
         "ph_m": "pH H2O. Soil/Water relation 1:2.5. Potenciometry",
         "caco3": 0,
         "caco3_m": "Calcimeter (Volumetric)",
         "ca_ex": 3.08,
         "mg_ex": 0.28,
         "k_ex": 0.27,
         "na_ex": 0.34,
         "cations_m": "Not discriminated (Ammonium acetate at pH 7.0 or Mehlich at pH 8.2)",
         "cec": 9.81,
         "cec_m": "Not discriminated (Ammonium acetate at pH 7.0 or Mehlich at pH 8.2)",
         "v": 40.5,
         "theta_fc": 0.2335,
         "theta_wp": 0.0915,
         "theta_m": "Pedotransfer functions for estimating soil water content at field capacity (Theta_FC) and at the wi…",
         "institution": "DirecÃ§Ã£o Regional de Agricultura e Pescas do Norte",
         "_deepnote_index_column": 2129
        },
        {
         "X": -8.041139,
         "Y": 38.33306,
         "pt_infosolo_site_id": 2714,
         "pt_infosolo_horizon_id": 8467,
         "profile_code": "P5N",
         "longitude": -8.041139,
         "latitude": 38.33306,
         "altitude": 202,
         "coordinates": "Available",
         "year": 2001,
         "soil": "Luvisols",
         "qualifier1": "Haplic",
         "qualifier2": "nan",
         "qualifier3": "nan",
         "wrb_m": "WRB 2006",
         "parent_material": "Igneous rocks",
         "land_use": "Rainfed arable crop",
         "hor_top": 34,
         "hor_bot": 65,
         "hor_name": "Bt",
         "coarse": 0.2,
         "cs": 22.2,
         "fs": 34.4,
         "si": 11.6,
         "c": 31.8,
         "texture_m": "Pipette method for particles having diameters <20 mm (clay and silt fractions), and by sieving for …",
         "bd": 1.68,
         "bd_m": "Owen dry undisturbed volumetric soil samples (150 cm3) at 105ÂºC",
         "oc": 0.39,
         "oc_m": "Springer & Klee. Wet combustion",
         "n": 0.38,
         "n_m": "Kjeldahl",
         "p": 0.8,
         "p_m": "Not discriminated (Egner-Riehm, Olsen, Bray II, Mehlich 3 or Self-Davies et al., 2000)",
         "k": 67.3,
         "k_m": "Egner-Riehm",
         "ph": 6.7,
         "ph_m": "pH H2O. Soil/Water relation 1:2.5. Potenciometry",
         "caco3": "nan",
         "caco3_m": "Not determined",
         "ca_ex": 11.82,
         "mg_ex": 9.27,
         "k_ex": 0.08,
         "na_ex": 0.73,
         "cations_m": "Not discriminated (Ammonium acetate at pH 7.0 or Mehlich at pH 8.2)",
         "cec": 21.9,
         "cec_m": "Not discriminated (Ammonium acetate at pH 7.0 or Mehlich at pH 8.2)",
         "v": 100,
         "theta_fc": 0.2991,
         "theta_wp": 0.1981,
         "theta_m": "Pedotransfer functions for estimating soil water content at field capacity (Theta_FC) and at the wi…",
         "institution": "Instituto Superior de Agronomia",
         "_deepnote_index_column": 8475
        }
       ],
       "rows_bottom": null
      },
      "text/plain": "             X         Y  pt_infosolo_site_id  pt_infosolo_horizon_id  \\\n1391 -8.238020  41.06539                  404                    1391   \n2129 -8.607520  41.28422                  617                    2123   \n8475 -8.041139  38.33306                 2714                    8467   \n\n     profile_code  longitude  latitude  altitude coordinates  year  ...  k_ex  \\\n1391         422H  -8.238020  41.06539       100   Estimated  1996  ...  0.14   \n2129          96G  -8.607520  41.28422       120   Estimated  1994  ...  0.27   \n8475          P5N  -8.041139  38.33306       202   Available  2001  ...  0.08   \n\n     na_ex                                          cations_m    cec  \\\n1391  0.10  Not discriminated (Ammonium acetate at pH 7.0 ...   7.88   \n2129  0.34  Not discriminated (Ammonium acetate at pH 7.0 ...   9.81   \n8475  0.73  Not discriminated (Ammonium acetate at pH 7.0 ...  21.90   \n\n                                                  cec_m      v theta_fc  \\\n1391  Not discriminated (Ammonium acetate at pH 7.0 ...   32.7   0.2278   \n2129  Not discriminated (Ammonium acetate at pH 7.0 ...   40.5   0.2335   \n8475  Not discriminated (Ammonium acetate at pH 7.0 ...  100.0   0.2991   \n\n      theta_wp                                            theta_m  \\\n1391    0.0878  Pedotransfer functions for estimating soil wat...   \n2129    0.0915  Pedotransfer functions for estimating soil wat...   \n8475    0.1981  Pedotransfer functions for estimating soil wat...   \n\n                                            institution  \n1391  DirecÃ§Ã£o Regional de Agricultura e Pescas do...  \n2129  DirecÃ§Ã£o Regional de Agricultura e Pescas do...  \n8475                    Instituto Superior de Agronomia  \n\n[3 rows x 52 columns]",
      "text/html": "<div>\n<style scoped>\n    .dataframe tbody tr th:only-of-type {\n        vertical-align: middle;\n    }\n\n    .dataframe tbody tr th {\n        vertical-align: top;\n    }\n\n    .dataframe thead th {\n        text-align: right;\n    }\n</style>\n<table border=\"1\" class=\"dataframe\">\n  <thead>\n    <tr style=\"text-align: right;\">\n      <th></th>\n      <th>X</th>\n      <th>Y</th>\n      <th>pt_infosolo_site_id</th>\n      <th>pt_infosolo_horizon_id</th>\n      <th>profile_code</th>\n      <th>longitude</th>\n      <th>latitude</th>\n      <th>altitude</th>\n      <th>coordinates</th>\n      <th>year</th>\n      <th>...</th>\n      <th>k_ex</th>\n      <th>na_ex</th>\n      <th>cations_m</th>\n      <th>cec</th>\n      <th>cec_m</th>\n      <th>v</th>\n      <th>theta_fc</th>\n      <th>theta_wp</th>\n      <th>theta_m</th>\n      <th>institution</th>\n    </tr>\n  </thead>\n  <tbody>\n    <tr>\n      <th>1391</th>\n      <td>-8.238020</td>\n      <td>41.06539</td>\n      <td>404</td>\n      <td>1391</td>\n      <td>422H</td>\n      <td>-8.238020</td>\n      <td>41.06539</td>\n      <td>100</td>\n      <td>Estimated</td>\n      <td>1996</td>\n      <td>...</td>\n      <td>0.14</td>\n      <td>0.10</td>\n      <td>Not discriminated (Ammonium acetate at pH 7.0 ...</td>\n      <td>7.88</td>\n      <td>Not discriminated (Ammonium acetate at pH 7.0 ...</td>\n      <td>32.7</td>\n      <td>0.2278</td>\n      <td>0.0878</td>\n      <td>Pedotransfer functions for estimating soil wat...</td>\n      <td>DirecÃ§Ã£o Regional de Agricultura e Pescas do...</td>\n    </tr>\n    <tr>\n      <th>2129</th>\n      <td>-8.607520</td>\n      <td>41.28422</td>\n      <td>617</td>\n      <td>2123</td>\n      <td>96G</td>\n      <td>-8.607520</td>\n      <td>41.28422</td>\n      <td>120</td>\n      <td>Estimated</td>\n      <td>1994</td>\n      <td>...</td>\n      <td>0.27</td>\n      <td>0.34</td>\n      <td>Not discriminated (Ammonium acetate at pH 7.0 ...</td>\n      <td>9.81</td>\n      <td>Not discriminated (Ammonium acetate at pH 7.0 ...</td>\n      <td>40.5</td>\n      <td>0.2335</td>\n      <td>0.0915</td>\n      <td>Pedotransfer functions for estimating soil wat...</td>\n      <td>DirecÃ§Ã£o Regional de Agricultura e Pescas do...</td>\n    </tr>\n    <tr>\n      <th>8475</th>\n      <td>-8.041139</td>\n      <td>38.33306</td>\n      <td>2714</td>\n      <td>8467</td>\n      <td>P5N</td>\n      <td>-8.041139</td>\n      <td>38.33306</td>\n      <td>202</td>\n      <td>Available</td>\n      <td>2001</td>\n      <td>...</td>\n      <td>0.08</td>\n      <td>0.73</td>\n      <td>Not discriminated (Ammonium acetate at pH 7.0 ...</td>\n      <td>21.90</td>\n      <td>Not discriminated (Ammonium acetate at pH 7.0 ...</td>\n      <td>100.0</td>\n      <td>0.2991</td>\n      <td>0.1981</td>\n      <td>Pedotransfer functions for estimating soil wat...</td>\n      <td>Instituto Superior de Agronomia</td>\n    </tr>\n  </tbody>\n</table>\n<p>3 rows × 52 columns</p>\n</div>"
     },
     "metadata": {}
    }
   ]
  },
  {
   "cell_type": "markdown",
   "source": "#### Column types:\n",
   "metadata": {
    "tags": [],
    "cell_id": "00008-992f1802-d149-4e7e-84f6-5ed6f373c901",
    "deepnote_cell_type": "markdown"
   }
  },
  {
   "cell_type": "code",
   "metadata": {
    "tags": [],
    "cell_id": "00006-a0fc0a43-8d37-414c-becb-ccdb891f7ad9",
    "deepnote_to_be_reexecuted": false,
    "source_hash": "d8addd72",
    "execution_start": 1633692054164,
    "execution_millis": 12,
    "deepnote_cell_type": "code"
   },
   "source": "# Show all columns of the data set\ndf.columns",
   "execution_count": null,
   "outputs": [
    {
     "output_type": "execute_result",
     "execution_count": 4,
     "data": {
      "text/plain": "Index(['country', 'description', 'designation', 'points', 'price', 'province',\n       'taster_name', 'title', 'variety', 'winery', 'fixed_acidity',\n       'volatile_acidity', 'citric_acid', 'residual_sugar', 'chlorides',\n       'free_sulfur_dioxide', 'total_sulfur_dioxide', 'density', 'pH',\n       'sulphates', 'alcohol'],\n      dtype='object')"
     },
     "metadata": {}
    }
   ]
  },
  {
   "cell_type": "markdown",
   "source": "To make this data more visible we put the column names in a csv file with the column type and data type\n",
   "metadata": {
    "tags": [],
    "cell_id": "00008-2f0efc0d-f066-4d91-a236-635af4460d92",
    "deepnote_cell_type": "markdown"
   }
  },
  {
   "cell_type": "code",
   "metadata": {
    "tags": [],
    "cell_id": "00009-1cccc3bf-e98d-4b8b-af09-07e4d607ba33",
    "deepnote_to_be_reexecuted": false,
    "source_hash": "36913f96",
    "execution_start": 1633692054225,
    "execution_millis": 25,
    "deepnote_cell_type": "code"
   },
   "source": "pd.read_csv('column_types.csv',sep=';')",
   "execution_count": null,
   "outputs": [
    {
     "output_type": "execute_result",
     "execution_count": 5,
     "data": {
      "application/vnd.deepnote.dataframe.v2+json": {
       "row_count": 21,
       "column_count": 6,
       "columns": [
        {
         "name": "Column name",
         "dtype": "object",
         "stats": {
          "unique_count": 21,
          "nan_count": 0,
          "categories": [
           {
            "name": "country",
            "count": 1
           },
           {
            "name": "description",
            "count": 1
           },
           {
            "name": "19 others",
            "count": 19
           }
          ]
         }
        },
        {
         "name": "Column type",
         "dtype": "object",
         "stats": {
          "unique_count": 3,
          "nan_count": 0,
          "categories": [
           {
            "name": "Numerical",
            "count": 13
           },
           {
            "name": "Categorical",
            "count": 5
           },
           {
            "name": "Alphanumerical",
            "count": 3
           }
          ]
         }
        },
        {
         "name": " Actual value type",
         "dtype": "object",
         "stats": {
          "unique_count": 3,
          "nan_count": 0,
          "categories": [
           {
            "name": "String",
            "count": 11
           },
           {
            "name": "Float",
            "count": 9
           },
           {
            "name": "Int",
            "count": 1
           }
          ]
         }
        },
        {
         "name": "Desired value types",
         "dtype": "object",
         "stats": {
          "unique_count": 3,
          "nan_count": 0,
          "categories": [
           {
            "name": "Float",
            "count": 12
           },
           {
            "name": "String",
            "count": 8
           },
           {
            "name": "Int",
            "count": 1
           }
          ]
         }
        },
        {
         "name": "Dependency",
         "dtype": "object",
         "stats": {
          "unique_count": 2,
          "nan_count": 0,
          "categories": [
           {
            "name": "Dependent",
            "count": 15
           },
           {
            "name": "Independent",
            "count": 6
           }
          ]
         }
        },
        {
         "name": "Level of measurement",
         "dtype": "object",
         "stats": {
          "unique_count": 3,
          "nan_count": 0,
          "categories": [
           {
            "name": "Ratio",
            "count": 12
           },
           {
            "name": "Nominal",
            "count": 8
           },
           {
            "name": "Interval",
            "count": 1
           }
          ]
         }
        },
        {
         "name": "_deepnote_index_column",
         "dtype": "int64"
        }
       ],
       "rows_top": [
        {
         "Column name": "country",
         "Column type": "Categorical",
         " Actual value type": "String",
         "Desired value types": "String",
         "Dependency": "Independent",
         "Level of measurement": "Nominal",
         "_deepnote_index_column": 0
        },
        {
         "Column name": "description",
         "Column type": "Alphanumerical",
         " Actual value type": "String",
         "Desired value types": "String",
         "Dependency": "Independent",
         "Level of measurement": "Nominal",
         "_deepnote_index_column": 1
        },
        {
         "Column name": "designation",
         "Column type": "Categorical",
         " Actual value type": "String",
         "Desired value types": "String",
         "Dependency": "Independent",
         "Level of measurement": "Nominal",
         "_deepnote_index_column": 2
        },
        {
         "Column name": "points",
         "Column type": "Numerical",
         " Actual value type": "Int",
         "Desired value types": "Int",
         "Dependency": "Dependent",
         "Level of measurement": "Interval",
         "_deepnote_index_column": 3
        },
        {
         "Column name": "price",
         "Column type": "Numerical",
         " Actual value type": "Float",
         "Desired value types": "Float",
         "Dependency": "Dependent",
         "Level of measurement": "Ratio",
         "_deepnote_index_column": 4
        },
        {
         "Column name": "province",
         "Column type": "Categorical",
         " Actual value type": "String",
         "Desired value types": "String",
         "Dependency": "Independent",
         "Level of measurement": "Nominal",
         "_deepnote_index_column": 5
        },
        {
         "Column name": "taster_name",
         "Column type": "Alphanumerical",
         " Actual value type": "String",
         "Desired value types": "String",
         "Dependency": "Independent",
         "Level of measurement": "Nominal",
         "_deepnote_index_column": 6
        },
        {
         "Column name": "title",
         "Column type": "Alphanumerical",
         " Actual value type": "String",
         "Desired value types": "String",
         "Dependency": "Independent",
         "Level of measurement": "Nominal",
         "_deepnote_index_column": 7
        },
        {
         "Column name": "variety",
         "Column type": "Categorical",
         " Actual value type": "String",
         "Desired value types": "String",
         "Dependency": "Dependent",
         "Level of measurement": "Nominal",
         "_deepnote_index_column": 8
        },
        {
         "Column name": "winery",
         "Column type": "Categorical",
         " Actual value type": "String",
         "Desired value types": "String",
         "Dependency": "Dependent",
         "Level of measurement": "Nominal",
         "_deepnote_index_column": 9
        },
        {
         "Column name": "fixed acidity",
         "Column type": "Numerical",
         " Actual value type": "Float",
         "Desired value types": "Float",
         "Dependency": "Dependent",
         "Level of measurement": "Ratio",
         "_deepnote_index_column": 10
        },
        {
         "Column name": "volatile acidity",
         "Column type": "Numerical",
         " Actual value type": "Float",
         "Desired value types": "Float",
         "Dependency": "Dependent",
         "Level of measurement": "Ratio",
         "_deepnote_index_column": 11
        },
        {
         "Column name": "citric acid",
         "Column type": "Numerical",
         " Actual value type": "String",
         "Desired value types": "Float",
         "Dependency": "Dependent",
         "Level of measurement": "Ratio",
         "_deepnote_index_column": 12
        },
        {
         "Column name": "residual sugar",
         "Column type": "Numerical",
         " Actual value type": "Float",
         "Desired value types": "Float",
         "Dependency": "Dependent",
         "Level of measurement": "Ratio",
         "_deepnote_index_column": 13
        },
        {
         "Column name": "chlorides",
         "Column type": "Numerical",
         " Actual value type": "Float",
         "Desired value types": "Float",
         "Dependency": "Dependent",
         "Level of measurement": "Ratio",
         "_deepnote_index_column": 14
        },
        {
         "Column name": "free sulfur dioxide",
         "Column type": "Numerical",
         " Actual value type": "Float",
         "Desired value types": "Float",
         "Dependency": "Dependent",
         "Level of measurement": "Ratio",
         "_deepnote_index_column": 15
        },
        {
         "Column name": "total sulfur dioxide",
         "Column type": "Numerical",
         " Actual value type": "Float",
         "Desired value types": "Float",
         "Dependency": "Dependent",
         "Level of measurement": "Ratio",
         "_deepnote_index_column": 16
        },
        {
         "Column name": "density",
         "Column type": "Numerical",
         " Actual value type": "String",
         "Desired value types": "Float",
         "Dependency": "Dependent",
         "Level of measurement": "Ratio",
         "_deepnote_index_column": 17
        },
        {
         "Column name": "pH",
         "Column type": "Numerical",
         " Actual value type": "Float",
         "Desired value types": "Float",
         "Dependency": "Dependent",
         "Level of measurement": "Ratio",
         "_deepnote_index_column": 18
        },
        {
         "Column name": "sulphates",
         "Column type": "Numerical",
         " Actual value type": "Float",
         "Desired value types": "Float",
         "Dependency": "Dependent",
         "Level of measurement": "Ratio",
         "_deepnote_index_column": 19
        },
        {
         "Column name": "alcohol",
         "Column type": "Numerical",
         " Actual value type": "String",
         "Desired value types": "Float",
         "Dependency": "Dependent",
         "Level of measurement": "Ratio",
         "_deepnote_index_column": 20
        }
       ],
       "rows_bottom": null
      },
      "text/plain": "             Column name     Column type  Actual value type  \\\n0                country     Categorical             String   \n1            description  Alphanumerical             String   \n2            designation     Categorical             String   \n3                 points       Numerical                Int   \n4                  price       Numerical              Float   \n5               province     Categorical             String   \n6            taster_name  Alphanumerical             String   \n7                  title  Alphanumerical             String   \n8                variety     Categorical             String   \n9                 winery     Categorical             String   \n10         fixed acidity       Numerical              Float   \n11      volatile acidity       Numerical              Float   \n12           citric acid       Numerical             String   \n13        residual sugar       Numerical              Float   \n14             chlorides       Numerical              Float   \n15   free sulfur dioxide       Numerical              Float   \n16  total sulfur dioxide       Numerical              Float   \n17               density       Numerical             String   \n18                    pH       Numerical              Float   \n19             sulphates       Numerical              Float   \n20               alcohol       Numerical             String   \n\n   Desired value types   Dependency Level of measurement  \n0               String  Independent              Nominal  \n1               String  Independent              Nominal  \n2               String  Independent              Nominal  \n3                  Int    Dependent             Interval  \n4                Float    Dependent                Ratio  \n5               String  Independent              Nominal  \n6               String  Independent              Nominal  \n7               String  Independent              Nominal  \n8               String    Dependent              Nominal  \n9               String    Dependent              Nominal  \n10               Float    Dependent                Ratio  \n11               Float    Dependent                Ratio  \n12               Float    Dependent                Ratio  \n13               Float    Dependent                Ratio  \n14               Float    Dependent                Ratio  \n15               Float    Dependent                Ratio  \n16               Float    Dependent                Ratio  \n17               Float    Dependent                Ratio  \n18               Float    Dependent                Ratio  \n19               Float    Dependent                Ratio  \n20               Float    Dependent                Ratio  ",
      "text/html": "<div>\n<style scoped>\n    .dataframe tbody tr th:only-of-type {\n        vertical-align: middle;\n    }\n\n    .dataframe tbody tr th {\n        vertical-align: top;\n    }\n\n    .dataframe thead th {\n        text-align: right;\n    }\n</style>\n<table border=\"1\" class=\"dataframe\">\n  <thead>\n    <tr style=\"text-align: right;\">\n      <th></th>\n      <th>Column name</th>\n      <th>Column type</th>\n      <th>Actual value type</th>\n      <th>Desired value types</th>\n      <th>Dependency</th>\n      <th>Level of measurement</th>\n    </tr>\n  </thead>\n  <tbody>\n    <tr>\n      <th>0</th>\n      <td>country</td>\n      <td>Categorical</td>\n      <td>String</td>\n      <td>String</td>\n      <td>Independent</td>\n      <td>Nominal</td>\n    </tr>\n    <tr>\n      <th>1</th>\n      <td>description</td>\n      <td>Alphanumerical</td>\n      <td>String</td>\n      <td>String</td>\n      <td>Independent</td>\n      <td>Nominal</td>\n    </tr>\n    <tr>\n      <th>2</th>\n      <td>designation</td>\n      <td>Categorical</td>\n      <td>String</td>\n      <td>String</td>\n      <td>Independent</td>\n      <td>Nominal</td>\n    </tr>\n    <tr>\n      <th>3</th>\n      <td>points</td>\n      <td>Numerical</td>\n      <td>Int</td>\n      <td>Int</td>\n      <td>Dependent</td>\n      <td>Interval</td>\n    </tr>\n    <tr>\n      <th>4</th>\n      <td>price</td>\n      <td>Numerical</td>\n      <td>Float</td>\n      <td>Float</td>\n      <td>Dependent</td>\n      <td>Ratio</td>\n    </tr>\n    <tr>\n      <th>5</th>\n      <td>province</td>\n      <td>Categorical</td>\n      <td>String</td>\n      <td>String</td>\n      <td>Independent</td>\n      <td>Nominal</td>\n    </tr>\n    <tr>\n      <th>6</th>\n      <td>taster_name</td>\n      <td>Alphanumerical</td>\n      <td>String</td>\n      <td>String</td>\n      <td>Independent</td>\n      <td>Nominal</td>\n    </tr>\n    <tr>\n      <th>7</th>\n      <td>title</td>\n      <td>Alphanumerical</td>\n      <td>String</td>\n      <td>String</td>\n      <td>Independent</td>\n      <td>Nominal</td>\n    </tr>\n    <tr>\n      <th>8</th>\n      <td>variety</td>\n      <td>Categorical</td>\n      <td>String</td>\n      <td>String</td>\n      <td>Dependent</td>\n      <td>Nominal</td>\n    </tr>\n    <tr>\n      <th>9</th>\n      <td>winery</td>\n      <td>Categorical</td>\n      <td>String</td>\n      <td>String</td>\n      <td>Dependent</td>\n      <td>Nominal</td>\n    </tr>\n    <tr>\n      <th>10</th>\n      <td>fixed acidity</td>\n      <td>Numerical</td>\n      <td>Float</td>\n      <td>Float</td>\n      <td>Dependent</td>\n      <td>Ratio</td>\n    </tr>\n    <tr>\n      <th>11</th>\n      <td>volatile acidity</td>\n      <td>Numerical</td>\n      <td>Float</td>\n      <td>Float</td>\n      <td>Dependent</td>\n      <td>Ratio</td>\n    </tr>\n    <tr>\n      <th>12</th>\n      <td>citric acid</td>\n      <td>Numerical</td>\n      <td>String</td>\n      <td>Float</td>\n      <td>Dependent</td>\n      <td>Ratio</td>\n    </tr>\n    <tr>\n      <th>13</th>\n      <td>residual sugar</td>\n      <td>Numerical</td>\n      <td>Float</td>\n      <td>Float</td>\n      <td>Dependent</td>\n      <td>Ratio</td>\n    </tr>\n    <tr>\n      <th>14</th>\n      <td>chlorides</td>\n      <td>Numerical</td>\n      <td>Float</td>\n      <td>Float</td>\n      <td>Dependent</td>\n      <td>Ratio</td>\n    </tr>\n    <tr>\n      <th>15</th>\n      <td>free sulfur dioxide</td>\n      <td>Numerical</td>\n      <td>Float</td>\n      <td>Float</td>\n      <td>Dependent</td>\n      <td>Ratio</td>\n    </tr>\n    <tr>\n      <th>16</th>\n      <td>total sulfur dioxide</td>\n      <td>Numerical</td>\n      <td>Float</td>\n      <td>Float</td>\n      <td>Dependent</td>\n      <td>Ratio</td>\n    </tr>\n    <tr>\n      <th>17</th>\n      <td>density</td>\n      <td>Numerical</td>\n      <td>String</td>\n      <td>Float</td>\n      <td>Dependent</td>\n      <td>Ratio</td>\n    </tr>\n    <tr>\n      <th>18</th>\n      <td>pH</td>\n      <td>Numerical</td>\n      <td>Float</td>\n      <td>Float</td>\n      <td>Dependent</td>\n      <td>Ratio</td>\n    </tr>\n    <tr>\n      <th>19</th>\n      <td>sulphates</td>\n      <td>Numerical</td>\n      <td>Float</td>\n      <td>Float</td>\n      <td>Dependent</td>\n      <td>Ratio</td>\n    </tr>\n    <tr>\n      <th>20</th>\n      <td>alcohol</td>\n      <td>Numerical</td>\n      <td>String</td>\n      <td>Float</td>\n      <td>Dependent</td>\n      <td>Ratio</td>\n    </tr>\n  </tbody>\n</table>\n</div>"
     },
     "metadata": {}
    }
   ]
  },
  {
   "cell_type": "markdown",
   "source": "#### Description \n\nHere we describe different column names\n\n- Country: In which country the wine was made.\n- Description: Information about the wine.\n- Points: How the wine was rated.\n- Price: How expensive each bottle was.\n- Province: In which province the wine was made.\n- Taster name: The name of the person who tested this wine.\n- Title: The name of the wine.\n- Variety: Type of wine (Portuguese red)\n- Winery: Name of the winery where the wine was made.\n- Fixed acidity: Used to estimate how sour a wine will probably taste like.\n- Volatile acidity: Volatile acidity is a measure of the low molecular weight fatty acids in wine.\n- Citric acid: Measure of citric acid concentrations in wine.\n- Residual sugar: How much sugar is left after fermentation.\n- Chlorides: Concentrations of chloride, a toxic chemical which also determines how salty the wine will taste.\n- Free sulfur dioxide: Concentrations of free sulfur dioxide.\n- Total sulfur dioxide: Total concentrations of sulfur dioxide including free sulfur dioxide and sulfur dioxide which has binded to other chemicals.\n- Density: The weight of the wine divided by the volume of the wine.\n- pH: The acidity level of the wine.\n- Sulphates: Sulphate concentrations in the wine.\n- Alcohol: Volumepercentage of alcohol in the wine.",
   "metadata": {
    "tags": [],
    "cell_id": "00010-0af00c8c-0642-474b-8a5d-ce9c8ea235d4",
    "deepnote_cell_type": "markdown"
   }
  },
  {
   "cell_type": "markdown",
   "source": "The categories whose actual datatype does not match our required datatypes are listed as follows:\n\n- citric acid is given as strings representing floats between 0 and 1",
   "metadata": {
    "tags": [],
    "cell_id": "00009-98c9ba08-1931-42b1-ac44-928dd1d975a2",
    "deepnote_cell_type": "markdown"
   }
  },
  {
   "cell_type": "markdown",
   "source": "##### Outliers:\nThe outliers are calculated as 3 times the std above the mean value from a column.  \nAs we can see in the sample below, there are 20 red wines with a exceptionally high price.",
   "metadata": {
    "tags": [],
    "cell_id": "00010-b2bb0ca7-2f9a-4d55-894d-ebc360167260",
    "deepnote_cell_type": "markdown"
   }
  },
  {
   "cell_type": "code",
   "metadata": {
    "tags": [],
    "cell_id": "00013-076d94c7-3326-4089-8ad2-98179e88a234",
    "deepnote_to_be_reexecuted": false,
    "source_hash": "f88152d9",
    "execution_start": 1633692054286,
    "execution_millis": 153,
    "deepnote_cell_type": "code"
   },
   "source": "df.describe()",
   "execution_count": null,
   "outputs": [
    {
     "output_type": "execute_result",
     "execution_count": 6,
     "data": {
      "application/vnd.deepnote.dataframe.v2+json": {
       "row_count": 8,
       "column_count": 10,
       "columns": [
        {
         "name": "points",
         "dtype": "float64",
         "stats": {
          "unique_count": 8,
          "nan_count": 0,
          "min": "2.97400001932752",
          "max": "2465.0",
          "histogram": [
           {
            "bin_start": 2.97400001932752,
            "bin_end": 249.17660001739478,
            "count": 7
           },
           {
            "bin_start": 249.17660001739478,
            "bin_end": 495.37920001546206,
            "count": 0
           },
           {
            "bin_start": 495.37920001546206,
            "bin_end": 741.5818000135292,
            "count": 0
           },
           {
            "bin_start": 741.5818000135292,
            "bin_end": 987.7844000115965,
            "count": 0
           },
           {
            "bin_start": 987.7844000115965,
            "bin_end": 1233.987000009664,
            "count": 0
           },
           {
            "bin_start": 1233.987000009664,
            "bin_end": 1480.189600007731,
            "count": 0
           },
           {
            "bin_start": 1480.189600007731,
            "bin_end": 1726.3922000057985,
            "count": 0
           },
           {
            "bin_start": 1726.3922000057985,
            "bin_end": 1972.5948000038657,
            "count": 0
           },
           {
            "bin_start": 1972.5948000038657,
            "bin_end": 2218.7974000019326,
            "count": 0
           },
           {
            "bin_start": 2218.7974000019326,
            "bin_end": 2465,
            "count": 1
           }
          ]
         }
        },
        {
         "name": "price",
         "dtype": "float64",
         "stats": {
          "unique_count": 8,
          "nan_count": 0,
          "min": "5.0",
          "max": "2196.0",
          "histogram": [
           {
            "bin_start": 5,
            "bin_end": 224.1,
            "count": 6
           },
           {
            "bin_start": 224.1,
            "bin_end": 443.2,
            "count": 0
           },
           {
            "bin_start": 443.2,
            "bin_end": 662.3,
            "count": 1
           },
           {
            "bin_start": 662.3,
            "bin_end": 881.4,
            "count": 0
           },
           {
            "bin_start": 881.4,
            "bin_end": 1100.5,
            "count": 0
           },
           {
            "bin_start": 1100.5,
            "bin_end": 1319.6,
            "count": 0
           },
           {
            "bin_start": 1319.6,
            "bin_end": 1538.7,
            "count": 0
           },
           {
            "bin_start": 1538.7,
            "bin_end": 1757.8,
            "count": 0
           },
           {
            "bin_start": 1757.8,
            "bin_end": 1976.8999999999999,
            "count": 0
           },
           {
            "bin_start": 1976.8999999999999,
            "bin_end": 2196,
            "count": 1
           }
          ]
         }
        },
        {
         "name": "fixed_acidity",
         "dtype": "float64",
         "stats": {
          "unique_count": 8,
          "nan_count": 0,
          "min": "1.7348466033868817",
          "max": "2465.0",
          "histogram": [
           {
            "bin_start": 1.7348466033868817,
            "bin_end": 248.06136194304818,
            "count": 7
           },
           {
            "bin_start": 248.06136194304818,
            "bin_end": 494.3878772827095,
            "count": 0
           },
           {
            "bin_start": 494.3878772827095,
            "bin_end": 740.7143926223708,
            "count": 0
           },
           {
            "bin_start": 740.7143926223708,
            "bin_end": 987.0409079620322,
            "count": 0
           },
           {
            "bin_start": 987.0409079620322,
            "bin_end": 1233.3674233016934,
            "count": 0
           },
           {
            "bin_start": 1233.3674233016934,
            "bin_end": 1479.6939386413546,
            "count": 0
           },
           {
            "bin_start": 1479.6939386413546,
            "bin_end": 1726.020453981016,
            "count": 0
           },
           {
            "bin_start": 1726.020453981016,
            "bin_end": 1972.3469693206773,
            "count": 0
           },
           {
            "bin_start": 1972.3469693206773,
            "bin_end": 2218.6734846603385,
            "count": 0
           },
           {
            "bin_start": 2218.6734846603385,
            "bin_end": 2465,
            "count": 1
           }
          ]
         }
        },
        {
         "name": "volatile_acidity",
         "dtype": "float64",
         "stats": {
          "unique_count": 8,
          "nan_count": 0,
          "min": "0.12",
          "max": "2465.0",
          "histogram": [
           {
            "bin_start": 0.12,
            "bin_end": 246.608,
            "count": 7
           },
           {
            "bin_start": 246.608,
            "bin_end": 493.096,
            "count": 0
           },
           {
            "bin_start": 493.096,
            "bin_end": 739.584,
            "count": 0
           },
           {
            "bin_start": 739.584,
            "bin_end": 986.072,
            "count": 0
           },
           {
            "bin_start": 986.072,
            "bin_end": 1232.56,
            "count": 0
           },
           {
            "bin_start": 1232.56,
            "bin_end": 1479.0479999999998,
            "count": 0
           },
           {
            "bin_start": 1479.0479999999998,
            "bin_end": 1725.5359999999998,
            "count": 0
           },
           {
            "bin_start": 1725.5359999999998,
            "bin_end": 1972.024,
            "count": 0
           },
           {
            "bin_start": 1972.024,
            "bin_end": 2218.5119999999997,
            "count": 0
           },
           {
            "bin_start": 2218.5119999999997,
            "bin_end": 2465,
            "count": 1
           }
          ]
         }
        },
        {
         "name": "residual_sugar",
         "dtype": "float64",
         "stats": {
          "unique_count": 8,
          "nan_count": 0,
          "min": "0.9",
          "max": "2465.0",
          "histogram": [
           {
            "bin_start": 0.9,
            "bin_end": 247.31,
            "count": 7
           },
           {
            "bin_start": 247.31,
            "bin_end": 493.71999999999997,
            "count": 0
           },
           {
            "bin_start": 493.71999999999997,
            "bin_end": 740.13,
            "count": 0
           },
           {
            "bin_start": 740.13,
            "bin_end": 986.54,
            "count": 0
           },
           {
            "bin_start": 986.54,
            "bin_end": 1232.95,
            "count": 0
           },
           {
            "bin_start": 1232.95,
            "bin_end": 1479.3600000000001,
            "count": 0
           },
           {
            "bin_start": 1479.3600000000001,
            "bin_end": 1725.77,
            "count": 0
           },
           {
            "bin_start": 1725.77,
            "bin_end": 1972.18,
            "count": 0
           },
           {
            "bin_start": 1972.18,
            "bin_end": 2218.59,
            "count": 0
           },
           {
            "bin_start": 2218.59,
            "bin_end": 2465,
            "count": 1
           }
          ]
         }
        },
        {
         "name": "chlorides",
         "dtype": "float64",
         "stats": {
          "unique_count": 8,
          "nan_count": 0,
          "min": "0.012",
          "max": "2465.0",
          "histogram": [
           {
            "bin_start": 0.012,
            "bin_end": 246.5108,
            "count": 7
           },
           {
            "bin_start": 246.5108,
            "bin_end": 493.0096,
            "count": 0
           },
           {
            "bin_start": 493.0096,
            "bin_end": 739.5083999999999,
            "count": 0
           },
           {
            "bin_start": 739.5083999999999,
            "bin_end": 986.0071999999999,
            "count": 0
           },
           {
            "bin_start": 986.0071999999999,
            "bin_end": 1232.5059999999999,
            "count": 0
           },
           {
            "bin_start": 1232.5059999999999,
            "bin_end": 1479.0048,
            "count": 0
           },
           {
            "bin_start": 1479.0048,
            "bin_end": 1725.5035999999998,
            "count": 0
           },
           {
            "bin_start": 1725.5035999999998,
            "bin_end": 1972.0023999999999,
            "count": 0
           },
           {
            "bin_start": 1972.0023999999999,
            "bin_end": 2218.5012,
            "count": 0
           },
           {
            "bin_start": 2218.5012,
            "bin_end": 2465,
            "count": 1
           }
          ]
         }
        },
        {
         "name": "free_sulfur_dioxide",
         "dtype": "float64",
         "stats": {
          "unique_count": 8,
          "nan_count": 0,
          "min": "1.0",
          "max": "2465.0",
          "histogram": [
           {
            "bin_start": 1,
            "bin_end": 247.4,
            "count": 7
           },
           {
            "bin_start": 247.4,
            "bin_end": 493.8,
            "count": 0
           },
           {
            "bin_start": 493.8,
            "bin_end": 740.2,
            "count": 0
           },
           {
            "bin_start": 740.2,
            "bin_end": 986.6,
            "count": 0
           },
           {
            "bin_start": 986.6,
            "bin_end": 1233,
            "count": 0
           },
           {
            "bin_start": 1233,
            "bin_end": 1479.4,
            "count": 0
           },
           {
            "bin_start": 1479.4,
            "bin_end": 1725.8,
            "count": 0
           },
           {
            "bin_start": 1725.8,
            "bin_end": 1972.2,
            "count": 0
           },
           {
            "bin_start": 1972.2,
            "bin_end": 2218.6,
            "count": 0
           },
           {
            "bin_start": 2218.6,
            "bin_end": 2465,
            "count": 1
           }
          ]
         }
        },
        {
         "name": "total_sulfur_dioxide",
         "dtype": "float64",
         "stats": {
          "unique_count": 8,
          "nan_count": 0,
          "min": "6.0",
          "max": "2465.0",
          "histogram": [
           {
            "bin_start": 6,
            "bin_end": 251.9,
            "count": 6
           },
           {
            "bin_start": 251.9,
            "bin_end": 497.8,
            "count": 1
           },
           {
            "bin_start": 497.8,
            "bin_end": 743.7,
            "count": 0
           },
           {
            "bin_start": 743.7,
            "bin_end": 989.6,
            "count": 0
           },
           {
            "bin_start": 989.6,
            "bin_end": 1235.5,
            "count": 0
           },
           {
            "bin_start": 1235.5,
            "bin_end": 1481.4,
            "count": 0
           },
           {
            "bin_start": 1481.4,
            "bin_end": 1727.3,
            "count": 0
           },
           {
            "bin_start": 1727.3,
            "bin_end": 1973.2,
            "count": 0
           },
           {
            "bin_start": 1973.2,
            "bin_end": 2219.1,
            "count": 0
           },
           {
            "bin_start": 2219.1,
            "bin_end": 2465,
            "count": 1
           }
          ]
         }
        },
        {
         "name": "pH",
         "dtype": "float64",
         "stats": {
          "unique_count": 8,
          "nan_count": 0,
          "min": "0.15392727558224564",
          "max": "2465.0",
          "histogram": [
           {
            "bin_start": 0.15392727558224564,
            "bin_end": 246.63853454802404,
            "count": 7
           },
           {
            "bin_start": 246.63853454802404,
            "bin_end": 493.12314182046583,
            "count": 0
           },
           {
            "bin_start": 493.12314182046583,
            "bin_end": 739.6077490929076,
            "count": 0
           },
           {
            "bin_start": 739.6077490929076,
            "bin_end": 986.0923563653494,
            "count": 0
           },
           {
            "bin_start": 986.0923563653494,
            "bin_end": 1232.576963637791,
            "count": 0
           },
           {
            "bin_start": 1232.576963637791,
            "bin_end": 1479.061570910233,
            "count": 0
           },
           {
            "bin_start": 1479.061570910233,
            "bin_end": 1725.5461781826748,
            "count": 0
           },
           {
            "bin_start": 1725.5461781826748,
            "bin_end": 1972.0307854551165,
            "count": 0
           },
           {
            "bin_start": 1972.0307854551165,
            "bin_end": 2218.5153927275583,
            "count": 0
           },
           {
            "bin_start": 2218.5153927275583,
            "bin_end": 2465,
            "count": 1
           }
          ]
         }
        },
        {
         "name": "sulphates",
         "dtype": "float64",
         "stats": {
          "unique_count": 8,
          "nan_count": 0,
          "min": "0.17253128003281948",
          "max": "2465.0",
          "histogram": [
           {
            "bin_start": 0.17253128003281948,
            "bin_end": 246.65527815202955,
            "count": 7
           },
           {
            "bin_start": 246.65527815202955,
            "bin_end": 493.1380250240263,
            "count": 0
           },
           {
            "bin_start": 493.1380250240263,
            "bin_end": 739.620771896023,
            "count": 0
           },
           {
            "bin_start": 739.620771896023,
            "bin_end": 986.1035187680197,
            "count": 0
           },
           {
            "bin_start": 986.1035187680197,
            "bin_end": 1232.5862656400166,
            "count": 0
           },
           {
            "bin_start": 1232.5862656400166,
            "bin_end": 1479.0690125120134,
            "count": 0
           },
           {
            "bin_start": 1479.0690125120134,
            "bin_end": 1725.55175938401,
            "count": 0
           },
           {
            "bin_start": 1725.55175938401,
            "bin_end": 1972.0345062560068,
            "count": 0
           },
           {
            "bin_start": 1972.0345062560068,
            "bin_end": 2218.517253128003,
            "count": 0
           },
           {
            "bin_start": 2218.517253128003,
            "bin_end": 2465,
            "count": 1
           }
          ]
         }
        },
        {
         "name": "_deepnote_index_column",
         "dtype": "object"
        }
       ],
       "rows_top": [
        {
         "points": 2465,
         "price": 2196,
         "fixed_acidity": 2465,
         "volatile_acidity": 2465,
         "residual_sugar": 2465,
         "chlorides": 2465,
         "free_sulfur_dioxide": 2465,
         "total_sulfur_dioxide": 2465,
         "pH": 2465,
         "sulphates": 2465,
         "_deepnote_index_column": "count"
        },
        {
         "points": 88.81135902636917,
         "price": 24.819216757741348,
         "fixed_acidity": 8.352819472616632,
         "volatile_acidity": 0.5281622718052738,
         "residual_sugar": 2.5623529411764707,
         "chlorides": 0.08748519269776875,
         "free_sulfur_dioxide": 15.804665314401623,
         "total_sulfur_dioxide": 47.21866125760649,
         "pH": 3.311200811359026,
         "sulphates": 0.6603529411764706,
         "_deepnote_index_column": "mean"
        },
        {
         "points": 2.97400001932752,
         "price": 25.539475265459142,
         "fixed_acidity": 1.7348466033868817,
         "volatile_acidity": 0.17886907428366858,
         "residual_sugar": 1.407029740958027,
         "chlorides": 0.04704340402899578,
         "free_sulfur_dioxide": 10.379217894554081,
         "total_sulfur_dioxide": 33.187830278042945,
         "pH": 0.15392727558224564,
         "sulphates": 0.17253128003281948,
         "_deepnote_index_column": "std"
        },
        {
         "points": 81,
         "price": 5,
         "fixed_acidity": 4.6,
         "volatile_acidity": 0.12,
         "residual_sugar": 0.9,
         "chlorides": 0.012,
         "free_sulfur_dioxide": 1,
         "total_sulfur_dioxide": 6,
         "pH": 2.74,
         "sulphates": 0.33,
         "_deepnote_index_column": "min"
        },
        {
         "points": 87,
         "price": 12,
         "fixed_acidity": 7.1,
         "volatile_acidity": 0.4,
         "residual_sugar": 1.9,
         "chlorides": 0.07,
         "free_sulfur_dioxide": 7,
         "total_sulfur_dioxide": 22,
         "pH": 3.21,
         "sulphates": 0.55,
         "_deepnote_index_column": "25%"
        },
        {
         "points": 88,
         "price": 17,
         "fixed_acidity": 7.9,
         "volatile_acidity": 0.52,
         "residual_sugar": 2.2,
         "chlorides": 0.079,
         "free_sulfur_dioxide": 14,
         "total_sulfur_dioxide": 38,
         "pH": 3.31,
         "sulphates": 0.62,
         "_deepnote_index_column": "50%"
        },
        {
         "points": 91,
         "price": 28,
         "fixed_acidity": 9.3,
         "volatile_acidity": 0.635,
         "residual_sugar": 2.6,
         "chlorides": 0.091,
         "free_sulfur_dioxide": 21,
         "total_sulfur_dioxide": 64,
         "pH": 3.4,
         "sulphates": 0.73,
         "_deepnote_index_column": "75%"
        },
        {
         "points": 100,
         "price": 450,
         "fixed_acidity": 15.9,
         "volatile_acidity": 1.58,
         "residual_sugar": 15.5,
         "chlorides": 0.611,
         "free_sulfur_dioxide": 72,
         "total_sulfur_dioxide": 289,
         "pH": 4.01,
         "sulphates": 2,
         "_deepnote_index_column": "max"
        }
       ],
       "rows_bottom": null
      },
      "text/plain": "            points        price  fixed_acidity  volatile_acidity  \\\ncount  2465.000000  2196.000000    2465.000000       2465.000000   \nmean     88.811359    24.819217       8.352819          0.528162   \nstd       2.974000    25.539475       1.734847          0.178869   \nmin      81.000000     5.000000       4.600000          0.120000   \n25%      87.000000    12.000000       7.100000          0.400000   \n50%      88.000000    17.000000       7.900000          0.520000   \n75%      91.000000    28.000000       9.300000          0.635000   \nmax     100.000000   450.000000      15.900000          1.580000   \n\n       residual_sugar    chlorides  free_sulfur_dioxide  total_sulfur_dioxide  \\\ncount     2465.000000  2465.000000          2465.000000           2465.000000   \nmean         2.562353     0.087485            15.804665             47.218661   \nstd          1.407030     0.047043            10.379218             33.187830   \nmin          0.900000     0.012000             1.000000              6.000000   \n25%          1.900000     0.070000             7.000000             22.000000   \n50%          2.200000     0.079000            14.000000             38.000000   \n75%          2.600000     0.091000            21.000000             64.000000   \nmax         15.500000     0.611000            72.000000            289.000000   \n\n                pH    sulphates  \ncount  2465.000000  2465.000000  \nmean      3.311201     0.660353  \nstd       0.153927     0.172531  \nmin       2.740000     0.330000  \n25%       3.210000     0.550000  \n50%       3.310000     0.620000  \n75%       3.400000     0.730000  \nmax       4.010000     2.000000  ",
      "text/html": "<div>\n<style scoped>\n    .dataframe tbody tr th:only-of-type {\n        vertical-align: middle;\n    }\n\n    .dataframe tbody tr th {\n        vertical-align: top;\n    }\n\n    .dataframe thead th {\n        text-align: right;\n    }\n</style>\n<table border=\"1\" class=\"dataframe\">\n  <thead>\n    <tr style=\"text-align: right;\">\n      <th></th>\n      <th>points</th>\n      <th>price</th>\n      <th>fixed_acidity</th>\n      <th>volatile_acidity</th>\n      <th>residual_sugar</th>\n      <th>chlorides</th>\n      <th>free_sulfur_dioxide</th>\n      <th>total_sulfur_dioxide</th>\n      <th>pH</th>\n      <th>sulphates</th>\n    </tr>\n  </thead>\n  <tbody>\n    <tr>\n      <th>count</th>\n      <td>2465.000000</td>\n      <td>2196.000000</td>\n      <td>2465.000000</td>\n      <td>2465.000000</td>\n      <td>2465.000000</td>\n      <td>2465.000000</td>\n      <td>2465.000000</td>\n      <td>2465.000000</td>\n      <td>2465.000000</td>\n      <td>2465.000000</td>\n    </tr>\n    <tr>\n      <th>mean</th>\n      <td>88.811359</td>\n      <td>24.819217</td>\n      <td>8.352819</td>\n      <td>0.528162</td>\n      <td>2.562353</td>\n      <td>0.087485</td>\n      <td>15.804665</td>\n      <td>47.218661</td>\n      <td>3.311201</td>\n      <td>0.660353</td>\n    </tr>\n    <tr>\n      <th>std</th>\n      <td>2.974000</td>\n      <td>25.539475</td>\n      <td>1.734847</td>\n      <td>0.178869</td>\n      <td>1.407030</td>\n      <td>0.047043</td>\n      <td>10.379218</td>\n      <td>33.187830</td>\n      <td>0.153927</td>\n      <td>0.172531</td>\n    </tr>\n    <tr>\n      <th>min</th>\n      <td>81.000000</td>\n      <td>5.000000</td>\n      <td>4.600000</td>\n      <td>0.120000</td>\n      <td>0.900000</td>\n      <td>0.012000</td>\n      <td>1.000000</td>\n      <td>6.000000</td>\n      <td>2.740000</td>\n      <td>0.330000</td>\n    </tr>\n    <tr>\n      <th>25%</th>\n      <td>87.000000</td>\n      <td>12.000000</td>\n      <td>7.100000</td>\n      <td>0.400000</td>\n      <td>1.900000</td>\n      <td>0.070000</td>\n      <td>7.000000</td>\n      <td>22.000000</td>\n      <td>3.210000</td>\n      <td>0.550000</td>\n    </tr>\n    <tr>\n      <th>50%</th>\n      <td>88.000000</td>\n      <td>17.000000</td>\n      <td>7.900000</td>\n      <td>0.520000</td>\n      <td>2.200000</td>\n      <td>0.079000</td>\n      <td>14.000000</td>\n      <td>38.000000</td>\n      <td>3.310000</td>\n      <td>0.620000</td>\n    </tr>\n    <tr>\n      <th>75%</th>\n      <td>91.000000</td>\n      <td>28.000000</td>\n      <td>9.300000</td>\n      <td>0.635000</td>\n      <td>2.600000</td>\n      <td>0.091000</td>\n      <td>21.000000</td>\n      <td>64.000000</td>\n      <td>3.400000</td>\n      <td>0.730000</td>\n    </tr>\n    <tr>\n      <th>max</th>\n      <td>100.000000</td>\n      <td>450.000000</td>\n      <td>15.900000</td>\n      <td>1.580000</td>\n      <td>15.500000</td>\n      <td>0.611000</td>\n      <td>72.000000</td>\n      <td>289.000000</td>\n      <td>4.010000</td>\n      <td>2.000000</td>\n    </tr>\n  </tbody>\n</table>\n</div>"
     },
     "metadata": {}
    }
   ]
  },
  {
   "cell_type": "code",
   "metadata": {
    "tags": [],
    "cell_id": "00022-a532c7fe-1b19-457c-90f5-9e5dcfb71b85",
    "deepnote_to_be_reexecuted": false,
    "source_hash": "4d885fa8",
    "execution_start": 1633692054390,
    "execution_millis": 49,
    "deepnote_cell_type": "code"
   },
   "source": "# Check all empty/missing values\ndf.isnull().sum()",
   "execution_count": null,
   "outputs": [
    {
     "output_type": "execute_result",
     "execution_count": 7,
     "data": {
      "text/plain": "country                   0\ndescription               0\ndesignation             153\npoints                    0\nprice                   269\nprovince                  0\ntaster_name               0\ntitle                     0\nvariety                   0\nwinery                    0\nfixed_acidity             0\nvolatile_acidity          0\ncitric_acid               0\nresidual_sugar            0\nchlorides                 0\nfree_sulfur_dioxide       0\ntotal_sulfur_dioxide      0\ndensity                   0\npH                        0\nsulphates                 0\nalcohol                   0\ndtype: int64"
     },
     "metadata": {}
    }
   ]
  },
  {
   "cell_type": "code",
   "metadata": {
    "tags": [],
    "cell_id": "00014-ee8fd4a2-d202-48ab-9376-09af82ad6782",
    "deepnote_to_be_reexecuted": false,
    "source_hash": "29663c7f",
    "execution_start": 1633692054391,
    "execution_millis": 132,
    "deepnote_cell_type": "code"
   },
   "source": "# Outliers from price:\nprice_col = df['price']\noutliers = df[price_col > price_col.mean() + 3 * price_col.std()]\noutliers",
   "execution_count": null,
   "outputs": [
    {
     "output_type": "execute_result",
     "execution_count": 8,
     "data": {
      "application/vnd.deepnote.dataframe.v2+json": {
       "row_count": 20,
       "column_count": 21,
       "columns": [
        {
         "name": "country",
         "dtype": "object",
         "stats": {
          "unique_count": 1,
          "nan_count": 0,
          "categories": [
           {
            "name": "Portugal",
            "count": 20
           }
          ]
         }
        },
        {
         "name": "description",
         "dtype": "object",
         "stats": {
          "unique_count": 19,
          "nan_count": 0,
          "categories": [
           {
            "name": "One of the iconic wines of Portugal, the brand dates back to the 15th century and the Portuguese discovery of Brazil, In its latest incarnation, it is hugely dense and concentrated, It could be that it is too much, with dark extracts, yet somehow the super-ripe plum and berry flavors are given enough freshness, The structure is all there in what is still a young wine, With power and a dense texture, the wine needs to age further, Drink from 2020,",
            "count": 2
           },
           {
            "name": "This is a major Douro wine from the Poças family-owned Port and wine producer, Dusty tannins already give it class as well as richness, Packed with black-plum fruits and with good concentration, the wine is still maturing, It needs to age further, so drink from 2019,",
            "count": 1
           },
           {
            "name": "17 others",
            "count": 17
           }
          ]
         }
        },
        {
         "name": "designation",
         "dtype": "object",
         "stats": {
          "unique_count": 17,
          "nan_count": 0,
          "categories": [
           {
            "name": "Pêra-Manca",
            "count": 2
           },
           {
            "name": "Vinha do Rio",
            "count": 2
           },
           {
            "name": "15 others",
            "count": 16
           }
          ]
         }
        },
        {
         "name": "points",
         "dtype": "int64",
         "stats": {
          "unique_count": 8,
          "nan_count": 0,
          "min": "92",
          "max": "100",
          "histogram": [
           {
            "bin_start": 92,
            "bin_end": 92.8,
            "count": 3
           },
           {
            "bin_start": 92.8,
            "bin_end": 93.6,
            "count": 3
           },
           {
            "bin_start": 93.6,
            "bin_end": 94.4,
            "count": 6
           },
           {
            "bin_start": 94.4,
            "bin_end": 95.2,
            "count": 4
           },
           {
            "bin_start": 95.2,
            "bin_end": 96,
            "count": 0
           },
           {
            "bin_start": 96,
            "bin_end": 96.8,
            "count": 1
           },
           {
            "bin_start": 96.8,
            "bin_end": 97.6,
            "count": 1
           },
           {
            "bin_start": 97.6,
            "bin_end": 98.4,
            "count": 0
           },
           {
            "bin_start": 98.4,
            "bin_end": 99.2,
            "count": 1
           },
           {
            "bin_start": 99.2,
            "bin_end": 100,
            "count": 1
           }
          ]
         }
        },
        {
         "name": "price",
         "dtype": "float64",
         "stats": {
          "unique_count": 14,
          "nan_count": 0,
          "min": "110.0",
          "max": "450.0",
          "histogram": [
           {
            "bin_start": 110,
            "bin_end": 144,
            "count": 7
           },
           {
            "bin_start": 144,
            "bin_end": 178,
            "count": 6
           },
           {
            "bin_start": 178,
            "bin_end": 212,
            "count": 2
           },
           {
            "bin_start": 212,
            "bin_end": 246,
            "count": 0
           },
           {
            "bin_start": 246,
            "bin_end": 280,
            "count": 3
           },
           {
            "bin_start": 280,
            "bin_end": 314,
            "count": 0
           },
           {
            "bin_start": 314,
            "bin_end": 348,
            "count": 0
           },
           {
            "bin_start": 348,
            "bin_end": 382,
            "count": 0
           },
           {
            "bin_start": 382,
            "bin_end": 416,
            "count": 0
           },
           {
            "bin_start": 416,
            "bin_end": 450,
            "count": 2
           }
          ]
         }
        },
        {
         "name": "province",
         "dtype": "object",
         "stats": {
          "unique_count": 3,
          "nan_count": 0,
          "categories": [
           {
            "name": "Douro",
            "count": 14
           },
           {
            "name": "Alentejo",
            "count": 3
           },
           {
            "name": "Alentejano",
            "count": 3
           }
          ]
         }
        },
        {
         "name": "taster_name",
         "dtype": "object",
         "stats": {
          "unique_count": 9,
          "nan_count": 0,
          "categories": [
           {
            "name": "Michael Schachner",
            "count": 5
           },
           {
            "name": "Roger Voss",
            "count": 5
           },
           {
            "name": "7 others",
            "count": 10
           }
          ]
         }
        },
        {
         "name": "title",
         "dtype": "object",
         "stats": {
          "unique_count": 19,
          "nan_count": 0,
          "categories": [
           {
            "name": "Cartuxa 2011 Pêra-Manca Red (Alentejo)",
            "count": 2
           },
           {
            "name": "Poças 2014 Símbolo Red (Douro)",
            "count": 1
           },
           {
            "name": "17 others",
            "count": 17
           }
          ]
         }
        },
        {
         "name": "variety",
         "dtype": "object",
         "stats": {
          "unique_count": 1,
          "nan_count": 0,
          "categories": [
           {
            "name": "Portuguese Red",
            "count": 20
           }
          ]
         }
        },
        {
         "name": "winery",
         "dtype": "object",
         "stats": {
          "unique_count": 12,
          "nan_count": 0,
          "categories": [
           {
            "name": "Quinta Vale Dona Maria",
            "count": 3
           },
           {
            "name": "Casa Ferreirinha",
            "count": 3
           },
           {
            "name": "10 others",
            "count": 14
           }
          ]
         }
        },
        {
         "name": "fixed_acidity",
         "dtype": "float64",
         "stats": {
          "unique_count": 19,
          "nan_count": 0,
          "min": "5.0",
          "max": "11.8",
          "histogram": [
           {
            "bin_start": 5,
            "bin_end": 5.68,
            "count": 2
           },
           {
            "bin_start": 5.68,
            "bin_end": 6.36,
            "count": 0
           },
           {
            "bin_start": 6.36,
            "bin_end": 7.04,
            "count": 5
           },
           {
            "bin_start": 7.04,
            "bin_end": 7.720000000000001,
            "count": 2
           },
           {
            "bin_start": 7.720000000000001,
            "bin_end": 8.4,
            "count": 2
           },
           {
            "bin_start": 8.4,
            "bin_end": 9.08,
            "count": 3
           },
           {
            "bin_start": 9.08,
            "bin_end": 9.760000000000002,
            "count": 1
           },
           {
            "bin_start": 9.760000000000002,
            "bin_end": 10.440000000000001,
            "count": 3
           },
           {
            "bin_start": 10.440000000000001,
            "bin_end": 11.120000000000001,
            "count": 1
           },
           {
            "bin_start": 11.120000000000001,
            "bin_end": 11.8,
            "count": 1
           }
          ]
         }
        },
        {
         "name": "volatile_acidity",
         "dtype": "float64",
         "stats": {
          "unique_count": 15,
          "nan_count": 0,
          "min": "0.26",
          "max": "0.815",
          "histogram": [
           {
            "bin_start": 0.26,
            "bin_end": 0.3155,
            "count": 4
           },
           {
            "bin_start": 0.3155,
            "bin_end": 0.371,
            "count": 9
           },
           {
            "bin_start": 0.371,
            "bin_end": 0.4265,
            "count": 3
           },
           {
            "bin_start": 0.4265,
            "bin_end": 0.482,
            "count": 0
           },
           {
            "bin_start": 0.482,
            "bin_end": 0.5375,
            "count": 0
           },
           {
            "bin_start": 0.5375,
            "bin_end": 0.593,
            "count": 1
           },
           {
            "bin_start": 0.593,
            "bin_end": 0.6485,
            "count": 0
           },
           {
            "bin_start": 0.6485,
            "bin_end": 0.704,
            "count": 1
           },
           {
            "bin_start": 0.704,
            "bin_end": 0.7595,
            "count": 1
           },
           {
            "bin_start": 0.7595,
            "bin_end": 0.815,
            "count": 1
           }
          ]
         }
        },
        {
         "name": "citric_acid",
         "dtype": "object",
         "stats": {
          "unique_count": 17,
          "nan_count": 0,
          "categories": [
           {
            "name": "0.34",
            "count": 3
           },
           {
            "name": "0.53",
            "count": 2
           },
           {
            "name": "15 others",
            "count": 15
           }
          ]
         }
        },
        {
         "name": "residual_sugar",
         "dtype": "float64",
         "stats": {
          "unique_count": 16,
          "nan_count": 0,
          "min": "1.6",
          "max": "6.7",
          "histogram": [
           {
            "bin_start": 1.6,
            "bin_end": 2.1100000000000003,
            "count": 7
           },
           {
            "bin_start": 2.1100000000000003,
            "bin_end": 2.62,
            "count": 5
           },
           {
            "bin_start": 2.62,
            "bin_end": 3.13,
            "count": 2
           },
           {
            "bin_start": 3.13,
            "bin_end": 3.64,
            "count": 3
           },
           {
            "bin_start": 3.64,
            "bin_end": 4.15,
            "count": 0
           },
           {
            "bin_start": 4.15,
            "bin_end": 4.66,
            "count": 0
           },
           {
            "bin_start": 4.66,
            "bin_end": 5.17,
            "count": 0
           },
           {
            "bin_start": 5.17,
            "bin_end": 5.68,
            "count": 0
           },
           {
            "bin_start": 5.68,
            "bin_end": 6.1899999999999995,
            "count": 1
           },
           {
            "bin_start": 6.1899999999999995,
            "bin_end": 6.7,
            "count": 2
           }
          ]
         }
        },
        {
         "name": "chlorides",
         "dtype": "float64",
         "stats": {
          "unique_count": 18,
          "nan_count": 0,
          "min": "0.012",
          "max": "0.114",
          "histogram": [
           {
            "bin_start": 0.012,
            "bin_end": 0.0222,
            "count": 1
           },
           {
            "bin_start": 0.0222,
            "bin_end": 0.0324,
            "count": 0
           },
           {
            "bin_start": 0.0324,
            "bin_end": 0.0426,
            "count": 1
           },
           {
            "bin_start": 0.0426,
            "bin_end": 0.0528,
            "count": 1
           },
           {
            "bin_start": 0.0528,
            "bin_end": 0.063,
            "count": 1
           },
           {
            "bin_start": 0.063,
            "bin_end": 0.0732,
            "count": 8
           },
           {
            "bin_start": 0.0732,
            "bin_end": 0.0834,
            "count": 3
           },
           {
            "bin_start": 0.0834,
            "bin_end": 0.0936,
            "count": 2
           },
           {
            "bin_start": 0.0936,
            "bin_end": 0.1038,
            "count": 1
           },
           {
            "bin_start": 0.1038,
            "bin_end": 0.114,
            "count": 2
           }
          ]
         }
        },
        {
         "name": "free_sulfur_dioxide",
         "dtype": "float64",
         "stats": {
          "unique_count": 17,
          "nan_count": 0,
          "min": "3.0",
          "max": "54.0",
          "histogram": [
           {
            "bin_start": 3,
            "bin_end": 8.1,
            "count": 9
           },
           {
            "bin_start": 8.1,
            "bin_end": 13.2,
            "count": 2
           },
           {
            "bin_start": 13.2,
            "bin_end": 18.299999999999997,
            "count": 4
           },
           {
            "bin_start": 18.299999999999997,
            "bin_end": 23.4,
            "count": 2
           },
           {
            "bin_start": 23.4,
            "bin_end": 28.5,
            "count": 0
           },
           {
            "bin_start": 28.5,
            "bin_end": 33.599999999999994,
            "count": 0
           },
           {
            "bin_start": 33.599999999999994,
            "bin_end": 38.699999999999996,
            "count": 1
           },
           {
            "bin_start": 38.699999999999996,
            "bin_end": 43.8,
            "count": 1
           },
           {
            "bin_start": 43.8,
            "bin_end": 48.9,
            "count": 0
           },
           {
            "bin_start": 48.9,
            "bin_end": 54,
            "count": 1
           }
          ]
         }
        },
        {
         "name": "total_sulfur_dioxide",
         "dtype": "float64",
         "stats": {
          "unique_count": 18,
          "nan_count": 0,
          "min": "8.0",
          "max": "100.0",
          "histogram": [
           {
            "bin_start": 8,
            "bin_end": 17.2,
            "count": 6
           },
           {
            "bin_start": 17.2,
            "bin_end": 26.4,
            "count": 4
           },
           {
            "bin_start": 26.4,
            "bin_end": 35.599999999999994,
            "count": 1
           },
           {
            "bin_start": 35.599999999999994,
            "bin_end": 44.8,
            "count": 3
           },
           {
            "bin_start": 44.8,
            "bin_end": 54,
            "count": 2
           },
           {
            "bin_start": 54,
            "bin_end": 63.199999999999996,
            "count": 0
           },
           {
            "bin_start": 63.199999999999996,
            "bin_end": 72.39999999999999,
            "count": 1
           },
           {
            "bin_start": 72.39999999999999,
            "bin_end": 81.6,
            "count": 2
           },
           {
            "bin_start": 81.6,
            "bin_end": 90.8,
            "count": 0
           },
           {
            "bin_start": 90.8,
            "bin_end": 100,
            "count": 1
           }
          ]
         }
        },
        {
         "name": "density",
         "dtype": "object",
         "stats": {
          "unique_count": 20,
          "nan_count": 0,
          "categories": [
           {
            "name": "0.9933",
            "count": 1
           },
           {
            "name": "0.9955",
            "count": 1
           },
           {
            "name": "18 others",
            "count": 18
           }
          ]
         }
        },
        {
         "name": "pH",
         "dtype": "float64",
         "stats": {
          "unique_count": 17,
          "nan_count": 0,
          "min": "2.98",
          "max": "3.72",
          "histogram": [
           {
            "bin_start": 2.98,
            "bin_end": 3.054,
            "count": 1
           },
           {
            "bin_start": 3.054,
            "bin_end": 3.128,
            "count": 0
           },
           {
            "bin_start": 3.128,
            "bin_end": 3.202,
            "count": 2
           },
           {
            "bin_start": 3.202,
            "bin_end": 3.2760000000000002,
            "count": 7
           },
           {
            "bin_start": 3.2760000000000002,
            "bin_end": 3.35,
            "count": 3
           },
           {
            "bin_start": 3.35,
            "bin_end": 3.4240000000000004,
            "count": 3
           },
           {
            "bin_start": 3.4240000000000004,
            "bin_end": 3.498,
            "count": 1
           },
           {
            "bin_start": 3.498,
            "bin_end": 3.572,
            "count": 0
           },
           {
            "bin_start": 3.572,
            "bin_end": 3.6460000000000004,
            "count": 1
           },
           {
            "bin_start": 3.6460000000000004,
            "bin_end": 3.72,
            "count": 2
           }
          ]
         }
        },
        {
         "name": "sulphates",
         "dtype": "float64",
         "stats": {
          "unique_count": 18,
          "nan_count": 0,
          "min": "0.39",
          "max": "0.89",
          "histogram": [
           {
            "bin_start": 0.39,
            "bin_end": 0.44,
            "count": 1
           },
           {
            "bin_start": 0.44,
            "bin_end": 0.49,
            "count": 0
           },
           {
            "bin_start": 0.49,
            "bin_end": 0.54,
            "count": 1
           },
           {
            "bin_start": 0.54,
            "bin_end": 0.5900000000000001,
            "count": 3
           },
           {
            "bin_start": 0.5900000000000001,
            "bin_end": 0.64,
            "count": 3
           },
           {
            "bin_start": 0.64,
            "bin_end": 0.6900000000000001,
            "count": 1
           },
           {
            "bin_start": 0.6900000000000001,
            "bin_end": 0.74,
            "count": 3
           },
           {
            "bin_start": 0.74,
            "bin_end": 0.79,
            "count": 3
           },
           {
            "bin_start": 0.79,
            "bin_end": 0.8400000000000001,
            "count": 3
           },
           {
            "bin_start": 0.8400000000000001,
            "bin_end": 0.89,
            "count": 2
           }
          ]
         }
        },
        {
         "name": "alcohol",
         "dtype": "object",
         "stats": {
          "unique_count": 15,
          "nan_count": 0,
          "categories": [
           {
            "name": "12",
            "count": 3
           },
           {
            "name": "12.8",
            "count": 2
           },
           {
            "name": "13 others",
            "count": 15
           }
          ]
         }
        },
        {
         "name": "_deepnote_index_column",
         "dtype": "int64"
        }
       ],
       "rows_top": [
        {
         "country": "Portugal",
         "description": "This is a major Douro wine from the Poças family-owned Port and wine producer, Dusty tannins alread…",
         "designation": "Símbolo",
         "points": 94,
         "price": 150,
         "province": "Douro",
         "taster_name": "Matt Kettmann",
         "title": "Poças 2014 Símbolo Red (Douro)",
         "variety": "Portuguese Red",
         "winery": "Poças",
         "fixed_acidity": 7.4,
         "volatile_acidity": 0.36,
         "citric_acid": "0.34",
         "residual_sugar": 1.8,
         "chlorides": 0.075,
         "free_sulfur_dioxide": 18,
         "total_sulfur_dioxide": 38,
         "density": "0.9933",
         "pH": 3.38,
         "sulphates": 0.88,
         "alcohol": "13.6",
         "_deepnote_index_column": 15
        },
        {
         "country": "Portugal",
         "description": "One of the iconic wines of Portugal, the brand dates back to the 15th century and the Portuguese di…",
         "designation": "Pêra-Manca",
         "points": 94,
         "price": 275,
         "province": "Alentejo",
         "taster_name": "Michael Schachner",
         "title": "Cartuxa 2011 Pêra-Manca Red (Alentejo)",
         "variety": "Portuguese Red",
         "winery": "Cartuxa",
         "fixed_acidity": 6.6,
         "volatile_acidity": 0.815,
         "citric_acid": "0.02",
         "residual_sugar": 2.7,
         "chlorides": 0.072,
         "free_sulfur_dioxide": 17,
         "total_sulfur_dioxide": 34,
         "density": "0.9955",
         "pH": 3.58,
         "sulphates": 0.89,
         "alcohol": "12.3",
         "_deepnote_index_column": 279
        },
        {
         "country": "Portugal",
         "description": "This top wine from Quinta Vale Dona Maria comes from a small parcel of old vines on the estate clos…",
         "designation": "Vinha do Rio",
         "points": 95,
         "price": 150,
         "province": "Douro",
         "taster_name": "Jim Gordon",
         "title": "Quinta Vale Dona Maria 2012 Vinha do Rio Red (Douro)",
         "variety": "Portuguese Red",
         "winery": "Quinta Vale Dona Maria",
         "fixed_acidity": 8.8,
         "volatile_acidity": 0.33,
         "citric_acid": "0.41",
         "residual_sugar": 5.9,
         "chlorides": 0.073,
         "free_sulfur_dioxide": 7,
         "total_sulfur_dioxide": 13,
         "density": "0.99658",
         "pH": 3.3,
         "sulphates": 0.62,
         "alcohol": "12.1",
         "_deepnote_index_column": 296
        },
        {
         "country": "Portugal",
         "description": "Produced from selected parcels of fruit in top vintages, this is the flagship wine from this Jorgen…",
         "designation": "Reserva",
         "points": 92,
         "price": 110,
         "province": "Alentejano",
         "taster_name": "Virginie Boone",
         "title": "Cortes de Cima 2012 Reserva Red (Alentejano)",
         "variety": "Portuguese Red",
         "winery": "Cortes de Cima",
         "fixed_acidity": 6.5,
         "volatile_acidity": 0.34,
         "citric_acid": "0.27",
         "residual_sugar": 2.8,
         "chlorides": 0.067,
         "free_sulfur_dioxide": 8,
         "total_sulfur_dioxide": 44,
         "density": "0.99384",
         "pH": 3.21,
         "sulphates": 0.56,
         "alcohol": "12",
         "_deepnote_index_column": 356
        },
        {
         "country": "Portugal",
         "description": "Named after family members called Maria, this is a limited-edition wine, very smooth and rich, offe…",
         "designation": "Marias da Malhadinha",
         "points": 92,
         "price": 158,
         "province": "Alentejano",
         "taster_name": "Sean P. Sullivan",
         "title": "Herdade da Malhadinha Nova 2007 Marias da Malhadinha Red (Alentejano)",
         "variety": "Portuguese Red",
         "winery": "Herdade da Malhadinha Nova",
         "fixed_acidity": 7,
         "volatile_acidity": 0.745,
         "citric_acid": "0.12",
         "residual_sugar": 1.8,
         "chlorides": 0.114,
         "free_sulfur_dioxide": 15,
         "total_sulfur_dioxide": 64,
         "density": "0.99588",
         "pH": 3.22,
         "sulphates": 0.59,
         "alcohol": "9.5",
         "_deepnote_index_column": 530
        },
        {
         "country": "Portugal",
         "description": "Named after the tower that dominates the buildings of Esporão, this wine is the pinnacle of achieve…",
         "designation": "Torre do Esporão Garrafeira",
         "points": 95,
         "price": 180,
         "province": "Alentejo",
         "taster_name": "Sean P. Sullivan",
         "title": "Herdade do Esporão 2011 Torre do Esporão Garrafeira Red (Alentejo)",
         "variety": "Portuguese Red",
         "winery": "Herdade do Esporão",
         "fixed_acidity": 5.6,
         "volatile_acidity": 0.66,
         "citric_acid": " -   ",
         "residual_sugar": 2.2,
         "chlorides": 0.087,
         "free_sulfur_dioxide": 3,
         "total_sulfur_dioxide": 11,
         "density": "0.99378",
         "pH": 3.71,
         "sulphates": 0.63,
         "alcohol": "12.8",
         "_deepnote_index_column": 618
        },
        {
         "country": "Portugal",
         "description": "Made from a field blend of old vines to which some Tinta Roriz added, this powerful, ripe and fruit…",
         "designation": "Referência Grand Reserva",
         "points": 94,
         "price": 110,
         "province": "Douro",
         "taster_name": "Paul Gregutt",
         "title": "Quinta Nova de Nossa Senhora do Carmo 2013 Referência Grand Reserva Red (Douro)",
         "variety": "Portuguese Red",
         "winery": "Quinta Nova de Nossa Senhora do Carmo",
         "fixed_acidity": 11.8,
         "volatile_acidity": 0.33,
         "citric_acid": "0.49",
         "residual_sugar": 3.4,
         "chlorides": 0.093,
         "free_sulfur_dioxide": 54,
         "total_sulfur_dioxide": 80,
         "density": "10.002",
         "pH": 3.3,
         "sulphates": 0.76,
         "alcohol": "10.7",
         "_deepnote_index_column": 818
        },
        {
         "country": "Portugal",
         "description": "This is the latest release of what has long been regarded as Portugal's iconic wine, And it is magn…",
         "designation": "Barca-Velha",
         "points": 100,
         "price": 450,
         "province": "Douro",
         "taster_name": "Michael Schachner",
         "title": "Casa Ferreirinha 2008 Barca-Velha Red (Douro)",
         "variety": "Portuguese Red",
         "winery": "Casa Ferreirinha",
         "fixed_acidity": 7.9,
         "volatile_acidity": 0.54,
         "citric_acid": "0.34",
         "residual_sugar": 2.5,
         "chlorides": 0.076,
         "free_sulfur_dioxide": 8,
         "total_sulfur_dioxide": 17,
         "density": "0.99235",
         "pH": 3.2,
         "sulphates": 0.72,
         "alcohol": "13.1",
         "_deepnote_index_column": 833
        },
        {
         "country": "Portugal",
         "description": "Produced from old vines on the schist slopes of the upper Douro, this is an impressive wine from Ca…",
         "designation": "Unico",
         "points": 95,
         "price": 120,
         "province": "Douro",
         "taster_name": "Jim Gordon",
         "title": "Conceito Vinhos 2015 Unico Red (Douro)",
         "variety": "Portuguese Red",
         "winery": "Conceito Vinhos",
         "fixed_acidity": 6.8,
         "volatile_acidity": 0.36,
         "citric_acid": "0.32",
         "residual_sugar": 1.8,
         "chlorides": 0.067,
         "free_sulfur_dioxide": 4,
         "total_sulfur_dioxide": 8,
         "density": "0.9928",
         "pH": 3.36,
         "sulphates": 0.55,
         "alcohol": "12.8",
         "_deepnote_index_column": 897
        },
        {
         "country": "Portugal",
         "description": "This is the latest release of Portugal's most iconic wine, It's made only in selected years (the la…",
         "designation": "Barca Velha",
         "points": 99,
         "price": 426,
         "province": "Douro",
         "taster_name": "Roger Voss",
         "title": "Casa Ferreirinha 2004 Barca Velha Red (Douro)",
         "variety": "Portuguese Red",
         "winery": "Casa Ferreirinha",
         "fixed_acidity": 10,
         "volatile_acidity": 0.26,
         "citric_acid": "0.54",
         "residual_sugar": 1.9,
         "chlorides": 0.083,
         "free_sulfur_dioxide": 42,
         "total_sulfur_dioxide": 74,
         "density": "0.99451",
         "pH": 2.98,
         "sulphates": 0.63,
         "alcohol": "11.8",
         "_deepnote_index_column": 1078
        },
        {
         "country": "Portugal",
         "description": "Gorgeously impressive wine, super-rich, balanced by acidity, juicy, concentrated red stone fruits, …",
         "designation": "Vinha da Ponte",
         "points": 93,
         "price": 125,
         "province": "Douro",
         "taster_name": "Anne Krebiehl MW",
         "title": "Quinta do Crasto 2007 Vinha da Ponte Red (Douro)",
         "variety": "Portuguese Red",
         "winery": "Quinta do Crasto",
         "fixed_acidity": 9.9,
         "volatile_acidity": 0.4,
         "citric_acid": "0.53",
         "residual_sugar": 6.7,
         "chlorides": 0.097,
         "free_sulfur_dioxide": 6,
         "total_sulfur_dioxide": 19,
         "density": "0.9986",
         "pH": 3.27,
         "sulphates": 0.82,
         "alcohol": "11.7",
         "_deepnote_index_column": 1153
        },
        {
         "country": "Portugal",
         "description": "From old vines, this powerful wine is the epitome of a great Douro red, Its ripe, plum and prune fr…",
         "designation": "Adelaide",
         "points": 93,
         "price": 200,
         "province": "Douro",
         "taster_name": "Roger Voss",
         "title": "Quinta do Vallado 2007 Adelaide Red (Douro)",
         "variety": "Portuguese Red",
         "winery": "Quinta do Vallado",
         "fixed_acidity": 6.7,
         "volatile_acidity": 0.28,
         "citric_acid": "0.28",
         "residual_sugar": 2.4,
         "chlorides": 0.012,
         "free_sulfur_dioxide": 36,
         "total_sulfur_dioxide": 100,
         "density": "0.99064",
         "pH": 3.26,
         "sulphates": 0.39,
         "alcohol": "11.7",
         "_deepnote_index_column": 1154
        },
        {
         "country": "Portugal",
         "description": "Young and with great potential,, this is a powerful, firmly tannic wine, full of wood-aging flavors…",
         "designation": "CV Curriculum Vitae",
         "points": 94,
         "price": 110,
         "province": "Douro",
         "taster_name": "Roger Voss",
         "title": "Quinta Vale Dona Maria 2014 CV Curriculum Vitae Red (Douro)",
         "variety": "Portuguese Red",
         "winery": "Quinta Vale Dona Maria",
         "fixed_acidity": 9.3,
         "volatile_acidity": 0.37,
         "citric_acid": "0.44",
         "residual_sugar": 1.6,
         "chlorides": 0.038,
         "free_sulfur_dioxide": 21,
         "total_sulfur_dioxide": 42,
         "density": "0.99526",
         "pH": 3.24,
         "sulphates": 0.81,
         "alcohol": "10.8",
         "_deepnote_index_column": 1271
        },
        {
         "country": "Portugal",
         "description": "This is a hugely powerful and dense wine, It is packed with dense tannins at this stage although wi…",
         "designation": "Grande Reserva",
         "points": 93,
         "price": 110,
         "province": "Douro",
         "taster_name": "Michael Schachner",
         "title": "Quinta Nova de Nossa Senhora do Carmo 2013 Grande Reserva Red (Douro)",
         "variety": "Portuguese Red",
         "winery": "Quinta Nova de Nossa Senhora do Carmo",
         "fixed_acidity": 10,
         "volatile_acidity": 0.41,
         "citric_acid": "0.45",
         "residual_sugar": 6.2,
         "chlorides": 0.071,
         "free_sulfur_dioxide": 6,
         "total_sulfur_dioxide": 14,
         "density": "0.99702",
         "pH": 3.21,
         "sulphates": 0.49,
         "alcohol": "11.8",
         "_deepnote_index_column": 1391
        },
        {
         "country": "Portugal",
         "description": "Ninety-year-old vines produce this ink-black wine, intensely powerful and concentrated, At this sta…",
         "designation": "Vinha Maria Teresa",
         "points": 95,
         "price": 145,
         "province": "Douro",
         "taster_name": "Susan Kostrzewa",
         "title": "Quinta do Crasto 2009 Vinha Maria Teresa Red (Douro)",
         "variety": "Portuguese Red",
         "winery": "Quinta do Crasto",
         "fixed_acidity": 8.9,
         "volatile_acidity": 0.35,
         "citric_acid": "0.4",
         "residual_sugar": 3.6,
         "chlorides": 0.11,
         "free_sulfur_dioxide": 12,
         "total_sulfur_dioxide": 24,
         "density": "0.99549",
         "pH": 3.23,
         "sulphates": 0.7,
         "alcohol": "12",
         "_deepnote_index_column": 1397
        },
        {
         "country": "Portugal",
         "description": "This Ferreirinha Douro Superior wine is made in exceptional years, The 2007 is the 16th vintage sin…",
         "designation": "Reserva Especial",
         "points": 97,
         "price": 250,
         "province": "Douro",
         "taster_name": "Roger Voss",
         "title": "Casa Ferreirinha 2007 Reserva Especial Red (Douro)",
         "variety": "Portuguese Red",
         "winery": "Casa Ferreirinha",
         "fixed_acidity": 5,
         "volatile_acidity": 0.42,
         "citric_acid": "0.24",
         "residual_sugar": 2,
         "chlorides": 0.06,
         "free_sulfur_dioxide": 19,
         "total_sulfur_dioxide": 50,
         "density": "0.9917",
         "pH": 3.72,
         "sulphates": 0.74,
         "alcohol": "14",
         "_deepnote_index_column": 1417
        },
        {
         "country": "Portugal",
         "description": "Made only in the best years, this flagship wine from Herdade do Zambujal is powerful, solidly tanni…",
         "designation": "Icon d'Azamor",
         "points": 92,
         "price": 120,
         "province": "Alentejano",
         "taster_name": "Roger Voss",
         "title": "Azamor 2010 Icon d'Azamor Red (Alentejano)",
         "variety": "Portuguese Red",
         "winery": "Azamor",
         "fixed_acidity": 7.6,
         "volatile_acidity": 0.3,
         "citric_acid": "0.42",
         "residual_sugar": 2,
         "chlorides": 0.052,
         "free_sulfur_dioxide": 6,
         "total_sulfur_dioxide": 24,
         "density": "0.9963",
         "pH": 3.44,
         "sulphates": 0.82,
         "alcohol": "11.9",
         "_deepnote_index_column": 1479
        },
        {
         "country": "Portugal",
         "description": "One of the iconic wines of Portugal, the brand dates back to the 15th century and the Portuguese di…",
         "designation": "Pêra-Manca",
         "points": 94,
         "price": 275,
         "province": "Alentejo",
         "taster_name": "Michael Schachner",
         "title": "Cartuxa 2011 Pêra-Manca Red (Alentejo)",
         "variety": "Portuguese Red",
         "winery": "Cartuxa",
         "fixed_acidity": 8.2,
         "volatile_acidity": 0.26,
         "citric_acid": "0.34",
         "residual_sugar": 2.5,
         "chlorides": 0.073,
         "free_sulfur_dioxide": 16,
         "total_sulfur_dioxide": 47,
         "density": "0.99594",
         "pH": 3.4,
         "sulphates": 0.78,
         "alcohol": "11.3",
         "_deepnote_index_column": 1501
        },
        {
         "country": "Portugal",
         "description": "As its name suggests this wine comes from vines planted close to the Torto River that runs through …",
         "designation": "Vinha do Rio",
         "points": 96,
         "price": 149,
         "province": "Douro",
         "taster_name": "Michael Schachner",
         "title": "Quinta Vale Dona Maria 2013 Vinha do Rio Red (Douro)",
         "variety": "Portuguese Red",
         "winery": "Quinta Vale Dona Maria",
         "fixed_acidity": 10.7,
         "volatile_acidity": 0.35,
         "citric_acid": "0.53",
         "residual_sugar": 2.6,
         "chlorides": 0.07,
         "free_sulfur_dioxide": 5,
         "total_sulfur_dioxide": 16,
         "density": "0.9972",
         "pH": 3.15,
         "sulphates": 0.65,
         "alcohol": "11",
         "_deepnote_index_column": 1612
        },
        {
         "country": "Portugal",
         "description": "From an old block of vines, producing a field blend of many different varieties, Vinha Maria Teresa…",
         "designation": "Vinha Maria Teresa",
         "points": 94,
         "price": 160,
         "province": "Douro",
         "taster_name": "Matt Kettmann",
         "title": "Quinta do Crasto 2011 Vinha Maria Teresa Red (Douro)",
         "variety": "Portuguese Red",
         "winery": "Quinta do Crasto",
         "fixed_acidity": 8.7,
         "volatile_acidity": 0.33,
         "citric_acid": "0.38",
         "residual_sugar": 3.3,
         "chlorides": 0.063,
         "free_sulfur_dioxide": 10,
         "total_sulfur_dioxide": 19,
         "density": "0.99468",
         "pH": 3.3,
         "sulphates": 0.73,
         "alcohol": "12",
         "_deepnote_index_column": 2021
        }
       ],
       "rows_bottom": null
      },
      "text/plain": "       country                                        description  \\\nid                                                                  \n15    Portugal  This is a major Douro wine from the Poças fami...   \n279   Portugal  One of the iconic wines of Portugal, the brand...   \n296   Portugal  This top wine from Quinta Vale Dona Maria come...   \n356   Portugal  Produced from selected parcels of fruit in top...   \n530   Portugal  Named after family members called Maria, this ...   \n618   Portugal  Named after the tower that dominates the build...   \n818   Portugal  Made from a field blend of old vines to which ...   \n833   Portugal  This is the latest release of what has long be...   \n897   Portugal  Produced from old vines on the schist slopes o...   \n1078  Portugal  This is the latest release of Portugal's most ...   \n1153  Portugal  Gorgeously impressive wine, super-rich, balanc...   \n1154  Portugal  From old vines, this powerful wine is the epit...   \n1271  Portugal  Young and with great potential,, this is a pow...   \n1391  Portugal  This is a hugely powerful and dense wine, It i...   \n1397  Portugal  Ninety-year-old vines produce this ink-black w...   \n1417  Portugal  This Ferreirinha Douro Superior wine is made i...   \n1479  Portugal  Made only in the best years, this flagship win...   \n1501  Portugal  One of the iconic wines of Portugal, the brand...   \n1612  Portugal  As its name suggests this wine comes from vine...   \n2021  Portugal  From an old block of vines, producing a field ...   \n\n                      designation  points  price    province  \\\nid                                                             \n15                        Símbolo      94  150.0       Douro   \n279                    Pêra-Manca      94  275.0    Alentejo   \n296                  Vinha do Rio      95  150.0       Douro   \n356                       Reserva      92  110.0  Alentejano   \n530          Marias da Malhadinha      92  158.0  Alentejano   \n618   Torre do Esporão Garrafeira      95  180.0    Alentejo   \n818      Referência Grand Reserva      94  110.0       Douro   \n833                   Barca-Velha     100  450.0       Douro   \n897                         Unico      95  120.0       Douro   \n1078                  Barca Velha      99  426.0       Douro   \n1153               Vinha da Ponte      93  125.0       Douro   \n1154                     Adelaide      93  200.0       Douro   \n1271          CV Curriculum Vitae      94  110.0       Douro   \n1391               Grande Reserva      93  110.0       Douro   \n1397           Vinha Maria Teresa      95  145.0       Douro   \n1417             Reserva Especial      97  250.0       Douro   \n1479                Icon d'Azamor      92  120.0  Alentejano   \n1501                   Pêra-Manca      94  275.0    Alentejo   \n1612                 Vinha do Rio      96  149.0       Douro   \n2021           Vinha Maria Teresa      94  160.0       Douro   \n\n            taster_name                                              title  \\\nid                                                                           \n15        Matt Kettmann                     Poças 2014 Símbolo Red (Douro)   \n279   Michael Schachner             Cartuxa 2011 Pêra-Manca Red (Alentejo)   \n296          Jim Gordon  Quinta Vale Dona Maria 2012 Vinha do Rio Red (...   \n356      Virginie Boone       Cortes de Cima 2012 Reserva Red (Alentejano)   \n530    Sean P. Sullivan  Herdade da Malhadinha Nova 2007 Marias da Malh...   \n618    Sean P. Sullivan  Herdade do Esporão 2011 Torre do Esporão Garra...   \n818        Paul Gregutt  Quinta Nova de Nossa Senhora do Carmo 2013 Ref...   \n833   Michael Schachner      Casa Ferreirinha 2008 Barca-Velha Red (Douro)   \n897          Jim Gordon             Conceito Vinhos 2015 Unico Red (Douro)   \n1078         Roger Voss      Casa Ferreirinha 2004 Barca Velha Red (Douro)   \n1153   Anne Krebiehl MW   Quinta do Crasto 2007 Vinha da Ponte Red (Douro)   \n1154         Roger Voss        Quinta do Vallado 2007 Adelaide Red (Douro)   \n1271         Roger Voss  Quinta Vale Dona Maria 2014 CV Curriculum Vita...   \n1391  Michael Schachner  Quinta Nova de Nossa Senhora do Carmo 2013 Gra...   \n1397    Susan Kostrzewa  Quinta do Crasto 2009 Vinha Maria Teresa Red (...   \n1417         Roger Voss  Casa Ferreirinha 2007 Reserva Especial Red (Do...   \n1479         Roger Voss         Azamor 2010 Icon d'Azamor Red (Alentejano)   \n1501  Michael Schachner             Cartuxa 2011 Pêra-Manca Red (Alentejo)   \n1612  Michael Schachner  Quinta Vale Dona Maria 2013 Vinha do Rio Red (...   \n2021      Matt Kettmann  Quinta do Crasto 2011 Vinha Maria Teresa Red (...   \n\n             variety                                 winery  ...  \\\nid                                                           ...   \n15    Portuguese Red                                  Poças  ...   \n279   Portuguese Red                                Cartuxa  ...   \n296   Portuguese Red                 Quinta Vale Dona Maria  ...   \n356   Portuguese Red                         Cortes de Cima  ...   \n530   Portuguese Red             Herdade da Malhadinha Nova  ...   \n618   Portuguese Red                     Herdade do Esporão  ...   \n818   Portuguese Red  Quinta Nova de Nossa Senhora do Carmo  ...   \n833   Portuguese Red                       Casa Ferreirinha  ...   \n897   Portuguese Red                        Conceito Vinhos  ...   \n1078  Portuguese Red                       Casa Ferreirinha  ...   \n1153  Portuguese Red                       Quinta do Crasto  ...   \n1154  Portuguese Red                      Quinta do Vallado  ...   \n1271  Portuguese Red                 Quinta Vale Dona Maria  ...   \n1391  Portuguese Red  Quinta Nova de Nossa Senhora do Carmo  ...   \n1397  Portuguese Red                       Quinta do Crasto  ...   \n1417  Portuguese Red                       Casa Ferreirinha  ...   \n1479  Portuguese Red                                 Azamor  ...   \n1501  Portuguese Red                                Cartuxa  ...   \n1612  Portuguese Red                 Quinta Vale Dona Maria  ...   \n2021  Portuguese Red                       Quinta do Crasto  ...   \n\n      volatile_acidity  citric_acid residual_sugar  chlorides  \\\nid                                                              \n15               0.360         0.34            1.8      0.075   \n279              0.815         0.02            2.7      0.072   \n296              0.330         0.41            5.9      0.073   \n356              0.340         0.27            2.8      0.067   \n530              0.745         0.12            1.8      0.114   \n618              0.660         -               2.2      0.087   \n818              0.330         0.49            3.4      0.093   \n833              0.540         0.34            2.5      0.076   \n897              0.360         0.32            1.8      0.067   \n1078             0.260         0.54            1.9      0.083   \n1153             0.400         0.53            6.7      0.097   \n1154             0.280         0.28            2.4      0.012   \n1271             0.370         0.44            1.6      0.038   \n1391             0.410         0.45            6.2      0.071   \n1397             0.350          0.4            3.6      0.110   \n1417             0.420         0.24            2.0      0.060   \n1479             0.300         0.42            2.0      0.052   \n1501             0.260         0.34            2.5      0.073   \n1612             0.350         0.53            2.6      0.070   \n2021             0.330         0.38            3.3      0.063   \n\n      free_sulfur_dioxide  total_sulfur_dioxide  density    pH  sulphates  \\\nid                                                                          \n15                   18.0                  38.0   0.9933  3.38       0.88   \n279                  17.0                  34.0   0.9955  3.58       0.89   \n296                   7.0                  13.0  0.99658  3.30       0.62   \n356                   8.0                  44.0  0.99384  3.21       0.56   \n530                  15.0                  64.0  0.99588  3.22       0.59   \n618                   3.0                  11.0  0.99378  3.71       0.63   \n818                  54.0                  80.0   10.002  3.30       0.76   \n833                   8.0                  17.0  0.99235  3.20       0.72   \n897                   4.0                   8.0   0.9928  3.36       0.55   \n1078                 42.0                  74.0  0.99451  2.98       0.63   \n1153                  6.0                  19.0   0.9986  3.27       0.82   \n1154                 36.0                 100.0  0.99064  3.26       0.39   \n1271                 21.0                  42.0  0.99526  3.24       0.81   \n1391                  6.0                  14.0  0.99702  3.21       0.49   \n1397                 12.0                  24.0  0.99549  3.23       0.70   \n1417                 19.0                  50.0   0.9917  3.72       0.74   \n1479                  6.0                  24.0   0.9963  3.44       0.82   \n1501                 16.0                  47.0  0.99594  3.40       0.78   \n1612                  5.0                  16.0   0.9972  3.15       0.65   \n2021                 10.0                  19.0  0.99468  3.30       0.73   \n\n      alcohol  \nid             \n15       13.6  \n279      12.3  \n296      12.1  \n356        12  \n530       9.5  \n618      12.8  \n818      10.7  \n833      13.1  \n897      12.8  \n1078     11.8  \n1153     11.7  \n1154     11.7  \n1271     10.8  \n1391     11.8  \n1397       12  \n1417       14  \n1479     11.9  \n1501     11.3  \n1612       11  \n2021       12  \n\n[20 rows x 21 columns]",
      "text/html": "<div>\n<style scoped>\n    .dataframe tbody tr th:only-of-type {\n        vertical-align: middle;\n    }\n\n    .dataframe tbody tr th {\n        vertical-align: top;\n    }\n\n    .dataframe thead th {\n        text-align: right;\n    }\n</style>\n<table border=\"1\" class=\"dataframe\">\n  <thead>\n    <tr style=\"text-align: right;\">\n      <th></th>\n      <th>country</th>\n      <th>description</th>\n      <th>designation</th>\n      <th>points</th>\n      <th>price</th>\n      <th>province</th>\n      <th>taster_name</th>\n      <th>title</th>\n      <th>variety</th>\n      <th>winery</th>\n      <th>...</th>\n      <th>volatile_acidity</th>\n      <th>citric_acid</th>\n      <th>residual_sugar</th>\n      <th>chlorides</th>\n      <th>free_sulfur_dioxide</th>\n      <th>total_sulfur_dioxide</th>\n      <th>density</th>\n      <th>pH</th>\n      <th>sulphates</th>\n      <th>alcohol</th>\n    </tr>\n    <tr>\n      <th>id</th>\n      <th></th>\n      <th></th>\n      <th></th>\n      <th></th>\n      <th></th>\n      <th></th>\n      <th></th>\n      <th></th>\n      <th></th>\n      <th></th>\n      <th></th>\n      <th></th>\n      <th></th>\n      <th></th>\n      <th></th>\n      <th></th>\n      <th></th>\n      <th></th>\n      <th></th>\n      <th></th>\n      <th></th>\n    </tr>\n  </thead>\n  <tbody>\n    <tr>\n      <th>15</th>\n      <td>Portugal</td>\n      <td>This is a major Douro wine from the Poças fami...</td>\n      <td>Símbolo</td>\n      <td>94</td>\n      <td>150.0</td>\n      <td>Douro</td>\n      <td>Matt Kettmann</td>\n      <td>Poças 2014 Símbolo Red (Douro)</td>\n      <td>Portuguese Red</td>\n      <td>Poças</td>\n      <td>...</td>\n      <td>0.360</td>\n      <td>0.34</td>\n      <td>1.8</td>\n      <td>0.075</td>\n      <td>18.0</td>\n      <td>38.0</td>\n      <td>0.9933</td>\n      <td>3.38</td>\n      <td>0.88</td>\n      <td>13.6</td>\n    </tr>\n    <tr>\n      <th>279</th>\n      <td>Portugal</td>\n      <td>One of the iconic wines of Portugal, the brand...</td>\n      <td>Pêra-Manca</td>\n      <td>94</td>\n      <td>275.0</td>\n      <td>Alentejo</td>\n      <td>Michael Schachner</td>\n      <td>Cartuxa 2011 Pêra-Manca Red (Alentejo)</td>\n      <td>Portuguese Red</td>\n      <td>Cartuxa</td>\n      <td>...</td>\n      <td>0.815</td>\n      <td>0.02</td>\n      <td>2.7</td>\n      <td>0.072</td>\n      <td>17.0</td>\n      <td>34.0</td>\n      <td>0.9955</td>\n      <td>3.58</td>\n      <td>0.89</td>\n      <td>12.3</td>\n    </tr>\n    <tr>\n      <th>296</th>\n      <td>Portugal</td>\n      <td>This top wine from Quinta Vale Dona Maria come...</td>\n      <td>Vinha do Rio</td>\n      <td>95</td>\n      <td>150.0</td>\n      <td>Douro</td>\n      <td>Jim Gordon</td>\n      <td>Quinta Vale Dona Maria 2012 Vinha do Rio Red (...</td>\n      <td>Portuguese Red</td>\n      <td>Quinta Vale Dona Maria</td>\n      <td>...</td>\n      <td>0.330</td>\n      <td>0.41</td>\n      <td>5.9</td>\n      <td>0.073</td>\n      <td>7.0</td>\n      <td>13.0</td>\n      <td>0.99658</td>\n      <td>3.30</td>\n      <td>0.62</td>\n      <td>12.1</td>\n    </tr>\n    <tr>\n      <th>356</th>\n      <td>Portugal</td>\n      <td>Produced from selected parcels of fruit in top...</td>\n      <td>Reserva</td>\n      <td>92</td>\n      <td>110.0</td>\n      <td>Alentejano</td>\n      <td>Virginie Boone</td>\n      <td>Cortes de Cima 2012 Reserva Red (Alentejano)</td>\n      <td>Portuguese Red</td>\n      <td>Cortes de Cima</td>\n      <td>...</td>\n      <td>0.340</td>\n      <td>0.27</td>\n      <td>2.8</td>\n      <td>0.067</td>\n      <td>8.0</td>\n      <td>44.0</td>\n      <td>0.99384</td>\n      <td>3.21</td>\n      <td>0.56</td>\n      <td>12</td>\n    </tr>\n    <tr>\n      <th>530</th>\n      <td>Portugal</td>\n      <td>Named after family members called Maria, this ...</td>\n      <td>Marias da Malhadinha</td>\n      <td>92</td>\n      <td>158.0</td>\n      <td>Alentejano</td>\n      <td>Sean P. Sullivan</td>\n      <td>Herdade da Malhadinha Nova 2007 Marias da Malh...</td>\n      <td>Portuguese Red</td>\n      <td>Herdade da Malhadinha Nova</td>\n      <td>...</td>\n      <td>0.745</td>\n      <td>0.12</td>\n      <td>1.8</td>\n      <td>0.114</td>\n      <td>15.0</td>\n      <td>64.0</td>\n      <td>0.99588</td>\n      <td>3.22</td>\n      <td>0.59</td>\n      <td>9.5</td>\n    </tr>\n    <tr>\n      <th>618</th>\n      <td>Portugal</td>\n      <td>Named after the tower that dominates the build...</td>\n      <td>Torre do Esporão Garrafeira</td>\n      <td>95</td>\n      <td>180.0</td>\n      <td>Alentejo</td>\n      <td>Sean P. Sullivan</td>\n      <td>Herdade do Esporão 2011 Torre do Esporão Garra...</td>\n      <td>Portuguese Red</td>\n      <td>Herdade do Esporão</td>\n      <td>...</td>\n      <td>0.660</td>\n      <td>-</td>\n      <td>2.2</td>\n      <td>0.087</td>\n      <td>3.0</td>\n      <td>11.0</td>\n      <td>0.99378</td>\n      <td>3.71</td>\n      <td>0.63</td>\n      <td>12.8</td>\n    </tr>\n    <tr>\n      <th>818</th>\n      <td>Portugal</td>\n      <td>Made from a field blend of old vines to which ...</td>\n      <td>Referência Grand Reserva</td>\n      <td>94</td>\n      <td>110.0</td>\n      <td>Douro</td>\n      <td>Paul Gregutt</td>\n      <td>Quinta Nova de Nossa Senhora do Carmo 2013 Ref...</td>\n      <td>Portuguese Red</td>\n      <td>Quinta Nova de Nossa Senhora do Carmo</td>\n      <td>...</td>\n      <td>0.330</td>\n      <td>0.49</td>\n      <td>3.4</td>\n      <td>0.093</td>\n      <td>54.0</td>\n      <td>80.0</td>\n      <td>10.002</td>\n      <td>3.30</td>\n      <td>0.76</td>\n      <td>10.7</td>\n    </tr>\n    <tr>\n      <th>833</th>\n      <td>Portugal</td>\n      <td>This is the latest release of what has long be...</td>\n      <td>Barca-Velha</td>\n      <td>100</td>\n      <td>450.0</td>\n      <td>Douro</td>\n      <td>Michael Schachner</td>\n      <td>Casa Ferreirinha 2008 Barca-Velha Red (Douro)</td>\n      <td>Portuguese Red</td>\n      <td>Casa Ferreirinha</td>\n      <td>...</td>\n      <td>0.540</td>\n      <td>0.34</td>\n      <td>2.5</td>\n      <td>0.076</td>\n      <td>8.0</td>\n      <td>17.0</td>\n      <td>0.99235</td>\n      <td>3.20</td>\n      <td>0.72</td>\n      <td>13.1</td>\n    </tr>\n    <tr>\n      <th>897</th>\n      <td>Portugal</td>\n      <td>Produced from old vines on the schist slopes o...</td>\n      <td>Unico</td>\n      <td>95</td>\n      <td>120.0</td>\n      <td>Douro</td>\n      <td>Jim Gordon</td>\n      <td>Conceito Vinhos 2015 Unico Red (Douro)</td>\n      <td>Portuguese Red</td>\n      <td>Conceito Vinhos</td>\n      <td>...</td>\n      <td>0.360</td>\n      <td>0.32</td>\n      <td>1.8</td>\n      <td>0.067</td>\n      <td>4.0</td>\n      <td>8.0</td>\n      <td>0.9928</td>\n      <td>3.36</td>\n      <td>0.55</td>\n      <td>12.8</td>\n    </tr>\n    <tr>\n      <th>1078</th>\n      <td>Portugal</td>\n      <td>This is the latest release of Portugal's most ...</td>\n      <td>Barca Velha</td>\n      <td>99</td>\n      <td>426.0</td>\n      <td>Douro</td>\n      <td>Roger Voss</td>\n      <td>Casa Ferreirinha 2004 Barca Velha Red (Douro)</td>\n      <td>Portuguese Red</td>\n      <td>Casa Ferreirinha</td>\n      <td>...</td>\n      <td>0.260</td>\n      <td>0.54</td>\n      <td>1.9</td>\n      <td>0.083</td>\n      <td>42.0</td>\n      <td>74.0</td>\n      <td>0.99451</td>\n      <td>2.98</td>\n      <td>0.63</td>\n      <td>11.8</td>\n    </tr>\n    <tr>\n      <th>1153</th>\n      <td>Portugal</td>\n      <td>Gorgeously impressive wine, super-rich, balanc...</td>\n      <td>Vinha da Ponte</td>\n      <td>93</td>\n      <td>125.0</td>\n      <td>Douro</td>\n      <td>Anne Krebiehl MW</td>\n      <td>Quinta do Crasto 2007 Vinha da Ponte Red (Douro)</td>\n      <td>Portuguese Red</td>\n      <td>Quinta do Crasto</td>\n      <td>...</td>\n      <td>0.400</td>\n      <td>0.53</td>\n      <td>6.7</td>\n      <td>0.097</td>\n      <td>6.0</td>\n      <td>19.0</td>\n      <td>0.9986</td>\n      <td>3.27</td>\n      <td>0.82</td>\n      <td>11.7</td>\n    </tr>\n    <tr>\n      <th>1154</th>\n      <td>Portugal</td>\n      <td>From old vines, this powerful wine is the epit...</td>\n      <td>Adelaide</td>\n      <td>93</td>\n      <td>200.0</td>\n      <td>Douro</td>\n      <td>Roger Voss</td>\n      <td>Quinta do Vallado 2007 Adelaide Red (Douro)</td>\n      <td>Portuguese Red</td>\n      <td>Quinta do Vallado</td>\n      <td>...</td>\n      <td>0.280</td>\n      <td>0.28</td>\n      <td>2.4</td>\n      <td>0.012</td>\n      <td>36.0</td>\n      <td>100.0</td>\n      <td>0.99064</td>\n      <td>3.26</td>\n      <td>0.39</td>\n      <td>11.7</td>\n    </tr>\n    <tr>\n      <th>1271</th>\n      <td>Portugal</td>\n      <td>Young and with great potential,, this is a pow...</td>\n      <td>CV Curriculum Vitae</td>\n      <td>94</td>\n      <td>110.0</td>\n      <td>Douro</td>\n      <td>Roger Voss</td>\n      <td>Quinta Vale Dona Maria 2014 CV Curriculum Vita...</td>\n      <td>Portuguese Red</td>\n      <td>Quinta Vale Dona Maria</td>\n      <td>...</td>\n      <td>0.370</td>\n      <td>0.44</td>\n      <td>1.6</td>\n      <td>0.038</td>\n      <td>21.0</td>\n      <td>42.0</td>\n      <td>0.99526</td>\n      <td>3.24</td>\n      <td>0.81</td>\n      <td>10.8</td>\n    </tr>\n    <tr>\n      <th>1391</th>\n      <td>Portugal</td>\n      <td>This is a hugely powerful and dense wine, It i...</td>\n      <td>Grande Reserva</td>\n      <td>93</td>\n      <td>110.0</td>\n      <td>Douro</td>\n      <td>Michael Schachner</td>\n      <td>Quinta Nova de Nossa Senhora do Carmo 2013 Gra...</td>\n      <td>Portuguese Red</td>\n      <td>Quinta Nova de Nossa Senhora do Carmo</td>\n      <td>...</td>\n      <td>0.410</td>\n      <td>0.45</td>\n      <td>6.2</td>\n      <td>0.071</td>\n      <td>6.0</td>\n      <td>14.0</td>\n      <td>0.99702</td>\n      <td>3.21</td>\n      <td>0.49</td>\n      <td>11.8</td>\n    </tr>\n    <tr>\n      <th>1397</th>\n      <td>Portugal</td>\n      <td>Ninety-year-old vines produce this ink-black w...</td>\n      <td>Vinha Maria Teresa</td>\n      <td>95</td>\n      <td>145.0</td>\n      <td>Douro</td>\n      <td>Susan Kostrzewa</td>\n      <td>Quinta do Crasto 2009 Vinha Maria Teresa Red (...</td>\n      <td>Portuguese Red</td>\n      <td>Quinta do Crasto</td>\n      <td>...</td>\n      <td>0.350</td>\n      <td>0.4</td>\n      <td>3.6</td>\n      <td>0.110</td>\n      <td>12.0</td>\n      <td>24.0</td>\n      <td>0.99549</td>\n      <td>3.23</td>\n      <td>0.70</td>\n      <td>12</td>\n    </tr>\n    <tr>\n      <th>1417</th>\n      <td>Portugal</td>\n      <td>This Ferreirinha Douro Superior wine is made i...</td>\n      <td>Reserva Especial</td>\n      <td>97</td>\n      <td>250.0</td>\n      <td>Douro</td>\n      <td>Roger Voss</td>\n      <td>Casa Ferreirinha 2007 Reserva Especial Red (Do...</td>\n      <td>Portuguese Red</td>\n      <td>Casa Ferreirinha</td>\n      <td>...</td>\n      <td>0.420</td>\n      <td>0.24</td>\n      <td>2.0</td>\n      <td>0.060</td>\n      <td>19.0</td>\n      <td>50.0</td>\n      <td>0.9917</td>\n      <td>3.72</td>\n      <td>0.74</td>\n      <td>14</td>\n    </tr>\n    <tr>\n      <th>1479</th>\n      <td>Portugal</td>\n      <td>Made only in the best years, this flagship win...</td>\n      <td>Icon d'Azamor</td>\n      <td>92</td>\n      <td>120.0</td>\n      <td>Alentejano</td>\n      <td>Roger Voss</td>\n      <td>Azamor 2010 Icon d'Azamor Red (Alentejano)</td>\n      <td>Portuguese Red</td>\n      <td>Azamor</td>\n      <td>...</td>\n      <td>0.300</td>\n      <td>0.42</td>\n      <td>2.0</td>\n      <td>0.052</td>\n      <td>6.0</td>\n      <td>24.0</td>\n      <td>0.9963</td>\n      <td>3.44</td>\n      <td>0.82</td>\n      <td>11.9</td>\n    </tr>\n    <tr>\n      <th>1501</th>\n      <td>Portugal</td>\n      <td>One of the iconic wines of Portugal, the brand...</td>\n      <td>Pêra-Manca</td>\n      <td>94</td>\n      <td>275.0</td>\n      <td>Alentejo</td>\n      <td>Michael Schachner</td>\n      <td>Cartuxa 2011 Pêra-Manca Red (Alentejo)</td>\n      <td>Portuguese Red</td>\n      <td>Cartuxa</td>\n      <td>...</td>\n      <td>0.260</td>\n      <td>0.34</td>\n      <td>2.5</td>\n      <td>0.073</td>\n      <td>16.0</td>\n      <td>47.0</td>\n      <td>0.99594</td>\n      <td>3.40</td>\n      <td>0.78</td>\n      <td>11.3</td>\n    </tr>\n    <tr>\n      <th>1612</th>\n      <td>Portugal</td>\n      <td>As its name suggests this wine comes from vine...</td>\n      <td>Vinha do Rio</td>\n      <td>96</td>\n      <td>149.0</td>\n      <td>Douro</td>\n      <td>Michael Schachner</td>\n      <td>Quinta Vale Dona Maria 2013 Vinha do Rio Red (...</td>\n      <td>Portuguese Red</td>\n      <td>Quinta Vale Dona Maria</td>\n      <td>...</td>\n      <td>0.350</td>\n      <td>0.53</td>\n      <td>2.6</td>\n      <td>0.070</td>\n      <td>5.0</td>\n      <td>16.0</td>\n      <td>0.9972</td>\n      <td>3.15</td>\n      <td>0.65</td>\n      <td>11</td>\n    </tr>\n    <tr>\n      <th>2021</th>\n      <td>Portugal</td>\n      <td>From an old block of vines, producing a field ...</td>\n      <td>Vinha Maria Teresa</td>\n      <td>94</td>\n      <td>160.0</td>\n      <td>Douro</td>\n      <td>Matt Kettmann</td>\n      <td>Quinta do Crasto 2011 Vinha Maria Teresa Red (...</td>\n      <td>Portuguese Red</td>\n      <td>Quinta do Crasto</td>\n      <td>...</td>\n      <td>0.330</td>\n      <td>0.38</td>\n      <td>3.3</td>\n      <td>0.063</td>\n      <td>10.0</td>\n      <td>19.0</td>\n      <td>0.99468</td>\n      <td>3.30</td>\n      <td>0.73</td>\n      <td>12</td>\n    </tr>\n  </tbody>\n</table>\n<p>20 rows × 21 columns</p>\n</div>"
     },
     "metadata": {}
    }
   ]
  },
  {
   "cell_type": "code",
   "metadata": {
    "tags": [],
    "cell_id": "00010-338dbb86-9e19-40a2-90f9-00ba4685df40",
    "deepnote_to_be_reexecuted": false,
    "source_hash": "eca005ad",
    "execution_start": 1633692054590,
    "execution_millis": 82,
    "deepnote_cell_type": "code"
   },
   "source": "# Here we drop the wines from the dataframe with a higher value of chloride than legally allowed in Australia.\n# In other countries the maximum value varies \"When wine contains excess sodium (excess sodium is equal to the content of\n# sodium ions less the content of chloride ions expressed as sodium), it is generally\n# less than 60 mg/L, a limit which may be exceeded in exceptional cases.\" - https://www.oiv.int/public/medias/2604/oiv-ma-d1-03.pdf\ndf.drop(df[df.chlorides < 0.606].index)",
   "execution_count": null,
   "outputs": [
    {
     "output_type": "execute_result",
     "execution_count": 9,
     "data": {
      "application/vnd.deepnote.dataframe.v2+json": {
       "row_count": 3,
       "column_count": 21,
       "columns": [
        {
         "name": "country",
         "dtype": "object",
         "stats": {
          "unique_count": 1,
          "nan_count": 0,
          "categories": [
           {
            "name": "Portugal",
            "count": 3
           }
          ]
         }
        },
        {
         "name": "description",
         "dtype": "object",
         "stats": {
          "unique_count": 3,
          "nan_count": 0,
          "categories": [
           {
            "name": "This wine has tannins and a solid structure that is balanced by the bright red fruits, The wine is juicy, fruity and ready to drink,",
            "count": 1
           },
           {
            "name": "The huge concentration of this wine reflects the hot 2003 vintage, There are aromas of ripe fruit skins, and flavors of big, juicy, hugely rich black fruits, with dark tannins and a hot texture,",
            "count": 1
           },
           {
            "name": "Bigode, the mustache, is a soft and juicy wine, light in texture with strong acidity, Red berry fruits are prominent, fragrant and perfumed, Drink now,",
            "count": 1
           }
          ]
         }
        },
        {
         "name": "designation",
         "dtype": "object",
         "stats": {
          "unique_count": 2,
          "nan_count": 1,
          "categories": [
           {
            "name": "Marquès de Borba Reserva",
            "count": 1
           },
           {
            "name": "Bigode",
            "count": 1
           },
           {
            "name": "Missing",
            "count": 1
           }
          ]
         }
        },
        {
         "name": "points",
         "dtype": "int64",
         "stats": {
          "unique_count": 3,
          "nan_count": 0,
          "min": "83",
          "max": "87",
          "histogram": [
           {
            "bin_start": 83,
            "bin_end": 83.4,
            "count": 1
           },
           {
            "bin_start": 83.4,
            "bin_end": 83.8,
            "count": 0
           },
           {
            "bin_start": 83.8,
            "bin_end": 84.2,
            "count": 0
           },
           {
            "bin_start": 84.2,
            "bin_end": 84.6,
            "count": 0
           },
           {
            "bin_start": 84.6,
            "bin_end": 85,
            "count": 0
           },
           {
            "bin_start": 85,
            "bin_end": 85.4,
            "count": 0
           },
           {
            "bin_start": 85.4,
            "bin_end": 85.8,
            "count": 0
           },
           {
            "bin_start": 85.8,
            "bin_end": 86.2,
            "count": 1
           },
           {
            "bin_start": 86.2,
            "bin_end": 86.6,
            "count": 0
           },
           {
            "bin_start": 86.6,
            "bin_end": 87,
            "count": 1
           }
          ]
         }
        },
        {
         "name": "price",
         "dtype": "float64",
         "stats": {
          "unique_count": 2,
          "nan_count": 1,
          "min": "8.0",
          "max": "27.0",
          "histogram": [
           {
            "bin_start": 8,
            "bin_end": 9.9,
            "count": 1
           },
           {
            "bin_start": 9.9,
            "bin_end": 11.8,
            "count": 0
           },
           {
            "bin_start": 11.8,
            "bin_end": 13.7,
            "count": 0
           },
           {
            "bin_start": 13.7,
            "bin_end": 15.6,
            "count": 0
           },
           {
            "bin_start": 15.6,
            "bin_end": 17.5,
            "count": 0
           },
           {
            "bin_start": 17.5,
            "bin_end": 19.4,
            "count": 0
           },
           {
            "bin_start": 19.4,
            "bin_end": 21.299999999999997,
            "count": 0
           },
           {
            "bin_start": 21.299999999999997,
            "bin_end": 23.2,
            "count": 0
           },
           {
            "bin_start": 23.2,
            "bin_end": 25.099999999999998,
            "count": 0
           },
           {
            "bin_start": 25.099999999999998,
            "bin_end": 27,
            "count": 1
           }
          ]
         }
        },
        {
         "name": "province",
         "dtype": "object",
         "stats": {
          "unique_count": 3,
          "nan_count": 0,
          "categories": [
           {
            "name": "Douro",
            "count": 1
           },
           {
            "name": "Alentejo",
            "count": 1
           },
           {
            "name": "Lisboa",
            "count": 1
           }
          ]
         }
        },
        {
         "name": "taster_name",
         "dtype": "object",
         "stats": {
          "unique_count": 2,
          "nan_count": 0,
          "categories": [
           {
            "name": "Roger Voss",
            "count": 2
           },
           {
            "name": "Jim Gordon",
            "count": 1
           }
          ]
         }
        },
        {
         "name": "title",
         "dtype": "object",
         "stats": {
          "unique_count": 3,
          "nan_count": 0,
          "categories": [
           {
            "name": "Quinta do Pessegueiro 2012 Red (Douro)",
            "count": 1
           },
           {
            "name": "J, Portugal Ramos 2003 Marquès de Borba Reserva Red (Alentejo)",
            "count": 1
           },
           {
            "name": "DFJ Vinhos 2010 Bigode Red (Lisboa)",
            "count": 1
           }
          ]
         }
        },
        {
         "name": "variety",
         "dtype": "object",
         "stats": {
          "unique_count": 1,
          "nan_count": 0,
          "categories": [
           {
            "name": "Portuguese Red",
            "count": 3
           }
          ]
         }
        },
        {
         "name": "winery",
         "dtype": "object",
         "stats": {
          "unique_count": 3,
          "nan_count": 0,
          "categories": [
           {
            "name": "Quinta do Pessegueiro",
            "count": 1
           },
           {
            "name": "J, Portugal Ramos",
            "count": 1
           },
           {
            "name": "DFJ Vinhos",
            "count": 1
           }
          ]
         }
        },
        {
         "name": "fixed_acidity",
         "dtype": "float64",
         "stats": {
          "unique_count": 2,
          "nan_count": 0,
          "min": "7.7",
          "max": "9.2",
          "histogram": [
           {
            "bin_start": 7.7,
            "bin_end": 7.85,
            "count": 2
           },
           {
            "bin_start": 7.85,
            "bin_end": 8,
            "count": 0
           },
           {
            "bin_start": 8,
            "bin_end": 8.15,
            "count": 0
           },
           {
            "bin_start": 8.15,
            "bin_end": 8.3,
            "count": 0
           },
           {
            "bin_start": 8.3,
            "bin_end": 8.45,
            "count": 0
           },
           {
            "bin_start": 8.45,
            "bin_end": 8.6,
            "count": 0
           },
           {
            "bin_start": 8.6,
            "bin_end": 8.75,
            "count": 0
           },
           {
            "bin_start": 8.75,
            "bin_end": 8.899999999999999,
            "count": 0
           },
           {
            "bin_start": 8.899999999999999,
            "bin_end": 9.049999999999999,
            "count": 0
           },
           {
            "bin_start": 9.049999999999999,
            "bin_end": 9.2,
            "count": 1
           }
          ]
         }
        },
        {
         "name": "volatile_acidity",
         "dtype": "float64",
         "stats": {
          "unique_count": 2,
          "nan_count": 0,
          "min": "0.41",
          "max": "0.52",
          "histogram": [
           {
            "bin_start": 0.41,
            "bin_end": 0.421,
            "count": 2
           },
           {
            "bin_start": 0.421,
            "bin_end": 0.432,
            "count": 0
           },
           {
            "bin_start": 0.432,
            "bin_end": 0.443,
            "count": 0
           },
           {
            "bin_start": 0.443,
            "bin_end": 0.454,
            "count": 0
           },
           {
            "bin_start": 0.454,
            "bin_end": 0.46499999999999997,
            "count": 0
           },
           {
            "bin_start": 0.46499999999999997,
            "bin_end": 0.476,
            "count": 0
           },
           {
            "bin_start": 0.476,
            "bin_end": 0.487,
            "count": 0
           },
           {
            "bin_start": 0.487,
            "bin_end": 0.498,
            "count": 0
           },
           {
            "bin_start": 0.498,
            "bin_end": 0.509,
            "count": 0
           },
           {
            "bin_start": 0.509,
            "bin_end": 0.52,
            "count": 1
           }
          ]
         }
        },
        {
         "name": "citric_acid",
         "dtype": "object",
         "stats": {
          "unique_count": 2,
          "nan_count": 0,
          "categories": [
           {
            "name": "0.76",
            "count": 2
           },
           {
            "name": "1",
            "count": 1
           }
          ]
         }
        },
        {
         "name": "residual_sugar",
         "dtype": "float64",
         "stats": {
          "unique_count": 2,
          "nan_count": 0,
          "min": "1.8",
          "max": "3.4",
          "histogram": [
           {
            "bin_start": 1.8,
            "bin_end": 1.96,
            "count": 2
           },
           {
            "bin_start": 1.96,
            "bin_end": 2.12,
            "count": 0
           },
           {
            "bin_start": 2.12,
            "bin_end": 2.28,
            "count": 0
           },
           {
            "bin_start": 2.28,
            "bin_end": 2.44,
            "count": 0
           },
           {
            "bin_start": 2.44,
            "bin_end": 2.5999999999999996,
            "count": 0
           },
           {
            "bin_start": 2.5999999999999996,
            "bin_end": 2.76,
            "count": 0
           },
           {
            "bin_start": 2.76,
            "bin_end": 2.92,
            "count": 0
           },
           {
            "bin_start": 2.92,
            "bin_end": 3.08,
            "count": 0
           },
           {
            "bin_start": 3.08,
            "bin_end": 3.2399999999999998,
            "count": 0
           },
           {
            "bin_start": 3.2399999999999998,
            "bin_end": 3.4,
            "count": 1
           }
          ]
         }
        },
        {
         "name": "chlorides",
         "dtype": "float64",
         "stats": {
          "unique_count": 2,
          "nan_count": 0,
          "min": "0.61",
          "max": "0.611",
          "histogram": [
           {
            "bin_start": 0.61,
            "bin_end": 0.6101,
            "count": 1
           },
           {
            "bin_start": 0.6101,
            "bin_end": 0.6102,
            "count": 0
           },
           {
            "bin_start": 0.6102,
            "bin_end": 0.6103,
            "count": 0
           },
           {
            "bin_start": 0.6103,
            "bin_end": 0.6103999999999999,
            "count": 0
           },
           {
            "bin_start": 0.6103999999999999,
            "bin_end": 0.6105,
            "count": 0
           },
           {
            "bin_start": 0.6105,
            "bin_end": 0.6106,
            "count": 0
           },
           {
            "bin_start": 0.6106,
            "bin_end": 0.6107,
            "count": 0
           },
           {
            "bin_start": 0.6107,
            "bin_end": 0.6108,
            "count": 0
           },
           {
            "bin_start": 0.6108,
            "bin_end": 0.6109,
            "count": 0
           },
           {
            "bin_start": 0.6109,
            "bin_end": 0.611,
            "count": 2
           }
          ]
         }
        },
        {
         "name": "free_sulfur_dioxide",
         "dtype": "float64",
         "stats": {
          "unique_count": 2,
          "nan_count": 0,
          "min": "8.0",
          "max": "32.0",
          "histogram": [
           {
            "bin_start": 8,
            "bin_end": 10.4,
            "count": 2
           },
           {
            "bin_start": 10.4,
            "bin_end": 12.8,
            "count": 0
           },
           {
            "bin_start": 12.8,
            "bin_end": 15.2,
            "count": 0
           },
           {
            "bin_start": 15.2,
            "bin_end": 17.6,
            "count": 0
           },
           {
            "bin_start": 17.6,
            "bin_end": 20,
            "count": 0
           },
           {
            "bin_start": 20,
            "bin_end": 22.4,
            "count": 0
           },
           {
            "bin_start": 22.4,
            "bin_end": 24.8,
            "count": 0
           },
           {
            "bin_start": 24.8,
            "bin_end": 27.2,
            "count": 0
           },
           {
            "bin_start": 27.2,
            "bin_end": 29.599999999999998,
            "count": 0
           },
           {
            "bin_start": 29.599999999999998,
            "bin_end": 32,
            "count": 1
           }
          ]
         }
        },
        {
         "name": "total_sulfur_dioxide",
         "dtype": "float64",
         "stats": {
          "unique_count": 2,
          "nan_count": 0,
          "min": "45.0",
          "max": "69.0",
          "histogram": [
           {
            "bin_start": 45,
            "bin_end": 47.4,
            "count": 2
           },
           {
            "bin_start": 47.4,
            "bin_end": 49.8,
            "count": 0
           },
           {
            "bin_start": 49.8,
            "bin_end": 52.2,
            "count": 0
           },
           {
            "bin_start": 52.2,
            "bin_end": 54.6,
            "count": 0
           },
           {
            "bin_start": 54.6,
            "bin_end": 57,
            "count": 0
           },
           {
            "bin_start": 57,
            "bin_end": 59.4,
            "count": 0
           },
           {
            "bin_start": 59.4,
            "bin_end": 61.8,
            "count": 0
           },
           {
            "bin_start": 61.8,
            "bin_end": 64.2,
            "count": 0
           },
           {
            "bin_start": 64.2,
            "bin_end": 66.6,
            "count": 0
           },
           {
            "bin_start": 66.6,
            "bin_end": 69,
            "count": 1
           }
          ]
         }
        },
        {
         "name": "density",
         "dtype": "object",
         "stats": {
          "unique_count": 2,
          "nan_count": 0,
          "categories": [
           {
            "name": "0.9968",
            "count": 2
           },
           {
            "name": "0.9996",
            "count": 1
           }
          ]
         }
        },
        {
         "name": "pH",
         "dtype": "float64",
         "stats": {
          "unique_count": 2,
          "nan_count": 0,
          "min": "2.74",
          "max": "3.06",
          "histogram": [
           {
            "bin_start": 2.74,
            "bin_end": 2.7720000000000002,
            "count": 1
           },
           {
            "bin_start": 2.7720000000000002,
            "bin_end": 2.8040000000000003,
            "count": 0
           },
           {
            "bin_start": 2.8040000000000003,
            "bin_end": 2.8360000000000003,
            "count": 0
           },
           {
            "bin_start": 2.8360000000000003,
            "bin_end": 2.8680000000000003,
            "count": 0
           },
           {
            "bin_start": 2.8680000000000003,
            "bin_end": 2.9000000000000004,
            "count": 0
           },
           {
            "bin_start": 2.9000000000000004,
            "bin_end": 2.932,
            "count": 0
           },
           {
            "bin_start": 2.932,
            "bin_end": 2.964,
            "count": 0
           },
           {
            "bin_start": 2.964,
            "bin_end": 2.996,
            "count": 0
           },
           {
            "bin_start": 2.996,
            "bin_end": 3.028,
            "count": 0
           },
           {
            "bin_start": 3.028,
            "bin_end": 3.06,
            "count": 2
           }
          ]
         }
        },
        {
         "name": "sulphates",
         "dtype": "float64",
         "stats": {
          "unique_count": 2,
          "nan_count": 0,
          "min": "1.26",
          "max": "2.0",
          "histogram": [
           {
            "bin_start": 1.26,
            "bin_end": 1.334,
            "count": 2
           },
           {
            "bin_start": 1.334,
            "bin_end": 1.408,
            "count": 0
           },
           {
            "bin_start": 1.408,
            "bin_end": 1.482,
            "count": 0
           },
           {
            "bin_start": 1.482,
            "bin_end": 1.556,
            "count": 0
           },
           {
            "bin_start": 1.556,
            "bin_end": 1.63,
            "count": 0
           },
           {
            "bin_start": 1.63,
            "bin_end": 1.704,
            "count": 0
           },
           {
            "bin_start": 1.704,
            "bin_end": 1.778,
            "count": 0
           },
           {
            "bin_start": 1.778,
            "bin_end": 1.8519999999999999,
            "count": 0
           },
           {
            "bin_start": 1.8519999999999999,
            "bin_end": 1.926,
            "count": 0
           },
           {
            "bin_start": 1.926,
            "bin_end": 2,
            "count": 1
           }
          ]
         }
        },
        {
         "name": "alcohol",
         "dtype": "object",
         "stats": {
          "unique_count": 1,
          "nan_count": 0,
          "categories": [
           {
            "name": "9.4",
            "count": 3
           }
          ]
         }
        },
        {
         "name": "_deepnote_index_column",
         "dtype": "int64"
        }
       ],
       "rows_top": [
        {
         "country": "Portugal",
         "description": "This wine has tannins and a solid structure that is balanced by the bright red fruits, The wine is …",
         "designation": "nan",
         "points": 86,
         "price": 27,
         "province": "Douro",
         "taster_name": "Roger Voss",
         "title": "Quinta do Pessegueiro 2012 Red (Douro)",
         "variety": "Portuguese Red",
         "winery": "Quinta do Pessegueiro",
         "fixed_acidity": 7.7,
         "volatile_acidity": 0.41,
         "citric_acid": "0.76",
         "residual_sugar": 1.8,
         "chlorides": 0.611,
         "free_sulfur_dioxide": 8,
         "total_sulfur_dioxide": 45,
         "density": "0.9968",
         "pH": 3.06,
         "sulphates": 1.26,
         "alcohol": "9.4",
         "_deepnote_index_column": 434
        },
        {
         "country": "Portugal",
         "description": "The huge concentration of this wine reflects the hot 2003 vintage, There are aromas of ripe fruit s…",
         "designation": "Marquès de Borba Reserva",
         "points": 87,
         "price": "nan",
         "province": "Alentejo",
         "taster_name": "Jim Gordon",
         "title": "J, Portugal Ramos 2003 Marquès de Borba Reserva Red (Alentejo)",
         "variety": "Portuguese Red",
         "winery": "J, Portugal Ramos",
         "fixed_acidity": 7.7,
         "volatile_acidity": 0.41,
         "citric_acid": "0.76",
         "residual_sugar": 1.8,
         "chlorides": 0.611,
         "free_sulfur_dioxide": 8,
         "total_sulfur_dioxide": 45,
         "density": "0.9968",
         "pH": 3.06,
         "sulphates": 1.26,
         "alcohol": "9.4",
         "_deepnote_index_column": 1948
        },
        {
         "country": "Portugal",
         "description": "Bigode, the mustache, is a soft and juicy wine, light in texture with strong acidity, Red berry fru…",
         "designation": "Bigode",
         "points": 83,
         "price": 8,
         "province": "Lisboa",
         "taster_name": "Roger Voss",
         "title": "DFJ Vinhos 2010 Bigode Red (Lisboa)",
         "variety": "Portuguese Red",
         "winery": "DFJ Vinhos",
         "fixed_acidity": 9.2,
         "volatile_acidity": 0.52,
         "citric_acid": "1",
         "residual_sugar": 3.4,
         "chlorides": 0.61,
         "free_sulfur_dioxide": 32,
         "total_sulfur_dioxide": 69,
         "density": "0.9996",
         "pH": 2.74,
         "sulphates": 2,
         "alcohol": "9.4",
         "_deepnote_index_column": 2311
        }
       ],
       "rows_bottom": null
      },
      "text/plain": "       country                                        description  \\\nid                                                                  \n434   Portugal  This wine has tannins and a solid structure th...   \n1948  Portugal  The huge concentration of this wine reflects t...   \n2311  Portugal  Bigode, the mustache, is a soft and juicy wine...   \n\n                   designation  points  price  province taster_name  \\\nid                                                                    \n434                        NaN      86   27.0     Douro  Roger Voss   \n1948  Marquès de Borba Reserva      87    NaN  Alentejo  Jim Gordon   \n2311                    Bigode      83    8.0    Lisboa  Roger Voss   \n\n                                                  title         variety  \\\nid                                                                        \n434              Quinta do Pessegueiro 2012 Red (Douro)  Portuguese Red   \n1948  J, Portugal Ramos 2003 Marquès de Borba Reserv...  Portuguese Red   \n2311                DFJ Vinhos 2010 Bigode Red (Lisboa)  Portuguese Red   \n\n                     winery  ...  volatile_acidity  citric_acid  \\\nid                           ...                                  \n434   Quinta do Pessegueiro  ...              0.41         0.76   \n1948      J, Portugal Ramos  ...              0.41         0.76   \n2311             DFJ Vinhos  ...              0.52            1   \n\n     residual_sugar  chlorides  free_sulfur_dioxide  total_sulfur_dioxide  \\\nid                                                                          \n434             1.8      0.611                  8.0                  45.0   \n1948            1.8      0.611                  8.0                  45.0   \n2311            3.4      0.610                 32.0                  69.0   \n\n      density    pH  sulphates  alcohol  \nid                                       \n434    0.9968  3.06       1.26      9.4  \n1948   0.9968  3.06       1.26      9.4  \n2311   0.9996  2.74       2.00      9.4  \n\n[3 rows x 21 columns]",
      "text/html": "<div>\n<style scoped>\n    .dataframe tbody tr th:only-of-type {\n        vertical-align: middle;\n    }\n\n    .dataframe tbody tr th {\n        vertical-align: top;\n    }\n\n    .dataframe thead th {\n        text-align: right;\n    }\n</style>\n<table border=\"1\" class=\"dataframe\">\n  <thead>\n    <tr style=\"text-align: right;\">\n      <th></th>\n      <th>country</th>\n      <th>description</th>\n      <th>designation</th>\n      <th>points</th>\n      <th>price</th>\n      <th>province</th>\n      <th>taster_name</th>\n      <th>title</th>\n      <th>variety</th>\n      <th>winery</th>\n      <th>...</th>\n      <th>volatile_acidity</th>\n      <th>citric_acid</th>\n      <th>residual_sugar</th>\n      <th>chlorides</th>\n      <th>free_sulfur_dioxide</th>\n      <th>total_sulfur_dioxide</th>\n      <th>density</th>\n      <th>pH</th>\n      <th>sulphates</th>\n      <th>alcohol</th>\n    </tr>\n    <tr>\n      <th>id</th>\n      <th></th>\n      <th></th>\n      <th></th>\n      <th></th>\n      <th></th>\n      <th></th>\n      <th></th>\n      <th></th>\n      <th></th>\n      <th></th>\n      <th></th>\n      <th></th>\n      <th></th>\n      <th></th>\n      <th></th>\n      <th></th>\n      <th></th>\n      <th></th>\n      <th></th>\n      <th></th>\n      <th></th>\n    </tr>\n  </thead>\n  <tbody>\n    <tr>\n      <th>434</th>\n      <td>Portugal</td>\n      <td>This wine has tannins and a solid structure th...</td>\n      <td>NaN</td>\n      <td>86</td>\n      <td>27.0</td>\n      <td>Douro</td>\n      <td>Roger Voss</td>\n      <td>Quinta do Pessegueiro 2012 Red (Douro)</td>\n      <td>Portuguese Red</td>\n      <td>Quinta do Pessegueiro</td>\n      <td>...</td>\n      <td>0.41</td>\n      <td>0.76</td>\n      <td>1.8</td>\n      <td>0.611</td>\n      <td>8.0</td>\n      <td>45.0</td>\n      <td>0.9968</td>\n      <td>3.06</td>\n      <td>1.26</td>\n      <td>9.4</td>\n    </tr>\n    <tr>\n      <th>1948</th>\n      <td>Portugal</td>\n      <td>The huge concentration of this wine reflects t...</td>\n      <td>Marquès de Borba Reserva</td>\n      <td>87</td>\n      <td>NaN</td>\n      <td>Alentejo</td>\n      <td>Jim Gordon</td>\n      <td>J, Portugal Ramos 2003 Marquès de Borba Reserv...</td>\n      <td>Portuguese Red</td>\n      <td>J, Portugal Ramos</td>\n      <td>...</td>\n      <td>0.41</td>\n      <td>0.76</td>\n      <td>1.8</td>\n      <td>0.611</td>\n      <td>8.0</td>\n      <td>45.0</td>\n      <td>0.9968</td>\n      <td>3.06</td>\n      <td>1.26</td>\n      <td>9.4</td>\n    </tr>\n    <tr>\n      <th>2311</th>\n      <td>Portugal</td>\n      <td>Bigode, the mustache, is a soft and juicy wine...</td>\n      <td>Bigode</td>\n      <td>83</td>\n      <td>8.0</td>\n      <td>Lisboa</td>\n      <td>Roger Voss</td>\n      <td>DFJ Vinhos 2010 Bigode Red (Lisboa)</td>\n      <td>Portuguese Red</td>\n      <td>DFJ Vinhos</td>\n      <td>...</td>\n      <td>0.52</td>\n      <td>1</td>\n      <td>3.4</td>\n      <td>0.610</td>\n      <td>32.0</td>\n      <td>69.0</td>\n      <td>0.9996</td>\n      <td>2.74</td>\n      <td>2.00</td>\n      <td>9.4</td>\n    </tr>\n  </tbody>\n</table>\n<p>3 rows × 21 columns</p>\n</div>"
     },
     "metadata": {}
    }
   ]
  },
  {
   "cell_type": "markdown",
   "source": "##### Some observations:  \n- The minimal score is 81 on a scale of 100, which means they all are recommended and might be biased.\n- Most density values are between 0 and 1, except for some, which need to be changed.\n- Some values from alcohol have the wrong format, for example \"100.333.333.333\".\n- As goes for citric acidity, this is the wrong type, it needs to be float.\n- The wines with id's: 434, 1948 and 2311 exceed the maximum legal level of chloride (>606mg/L).",
   "metadata": {
    "tags": [],
    "cell_id": "00011-ffb5bacb-21d1-4a50-aeb9-5e8a7292ba0a",
    "deepnote_cell_type": "markdown"
   }
  },
  {
   "cell_type": "markdown",
   "source": "#### 3) Data Analysis/Cleaning Data\nHere we look at how complete and clean the data is.\n\n\n",
   "metadata": {
    "tags": [],
    "cell_id": "00003-6b4bb710-63fa-4d6b-ab09-94b668357d55",
    "deepnote_cell_type": "markdown"
   }
  },
  {
   "cell_type": "code",
   "metadata": {
    "tags": [],
    "cell_id": "00005-0e311fff-ca6e-45d5-ac63-bdaf72ec3f7f",
    "deepnote_to_be_reexecuted": false,
    "source_hash": "94a2b935",
    "execution_start": 1633692054666,
    "execution_millis": 110,
    "deepnote_cell_type": "code"
   },
   "source": "df.describe(include = [object])",
   "execution_count": null,
   "outputs": [
    {
     "output_type": "execute_result",
     "execution_count": 10,
     "data": {
      "application/vnd.deepnote.dataframe.v2+json": {
       "row_count": 4,
       "column_count": 11,
       "columns": [
        {
         "name": "country",
         "dtype": "object",
         "stats": {
          "unique_count": 3,
          "nan_count": 0,
          "categories": [
           {
            "name": "2465",
            "count": 2
           },
           {
            "name": "1",
            "count": 1
           },
           {
            "name": "Portugal",
            "count": 1
           }
          ]
         }
        },
        {
         "name": "description",
         "dtype": "object",
         "stats": {
          "unique_count": 4,
          "nan_count": 0,
          "categories": [
           {
            "name": "2465",
            "count": 1
           },
           {
            "name": "2281",
            "count": 1
           },
           {
            "name": "2 others",
            "count": 2
           }
          ]
         }
        },
        {
         "name": "designation",
         "dtype": "object",
         "stats": {
          "unique_count": 4,
          "nan_count": 0,
          "categories": [
           {
            "name": "2312",
            "count": 1
           },
           {
            "name": "1161",
            "count": 1
           },
           {
            "name": "2 others",
            "count": 2
           }
          ]
         }
        },
        {
         "name": "province",
         "dtype": "object",
         "stats": {
          "unique_count": 4,
          "nan_count": 0,
          "categories": [
           {
            "name": "2465",
            "count": 1
           },
           {
            "name": "30",
            "count": 1
           },
           {
            "name": "2 others",
            "count": 2
           }
          ]
         }
        },
        {
         "name": "taster_name",
         "dtype": "object",
         "stats": {
          "unique_count": 4,
          "nan_count": 0,
          "categories": [
           {
            "name": "2465",
            "count": 1
           },
           {
            "name": "18",
            "count": 1
           },
           {
            "name": "2 others",
            "count": 2
           }
          ]
         }
        },
        {
         "name": "title",
         "dtype": "object",
         "stats": {
          "unique_count": 4,
          "nan_count": 0,
          "categories": [
           {
            "name": "2465",
            "count": 1
           },
           {
            "name": "2268",
            "count": 1
           },
           {
            "name": "2 others",
            "count": 2
           }
          ]
         }
        },
        {
         "name": "variety",
         "dtype": "object",
         "stats": {
          "unique_count": 3,
          "nan_count": 0,
          "categories": [
           {
            "name": "2465",
            "count": 2
           },
           {
            "name": "1",
            "count": 1
           },
           {
            "name": "Portuguese Red",
            "count": 1
           }
          ]
         }
        },
        {
         "name": "winery",
         "dtype": "object",
         "stats": {
          "unique_count": 4,
          "nan_count": 0,
          "categories": [
           {
            "name": "2465",
            "count": 1
           },
           {
            "name": "310",
            "count": 1
           },
           {
            "name": "2 others",
            "count": 2
           }
          ]
         }
        },
        {
         "name": "citric_acid",
         "dtype": "object",
         "stats": {
          "unique_count": 4,
          "nan_count": 0,
          "categories": [
           {
            "name": "2465",
            "count": 1
           },
           {
            "name": "80",
            "count": 1
           },
           {
            "name": "2 others",
            "count": 2
           }
          ]
         }
        },
        {
         "name": "density",
         "dtype": "object",
         "stats": {
          "unique_count": 4,
          "nan_count": 0,
          "categories": [
           {
            "name": "2465",
            "count": 1
           },
           {
            "name": "428",
            "count": 1
           },
           {
            "name": "2 others",
            "count": 2
           }
          ]
         }
        },
        {
         "name": "alcohol",
         "dtype": "object",
         "stats": {
          "unique_count": 4,
          "nan_count": 0,
          "categories": [
           {
            "name": "2465",
            "count": 1
           },
           {
            "name": "61",
            "count": 1
           },
           {
            "name": "2 others",
            "count": 2
           }
          ]
         }
        },
        {
         "name": "_deepnote_index_column",
         "dtype": "object"
        }
       ],
       "rows_top": [
        {
         "country": "2465",
         "description": "2465",
         "designation": "2312",
         "province": "2465",
         "taster_name": "2465",
         "title": "2465",
         "variety": "2465",
         "winery": "2465",
         "citric_acid": "2465",
         "density": "2465",
         "alcohol": "2465",
         "_deepnote_index_column": "count"
        },
        {
         "country": "1",
         "description": "2281",
         "designation": "1161",
         "province": "30",
         "taster_name": "18",
         "title": "2268",
         "variety": "1",
         "winery": "310",
         "citric_acid": "80",
         "density": "428",
         "alcohol": "61",
         "_deepnote_index_column": "unique"
        },
        {
         "country": "Portugal",
         "description": "A soft, open wine with only light tannins, The fruit is just as light, with strawberry and some spi…",
         "designation": "Reserva",
         "province": "Douro",
         "taster_name": "Roger Voss",
         "title": "Quinta do Sagrado 2008 VT '08 Red (Douro)",
         "variety": "Portuguese Red",
         "winery": "Wines & Winemakers",
         "citric_acid": " -   ",
         "density": "0.9976",
         "alcohol": "9.5",
         "_deepnote_index_column": "top"
        },
        {
         "country": "2465",
         "description": "2",
         "designation": "171",
         "province": "880",
         "taster_name": "630",
         "title": "3",
         "variety": "2465",
         "winery": "84",
         "citric_acid": "203",
         "density": "59",
         "alcohol": "234",
         "_deepnote_index_column": "freq"
        }
       ],
       "rows_bottom": null
      },
      "text/plain": "         country                                        description  \\\ncount       2465                                               2465   \nunique         1                                               2281   \ntop     Portugal  A soft, open wine with only light tannins, The...   \nfreq        2465                                                  2   \n\n       designation province taster_name  \\\ncount         2312     2465        2465   \nunique        1161       30          18   \ntop        Reserva    Douro  Roger Voss   \nfreq           171      880         630   \n\n                                            title         variety  \\\ncount                                        2465            2465   \nunique                                       2268               1   \ntop     Quinta do Sagrado 2008 VT '08 Red (Douro)  Portuguese Red   \nfreq                                            3            2465   \n\n                    winery citric_acid density alcohol  \ncount                 2465        2465    2465    2465  \nunique                 310          80     428      61  \ntop     Wines & Winemakers        -     0.9976     9.5  \nfreq                    84         203      59     234  ",
      "text/html": "<div>\n<style scoped>\n    .dataframe tbody tr th:only-of-type {\n        vertical-align: middle;\n    }\n\n    .dataframe tbody tr th {\n        vertical-align: top;\n    }\n\n    .dataframe thead th {\n        text-align: right;\n    }\n</style>\n<table border=\"1\" class=\"dataframe\">\n  <thead>\n    <tr style=\"text-align: right;\">\n      <th></th>\n      <th>country</th>\n      <th>description</th>\n      <th>designation</th>\n      <th>province</th>\n      <th>taster_name</th>\n      <th>title</th>\n      <th>variety</th>\n      <th>winery</th>\n      <th>citric_acid</th>\n      <th>density</th>\n      <th>alcohol</th>\n    </tr>\n  </thead>\n  <tbody>\n    <tr>\n      <th>count</th>\n      <td>2465</td>\n      <td>2465</td>\n      <td>2312</td>\n      <td>2465</td>\n      <td>2465</td>\n      <td>2465</td>\n      <td>2465</td>\n      <td>2465</td>\n      <td>2465</td>\n      <td>2465</td>\n      <td>2465</td>\n    </tr>\n    <tr>\n      <th>unique</th>\n      <td>1</td>\n      <td>2281</td>\n      <td>1161</td>\n      <td>30</td>\n      <td>18</td>\n      <td>2268</td>\n      <td>1</td>\n      <td>310</td>\n      <td>80</td>\n      <td>428</td>\n      <td>61</td>\n    </tr>\n    <tr>\n      <th>top</th>\n      <td>Portugal</td>\n      <td>A soft, open wine with only light tannins, The...</td>\n      <td>Reserva</td>\n      <td>Douro</td>\n      <td>Roger Voss</td>\n      <td>Quinta do Sagrado 2008 VT '08 Red (Douro)</td>\n      <td>Portuguese Red</td>\n      <td>Wines &amp; Winemakers</td>\n      <td>-</td>\n      <td>0.9976</td>\n      <td>9.5</td>\n    </tr>\n    <tr>\n      <th>freq</th>\n      <td>2465</td>\n      <td>2</td>\n      <td>171</td>\n      <td>880</td>\n      <td>630</td>\n      <td>3</td>\n      <td>2465</td>\n      <td>84</td>\n      <td>203</td>\n      <td>59</td>\n      <td>234</td>\n    </tr>\n  </tbody>\n</table>\n</div>"
     },
     "metadata": {}
    }
   ]
  },
  {
   "cell_type": "code",
   "metadata": {
    "tags": [],
    "cell_id": "00015-cb70b0b8-3281-4e62-aa52-5cc196ba21b2",
    "deepnote_to_be_reexecuted": false,
    "source_hash": "c53516c1",
    "execution_start": 1633692054821,
    "execution_millis": 49,
    "deepnote_cell_type": "code"
   },
   "source": "df.describe(exclude = [object])",
   "execution_count": null,
   "outputs": [
    {
     "output_type": "execute_result",
     "execution_count": 11,
     "data": {
      "application/vnd.deepnote.dataframe.v2+json": {
       "row_count": 8,
       "column_count": 10,
       "columns": [
        {
         "name": "points",
         "dtype": "float64",
         "stats": {
          "unique_count": 8,
          "nan_count": 0,
          "min": "2.97400001932752",
          "max": "2465.0",
          "histogram": [
           {
            "bin_start": 2.97400001932752,
            "bin_end": 249.17660001739478,
            "count": 7
           },
           {
            "bin_start": 249.17660001739478,
            "bin_end": 495.37920001546206,
            "count": 0
           },
           {
            "bin_start": 495.37920001546206,
            "bin_end": 741.5818000135292,
            "count": 0
           },
           {
            "bin_start": 741.5818000135292,
            "bin_end": 987.7844000115965,
            "count": 0
           },
           {
            "bin_start": 987.7844000115965,
            "bin_end": 1233.987000009664,
            "count": 0
           },
           {
            "bin_start": 1233.987000009664,
            "bin_end": 1480.189600007731,
            "count": 0
           },
           {
            "bin_start": 1480.189600007731,
            "bin_end": 1726.3922000057985,
            "count": 0
           },
           {
            "bin_start": 1726.3922000057985,
            "bin_end": 1972.5948000038657,
            "count": 0
           },
           {
            "bin_start": 1972.5948000038657,
            "bin_end": 2218.7974000019326,
            "count": 0
           },
           {
            "bin_start": 2218.7974000019326,
            "bin_end": 2465,
            "count": 1
           }
          ]
         }
        },
        {
         "name": "price",
         "dtype": "float64",
         "stats": {
          "unique_count": 8,
          "nan_count": 0,
          "min": "5.0",
          "max": "2196.0",
          "histogram": [
           {
            "bin_start": 5,
            "bin_end": 224.1,
            "count": 6
           },
           {
            "bin_start": 224.1,
            "bin_end": 443.2,
            "count": 0
           },
           {
            "bin_start": 443.2,
            "bin_end": 662.3,
            "count": 1
           },
           {
            "bin_start": 662.3,
            "bin_end": 881.4,
            "count": 0
           },
           {
            "bin_start": 881.4,
            "bin_end": 1100.5,
            "count": 0
           },
           {
            "bin_start": 1100.5,
            "bin_end": 1319.6,
            "count": 0
           },
           {
            "bin_start": 1319.6,
            "bin_end": 1538.7,
            "count": 0
           },
           {
            "bin_start": 1538.7,
            "bin_end": 1757.8,
            "count": 0
           },
           {
            "bin_start": 1757.8,
            "bin_end": 1976.8999999999999,
            "count": 0
           },
           {
            "bin_start": 1976.8999999999999,
            "bin_end": 2196,
            "count": 1
           }
          ]
         }
        },
        {
         "name": "fixed_acidity",
         "dtype": "float64",
         "stats": {
          "unique_count": 8,
          "nan_count": 0,
          "min": "1.7348466033868817",
          "max": "2465.0",
          "histogram": [
           {
            "bin_start": 1.7348466033868817,
            "bin_end": 248.06136194304818,
            "count": 7
           },
           {
            "bin_start": 248.06136194304818,
            "bin_end": 494.3878772827095,
            "count": 0
           },
           {
            "bin_start": 494.3878772827095,
            "bin_end": 740.7143926223708,
            "count": 0
           },
           {
            "bin_start": 740.7143926223708,
            "bin_end": 987.0409079620322,
            "count": 0
           },
           {
            "bin_start": 987.0409079620322,
            "bin_end": 1233.3674233016934,
            "count": 0
           },
           {
            "bin_start": 1233.3674233016934,
            "bin_end": 1479.6939386413546,
            "count": 0
           },
           {
            "bin_start": 1479.6939386413546,
            "bin_end": 1726.020453981016,
            "count": 0
           },
           {
            "bin_start": 1726.020453981016,
            "bin_end": 1972.3469693206773,
            "count": 0
           },
           {
            "bin_start": 1972.3469693206773,
            "bin_end": 2218.6734846603385,
            "count": 0
           },
           {
            "bin_start": 2218.6734846603385,
            "bin_end": 2465,
            "count": 1
           }
          ]
         }
        },
        {
         "name": "volatile_acidity",
         "dtype": "float64",
         "stats": {
          "unique_count": 8,
          "nan_count": 0,
          "min": "0.12",
          "max": "2465.0",
          "histogram": [
           {
            "bin_start": 0.12,
            "bin_end": 246.608,
            "count": 7
           },
           {
            "bin_start": 246.608,
            "bin_end": 493.096,
            "count": 0
           },
           {
            "bin_start": 493.096,
            "bin_end": 739.584,
            "count": 0
           },
           {
            "bin_start": 739.584,
            "bin_end": 986.072,
            "count": 0
           },
           {
            "bin_start": 986.072,
            "bin_end": 1232.56,
            "count": 0
           },
           {
            "bin_start": 1232.56,
            "bin_end": 1479.0479999999998,
            "count": 0
           },
           {
            "bin_start": 1479.0479999999998,
            "bin_end": 1725.5359999999998,
            "count": 0
           },
           {
            "bin_start": 1725.5359999999998,
            "bin_end": 1972.024,
            "count": 0
           },
           {
            "bin_start": 1972.024,
            "bin_end": 2218.5119999999997,
            "count": 0
           },
           {
            "bin_start": 2218.5119999999997,
            "bin_end": 2465,
            "count": 1
           }
          ]
         }
        },
        {
         "name": "residual_sugar",
         "dtype": "float64",
         "stats": {
          "unique_count": 8,
          "nan_count": 0,
          "min": "0.9",
          "max": "2465.0",
          "histogram": [
           {
            "bin_start": 0.9,
            "bin_end": 247.31,
            "count": 7
           },
           {
            "bin_start": 247.31,
            "bin_end": 493.71999999999997,
            "count": 0
           },
           {
            "bin_start": 493.71999999999997,
            "bin_end": 740.13,
            "count": 0
           },
           {
            "bin_start": 740.13,
            "bin_end": 986.54,
            "count": 0
           },
           {
            "bin_start": 986.54,
            "bin_end": 1232.95,
            "count": 0
           },
           {
            "bin_start": 1232.95,
            "bin_end": 1479.3600000000001,
            "count": 0
           },
           {
            "bin_start": 1479.3600000000001,
            "bin_end": 1725.77,
            "count": 0
           },
           {
            "bin_start": 1725.77,
            "bin_end": 1972.18,
            "count": 0
           },
           {
            "bin_start": 1972.18,
            "bin_end": 2218.59,
            "count": 0
           },
           {
            "bin_start": 2218.59,
            "bin_end": 2465,
            "count": 1
           }
          ]
         }
        },
        {
         "name": "chlorides",
         "dtype": "float64",
         "stats": {
          "unique_count": 8,
          "nan_count": 0,
          "min": "0.012",
          "max": "2465.0",
          "histogram": [
           {
            "bin_start": 0.012,
            "bin_end": 246.5108,
            "count": 7
           },
           {
            "bin_start": 246.5108,
            "bin_end": 493.0096,
            "count": 0
           },
           {
            "bin_start": 493.0096,
            "bin_end": 739.5083999999999,
            "count": 0
           },
           {
            "bin_start": 739.5083999999999,
            "bin_end": 986.0071999999999,
            "count": 0
           },
           {
            "bin_start": 986.0071999999999,
            "bin_end": 1232.5059999999999,
            "count": 0
           },
           {
            "bin_start": 1232.5059999999999,
            "bin_end": 1479.0048,
            "count": 0
           },
           {
            "bin_start": 1479.0048,
            "bin_end": 1725.5035999999998,
            "count": 0
           },
           {
            "bin_start": 1725.5035999999998,
            "bin_end": 1972.0023999999999,
            "count": 0
           },
           {
            "bin_start": 1972.0023999999999,
            "bin_end": 2218.5012,
            "count": 0
           },
           {
            "bin_start": 2218.5012,
            "bin_end": 2465,
            "count": 1
           }
          ]
         }
        },
        {
         "name": "free_sulfur_dioxide",
         "dtype": "float64",
         "stats": {
          "unique_count": 8,
          "nan_count": 0,
          "min": "1.0",
          "max": "2465.0",
          "histogram": [
           {
            "bin_start": 1,
            "bin_end": 247.4,
            "count": 7
           },
           {
            "bin_start": 247.4,
            "bin_end": 493.8,
            "count": 0
           },
           {
            "bin_start": 493.8,
            "bin_end": 740.2,
            "count": 0
           },
           {
            "bin_start": 740.2,
            "bin_end": 986.6,
            "count": 0
           },
           {
            "bin_start": 986.6,
            "bin_end": 1233,
            "count": 0
           },
           {
            "bin_start": 1233,
            "bin_end": 1479.4,
            "count": 0
           },
           {
            "bin_start": 1479.4,
            "bin_end": 1725.8,
            "count": 0
           },
           {
            "bin_start": 1725.8,
            "bin_end": 1972.2,
            "count": 0
           },
           {
            "bin_start": 1972.2,
            "bin_end": 2218.6,
            "count": 0
           },
           {
            "bin_start": 2218.6,
            "bin_end": 2465,
            "count": 1
           }
          ]
         }
        },
        {
         "name": "total_sulfur_dioxide",
         "dtype": "float64",
         "stats": {
          "unique_count": 8,
          "nan_count": 0,
          "min": "6.0",
          "max": "2465.0",
          "histogram": [
           {
            "bin_start": 6,
            "bin_end": 251.9,
            "count": 6
           },
           {
            "bin_start": 251.9,
            "bin_end": 497.8,
            "count": 1
           },
           {
            "bin_start": 497.8,
            "bin_end": 743.7,
            "count": 0
           },
           {
            "bin_start": 743.7,
            "bin_end": 989.6,
            "count": 0
           },
           {
            "bin_start": 989.6,
            "bin_end": 1235.5,
            "count": 0
           },
           {
            "bin_start": 1235.5,
            "bin_end": 1481.4,
            "count": 0
           },
           {
            "bin_start": 1481.4,
            "bin_end": 1727.3,
            "count": 0
           },
           {
            "bin_start": 1727.3,
            "bin_end": 1973.2,
            "count": 0
           },
           {
            "bin_start": 1973.2,
            "bin_end": 2219.1,
            "count": 0
           },
           {
            "bin_start": 2219.1,
            "bin_end": 2465,
            "count": 1
           }
          ]
         }
        },
        {
         "name": "pH",
         "dtype": "float64",
         "stats": {
          "unique_count": 8,
          "nan_count": 0,
          "min": "0.15392727558224564",
          "max": "2465.0",
          "histogram": [
           {
            "bin_start": 0.15392727558224564,
            "bin_end": 246.63853454802404,
            "count": 7
           },
           {
            "bin_start": 246.63853454802404,
            "bin_end": 493.12314182046583,
            "count": 0
           },
           {
            "bin_start": 493.12314182046583,
            "bin_end": 739.6077490929076,
            "count": 0
           },
           {
            "bin_start": 739.6077490929076,
            "bin_end": 986.0923563653494,
            "count": 0
           },
           {
            "bin_start": 986.0923563653494,
            "bin_end": 1232.576963637791,
            "count": 0
           },
           {
            "bin_start": 1232.576963637791,
            "bin_end": 1479.061570910233,
            "count": 0
           },
           {
            "bin_start": 1479.061570910233,
            "bin_end": 1725.5461781826748,
            "count": 0
           },
           {
            "bin_start": 1725.5461781826748,
            "bin_end": 1972.0307854551165,
            "count": 0
           },
           {
            "bin_start": 1972.0307854551165,
            "bin_end": 2218.5153927275583,
            "count": 0
           },
           {
            "bin_start": 2218.5153927275583,
            "bin_end": 2465,
            "count": 1
           }
          ]
         }
        },
        {
         "name": "sulphates",
         "dtype": "float64",
         "stats": {
          "unique_count": 8,
          "nan_count": 0,
          "min": "0.17253128003281948",
          "max": "2465.0",
          "histogram": [
           {
            "bin_start": 0.17253128003281948,
            "bin_end": 246.65527815202955,
            "count": 7
           },
           {
            "bin_start": 246.65527815202955,
            "bin_end": 493.1380250240263,
            "count": 0
           },
           {
            "bin_start": 493.1380250240263,
            "bin_end": 739.620771896023,
            "count": 0
           },
           {
            "bin_start": 739.620771896023,
            "bin_end": 986.1035187680197,
            "count": 0
           },
           {
            "bin_start": 986.1035187680197,
            "bin_end": 1232.5862656400166,
            "count": 0
           },
           {
            "bin_start": 1232.5862656400166,
            "bin_end": 1479.0690125120134,
            "count": 0
           },
           {
            "bin_start": 1479.0690125120134,
            "bin_end": 1725.55175938401,
            "count": 0
           },
           {
            "bin_start": 1725.55175938401,
            "bin_end": 1972.0345062560068,
            "count": 0
           },
           {
            "bin_start": 1972.0345062560068,
            "bin_end": 2218.517253128003,
            "count": 0
           },
           {
            "bin_start": 2218.517253128003,
            "bin_end": 2465,
            "count": 1
           }
          ]
         }
        },
        {
         "name": "_deepnote_index_column",
         "dtype": "object"
        }
       ],
       "rows_top": [
        {
         "points": 2465,
         "price": 2196,
         "fixed_acidity": 2465,
         "volatile_acidity": 2465,
         "residual_sugar": 2465,
         "chlorides": 2465,
         "free_sulfur_dioxide": 2465,
         "total_sulfur_dioxide": 2465,
         "pH": 2465,
         "sulphates": 2465,
         "_deepnote_index_column": "count"
        },
        {
         "points": 88.81135902636917,
         "price": 24.819216757741348,
         "fixed_acidity": 8.352819472616632,
         "volatile_acidity": 0.5281622718052738,
         "residual_sugar": 2.5623529411764707,
         "chlorides": 0.08748519269776875,
         "free_sulfur_dioxide": 15.804665314401623,
         "total_sulfur_dioxide": 47.21866125760649,
         "pH": 3.311200811359026,
         "sulphates": 0.6603529411764706,
         "_deepnote_index_column": "mean"
        },
        {
         "points": 2.97400001932752,
         "price": 25.539475265459142,
         "fixed_acidity": 1.7348466033868817,
         "volatile_acidity": 0.17886907428366858,
         "residual_sugar": 1.407029740958027,
         "chlorides": 0.04704340402899578,
         "free_sulfur_dioxide": 10.379217894554081,
         "total_sulfur_dioxide": 33.187830278042945,
         "pH": 0.15392727558224564,
         "sulphates": 0.17253128003281948,
         "_deepnote_index_column": "std"
        },
        {
         "points": 81,
         "price": 5,
         "fixed_acidity": 4.6,
         "volatile_acidity": 0.12,
         "residual_sugar": 0.9,
         "chlorides": 0.012,
         "free_sulfur_dioxide": 1,
         "total_sulfur_dioxide": 6,
         "pH": 2.74,
         "sulphates": 0.33,
         "_deepnote_index_column": "min"
        },
        {
         "points": 87,
         "price": 12,
         "fixed_acidity": 7.1,
         "volatile_acidity": 0.4,
         "residual_sugar": 1.9,
         "chlorides": 0.07,
         "free_sulfur_dioxide": 7,
         "total_sulfur_dioxide": 22,
         "pH": 3.21,
         "sulphates": 0.55,
         "_deepnote_index_column": "25%"
        },
        {
         "points": 88,
         "price": 17,
         "fixed_acidity": 7.9,
         "volatile_acidity": 0.52,
         "residual_sugar": 2.2,
         "chlorides": 0.079,
         "free_sulfur_dioxide": 14,
         "total_sulfur_dioxide": 38,
         "pH": 3.31,
         "sulphates": 0.62,
         "_deepnote_index_column": "50%"
        },
        {
         "points": 91,
         "price": 28,
         "fixed_acidity": 9.3,
         "volatile_acidity": 0.635,
         "residual_sugar": 2.6,
         "chlorides": 0.091,
         "free_sulfur_dioxide": 21,
         "total_sulfur_dioxide": 64,
         "pH": 3.4,
         "sulphates": 0.73,
         "_deepnote_index_column": "75%"
        },
        {
         "points": 100,
         "price": 450,
         "fixed_acidity": 15.9,
         "volatile_acidity": 1.58,
         "residual_sugar": 15.5,
         "chlorides": 0.611,
         "free_sulfur_dioxide": 72,
         "total_sulfur_dioxide": 289,
         "pH": 4.01,
         "sulphates": 2,
         "_deepnote_index_column": "max"
        }
       ],
       "rows_bottom": null
      },
      "text/plain": "            points        price  fixed_acidity  volatile_acidity  \\\ncount  2465.000000  2196.000000    2465.000000       2465.000000   \nmean     88.811359    24.819217       8.352819          0.528162   \nstd       2.974000    25.539475       1.734847          0.178869   \nmin      81.000000     5.000000       4.600000          0.120000   \n25%      87.000000    12.000000       7.100000          0.400000   \n50%      88.000000    17.000000       7.900000          0.520000   \n75%      91.000000    28.000000       9.300000          0.635000   \nmax     100.000000   450.000000      15.900000          1.580000   \n\n       residual_sugar    chlorides  free_sulfur_dioxide  total_sulfur_dioxide  \\\ncount     2465.000000  2465.000000          2465.000000           2465.000000   \nmean         2.562353     0.087485            15.804665             47.218661   \nstd          1.407030     0.047043            10.379218             33.187830   \nmin          0.900000     0.012000             1.000000              6.000000   \n25%          1.900000     0.070000             7.000000             22.000000   \n50%          2.200000     0.079000            14.000000             38.000000   \n75%          2.600000     0.091000            21.000000             64.000000   \nmax         15.500000     0.611000            72.000000            289.000000   \n\n                pH    sulphates  \ncount  2465.000000  2465.000000  \nmean      3.311201     0.660353  \nstd       0.153927     0.172531  \nmin       2.740000     0.330000  \n25%       3.210000     0.550000  \n50%       3.310000     0.620000  \n75%       3.400000     0.730000  \nmax       4.010000     2.000000  ",
      "text/html": "<div>\n<style scoped>\n    .dataframe tbody tr th:only-of-type {\n        vertical-align: middle;\n    }\n\n    .dataframe tbody tr th {\n        vertical-align: top;\n    }\n\n    .dataframe thead th {\n        text-align: right;\n    }\n</style>\n<table border=\"1\" class=\"dataframe\">\n  <thead>\n    <tr style=\"text-align: right;\">\n      <th></th>\n      <th>points</th>\n      <th>price</th>\n      <th>fixed_acidity</th>\n      <th>volatile_acidity</th>\n      <th>residual_sugar</th>\n      <th>chlorides</th>\n      <th>free_sulfur_dioxide</th>\n      <th>total_sulfur_dioxide</th>\n      <th>pH</th>\n      <th>sulphates</th>\n    </tr>\n  </thead>\n  <tbody>\n    <tr>\n      <th>count</th>\n      <td>2465.000000</td>\n      <td>2196.000000</td>\n      <td>2465.000000</td>\n      <td>2465.000000</td>\n      <td>2465.000000</td>\n      <td>2465.000000</td>\n      <td>2465.000000</td>\n      <td>2465.000000</td>\n      <td>2465.000000</td>\n      <td>2465.000000</td>\n    </tr>\n    <tr>\n      <th>mean</th>\n      <td>88.811359</td>\n      <td>24.819217</td>\n      <td>8.352819</td>\n      <td>0.528162</td>\n      <td>2.562353</td>\n      <td>0.087485</td>\n      <td>15.804665</td>\n      <td>47.218661</td>\n      <td>3.311201</td>\n      <td>0.660353</td>\n    </tr>\n    <tr>\n      <th>std</th>\n      <td>2.974000</td>\n      <td>25.539475</td>\n      <td>1.734847</td>\n      <td>0.178869</td>\n      <td>1.407030</td>\n      <td>0.047043</td>\n      <td>10.379218</td>\n      <td>33.187830</td>\n      <td>0.153927</td>\n      <td>0.172531</td>\n    </tr>\n    <tr>\n      <th>min</th>\n      <td>81.000000</td>\n      <td>5.000000</td>\n      <td>4.600000</td>\n      <td>0.120000</td>\n      <td>0.900000</td>\n      <td>0.012000</td>\n      <td>1.000000</td>\n      <td>6.000000</td>\n      <td>2.740000</td>\n      <td>0.330000</td>\n    </tr>\n    <tr>\n      <th>25%</th>\n      <td>87.000000</td>\n      <td>12.000000</td>\n      <td>7.100000</td>\n      <td>0.400000</td>\n      <td>1.900000</td>\n      <td>0.070000</td>\n      <td>7.000000</td>\n      <td>22.000000</td>\n      <td>3.210000</td>\n      <td>0.550000</td>\n    </tr>\n    <tr>\n      <th>50%</th>\n      <td>88.000000</td>\n      <td>17.000000</td>\n      <td>7.900000</td>\n      <td>0.520000</td>\n      <td>2.200000</td>\n      <td>0.079000</td>\n      <td>14.000000</td>\n      <td>38.000000</td>\n      <td>3.310000</td>\n      <td>0.620000</td>\n    </tr>\n    <tr>\n      <th>75%</th>\n      <td>91.000000</td>\n      <td>28.000000</td>\n      <td>9.300000</td>\n      <td>0.635000</td>\n      <td>2.600000</td>\n      <td>0.091000</td>\n      <td>21.000000</td>\n      <td>64.000000</td>\n      <td>3.400000</td>\n      <td>0.730000</td>\n    </tr>\n    <tr>\n      <th>max</th>\n      <td>100.000000</td>\n      <td>450.000000</td>\n      <td>15.900000</td>\n      <td>1.580000</td>\n      <td>15.500000</td>\n      <td>0.611000</td>\n      <td>72.000000</td>\n      <td>289.000000</td>\n      <td>4.010000</td>\n      <td>2.000000</td>\n    </tr>\n  </tbody>\n</table>\n</div>"
     },
     "metadata": {}
    }
   ]
  },
  {
   "cell_type": "markdown",
   "source": "Here we can see the alcohol feature type being string, this is however not very usable. To be able to properly use the alcohol feature we will convert it to float.",
   "metadata": {
    "tags": [],
    "cell_id": "00009-1911902d-108e-4336-a481-6864468a32fd",
    "deepnote_cell_type": "markdown"
   }
  },
  {
   "cell_type": "markdown",
   "source": "##### (Missing) Value correction\n\nThis section changes the value types of **Alcohol**, **Density** and **Citric acid** to useable and readable values.\n\n- **Alcohol**:  \n    As can be seen below, there are a few values who's string representation are way larger than the rest of the values.\n    These numbers seem to represent floats with repeating digits, so the best plan of action would be to remove the full stops\n    and then add a decimal separator in the correct position to make it a valid alcohol percentage.\n    Seeing as the normal alcohol percentage ranges from ~9 to ~11, it would make sense to add a decimal separator after first digit\n    if the first digit is not a \"1\", because that would mean it is less than 10. If the first digit is a \"1\" then it is supposed to\n    be a number above 10, so then we put the decimal separator after the second digit. <br /><br />\n- **Density**:  \n    All of the correct values are strings representing floats in the range of ~0.9 and ~1.1. Some of the strings seem to represent floats above 10.0. We will assume that these are meant to represent floats in the correct range, but just with their decimal separator in the incorrect spot. For this reason we will change the strings by moving the decimal separator to after the first digit. The strings that seem to represent no float will be converted to NaN values.<br /><br />\n- **Citric acid**:  \n    The same method for cleaning the density is used for cleaning the citric acid data.",
   "metadata": {
    "tags": [],
    "cell_id": "00017-fbda02a3-89cd-4497-a3d7-a85d7e28d396",
    "deepnote_cell_type": "markdown"
   }
  },
  {
   "cell_type": "code",
   "metadata": {
    "tags": [],
    "cell_id": "00020-31feaa5c-31d6-42de-8d09-67e28316544b",
    "deepnote_to_be_reexecuted": false,
    "source_hash": "34b06a9e",
    "execution_start": 1633692054914,
    "execution_millis": 11,
    "deepnote_cell_type": "code"
   },
   "source": "# Prints the values of the alcohol column based on their length as strings\nprint(df.sort_values(by=\"alcohol\", key=lambda x: x.str.len(), ascending=False).head(15)['alcohol'].to_string())",
   "execution_count": null,
   "outputs": [
    {
     "name": "stdout",
     "text": "id\n1621    11.066.666.666.666.600\n1796    11.066.666.666.666.600\n1765       100.333.333.333.333\n1671       956.666.666.666.667\n1346       100.333.333.333.333\n1345       100.333.333.333.333\n1767       923.333.333.333.333\n1766       100.333.333.333.333\n1795       956.666.666.666.667\n2029       923.333.333.333.333\n678                      10.55\n1170                     11.95\n140                      10.55\n2252                     10.75\n1286                     10.75\n",
     "output_type": "stream"
    }
   ]
  },
  {
   "cell_type": "code",
   "metadata": {
    "tags": [],
    "cell_id": "00025-8cc8eeb8-5b08-4c55-bb98-957da36c0dd1",
    "deepnote_to_be_reexecuted": false,
    "source_hash": "e736e9d",
    "execution_start": 1633692054915,
    "execution_millis": 10,
    "deepnote_cell_type": "code"
   },
   "source": "# Prints the values of the density\ndf['density'].value_counts().sort_index()\n\n# here we can see that the first value is \" . \". Values like these cannot be converted to numbers, so NaN values will be used\n# a lot of these last values are way too big for density values. \n# these should be around 1.0, so the decimal separators will be placed after the first digit.",
   "execution_count": null,
   "outputs": [
    {
     "output_type": "execute_result",
     "execution_count": 13,
     "data": {
      "text/plain": " .         1\n0.99007    2\n0.9902     1\n0.99064    4\n0.9908     1\n          ..\n100.025    1\n100.242    2\n100.289    2\n100.315    6\n100.369    3\nName: density, Length: 428, dtype: int64"
     },
     "metadata": {}
    }
   ]
  },
  {
   "cell_type": "code",
   "metadata": {
    "tags": [],
    "cell_id": "00026-aa622fd9-c1c4-4f8f-8d43-cbe634f02328",
    "deepnote_to_be_reexecuted": false,
    "source_hash": "999fc0d",
    "execution_start": 1633692054958,
    "execution_millis": 0,
    "deepnote_cell_type": "code"
   },
   "source": "# Print values of citric_acid\ndf['citric_acid'].value_counts().sort_index()\n\n# here we can see that the first value is \" - \" and we will replace this in the next part\n# also these values are strings and we convert these to floats",
   "execution_count": null,
   "outputs": [
    {
     "output_type": "execute_result",
     "execution_count": 14,
     "data": {
      "text/plain": " -       203\n0.01      47\n0.02      76\n0.03      41\n0.04      49\n        ... \n0.75       2\n0.76       6\n0.78       2\n0.79       2\n1          1\nName: citric_acid, Length: 80, dtype: int64"
     },
     "metadata": {}
    }
   ]
  },
  {
   "cell_type": "code",
   "metadata": {
    "tags": [],
    "cell_id": "00007-77bc5e4c-00b9-412f-80c1-cbd2e99195fe",
    "deepnote_to_be_reexecuted": false,
    "source_hash": "b3d528db",
    "execution_start": 1633692054959,
    "execution_millis": 76,
    "deepnote_cell_type": "code"
   },
   "source": "# Takes a number as string, removes unnecessary full stops, and adds a decimal separator to the number\ndef formatalcohol(s):\n    s = s.replace('.', '')\n    if s[0] == '1':\n        s = s[:2] + '.' + s[2:]\n    else:\n        s = s[:1] + '.' + s[1:]\n    return float(s)\n\n# Takes a number as string and places comma at right position\ndef format_dens_cacid(s):\n    try:\n        # Convert all values to floats\n        s = s.replace('.', '')\n        s = s[:1] + '.' + s[1:]\n        s = float(s)\n    except Exception:\n        # If value is not a number then make it a NaN\n        s = np.nan\n    return s\n\n# Apply the function formatalcohol to each string\ndf['alcohol'] = df['alcohol'].apply(formatalcohol)\n\n# Apply the function format_dens_cacid to each string\ndf['density'] = df['density'].apply(format_dens_cacid)\n\n# Apply the function format_dens_cacid to each string\ndf['citric_acid'] = df['citric_acid'].apply(format_dens_cacid)\n\ndf[['alcohol','density','citric_acid']].describe()",
   "execution_count": null,
   "outputs": [
    {
     "output_type": "execute_result",
     "execution_count": 15,
     "data": {
      "application/vnd.deepnote.dataframe.v2+json": {
       "row_count": 8,
       "column_count": 3,
       "columns": [
        {
         "name": "alcohol",
         "dtype": "float64",
         "stats": {
          "unique_count": 8,
          "nan_count": 0,
          "min": "1.05076213660654",
          "max": "2465.0",
          "histogram": [
           {
            "bin_start": 1.05076213660654,
            "bin_end": 247.4456859229459,
            "count": 7
           },
           {
            "bin_start": 247.4456859229459,
            "bin_end": 493.8406097092852,
            "count": 0
           },
           {
            "bin_start": 493.8406097092852,
            "bin_end": 740.2355334956245,
            "count": 0
           },
           {
            "bin_start": 740.2355334956245,
            "bin_end": 986.6304572819639,
            "count": 0
           },
           {
            "bin_start": 986.6304572819639,
            "bin_end": 1233.0253810683034,
            "count": 0
           },
           {
            "bin_start": 1233.0253810683034,
            "bin_end": 1479.4203048546426,
            "count": 0
           },
           {
            "bin_start": 1479.4203048546426,
            "bin_end": 1725.815228640982,
            "count": 0
           },
           {
            "bin_start": 1725.815228640982,
            "bin_end": 1972.2101524273214,
            "count": 0
           },
           {
            "bin_start": 1972.2101524273214,
            "bin_end": 2218.6050762136606,
            "count": 0
           },
           {
            "bin_start": 2218.6050762136606,
            "bin_end": 2465,
            "count": 1
           }
          ]
         }
        },
        {
         "name": "density",
         "dtype": "float64",
         "stats": {
          "unique_count": 8,
          "nan_count": 0,
          "min": "0.0018701425664672286",
          "max": "2464.0",
          "histogram": [
           {
            "bin_start": 0.0018701425664672286,
            "bin_end": 246.40168312830983,
            "count": 7
           },
           {
            "bin_start": 246.40168312830983,
            "bin_end": 492.8014961140532,
            "count": 0
           },
           {
            "bin_start": 492.8014961140532,
            "bin_end": 739.2013090997965,
            "count": 0
           },
           {
            "bin_start": 739.2013090997965,
            "bin_end": 985.6011220855398,
            "count": 0
           },
           {
            "bin_start": 985.6011220855398,
            "bin_end": 1232.0009350712833,
            "count": 0
           },
           {
            "bin_start": 1232.0009350712833,
            "bin_end": 1478.4007480570267,
            "count": 0
           },
           {
            "bin_start": 1478.4007480570267,
            "bin_end": 1724.80056104277,
            "count": 0
           },
           {
            "bin_start": 1724.80056104277,
            "bin_end": 1971.2003740285134,
            "count": 0
           },
           {
            "bin_start": 1971.2003740285134,
            "bin_end": 2217.600187014257,
            "count": 0
           },
           {
            "bin_start": 2217.600187014257,
            "bin_end": 2464,
            "count": 1
           }
          ]
         }
        },
        {
         "name": "citric_acid",
         "dtype": "float64",
         "stats": {
          "unique_count": 8,
          "nan_count": 0,
          "min": "0.01",
          "max": "2262.0",
          "histogram": [
           {
            "bin_start": 0.01,
            "bin_end": 226.20899999999997,
            "count": 7
           },
           {
            "bin_start": 226.20899999999997,
            "bin_end": 452.40799999999996,
            "count": 0
           },
           {
            "bin_start": 452.40799999999996,
            "bin_end": 678.607,
            "count": 0
           },
           {
            "bin_start": 678.607,
            "bin_end": 904.8059999999999,
            "count": 0
           },
           {
            "bin_start": 904.8059999999999,
            "bin_end": 1131.0049999999999,
            "count": 0
           },
           {
            "bin_start": 1131.0049999999999,
            "bin_end": 1357.204,
            "count": 0
           },
           {
            "bin_start": 1357.204,
            "bin_end": 1583.4029999999998,
            "count": 0
           },
           {
            "bin_start": 1583.4029999999998,
            "bin_end": 1809.6019999999999,
            "count": 0
           },
           {
            "bin_start": 1809.6019999999999,
            "bin_end": 2035.801,
            "count": 0
           },
           {
            "bin_start": 2035.801,
            "bin_end": 2262,
            "count": 1
           }
          ]
         }
        },
        {
         "name": "_deepnote_index_column",
         "dtype": "object"
        }
       ],
       "rows_top": [
        {
         "alcohol": 2465,
         "density": 2464,
         "citric_acid": 2262,
         "_deepnote_index_column": "count"
        },
        {
         "alcohol": 10.411791751183234,
         "density": 0.9968238636363637,
         "citric_acid": 0.29942528735632185,
         "_deepnote_index_column": "mean"
        },
        {
         "alcohol": 1.05076213660654,
         "density": 0.0018701425664672286,
         "citric_acid": 0.18535411782092293,
         "_deepnote_index_column": "std"
        },
        {
         "alcohol": 8.5,
         "density": 0.99007,
         "citric_acid": 0.01,
         "_deepnote_index_column": "min"
        },
        {
         "alcohol": 9.5,
         "density": 0.9956875000000001,
         "citric_acid": 0.14,
         "_deepnote_index_column": "25%"
        },
        {
         "alcohol": 10.2,
         "density": 0.9968,
         "citric_acid": 0.29,
         "_deepnote_index_column": "50%"
        },
        {
         "alcohol": 11.1,
         "density": 0.9979,
         "citric_acid": 0.4475,
         "_deepnote_index_column": "75%"
        },
        {
         "alcohol": 14.9,
         "density": 1.00369,
         "citric_acid": 1,
         "_deepnote_index_column": "max"
        }
       ],
       "rows_bottom": null
      },
      "text/plain": "           alcohol      density  citric_acid\ncount  2465.000000  2464.000000  2262.000000\nmean     10.411792     0.996824     0.299425\nstd       1.050762     0.001870     0.185354\nmin       8.500000     0.990070     0.010000\n25%       9.500000     0.995688     0.140000\n50%      10.200000     0.996800     0.290000\n75%      11.100000     0.997900     0.447500\nmax      14.900000     1.003690     1.000000",
      "text/html": "<div>\n<style scoped>\n    .dataframe tbody tr th:only-of-type {\n        vertical-align: middle;\n    }\n\n    .dataframe tbody tr th {\n        vertical-align: top;\n    }\n\n    .dataframe thead th {\n        text-align: right;\n    }\n</style>\n<table border=\"1\" class=\"dataframe\">\n  <thead>\n    <tr style=\"text-align: right;\">\n      <th></th>\n      <th>alcohol</th>\n      <th>density</th>\n      <th>citric_acid</th>\n    </tr>\n  </thead>\n  <tbody>\n    <tr>\n      <th>count</th>\n      <td>2465.000000</td>\n      <td>2464.000000</td>\n      <td>2262.000000</td>\n    </tr>\n    <tr>\n      <th>mean</th>\n      <td>10.411792</td>\n      <td>0.996824</td>\n      <td>0.299425</td>\n    </tr>\n    <tr>\n      <th>std</th>\n      <td>1.050762</td>\n      <td>0.001870</td>\n      <td>0.185354</td>\n    </tr>\n    <tr>\n      <th>min</th>\n      <td>8.500000</td>\n      <td>0.990070</td>\n      <td>0.010000</td>\n    </tr>\n    <tr>\n      <th>25%</th>\n      <td>9.500000</td>\n      <td>0.995688</td>\n      <td>0.140000</td>\n    </tr>\n    <tr>\n      <th>50%</th>\n      <td>10.200000</td>\n      <td>0.996800</td>\n      <td>0.290000</td>\n    </tr>\n    <tr>\n      <th>75%</th>\n      <td>11.100000</td>\n      <td>0.997900</td>\n      <td>0.447500</td>\n    </tr>\n    <tr>\n      <th>max</th>\n      <td>14.900000</td>\n      <td>1.003690</td>\n      <td>1.000000</td>\n    </tr>\n  </tbody>\n</table>\n</div>"
     },
     "metadata": {}
    }
   ]
  },
  {
   "cell_type": "markdown",
   "source": "- Here we can see that there are no more alcohol values above 14.9 percent and that the values are converted to floats.\n- Also we see that there are no more NaN values of density and that they are converted from string to float\n- Last but not least, we do not have any more string or empty values in citric_acid.",
   "metadata": {
    "tags": [],
    "cell_id": "00024-f42dc15c-d054-4bf2-9d62-e3ce0edc0913",
    "deepnote_cell_type": "markdown"
   }
  },
  {
   "cell_type": "markdown",
   "source": "#### Year extraction from title\n\nHere we extract the numbers from the title and check if this number is a year, we also checked if the amount of wines with a year number in the title is usable.",
   "metadata": {
    "tags": [],
    "cell_id": "00024-28fbae46-3c62-49e5-96a2-76fee293aec6",
    "deepnote_cell_type": "markdown"
   }
  },
  {
   "cell_type": "code",
   "metadata": {
    "tags": [],
    "cell_id": "00024-29e7d5da-a10a-42b8-beae-3075312613f3",
    "deepnote_to_be_reexecuted": false,
    "source_hash": "3fd1c8a2",
    "execution_start": 1633692055073,
    "execution_millis": 54,
    "deepnote_cell_type": "code"
   },
   "source": "def digitstoint(ns):\n    return int(\"\".join([str(n) for n in ns]))\n\nusableyears = 0\n\ndef sep_name_year(name):\n    if any([x.isdigit() for x in name]):\n        global usableyears\n        \n        year = digitstoint([int(s) for s in name if s.isdigit()])\n        if year<10000:\n            usableyears += 1\n            return year\n        else:\n            return np.nan\n    else:\n        \n        return np.nan\n\n\ndf['year'] = df.title.copy()\ndf['year'] = df['year'].map(sep_name_year)\n\nprint(f\"There are {usableyears} usable years of the {len(df['title'])} wines\")",
   "execution_count": null,
   "outputs": [
    {
     "name": "stdout",
     "text": "There are 2425 usable years of the 2465 wines\n",
     "output_type": "stream"
    }
   ]
  },
  {
   "cell_type": "markdown",
   "source": "#### 4) Data visualisation",
   "metadata": {
    "tags": [],
    "cell_id": "00014-ccb42b59-372c-469f-a5d8-d7f537d30180",
    "deepnote_cell_type": "markdown"
   }
  },
  {
   "cell_type": "markdown",
   "source": "##### Baseline model\nTo create a base outcome for our first research question, we take a look at out target variable: points.\nWe calculate the mean of all given points of the wines.\nThis will be the most likely outcome with our simple model.",
   "metadata": {
    "tags": [],
    "cell_id": "00032-75e81d6e-f211-4156-97fc-c03bc379fe10",
    "deepnote_cell_type": "markdown"
   }
  },
  {
   "cell_type": "code",
   "metadata": {
    "tags": [],
    "cell_id": "00033-ee4ada8b-3479-4123-bc06-4463bb16a4d2",
    "deepnote_to_be_reexecuted": false,
    "source_hash": "c4dc2c63",
    "execution_start": 1633692533218,
    "execution_millis": 350,
    "deepnote_cell_type": "code"
   },
   "source": "baseline_proc = df.points.count() / sum(map(lambda x : x == np.median(df.points), df.points))\nbaseline_proc",
   "execution_count": null,
   "outputs": [
    {
     "output_type": "execute_result",
     "execution_count": 36,
     "data": {
      "text/plain": "7.063037249283668"
     },
     "metadata": {}
    }
   ]
  },
  {
   "cell_type": "code",
   "metadata": {
    "tags": [],
    "cell_id": "00026-9237129e-94a6-411b-817b-87ecc04655c1",
    "deepnote_to_be_reexecuted": false,
    "source_hash": "9cd32d36",
    "execution_start": 1633692055162,
    "execution_millis": 297,
    "deepnote_cell_type": "code"
   },
   "source": "# Visualisation of the outliers of column \"density\"\nplt.boxplot(df['density'].dropna())\nplt.xlabel('Density')\nplt.ylabel('Density values')\nplt.title('The division of density of the wines')\nplt.show()",
   "execution_count": null,
   "outputs": [
    {
     "data": {
      "text/plain": "<Figure size 432x288 with 1 Axes>",
      "image/png": "[encoded data removed]"
     },
     "metadata": {
      "needs_background": "light",
      "image/png": {
       "width": 398,
       "height": 278
      }
     },
     "output_type": "display_data"
    }
   ]
  },
  {
   "cell_type": "code",
   "metadata": {
    "tags": [],
    "cell_id": "00021-84fa3c74-0b80-4a54-b838-af91ec881e54",
    "deepnote_to_be_reexecuted": false,
    "source_hash": "86847847",
    "execution_start": 1633692055467,
    "execution_millis": 635,
    "deepnote_cell_type": "code"
   },
   "source": "plt.title('Amount of wines per province')\nplt.ylabel('Frequency')\nplt.xlabel('Provinces')\ndf.province.value_counts().plot.bar()",
   "execution_count": null,
   "outputs": [
    {
     "output_type": "execute_result",
     "execution_count": 19,
     "data": {
      "text/plain": "<AxesSubplot:title={'center':'Amount of wines per province'}, xlabel='Provinces', ylabel='Frequency'>"
     },
     "metadata": {}
    },
    {
     "data": {
      "text/plain": "<Figure size 432x288 with 1 Axes>",
      "image/png": "[encoded data removed]"
     },
     "metadata": {
      "needs_background": "light",
      "image/png": {
       "width": 389,
       "height": 382
      }
     },
     "output_type": "display_data"
    }
   ]
  },
  {
   "cell_type": "code",
   "metadata": {
    "tags": [],
    "cell_id": "00025-8d5f77ee-43ac-4959-a7f9-1e49da0767f2",
    "deepnote_to_be_reexecuted": false,
    "source_hash": "974c0f64",
    "execution_start": 1633692056181,
    "execution_millis": 363,
    "deepnote_cell_type": "code"
   },
   "source": "plt.title('Amount of wines per alcoholic percentage')\nplt.xlabel('Percentage of alcohol')\nplt.ylabel('Frequency')\ndf.alcohol.plot.hist()",
   "execution_count": null,
   "outputs": [
    {
     "output_type": "execute_result",
     "execution_count": 20,
     "data": {
      "text/plain": "<AxesSubplot:title={'center':'Amount of wines per alcoholic percentage'}, xlabel='Percentage of alcohol', ylabel='Frequency'>"
     },
     "metadata": {}
    },
    {
     "data": {
      "text/plain": "<Figure size 432x288 with 1 Axes>",
      "image/png": "[encoded data removed]"
     },
     "metadata": {
      "needs_background": "light",
      "image/png": {
       "width": 389,
       "height": 278
      }
     },
     "output_type": "display_data"
    }
   ]
  },
  {
   "cell_type": "code",
   "metadata": {
    "tags": [],
    "cell_id": "00010-3309415c-7a51-479c-8a87-bacf75aa0e3d",
    "deepnote_to_be_reexecuted": false,
    "source_hash": "cbbcda23",
    "execution_start": 1633692056541,
    "execution_millis": 316,
    "deepnote_cell_type": "code"
   },
   "source": "#df.plot.scatter(x='density',y='residual_sugar', c='DarkBlue')\nplt.title('Scatterplot of density and residual sugar')\nplt.xlabel('Density')\nplt.ylabel('Residual sugar')\nplt.scatter(df['density'],df['residual_sugar'], alpha=0.1)\n",
   "execution_count": null,
   "outputs": [
    {
     "output_type": "execute_result",
     "execution_count": 21,
     "data": {
      "text/plain": "<matplotlib.collections.PathCollection at 0x7f8313c5f150>"
     },
     "metadata": {}
    },
    {
     "data": {
      "text/plain": "<Figure size 432x288 with 1 Axes>",
      "image/png": "[encoded data removed]"
     },
     "metadata": {
      "needs_background": "light",
      "image/png": {
       "width": 388,
       "height": 278
      }
     },
     "output_type": "display_data"
    }
   ]
  },
  {
   "cell_type": "code",
   "metadata": {
    "tags": [],
    "cell_id": "00030-a6122e6f-530e-4ac1-a5e8-ccc79e1e0cf5",
    "deepnote_to_be_reexecuted": false,
    "source_hash": "eb8aadaa",
    "execution_start": 1633692056909,
    "execution_millis": 323,
    "deepnote_cell_type": "code"
   },
   "source": "plt.title('Scatterplot of Year and Points')\nplt.xlabel('Year')\nplt.xlim((1990, 2020))\nplt.ylabel('Points')\nplt.scatter(df['year'],df['points'], alpha=0.1)",
   "execution_count": null,
   "outputs": [
    {
     "output_type": "execute_result",
     "execution_count": 22,
     "data": {
      "text/plain": "<matplotlib.collections.PathCollection at 0x7f8324024c50>"
     },
     "metadata": {}
    },
    {
     "data": {
      "text/plain": "<Figure size 432x288 with 1 Axes>",
      "image/png": "[encoded data removed]"
     },
     "metadata": {
      "needs_background": "light",
      "image/png": {
       "width": 411,
       "height": 278
      }
     },
     "output_type": "display_data"
    }
   ]
  },
  {
   "cell_type": "code",
   "metadata": {
    "tags": [],
    "cell_id": "00031-f2ff098b-a1dc-4473-8e73-ed63b4c6891d",
    "deepnote_to_be_reexecuted": false,
    "source_hash": "f3da05f2",
    "execution_start": 1633692057305,
    "execution_millis": 239,
    "deepnote_cell_type": "code"
   },
   "source": "plt.title('Scatterplot of Year and Alcohol')\nplt.xlabel('Year')\nplt.xlim((1990, 2020))\nplt.ylabel('Alcohol')\nplt.scatter(df['year'],df['alcohol'], alpha=0.3)",
   "execution_count": null,
   "outputs": [
    {
     "output_type": "execute_result",
     "execution_count": 23,
     "data": {
      "text/plain": "<matplotlib.collections.PathCollection at 0x7f8313b92a10>"
     },
     "metadata": {}
    },
    {
     "data": {
      "text/plain": "<Figure size 432x288 with 1 Axes>",
      "image/png": "[encoded data removed]"
     },
     "metadata": {
      "needs_background": "light",
      "image/png": {
       "width": 395,
       "height": 278
      }
     },
     "output_type": "display_data"
    }
   ]
  },
  {
   "cell_type": "markdown",
   "source": "When we look at the right side of the graph below we can see that when the concentration chlorides rises the average amount of points falls. We can also see in this graph that there are no wines with more than ",
   "metadata": {
    "tags": [],
    "cell_id": "00034-cd239a35-e56d-4d28-a176-10c497a27b84",
    "deepnote_cell_type": "markdown"
   }
  },
  {
   "cell_type": "code",
   "metadata": {
    "tags": [],
    "cell_id": "00033-a6bde90e-d589-42d2-884c-cb3f700ed626",
    "deepnote_to_be_reexecuted": false,
    "source_hash": "25687e05",
    "execution_start": 1633692057586,
    "execution_millis": 367,
    "deepnote_cell_type": "code"
   },
   "source": "plt.title('Scatterplot of Chloride and Points')\nplt.xlabel('chlorides')\nplt.ylabel('Points')\nplt.scatter(df['chlorides'],df['points'], alpha=0.3)",
   "execution_count": null,
   "outputs": [
    {
     "output_type": "execute_result",
     "execution_count": 24,
     "data": {
      "text/plain": "<matplotlib.collections.PathCollection at 0x7f8313ad8ed0>"
     },
     "metadata": {}
    },
    {
     "data": {
      "text/plain": "<Figure size 432x288 with 1 Axes>",
      "image/png": "[encoded data removed]"
     },
     "metadata": {
      "needs_background": "light",
      "image/png": {
       "width": 398,
       "height": 278
      }
     },
     "output_type": "display_data"
    }
   ]
  },
  {
   "cell_type": "markdown",
   "source": "Here we use scatterplot to see the correlations between Density and Residual Sugar.",
   "metadata": {
    "tags": [],
    "cell_id": "00037-53a7dd87-49ef-4569-81db-beff282cdab5",
    "deepnote_cell_type": "markdown"
   }
  },
  {
   "cell_type": "code",
   "metadata": {
    "tags": [],
    "cell_id": "00036-35bf3bd1-0c59-43b5-9b15-c0834741880d",
    "deepnote_to_be_reexecuted": false,
    "source_hash": "893cd68b",
    "execution_start": 1633692057961,
    "execution_millis": 387,
    "deepnote_cell_type": "code"
   },
   "source": "#df.plot.scatter(x='density',y='residual_sugar', c='DarkBlue')\ndf_tmp = df.copy()\ndf_tmp.dropna(inplace=True)\nplt.title('Linear regression of density and residual sugar')\nplt.xlabel('Density')\nplt.ylabel('Residual sugar')\nplt.scatter(df_tmp['density'],df_tmp['residual_sugar'], alpha=0.1)\n\nx = df_tmp['density'].values.reshape(-1, 1)\ny = df_tmp['residual_sugar'].values\nz = df_tmp['alcohol'].values",
   "execution_count": null,
   "outputs": [
    {
     "data": {
      "text/plain": "<Figure size 432x288 with 1 Axes>",
      "image/png": "[encoded data removed]"
     },
     "metadata": {
      "needs_background": "light",
      "image/png": {
       "width": 388,
       "height": 278
      }
     },
     "output_type": "display_data"
    }
   ]
  },
  {
   "cell_type": "code",
   "metadata": {
    "tags": [],
    "cell_id": "00037-22e9a1c7-fe1d-4463-8530-44b6e2cafb3a",
    "deepnote_to_be_reexecuted": false,
    "source_hash": "eae1890",
    "execution_start": 1633692058425,
    "execution_millis": 389,
    "deepnote_cell_type": "code"
   },
   "source": "#df.plot.scatter(x='density',y='residual_sugar', c='DarkBlue')\nplt.title('Linear regression of of Chloride and Points')\nplt.xlabel('Chloride')\nplt.ylabel('Points')\nplt.scatter(df['chlorides'],df['points'], alpha=0.1)",
   "execution_count": null,
   "outputs": [
    {
     "output_type": "execute_result",
     "execution_count": 26,
     "data": {
      "text/plain": "<matplotlib.collections.PathCollection at 0x7f8313ad1ed0>"
     },
     "metadata": {}
    },
    {
     "data": {
      "text/plain": "<Figure size 432x288 with 1 Axes>",
      "image/png": "[encoded data removed]"
     },
     "metadata": {
      "needs_background": "light",
      "image/png": {
       "width": 398,
       "height": 278
      }
     },
     "output_type": "display_data"
    }
   ]
  },
  {
   "cell_type": "code",
   "metadata": {
    "tags": [],
    "cell_id": "00047-ab85693c-94c8-4753-bbf7-d512cfcf1ff0",
    "deepnote_to_be_reexecuted": false,
    "source_hash": "a2658f34",
    "execution_start": 1633692058925,
    "execution_millis": 282,
    "deepnote_cell_type": "code"
   },
   "source": "# This looks like a Gaussian distribution\n\ndf[\"points\"].plot.kde()\nplt.axvline(df[\"points\"].mean(), color='g', linewidth=2)\ndf[\"points\"].plot.hist(density=True)\n",
   "execution_count": null,
   "outputs": [
    {
     "output_type": "execute_result",
     "execution_count": 27,
     "data": {
      "text/plain": "<AxesSubplot:ylabel='Frequency'>"
     },
     "metadata": {}
    },
    {
     "data": {
      "text/plain": "<Figure size 432x288 with 1 Axes>",
      "image/png": "[encoded data removed]"
     },
     "metadata": {
      "needs_background": "light",
      "image/png": {
       "width": 392,
       "height": 248
      }
     },
     "output_type": "display_data"
    }
   ]
  },
  {
   "cell_type": "markdown",
   "source": "#### 5) Choosing the Best Model\n\nResearching if there is a correlation between the chemical propperties in a wine and the points it is given.",
   "metadata": {
    "tags": [],
    "cell_id": "00040-4a0e4913-a584-4118-b33f-b473ae89fe6c",
    "deepnote_cell_type": "markdown"
   }
  },
  {
   "cell_type": "code",
   "metadata": {
    "tags": [],
    "cell_id": "00041-b9ae930c-825b-4eba-8acd-bfc1c2f4ffde",
    "deepnote_to_be_reexecuted": false,
    "source_hash": "b90cc370",
    "execution_start": 1633692059249,
    "execution_millis": 255,
    "deepnote_cell_type": "code"
   },
   "source": "print(df.corr()['points'])\nplt.title('Correlation of price and points')\nplt.xlabel('Price')\nplt.ylabel('Points')\nplt.scatter(df.price, df.points, alpha=0.3)\nplt.show()",
   "execution_count": null,
   "outputs": [
    {
     "name": "stdout",
     "text": "points                  1.000000\nprice                   0.586486\nfixed_acidity           0.090071\nvolatile_acidity       -0.341131\ncitric_acid             0.185946\nresidual_sugar         -0.002561\nchlorides              -0.132438\nfree_sulfur_dioxide    -0.059912\ntotal_sulfur_dioxide   -0.198235\ndensity                -0.196166\npH                     -0.021553\nsulphates               0.205161\nalcohol                 0.472012\nyear                   -0.128758\nName: points, dtype: float64\n",
     "output_type": "stream"
    },
    {
     "data": {
      "text/plain": "<Figure size 432x288 with 1 Axes>",
      "image/png": "[encoded data removed]"
     },
     "metadata": {
      "needs_background": "light",
      "image/png": {
       "width": 398,
       "height": 278
      }
     },
     "output_type": "display_data"
    }
   ]
  },
  {
   "cell_type": "code",
   "metadata": {
    "tags": [],
    "cell_id": "00041-2f0c5d11-4838-4d80-aead-85583c09ea19",
    "deepnote_to_be_reexecuted": false,
    "source_hash": "d8bcd73c",
    "execution_start": 1633692059554,
    "execution_millis": 6,
    "deepnote_cell_type": "code"
   },
   "source": "# Here we drop all the values that are not chemical properties\nX = df_tmp.drop(['points','country','description','designation','price','province','taster_name','title','variety','winery','density'],axis=1)\ny = df_tmp['points']\n\n# Making test and train set\nX_train,X_test,y_train,y_test=train_test_split(X,y,random_state = 0)\n\n# Starting learning process\nlr = LinearRegression()\nlr.fit(X_train,y_train)\n\ny1 = lr.intercept_+lr.coef_[0]*x\nprint('a = {:.0f}, b = {:.0f}'.format(lr.intercept_, lr.coef_[0]))",
   "execution_count": null,
   "outputs": [
    {
     "name": "stdout",
     "text": "a = 261, b = 0\n",
     "output_type": "stream"
    }
   ]
  },
  {
   "cell_type": "code",
   "metadata": {
    "tags": [],
    "cell_id": "00047-688ea10b-36a5-4586-a14e-43f9b4497d7b",
    "deepnote_to_be_reexecuted": false,
    "source_hash": "387f8b4",
    "execution_start": 1633692059555,
    "execution_millis": 51,
    "deepnote_cell_type": "code"
   },
   "source": "# Here we test our Model with the RMSE method\n\npredmpg = lr.predict(X_test)\nnp.sqrt(mean_squared_error(y_test,predmpg))",
   "execution_count": null,
   "outputs": [
    {
     "output_type": "execute_result",
     "execution_count": 30,
     "data": {
      "text/plain": "2.4410036116846103"
     },
     "metadata": {}
    }
   ]
  },
  {
   "cell_type": "markdown",
   "source": "Now we try every possible combination of features and check wich one has the lowest RMSE value. These features will be used for the linear regression model.",
   "metadata": {
    "tags": [],
    "cell_id": "00052-16bcb50a-c3af-47bc-8c75-d176054891f8",
    "deepnote_cell_type": "markdown"
   }
  },
  {
   "cell_type": "code",
   "metadata": {
    "tags": [],
    "cell_id": "00050-fcf07761-4edd-43eb-b4a6-c5ede508fc9b",
    "deepnote_to_be_reexecuted": false,
    "source_hash": "fedd4196",
    "execution_start": 1633692059599,
    "execution_millis": 28469,
    "deepnote_cell_type": "code"
   },
   "source": "# This script tests all possible combination of features \n# to check which combination give the highest score for the linear regression\ny = df_tmp['points']\n# List of features we want to use\nfeatures  = ['fixed_acidity','volatile_acidity','citric_acid','residual_sugar','chlorides','free_sulfur_dioxide','total_sulfur_dioxide','density','pH','sulphates','alcohol']\n#Make list of all combinations of features\npossible_combinations = [np.asarray(subset) for l in range(1,len(features)+1) \\\n                             for subset in itertools.combinations(features,l) ]\n\nbest_RMSE = 50.00\nbest_comb = possible_combinations[0]\ny1 = 0\nbest_formule = [0,0]\nfor comb in possible_combinations:\n    X = df_tmp[comb]\n    # Making test and train set\n    X_train,X_test,y_train,y_test=train_test_split(X,y,random_state = 0)\n\n    # Starting learning process\n    lr = LinearRegression()\n    lr.fit(X_train,y_train)\n\n    y1 = lr.intercept_+lr.coef_[0]*x\n    predmpg = lr.predict(X_test)\n    RMSE = np.sqrt(mean_squared_error(y_test,predmpg))\n\n    if RMSE < best_RMSE:\n        best_formule[0]=lr.intercept_\n        best_formule[1]=lr.coef_[0]\n        best_RMSE = RMSE\n        best_comb = comb\n\nprint(best_comb)\nprint(best_RMSE)\nprint(f'y={best_formule[0]}+{best_formule[1]}*x')\n",
   "execution_count": null,
   "outputs": [
    {
     "name": "stdout",
     "text": "['fixed_acidity' 'citric_acid' 'residual_sugar' 'chlorides'\n 'total_sulfur_dioxide' 'density' 'sulphates' 'alcohol']\n2.429999746434494\ny=286.0336459689155+0.1961324877530757*x\n",
     "output_type": "stream"
    }
   ]
  },
  {
   "cell_type": "code",
   "metadata": {
    "tags": [],
    "cell_id": "00052-b48ef2a9-615e-4614-a2ff-031b2596c9cd",
    "deepnote_to_be_reexecuted": false,
    "source_hash": "ef40e8e",
    "execution_start": 1633692088074,
    "execution_millis": 337,
    "deepnote_cell_type": "code"
   },
   "source": "plt.scatter(df_tmp.alcohol,df_tmp.points)\nx = df_tmp.points\ny = best_formule[0]+best_formule[1]*x\nplt.plot(x, y,'--r')",
   "execution_count": null,
   "outputs": [
    {
     "output_type": "execute_result",
     "execution_count": 32,
     "data": {
      "text/plain": "[<matplotlib.lines.Line2D at 0x7f83117633d0>]"
     },
     "metadata": {}
    },
    {
     "data": {
      "text/plain": "<Figure size 432x288 with 1 Axes>",
      "image/png": "[encoded data removed]"
     },
     "metadata": {
      "needs_background": "light",
      "image/png": {
       "width": 375,
       "height": 248
      }
     },
     "output_type": "display_data"
    }
   ]
  },
  {
   "cell_type": "code",
   "metadata": {
    "tags": [],
    "cell_id": "00050-64e1fde0-2e7b-4b69-aed2-b6630c2c213f",
    "deepnote_to_be_reexecuted": false,
    "source_hash": "e7ce7798",
    "execution_start": 1633692088419,
    "execution_millis": 217,
    "deepnote_cell_type": "code"
   },
   "source": "# Using best combination of features\nX = df_tmp[best_comb]\n# Making test and train set\nX_train,X_test,y_train,y_test=train_test_split(X,y,random_state = 0)\n# Starting learning process\nlr = LinearRegression()\nlr.fit(X_train,y_train)\n# Check score to\nlr.score(X,y)",
   "execution_count": null,
   "outputs": [
    {
     "output_type": "execute_result",
     "execution_count": 33,
     "data": {
      "text/plain": "0.290953751732429"
     },
     "metadata": {}
    }
   ]
  },
  {
   "cell_type": "code",
   "metadata": {
    "tags": [],
    "cell_id": "00051-fd384f1e-f976-41f3-84a3-a50d41748110",
    "deepnote_to_be_reexecuted": false,
    "source_hash": "bdb8c44d",
    "execution_start": 1633692088647,
    "execution_millis": 9,
    "deepnote_cell_type": "code"
   },
   "source": "# Decision tree\n",
   "execution_count": null,
   "outputs": []
  },
  {
   "cell_type": "markdown",
   "source": "##### Conclusion \nIs there a correlation between the chemical properties of wine and the perceived rating. Can we (accurately) predict the amount of points given when only taking into account the chemical properties?\n\nThis answer would be no because only 30.76% are predicted successfully.",
   "metadata": {
    "tags": [],
    "cell_id": "00050-e76b352b-b653-4076-b490-e59766c425e6",
    "deepnote_cell_type": "markdown"
   }
  },
  {
   "cell_type": "code",
   "metadata": {
    "tags": [],
    "cell_id": "00058-9f332f08-3b2f-4195-a85c-0219d41c383a",
    "deepnote_to_be_reexecuted": false,
    "source_hash": "b623e53d",
    "execution_start": 1633692088702,
    "deepnote_cell_type": "code"
   },
   "source": "",
   "execution_count": null,
   "outputs": []
  },
  {
   "cell_type": "markdown",
   "source": "<a style='text-decoration:none;line-height:16px;display:flex;color:#5B5B62;padding:10px;justify-content:end;' href='https://deepnote.com?utm_source=created-in-deepnote-cell&projectId=1e9b27b8-a34d-4e11-8ef1-1fdc6f91d699' target=\"_blank\">\n<img alt='Created in deepnote.com' style='display:inline;max-height:16px;margin:0px;margin-right:7.5px;' src='data:image/svg+xml;base64,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' > </img>\nCreated in <span style='font-weight:600;margin-left:4px;'>Deepnote</span></a>",
   "metadata": {
    "tags": [],
    "created_in_deepnote_cell": true,
    "deepnote_cell_type": "markdown"
   }
  }
 ],
 "nbformat": 4,
 "nbformat_minor": 5,
 "metadata": {
  "kernelspec": {
   "display_name": "Python 3",
   "language": "python",
   "name": "python3"
  },
  "language_info": {
   "codemirror_mode": {
    "name": "ipython",
    "version": 3
   },
   "file_extension": ".py",
   "mimetype": "text/x-python",
   "name": "python",
   "nbconvert_exporter": "python",
   "pygments_lexer": "ipython3",
   "version": "3.8.8"
  },
  "deepnote_notebook_id": "92ed4e5f-0c8d-4c96-a631-3b85c4b1ab88",
  "deepnote": {},
  "deepnote_execution_queue": []
 }
}