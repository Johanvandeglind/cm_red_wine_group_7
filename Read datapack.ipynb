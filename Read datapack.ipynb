{
 "cells": [
  {
   "cell_type": "markdown",
   "source": "# Portuguese wine",
   "metadata": {
    "tags": [],
    "cell_id": "00000-b8a429a1-441f-4704-8b19-67a5ef91165e",
    "deepnote_cell_type": "markdown"
   }
  },
  {
   "cell_type": "markdown",
   "source": "### Contents:\n- Import Necessary Libraries  \n- Read In and Explore the Data  \n- Data Analysis/Cleaning Data  \n- Data Visualization  \n- Choosing the Best Model  ",
   "metadata": {
    "tags": [],
    "cell_id": "00001-fa989750-34cc-4ef8-920f-2ba3e0b6759b",
    "deepnote_cell_type": "markdown"
   }
  },
  {
   "cell_type": "markdown",
   "source": "#### 1) Import Necessary Libraries\nTo start off, the necessary libraries are imported such as numpy, pandas, matplotlib, holoviews, panel and seaborn.",
   "metadata": {
    "tags": [],
    "cell_id": "00002-fba3cee2-cb77-4375-a930-0e8d1c9f61e2",
    "deepnote_cell_type": "markdown"
   }
  },
  {
   "cell_type": "code",
   "metadata": {
    "cell_id": "00000-b6b64599-5f80-457d-8b45-8fe4abebb051",
    "deepnote_to_be_reexecuted": false,
    "source_hash": "17f3f406",
    "execution_start": 1633040031037,
    "execution_millis": 2459,
    "deepnote_cell_type": "code"
   },
   "source": "#data analysis:\nimport pandas as pd\nimport numpy as np\n\n#visualisation:\nimport seaborn as sns\nimport matplotlib.pyplot as plt\n\nfrom sklearn.model_selection import train_test_split\nfrom sklearn.linear_model import LinearRegression\nfrom sklearn.metrics import mean_squared_error\nfrom sklearn.metrics import r2_score\n\n#from pandas_profiling import ProfileReport",
   "execution_count": 1,
   "outputs": []
  },
  {
   "cell_type": "markdown",
   "source": "#### 2) Read in and Explore the Data\nHere we explore the data from the csv file",
   "metadata": {
    "tags": [],
    "cell_id": "00004-5431d647-ce9f-4802-8348-51749f53879f",
    "deepnote_cell_type": "markdown"
   }
  },
  {
   "cell_type": "code",
   "metadata": {
    "cell_id": "00001-720cd1a0-e520-477f-bd66-dee25b752edf",
    "deepnote_to_be_reexecuted": false,
    "source_hash": "72341594",
    "execution_start": 1633040033506,
    "execution_millis": 259,
    "deepnote_cell_type": "code"
   },
   "source": "# Read the redwine.csv file into a Pandas dataframe\ndf = pd.read_csv('redwine.csv',index_col = 0,sep=';',encoding ='ISO-8859-1')\ndf.columns = [c.replace(' ', '_') for c in df.columns]\n\n# Sample 5 random rows of the dataframe\ndf.sample(5)",
   "execution_count": 2,
   "outputs": [
    {
     "output_type": "execute_result",
     "execution_count": 2,
     "data": {
      "application/vnd.deepnote.dataframe.v2+json": {
       "row_count": 5,
       "column_count": 21,
       "columns": [
        {
         "name": "country",
         "dtype": "object",
         "stats": {
          "unique_count": 1,
          "nan_count": 0,
          "categories": [
           {
            "name": "Portugal",
            "count": 5
           }
          ]
         }
        },
        {
         "name": "description",
         "dtype": "object",
         "stats": {
          "unique_count": 5,
          "nan_count": 0,
          "categories": [
           {
            "name": "This is a rustic, soft wine, It has red fruits and acidity along with light tannins and a barnyard character that is not unpleasant, Drink now,",
            "count": 1
           },
           {
            "name": "Sheltered by a coastal range of hills from the Atlantic Ocean, this vineyard has produced a ripe soft wine that has gentle tannins and succulent red fruits, The aftertaste is fresh, continuing the fruit theme, The wine is ready to drink,",
            "count": 1
           },
           {
            "name": "3 others",
            "count": 3
           }
          ]
         }
        },
        {
         "name": "designation",
         "dtype": "object",
         "stats": {
          "unique_count": 5,
          "nan_count": 0,
          "categories": [
           {
            "name": "Terraços do Tejo",
            "count": 1
           },
           {
            "name": "Quinta das Amoras",
            "count": 1
           },
           {
            "name": "3 others",
            "count": 3
           }
          ]
         }
        },
        {
         "name": "points",
         "dtype": "int64",
         "stats": {
          "unique_count": 5,
          "nan_count": 0,
          "min": "84",
          "max": "91",
          "histogram": [
           {
            "bin_start": 84,
            "bin_end": 84.7,
            "count": 1
           },
           {
            "bin_start": 84.7,
            "bin_end": 85.4,
            "count": 1
           },
           {
            "bin_start": 85.4,
            "bin_end": 86.1,
            "count": 0
           },
           {
            "bin_start": 86.1,
            "bin_end": 86.8,
            "count": 0
           },
           {
            "bin_start": 86.8,
            "bin_end": 87.5,
            "count": 1
           },
           {
            "bin_start": 87.5,
            "bin_end": 88.2,
            "count": 1
           },
           {
            "bin_start": 88.2,
            "bin_end": 88.9,
            "count": 0
           },
           {
            "bin_start": 88.9,
            "bin_end": 89.6,
            "count": 0
           },
           {
            "bin_start": 89.6,
            "bin_end": 90.3,
            "count": 0
           },
           {
            "bin_start": 90.3,
            "bin_end": 91,
            "count": 1
           }
          ]
         }
        },
        {
         "name": "price",
         "dtype": "float64",
         "stats": {
          "unique_count": 3,
          "nan_count": 0,
          "min": "10.0",
          "max": "18.0",
          "histogram": [
           {
            "bin_start": 10,
            "bin_end": 10.8,
            "count": 2
           },
           {
            "bin_start": 10.8,
            "bin_end": 11.6,
            "count": 0
           },
           {
            "bin_start": 11.6,
            "bin_end": 12.4,
            "count": 2
           },
           {
            "bin_start": 12.4,
            "bin_end": 13.2,
            "count": 0
           },
           {
            "bin_start": 13.2,
            "bin_end": 14,
            "count": 0
           },
           {
            "bin_start": 14,
            "bin_end": 14.8,
            "count": 0
           },
           {
            "bin_start": 14.8,
            "bin_end": 15.600000000000001,
            "count": 0
           },
           {
            "bin_start": 15.600000000000001,
            "bin_end": 16.4,
            "count": 0
           },
           {
            "bin_start": 16.4,
            "bin_end": 17.2,
            "count": 0
           },
           {
            "bin_start": 17.2,
            "bin_end": 18,
            "count": 1
           }
          ]
         }
        },
        {
         "name": "province",
         "dtype": "object",
         "stats": {
          "unique_count": 3,
          "nan_count": 0,
          "categories": [
           {
            "name": "Douro",
            "count": 3
           },
           {
            "name": "Tejo",
            "count": 1
           },
           {
            "name": "Lisboa",
            "count": 1
           }
          ]
         }
        },
        {
         "name": "taster_name",
         "dtype": "object",
         "stats": {
          "unique_count": 4,
          "nan_count": 0,
          "categories": [
           {
            "name": "Roger Voss",
            "count": 2
           },
           {
            "name": "Kerin OKeefe",
            "count": 1
           },
           {
            "name": "2 others",
            "count": 2
           }
          ]
         }
        },
        {
         "name": "title",
         "dtype": "object",
         "stats": {
          "unique_count": 5,
          "nan_count": 0,
          "categories": [
           {
            "name": "Casal da Coelheira 2013 Terraços do Tejo Red (Tejo)",
            "count": 1
           },
           {
            "name": "Casa Santos Lima 2014 Quinta das Amoras Red (Lisboa)",
            "count": 1
           },
           {
            "name": "3 others",
            "count": 3
           }
          ]
         }
        },
        {
         "name": "variety",
         "dtype": "object",
         "stats": {
          "unique_count": 1,
          "nan_count": 0,
          "categories": [
           {
            "name": "Portuguese Red",
            "count": 5
           }
          ]
         }
        },
        {
         "name": "winery",
         "dtype": "object",
         "stats": {
          "unique_count": 5,
          "nan_count": 0,
          "categories": [
           {
            "name": "Casal da Coelheira",
            "count": 1
           },
           {
            "name": "Casa Santos Lima",
            "count": 1
           },
           {
            "name": "3 others",
            "count": 3
           }
          ]
         }
        },
        {
         "name": "fixed_acidity",
         "dtype": "float64",
         "stats": {
          "unique_count": 5,
          "nan_count": 0,
          "min": "6.4",
          "max": "9.0",
          "histogram": [
           {
            "bin_start": 6.4,
            "bin_end": 6.66,
            "count": 1
           },
           {
            "bin_start": 6.66,
            "bin_end": 6.92,
            "count": 0
           },
           {
            "bin_start": 6.92,
            "bin_end": 7.18,
            "count": 1
           },
           {
            "bin_start": 7.18,
            "bin_end": 7.44,
            "count": 1
           },
           {
            "bin_start": 7.44,
            "bin_end": 7.7,
            "count": 0
           },
           {
            "bin_start": 7.7,
            "bin_end": 7.96,
            "count": 0
           },
           {
            "bin_start": 7.96,
            "bin_end": 8.22,
            "count": 0
           },
           {
            "bin_start": 8.22,
            "bin_end": 8.48,
            "count": 1
           },
           {
            "bin_start": 8.48,
            "bin_end": 8.74,
            "count": 0
           },
           {
            "bin_start": 8.74,
            "bin_end": 9,
            "count": 1
           }
          ]
         }
        },
        {
         "name": "volatile_acidity",
         "dtype": "float64",
         "stats": {
          "unique_count": 5,
          "nan_count": 0,
          "min": "0.31",
          "max": "0.67",
          "histogram": [
           {
            "bin_start": 0.31,
            "bin_end": 0.346,
            "count": 1
           },
           {
            "bin_start": 0.346,
            "bin_end": 0.382,
            "count": 0
           },
           {
            "bin_start": 0.382,
            "bin_end": 0.41800000000000004,
            "count": 0
           },
           {
            "bin_start": 0.41800000000000004,
            "bin_end": 0.454,
            "count": 1
           },
           {
            "bin_start": 0.454,
            "bin_end": 0.49,
            "count": 0
           },
           {
            "bin_start": 0.49,
            "bin_end": 0.526,
            "count": 0
           },
           {
            "bin_start": 0.526,
            "bin_end": 0.562,
            "count": 0
           },
           {
            "bin_start": 0.562,
            "bin_end": 0.5980000000000001,
            "count": 1
           },
           {
            "bin_start": 0.5980000000000001,
            "bin_end": 0.6340000000000001,
            "count": 0
           },
           {
            "bin_start": 0.6340000000000001,
            "bin_end": 0.67,
            "count": 2
           }
          ]
         }
        },
        {
         "name": "citric_acid",
         "dtype": "object",
         "stats": {
          "unique_count": 5,
          "nan_count": 0,
          "categories": [
           {
            "name": "0.17",
            "count": 1
           },
           {
            "name": "0.14",
            "count": 1
           },
           {
            "name": "3 others",
            "count": 3
           }
          ]
         }
        },
        {
         "name": "residual_sugar",
         "dtype": "float64",
         "stats": {
          "unique_count": 5,
          "nan_count": 0,
          "min": "1.6",
          "max": "3.9",
          "histogram": [
           {
            "bin_start": 1.6,
            "bin_end": 1.83,
            "count": 1
           },
           {
            "bin_start": 1.83,
            "bin_end": 2.06,
            "count": 0
           },
           {
            "bin_start": 2.06,
            "bin_end": 2.29,
            "count": 1
           },
           {
            "bin_start": 2.29,
            "bin_end": 2.52,
            "count": 1
           },
           {
            "bin_start": 2.52,
            "bin_end": 2.75,
            "count": 0
           },
           {
            "bin_start": 2.75,
            "bin_end": 2.98,
            "count": 0
           },
           {
            "bin_start": 2.98,
            "bin_end": 3.21,
            "count": 1
           },
           {
            "bin_start": 3.21,
            "bin_end": 3.44,
            "count": 0
           },
           {
            "bin_start": 3.44,
            "bin_end": 3.67,
            "count": 0
           },
           {
            "bin_start": 3.67,
            "bin_end": 3.9,
            "count": 1
           }
          ]
         }
        },
        {
         "name": "chlorides",
         "dtype": "float64",
         "stats": {
          "unique_count": 5,
          "nan_count": 0,
          "min": "0.053",
          "max": "0.186",
          "histogram": [
           {
            "bin_start": 0.053,
            "bin_end": 0.0663,
            "count": 1
           },
           {
            "bin_start": 0.0663,
            "bin_end": 0.0796,
            "count": 2
           },
           {
            "bin_start": 0.0796,
            "bin_end": 0.09290000000000001,
            "count": 0
           },
           {
            "bin_start": 0.09290000000000001,
            "bin_end": 0.1062,
            "count": 1
           },
           {
            "bin_start": 0.1062,
            "bin_end": 0.1195,
            "count": 0
           },
           {
            "bin_start": 0.1195,
            "bin_end": 0.1328,
            "count": 0
           },
           {
            "bin_start": 0.1328,
            "bin_end": 0.1461,
            "count": 0
           },
           {
            "bin_start": 0.1461,
            "bin_end": 0.15940000000000001,
            "count": 0
           },
           {
            "bin_start": 0.15940000000000001,
            "bin_end": 0.17270000000000002,
            "count": 0
           },
           {
            "bin_start": 0.17270000000000002,
            "bin_end": 0.186,
            "count": 1
           }
          ]
         }
        },
        {
         "name": "free_sulfur_dioxide",
         "dtype": "float64",
         "stats": {
          "unique_count": 4,
          "nan_count": 0,
          "min": "5.0",
          "max": "36.0",
          "histogram": [
           {
            "bin_start": 5,
            "bin_end": 8.1,
            "count": 2
           },
           {
            "bin_start": 8.1,
            "bin_end": 11.2,
            "count": 0
           },
           {
            "bin_start": 11.2,
            "bin_end": 14.3,
            "count": 0
           },
           {
            "bin_start": 14.3,
            "bin_end": 17.4,
            "count": 0
           },
           {
            "bin_start": 17.4,
            "bin_end": 20.5,
            "count": 0
           },
           {
            "bin_start": 20.5,
            "bin_end": 23.6,
            "count": 0
           },
           {
            "bin_start": 23.6,
            "bin_end": 26.7,
            "count": 1
           },
           {
            "bin_start": 26.7,
            "bin_end": 29.8,
            "count": 1
           },
           {
            "bin_start": 29.8,
            "bin_end": 32.900000000000006,
            "count": 0
           },
           {
            "bin_start": 32.900000000000006,
            "bin_end": 36,
            "count": 1
           }
          ]
         }
        },
        {
         "name": "total_sulfur_dioxide",
         "dtype": "float64",
         "stats": {
          "unique_count": 5,
          "nan_count": 0,
          "min": "13.0",
          "max": "127.0",
          "histogram": [
           {
            "bin_start": 13,
            "bin_end": 24.4,
            "count": 2
           },
           {
            "bin_start": 24.4,
            "bin_end": 35.8,
            "count": 0
           },
           {
            "bin_start": 35.8,
            "bin_end": 47.2,
            "count": 0
           },
           {
            "bin_start": 47.2,
            "bin_end": 58.6,
            "count": 0
           },
           {
            "bin_start": 58.6,
            "bin_end": 70,
            "count": 1
           },
           {
            "bin_start": 70,
            "bin_end": 81.4,
            "count": 1
           },
           {
            "bin_start": 81.4,
            "bin_end": 92.8,
            "count": 0
           },
           {
            "bin_start": 92.8,
            "bin_end": 104.2,
            "count": 0
           },
           {
            "bin_start": 104.2,
            "bin_end": 115.60000000000001,
            "count": 0
           },
           {
            "bin_start": 115.60000000000001,
            "bin_end": 127,
            "count": 1
           }
          ]
         }
        },
        {
         "name": "density",
         "dtype": "object",
         "stats": {
          "unique_count": 5,
          "nan_count": 0,
          "categories": [
           {
            "name": "0.9976",
            "count": 1
           },
           {
            "name": "0.99669",
            "count": 1
           },
           {
            "name": "3 others",
            "count": 3
           }
          ]
         }
        },
        {
         "name": "pH",
         "dtype": "float64",
         "stats": {
          "unique_count": 5,
          "nan_count": 0,
          "min": "2.94",
          "max": "3.39",
          "histogram": [
           {
            "bin_start": 2.94,
            "bin_end": 2.985,
            "count": 1
           },
           {
            "bin_start": 2.985,
            "bin_end": 3.03,
            "count": 0
           },
           {
            "bin_start": 3.03,
            "bin_end": 3.075,
            "count": 0
           },
           {
            "bin_start": 3.075,
            "bin_end": 3.12,
            "count": 0
           },
           {
            "bin_start": 3.12,
            "bin_end": 3.165,
            "count": 0
           },
           {
            "bin_start": 3.165,
            "bin_end": 3.21,
            "count": 0
           },
           {
            "bin_start": 3.21,
            "bin_end": 3.255,
            "count": 0
           },
           {
            "bin_start": 3.255,
            "bin_end": 3.3000000000000003,
            "count": 1
           },
           {
            "bin_start": 3.3000000000000003,
            "bin_end": 3.345,
            "count": 2
           },
           {
            "bin_start": 3.345,
            "bin_end": 3.39,
            "count": 1
           }
          ]
         }
        },
        {
         "name": "sulphates",
         "dtype": "float64",
         "stats": {
          "unique_count": 5,
          "nan_count": 0,
          "min": "0.48",
          "max": "1.62",
          "histogram": [
           {
            "bin_start": 0.48,
            "bin_end": 0.594,
            "count": 3
           },
           {
            "bin_start": 0.594,
            "bin_end": 0.708,
            "count": 1
           },
           {
            "bin_start": 0.708,
            "bin_end": 0.8220000000000001,
            "count": 0
           },
           {
            "bin_start": 0.8220000000000001,
            "bin_end": 0.936,
            "count": 0
           },
           {
            "bin_start": 0.936,
            "bin_end": 1.05,
            "count": 0
           },
           {
            "bin_start": 1.05,
            "bin_end": 1.1640000000000001,
            "count": 0
           },
           {
            "bin_start": 1.1640000000000001,
            "bin_end": 1.278,
            "count": 0
           },
           {
            "bin_start": 1.278,
            "bin_end": 1.3920000000000001,
            "count": 0
           },
           {
            "bin_start": 1.3920000000000001,
            "bin_end": 1.5060000000000002,
            "count": 0
           },
           {
            "bin_start": 1.5060000000000002,
            "bin_end": 1.62,
            "count": 1
           }
          ]
         }
        },
        {
         "name": "alcohol",
         "dtype": "object",
         "stats": {
          "unique_count": 4,
          "nan_count": 0,
          "categories": [
           {
            "name": "9.5",
            "count": 2
           },
           {
            "name": "10.4",
            "count": 1
           },
           {
            "name": "2 others",
            "count": 2
           }
          ]
         }
        },
        {
         "name": "_deepnote_index_column",
         "dtype": "int64"
        }
       ],
       "rows_top": [
        {
         "country": "Portugal",
         "description": "This is a rustic, soft wine, It has red fruits and acidity along with light tannins and a barnyard …",
         "designation": "Terraços do Tejo",
         "points": 84,
         "price": 10,
         "province": "Tejo",
         "taster_name": "Kerin OKeefe",
         "title": "Casal da Coelheira 2013 Terraços do Tejo Red (Tejo)",
         "variety": "Portuguese Red",
         "winery": "Casal da Coelheira",
         "fixed_acidity": 9,
         "volatile_acidity": 0.66,
         "citric_acid": "0.17",
         "residual_sugar": 3,
         "chlorides": 0.077,
         "free_sulfur_dioxide": 5,
         "total_sulfur_dioxide": 13,
         "density": "0.9976",
         "pH": 3.29,
         "sulphates": 0.55,
         "alcohol": "10.4",
         "_deepnote_index_column": 2377
        },
        {
         "country": "Portugal",
         "description": "Sheltered by a coastal range of hills from the Atlantic Ocean, this vineyard has produced a ripe so…",
         "designation": "Quinta das Amoras",
         "points": 85,
         "price": 10,
         "province": "Lisboa",
         "taster_name": "Roger Voss",
         "title": "Casa Santos Lima 2014 Quinta das Amoras Red (Lisboa)",
         "variety": "Portuguese Red",
         "winery": "Casa Santos Lima",
         "fixed_acidity": 6.4,
         "volatile_acidity": 0.57,
         "citric_acid": "0.14",
         "residual_sugar": 3.9,
         "chlorides": 0.07,
         "free_sulfur_dioxide": 27,
         "total_sulfur_dioxide": 73,
         "density": "0.99669",
         "pH": 3.32,
         "sulphates": 0.48,
         "alcohol": "9.2",
         "_deepnote_index_column": 2220
        },
        {
         "country": "Portugal",
         "description": "Oscar Quevedo, a new star of the Douro, has produced a stylish wine, suffused with tannins, fresh a…",
         "designation": "Oscar's",
         "points": 88,
         "price": 12,
         "province": "Douro",
         "taster_name": "Michael Schachner",
         "title": "Quevedo 2008 Oscar's Red (Douro)",
         "variety": "Portuguese Red",
         "winery": "Quevedo",
         "fixed_acidity": 7.1,
         "volatile_acidity": 0.31,
         "citric_acid": "0.3",
         "residual_sugar": 2.2,
         "chlorides": 0.053,
         "free_sulfur_dioxide": 36,
         "total_sulfur_dioxide": 127,
         "density": "0.9965",
         "pH": 2.94,
         "sulphates": 1.62,
         "alcohol": "9.5",
         "_deepnote_index_column": 1071
        },
        {
         "country": "Portugal",
         "description": "This is the last vintage of a joint venture between J M da Fonseca and Cristiano van Zeller (the 20…",
         "designation": "Domini",
         "points": 91,
         "price": 18,
         "province": "Douro",
         "taster_name": "Roger Voss",
         "title": "J,M, da Fonseca and Van Zeller 2004 Domini Red (Douro)",
         "variety": "Portuguese Red",
         "winery": "J,M, da Fonseca and Van Zeller",
         "fixed_acidity": 8.3,
         "volatile_acidity": 0.42,
         "citric_acid": "0.38",
         "residual_sugar": 2.5,
         "chlorides": 0.094,
         "free_sulfur_dioxide": 24,
         "total_sulfur_dioxide": 60,
         "density": "0.9979",
         "pH": 3.31,
         "sulphates": 0.7,
         "alcohol": "10.8",
         "_deepnote_index_column": 1684
        },
        {
         "country": "Portugal",
         "description": "This new baby from Crasto is an easygoing wine, full of berry fruits, gentle tannins, It is ready t…",
         "designation": "Flor de Crasto",
         "points": 87,
         "price": 12,
         "province": "Douro",
         "taster_name": "Susan Kostrzewa",
         "title": "Quinta do Crasto 2008 Flor de Crasto Red (Douro)",
         "variety": "Portuguese Red",
         "winery": "Quinta do Crasto",
         "fixed_acidity": 7.4,
         "volatile_acidity": 0.67,
         "citric_acid": "0.12",
         "residual_sugar": 1.6,
         "chlorides": 0.186,
         "free_sulfur_dioxide": 5,
         "total_sulfur_dioxide": 21,
         "density": "0.996",
         "pH": 3.39,
         "sulphates": 0.54,
         "alcohol": "9.5",
         "_deepnote_index_column": 2092
        }
       ],
       "rows_bottom": null
      },
      "text/plain": "       country                                        description  \\\nid                                                                  \n2377  Portugal  This is a rustic, soft wine, It has red fruits...   \n2220  Portugal  Sheltered by a coastal range of hills from the...   \n1071  Portugal  Oscar Quevedo, a new star of the Douro, has pr...   \n1684  Portugal  This is the last vintage of a joint venture be...   \n2092  Portugal  This new baby from Crasto is an easygoing wine...   \n\n            designation  points  price province        taster_name  \\\nid                                                                   \n2377   Terraços do Tejo      84   10.0     Tejo      Kerin OKeefe   \n2220  Quinta das Amoras      85   10.0   Lisboa         Roger Voss   \n1071            Oscar's      88   12.0    Douro  Michael Schachner   \n1684             Domini      91   18.0    Douro         Roger Voss   \n2092     Flor de Crasto      87   12.0    Douro    Susan Kostrzewa   \n\n                                                  title         variety  \\\nid                                                                        \n2377  Casal da Coelheira 2013 Terraços do Tejo Red (...  Portuguese Red   \n2220  Casa Santos Lima 2014 Quinta das Amoras Red (L...  Portuguese Red   \n1071                   Quevedo 2008 Oscar's Red (Douro)  Portuguese Red   \n1684  J,M, da Fonseca and Van Zeller 2004 Domini Red...  Portuguese Red   \n2092   Quinta do Crasto 2008 Flor de Crasto Red (Douro)  Portuguese Red   \n\n                              winery  ...  volatile_acidity  citric_acid  \\\nid                                    ...                                  \n2377              Casal da Coelheira  ...              0.66         0.17   \n2220                Casa Santos Lima  ...              0.57         0.14   \n1071                         Quevedo  ...              0.31          0.3   \n1684  J,M, da Fonseca and Van Zeller  ...              0.42         0.38   \n2092                Quinta do Crasto  ...              0.67         0.12   \n\n     residual_sugar  chlorides  free_sulfur_dioxide  total_sulfur_dioxide  \\\nid                                                                          \n2377            3.0      0.077                  5.0                  13.0   \n2220            3.9      0.070                 27.0                  73.0   \n1071            2.2      0.053                 36.0                 127.0   \n1684            2.5      0.094                 24.0                  60.0   \n2092            1.6      0.186                  5.0                  21.0   \n\n      density    pH  sulphates  alcohol  \nid                                       \n2377   0.9976  3.29       0.55     10.4  \n2220  0.99669  3.32       0.48      9.2  \n1071   0.9965  2.94       1.62      9.5  \n1684   0.9979  3.31       0.70     10.8  \n2092    0.996  3.39       0.54      9.5  \n\n[5 rows x 21 columns]",
      "text/html": "<div>\n<style scoped>\n    .dataframe tbody tr th:only-of-type {\n        vertical-align: middle;\n    }\n\n    .dataframe tbody tr th {\n        vertical-align: top;\n    }\n\n    .dataframe thead th {\n        text-align: right;\n    }\n</style>\n<table border=\"1\" class=\"dataframe\">\n  <thead>\n    <tr style=\"text-align: right;\">\n      <th></th>\n      <th>country</th>\n      <th>description</th>\n      <th>designation</th>\n      <th>points</th>\n      <th>price</th>\n      <th>province</th>\n      <th>taster_name</th>\n      <th>title</th>\n      <th>variety</th>\n      <th>winery</th>\n      <th>...</th>\n      <th>volatile_acidity</th>\n      <th>citric_acid</th>\n      <th>residual_sugar</th>\n      <th>chlorides</th>\n      <th>free_sulfur_dioxide</th>\n      <th>total_sulfur_dioxide</th>\n      <th>density</th>\n      <th>pH</th>\n      <th>sulphates</th>\n      <th>alcohol</th>\n    </tr>\n    <tr>\n      <th>id</th>\n      <th></th>\n      <th></th>\n      <th></th>\n      <th></th>\n      <th></th>\n      <th></th>\n      <th></th>\n      <th></th>\n      <th></th>\n      <th></th>\n      <th></th>\n      <th></th>\n      <th></th>\n      <th></th>\n      <th></th>\n      <th></th>\n      <th></th>\n      <th></th>\n      <th></th>\n      <th></th>\n      <th></th>\n    </tr>\n  </thead>\n  <tbody>\n    <tr>\n      <th>2377</th>\n      <td>Portugal</td>\n      <td>This is a rustic, soft wine, It has red fruits...</td>\n      <td>Terraços do Tejo</td>\n      <td>84</td>\n      <td>10.0</td>\n      <td>Tejo</td>\n      <td>Kerin OKeefe</td>\n      <td>Casal da Coelheira 2013 Terraços do Tejo Red (...</td>\n      <td>Portuguese Red</td>\n      <td>Casal da Coelheira</td>\n      <td>...</td>\n      <td>0.66</td>\n      <td>0.17</td>\n      <td>3.0</td>\n      <td>0.077</td>\n      <td>5.0</td>\n      <td>13.0</td>\n      <td>0.9976</td>\n      <td>3.29</td>\n      <td>0.55</td>\n      <td>10.4</td>\n    </tr>\n    <tr>\n      <th>2220</th>\n      <td>Portugal</td>\n      <td>Sheltered by a coastal range of hills from the...</td>\n      <td>Quinta das Amoras</td>\n      <td>85</td>\n      <td>10.0</td>\n      <td>Lisboa</td>\n      <td>Roger Voss</td>\n      <td>Casa Santos Lima 2014 Quinta das Amoras Red (L...</td>\n      <td>Portuguese Red</td>\n      <td>Casa Santos Lima</td>\n      <td>...</td>\n      <td>0.57</td>\n      <td>0.14</td>\n      <td>3.9</td>\n      <td>0.070</td>\n      <td>27.0</td>\n      <td>73.0</td>\n      <td>0.99669</td>\n      <td>3.32</td>\n      <td>0.48</td>\n      <td>9.2</td>\n    </tr>\n    <tr>\n      <th>1071</th>\n      <td>Portugal</td>\n      <td>Oscar Quevedo, a new star of the Douro, has pr...</td>\n      <td>Oscar's</td>\n      <td>88</td>\n      <td>12.0</td>\n      <td>Douro</td>\n      <td>Michael Schachner</td>\n      <td>Quevedo 2008 Oscar's Red (Douro)</td>\n      <td>Portuguese Red</td>\n      <td>Quevedo</td>\n      <td>...</td>\n      <td>0.31</td>\n      <td>0.3</td>\n      <td>2.2</td>\n      <td>0.053</td>\n      <td>36.0</td>\n      <td>127.0</td>\n      <td>0.9965</td>\n      <td>2.94</td>\n      <td>1.62</td>\n      <td>9.5</td>\n    </tr>\n    <tr>\n      <th>1684</th>\n      <td>Portugal</td>\n      <td>This is the last vintage of a joint venture be...</td>\n      <td>Domini</td>\n      <td>91</td>\n      <td>18.0</td>\n      <td>Douro</td>\n      <td>Roger Voss</td>\n      <td>J,M, da Fonseca and Van Zeller 2004 Domini Red...</td>\n      <td>Portuguese Red</td>\n      <td>J,M, da Fonseca and Van Zeller</td>\n      <td>...</td>\n      <td>0.42</td>\n      <td>0.38</td>\n      <td>2.5</td>\n      <td>0.094</td>\n      <td>24.0</td>\n      <td>60.0</td>\n      <td>0.9979</td>\n      <td>3.31</td>\n      <td>0.70</td>\n      <td>10.8</td>\n    </tr>\n    <tr>\n      <th>2092</th>\n      <td>Portugal</td>\n      <td>This new baby from Crasto is an easygoing wine...</td>\n      <td>Flor de Crasto</td>\n      <td>87</td>\n      <td>12.0</td>\n      <td>Douro</td>\n      <td>Susan Kostrzewa</td>\n      <td>Quinta do Crasto 2008 Flor de Crasto Red (Douro)</td>\n      <td>Portuguese Red</td>\n      <td>Quinta do Crasto</td>\n      <td>...</td>\n      <td>0.67</td>\n      <td>0.12</td>\n      <td>1.6</td>\n      <td>0.186</td>\n      <td>5.0</td>\n      <td>21.0</td>\n      <td>0.996</td>\n      <td>3.39</td>\n      <td>0.54</td>\n      <td>9.5</td>\n    </tr>\n  </tbody>\n</table>\n<p>5 rows × 21 columns</p>\n</div>"
     },
     "metadata": {}
    }
   ]
  },
  {
   "cell_type": "markdown",
   "source": "#### Column types:\n",
   "metadata": {
    "tags": [],
    "cell_id": "00008-992f1802-d149-4e7e-84f6-5ed6f373c901",
    "deepnote_cell_type": "markdown"
   }
  },
  {
   "cell_type": "code",
   "metadata": {
    "tags": [],
    "cell_id": "00006-a0fc0a43-8d37-414c-becb-ccdb891f7ad9",
    "deepnote_to_be_reexecuted": false,
    "source_hash": "d8addd72",
    "execution_start": 1633040033664,
    "execution_millis": 101,
    "deepnote_cell_type": "code"
   },
   "source": "# Show all columns of the data set\ndf.columns",
   "execution_count": 3,
   "outputs": [
    {
     "output_type": "execute_result",
     "execution_count": 3,
     "data": {
      "text/plain": "Index(['country', 'description', 'designation', 'points', 'price', 'province',\n       'taster_name', 'title', 'variety', 'winery', 'fixed_acidity',\n       'volatile_acidity', 'citric_acid', 'residual_sugar', 'chlorides',\n       'free_sulfur_dioxide', 'total_sulfur_dioxide', 'density', 'pH',\n       'sulphates', 'alcohol'],\n      dtype='object')"
     },
     "metadata": {}
    }
   ]
  },
  {
   "cell_type": "markdown",
   "source": "To make this data more visible we put the column names in a csv file with the column type and data type\n",
   "metadata": {
    "tags": [],
    "cell_id": "00008-2f0efc0d-f066-4d91-a236-635af4460d92",
    "deepnote_cell_type": "markdown"
   }
  },
  {
   "cell_type": "code",
   "metadata": {
    "tags": [],
    "cell_id": "00009-1cccc3bf-e98d-4b8b-af09-07e4d607ba33",
    "deepnote_to_be_reexecuted": false,
    "source_hash": "36913f96",
    "execution_start": 1633040033672,
    "execution_millis": 93,
    "deepnote_cell_type": "code"
   },
   "source": "pd.read_csv('column_types.csv',sep=';')",
   "execution_count": 4,
   "outputs": [
    {
     "output_type": "execute_result",
     "execution_count": 4,
     "data": {
      "application/vnd.deepnote.dataframe.v2+json": {
       "row_count": 21,
       "column_count": 6,
       "columns": [
        {
         "name": "Column name",
         "dtype": "object",
         "stats": {
          "unique_count": 21,
          "nan_count": 0,
          "categories": [
           {
            "name": "country",
            "count": 1
           },
           {
            "name": "description",
            "count": 1
           },
           {
            "name": "19 others",
            "count": 19
           }
          ]
         }
        },
        {
         "name": "Column type",
         "dtype": "object",
         "stats": {
          "unique_count": 3,
          "nan_count": 0,
          "categories": [
           {
            "name": "Numerical",
            "count": 13
           },
           {
            "name": "Categorical",
            "count": 5
           },
           {
            "name": "Alphanumerical",
            "count": 3
           }
          ]
         }
        },
        {
         "name": " Actual value type",
         "dtype": "object",
         "stats": {
          "unique_count": 3,
          "nan_count": 0,
          "categories": [
           {
            "name": "String",
            "count": 11
           },
           {
            "name": "Float",
            "count": 9
           },
           {
            "name": "Int",
            "count": 1
           }
          ]
         }
        },
        {
         "name": "Desired value types",
         "dtype": "object",
         "stats": {
          "unique_count": 3,
          "nan_count": 0,
          "categories": [
           {
            "name": "Float",
            "count": 12
           },
           {
            "name": "String",
            "count": 8
           },
           {
            "name": "Int",
            "count": 1
           }
          ]
         }
        },
        {
         "name": "Dependency",
         "dtype": "object",
         "stats": {
          "unique_count": 2,
          "nan_count": 0,
          "categories": [
           {
            "name": "Dependent",
            "count": 15
           },
           {
            "name": "Independent",
            "count": 6
           }
          ]
         }
        },
        {
         "name": "Level of measurement",
         "dtype": "object",
         "stats": {
          "unique_count": 3,
          "nan_count": 0,
          "categories": [
           {
            "name": "Ratio",
            "count": 12
           },
           {
            "name": "Nominal",
            "count": 8
           },
           {
            "name": "Interval",
            "count": 1
           }
          ]
         }
        },
        {
         "name": "_deepnote_index_column",
         "dtype": "int64"
        }
       ],
       "rows_top": [
        {
         "Column name": "country",
         "Column type": "Categorical",
         " Actual value type": "String",
         "Desired value types": "String",
         "Dependency": "Independent",
         "Level of measurement": "Nominal",
         "_deepnote_index_column": 0
        },
        {
         "Column name": "description",
         "Column type": "Alphanumerical",
         " Actual value type": "String",
         "Desired value types": "String",
         "Dependency": "Independent",
         "Level of measurement": "Nominal",
         "_deepnote_index_column": 1
        },
        {
         "Column name": "designation",
         "Column type": "Categorical",
         " Actual value type": "String",
         "Desired value types": "String",
         "Dependency": "Independent",
         "Level of measurement": "Nominal",
         "_deepnote_index_column": 2
        },
        {
         "Column name": "points",
         "Column type": "Numerical",
         " Actual value type": "Int",
         "Desired value types": "Int",
         "Dependency": "Dependent",
         "Level of measurement": "Interval",
         "_deepnote_index_column": 3
        },
        {
         "Column name": "price",
         "Column type": "Numerical",
         " Actual value type": "Float",
         "Desired value types": "Float",
         "Dependency": "Dependent",
         "Level of measurement": "Ratio",
         "_deepnote_index_column": 4
        },
        {
         "Column name": "province",
         "Column type": "Categorical",
         " Actual value type": "String",
         "Desired value types": "String",
         "Dependency": "Independent",
         "Level of measurement": "Nominal",
         "_deepnote_index_column": 5
        },
        {
         "Column name": "taster_name",
         "Column type": "Alphanumerical",
         " Actual value type": "String",
         "Desired value types": "String",
         "Dependency": "Independent",
         "Level of measurement": "Nominal",
         "_deepnote_index_column": 6
        },
        {
         "Column name": "title",
         "Column type": "Alphanumerical",
         " Actual value type": "String",
         "Desired value types": "String",
         "Dependency": "Independent",
         "Level of measurement": "Nominal",
         "_deepnote_index_column": 7
        },
        {
         "Column name": "variety",
         "Column type": "Categorical",
         " Actual value type": "String",
         "Desired value types": "String",
         "Dependency": "Dependent",
         "Level of measurement": "Nominal",
         "_deepnote_index_column": 8
        },
        {
         "Column name": "winery",
         "Column type": "Categorical",
         " Actual value type": "String",
         "Desired value types": "String",
         "Dependency": "Dependent",
         "Level of measurement": "Nominal",
         "_deepnote_index_column": 9
        },
        {
         "Column name": "fixed acidity",
         "Column type": "Numerical",
         " Actual value type": "Float",
         "Desired value types": "Float",
         "Dependency": "Dependent",
         "Level of measurement": "Ratio",
         "_deepnote_index_column": 10
        },
        {
         "Column name": "volatile acidity",
         "Column type": "Numerical",
         " Actual value type": "Float",
         "Desired value types": "Float",
         "Dependency": "Dependent",
         "Level of measurement": "Ratio",
         "_deepnote_index_column": 11
        },
        {
         "Column name": "citric acid",
         "Column type": "Numerical",
         " Actual value type": "String",
         "Desired value types": "Float",
         "Dependency": "Dependent",
         "Level of measurement": "Ratio",
         "_deepnote_index_column": 12
        },
        {
         "Column name": "residual sugar",
         "Column type": "Numerical",
         " Actual value type": "Float",
         "Desired value types": "Float",
         "Dependency": "Dependent",
         "Level of measurement": "Ratio",
         "_deepnote_index_column": 13
        },
        {
         "Column name": "chlorides",
         "Column type": "Numerical",
         " Actual value type": "Float",
         "Desired value types": "Float",
         "Dependency": "Dependent",
         "Level of measurement": "Ratio",
         "_deepnote_index_column": 14
        },
        {
         "Column name": "free sulfur dioxide",
         "Column type": "Numerical",
         " Actual value type": "Float",
         "Desired value types": "Float",
         "Dependency": "Dependent",
         "Level of measurement": "Ratio",
         "_deepnote_index_column": 15
        },
        {
         "Column name": "total sulfur dioxide",
         "Column type": "Numerical",
         " Actual value type": "Float",
         "Desired value types": "Float",
         "Dependency": "Dependent",
         "Level of measurement": "Ratio",
         "_deepnote_index_column": 16
        },
        {
         "Column name": "density",
         "Column type": "Numerical",
         " Actual value type": "String",
         "Desired value types": "Float",
         "Dependency": "Dependent",
         "Level of measurement": "Ratio",
         "_deepnote_index_column": 17
        },
        {
         "Column name": "pH",
         "Column type": "Numerical",
         " Actual value type": "Float",
         "Desired value types": "Float",
         "Dependency": "Dependent",
         "Level of measurement": "Ratio",
         "_deepnote_index_column": 18
        },
        {
         "Column name": "sulphates",
         "Column type": "Numerical",
         " Actual value type": "Float",
         "Desired value types": "Float",
         "Dependency": "Dependent",
         "Level of measurement": "Ratio",
         "_deepnote_index_column": 19
        },
        {
         "Column name": "alcohol",
         "Column type": "Numerical",
         " Actual value type": "String",
         "Desired value types": "Float",
         "Dependency": "Dependent",
         "Level of measurement": "Ratio",
         "_deepnote_index_column": 20
        }
       ],
       "rows_bottom": null
      },
      "text/plain": "             Column name     Column type  Actual value type  \\\n0                country     Categorical             String   \n1            description  Alphanumerical             String   \n2            designation     Categorical             String   \n3                 points       Numerical                Int   \n4                  price       Numerical              Float   \n5               province     Categorical             String   \n6            taster_name  Alphanumerical             String   \n7                  title  Alphanumerical             String   \n8                variety     Categorical             String   \n9                 winery     Categorical             String   \n10         fixed acidity       Numerical              Float   \n11      volatile acidity       Numerical              Float   \n12           citric acid       Numerical             String   \n13        residual sugar       Numerical              Float   \n14             chlorides       Numerical              Float   \n15   free sulfur dioxide       Numerical              Float   \n16  total sulfur dioxide       Numerical              Float   \n17               density       Numerical             String   \n18                    pH       Numerical              Float   \n19             sulphates       Numerical              Float   \n20               alcohol       Numerical             String   \n\n   Desired value types   Dependency Level of measurement  \n0               String  Independent              Nominal  \n1               String  Independent              Nominal  \n2               String  Independent              Nominal  \n3                  Int    Dependent             Interval  \n4                Float    Dependent                Ratio  \n5               String  Independent              Nominal  \n6               String  Independent              Nominal  \n7               String  Independent              Nominal  \n8               String    Dependent              Nominal  \n9               String    Dependent              Nominal  \n10               Float    Dependent                Ratio  \n11               Float    Dependent                Ratio  \n12               Float    Dependent                Ratio  \n13               Float    Dependent                Ratio  \n14               Float    Dependent                Ratio  \n15               Float    Dependent                Ratio  \n16               Float    Dependent                Ratio  \n17               Float    Dependent                Ratio  \n18               Float    Dependent                Ratio  \n19               Float    Dependent                Ratio  \n20               Float    Dependent                Ratio  ",
      "text/html": "<div>\n<style scoped>\n    .dataframe tbody tr th:only-of-type {\n        vertical-align: middle;\n    }\n\n    .dataframe tbody tr th {\n        vertical-align: top;\n    }\n\n    .dataframe thead th {\n        text-align: right;\n    }\n</style>\n<table border=\"1\" class=\"dataframe\">\n  <thead>\n    <tr style=\"text-align: right;\">\n      <th></th>\n      <th>Column name</th>\n      <th>Column type</th>\n      <th>Actual value type</th>\n      <th>Desired value types</th>\n      <th>Dependency</th>\n      <th>Level of measurement</th>\n    </tr>\n  </thead>\n  <tbody>\n    <tr>\n      <th>0</th>\n      <td>country</td>\n      <td>Categorical</td>\n      <td>String</td>\n      <td>String</td>\n      <td>Independent</td>\n      <td>Nominal</td>\n    </tr>\n    <tr>\n      <th>1</th>\n      <td>description</td>\n      <td>Alphanumerical</td>\n      <td>String</td>\n      <td>String</td>\n      <td>Independent</td>\n      <td>Nominal</td>\n    </tr>\n    <tr>\n      <th>2</th>\n      <td>designation</td>\n      <td>Categorical</td>\n      <td>String</td>\n      <td>String</td>\n      <td>Independent</td>\n      <td>Nominal</td>\n    </tr>\n    <tr>\n      <th>3</th>\n      <td>points</td>\n      <td>Numerical</td>\n      <td>Int</td>\n      <td>Int</td>\n      <td>Dependent</td>\n      <td>Interval</td>\n    </tr>\n    <tr>\n      <th>4</th>\n      <td>price</td>\n      <td>Numerical</td>\n      <td>Float</td>\n      <td>Float</td>\n      <td>Dependent</td>\n      <td>Ratio</td>\n    </tr>\n    <tr>\n      <th>5</th>\n      <td>province</td>\n      <td>Categorical</td>\n      <td>String</td>\n      <td>String</td>\n      <td>Independent</td>\n      <td>Nominal</td>\n    </tr>\n    <tr>\n      <th>6</th>\n      <td>taster_name</td>\n      <td>Alphanumerical</td>\n      <td>String</td>\n      <td>String</td>\n      <td>Independent</td>\n      <td>Nominal</td>\n    </tr>\n    <tr>\n      <th>7</th>\n      <td>title</td>\n      <td>Alphanumerical</td>\n      <td>String</td>\n      <td>String</td>\n      <td>Independent</td>\n      <td>Nominal</td>\n    </tr>\n    <tr>\n      <th>8</th>\n      <td>variety</td>\n      <td>Categorical</td>\n      <td>String</td>\n      <td>String</td>\n      <td>Dependent</td>\n      <td>Nominal</td>\n    </tr>\n    <tr>\n      <th>9</th>\n      <td>winery</td>\n      <td>Categorical</td>\n      <td>String</td>\n      <td>String</td>\n      <td>Dependent</td>\n      <td>Nominal</td>\n    </tr>\n    <tr>\n      <th>10</th>\n      <td>fixed acidity</td>\n      <td>Numerical</td>\n      <td>Float</td>\n      <td>Float</td>\n      <td>Dependent</td>\n      <td>Ratio</td>\n    </tr>\n    <tr>\n      <th>11</th>\n      <td>volatile acidity</td>\n      <td>Numerical</td>\n      <td>Float</td>\n      <td>Float</td>\n      <td>Dependent</td>\n      <td>Ratio</td>\n    </tr>\n    <tr>\n      <th>12</th>\n      <td>citric acid</td>\n      <td>Numerical</td>\n      <td>String</td>\n      <td>Float</td>\n      <td>Dependent</td>\n      <td>Ratio</td>\n    </tr>\n    <tr>\n      <th>13</th>\n      <td>residual sugar</td>\n      <td>Numerical</td>\n      <td>Float</td>\n      <td>Float</td>\n      <td>Dependent</td>\n      <td>Ratio</td>\n    </tr>\n    <tr>\n      <th>14</th>\n      <td>chlorides</td>\n      <td>Numerical</td>\n      <td>Float</td>\n      <td>Float</td>\n      <td>Dependent</td>\n      <td>Ratio</td>\n    </tr>\n    <tr>\n      <th>15</th>\n      <td>free sulfur dioxide</td>\n      <td>Numerical</td>\n      <td>Float</td>\n      <td>Float</td>\n      <td>Dependent</td>\n      <td>Ratio</td>\n    </tr>\n    <tr>\n      <th>16</th>\n      <td>total sulfur dioxide</td>\n      <td>Numerical</td>\n      <td>Float</td>\n      <td>Float</td>\n      <td>Dependent</td>\n      <td>Ratio</td>\n    </tr>\n    <tr>\n      <th>17</th>\n      <td>density</td>\n      <td>Numerical</td>\n      <td>String</td>\n      <td>Float</td>\n      <td>Dependent</td>\n      <td>Ratio</td>\n    </tr>\n    <tr>\n      <th>18</th>\n      <td>pH</td>\n      <td>Numerical</td>\n      <td>Float</td>\n      <td>Float</td>\n      <td>Dependent</td>\n      <td>Ratio</td>\n    </tr>\n    <tr>\n      <th>19</th>\n      <td>sulphates</td>\n      <td>Numerical</td>\n      <td>Float</td>\n      <td>Float</td>\n      <td>Dependent</td>\n      <td>Ratio</td>\n    </tr>\n    <tr>\n      <th>20</th>\n      <td>alcohol</td>\n      <td>Numerical</td>\n      <td>String</td>\n      <td>Float</td>\n      <td>Dependent</td>\n      <td>Ratio</td>\n    </tr>\n  </tbody>\n</table>\n</div>"
     },
     "metadata": {}
    }
   ]
  },
  {
   "cell_type": "markdown",
   "source": "#### Description \n\nHere we describe different column names\n\n- Country: In which country the wine was made.\n- Description: Information about the wine.\n- Points: How the wine was rated.\n- Price: How expensive each bottle was.\n- Province: In which province the wine was made.\n- Taster name: The name of the person who tested this wine.\n- Title: The name of the wine.\n- Variety: Type of wine (Portuguese red)\n- Winery: Name of the winery where the wine was made.\n- Fixed acidity: Used to estimate how sour a wine will probably taste like.\n- Volatile acidity: Volatile acidity is a measure of the low molecular weight fatty acids in wine.\n- Citric acid: Measure of citric acid concentrations in wine.\n- Residual sugar: How much sugar is left after fermentation.\n- Chlorides: Concentrations of chloride, a toxic chemical which also determines how salty the wine will taste.\n- Free sulfur dioxide: Concentrations of free sulfur dioxide.\n- Total sulfur dioxide: Total concentrations of sulfur dioxide including free sulfur dioxide and sulfur dioxide which has binded to other chemicals.\n- Density: The weight of the wine divided by the volume of the wine.\n- pH: The acidity level of the wine.\n- Sulphates: Sulphate concentrations in the wine.\n- Alcohol: Volumepercentage of alcohol in the wine.",
   "metadata": {
    "tags": [],
    "cell_id": "00010-0af00c8c-0642-474b-8a5d-ce9c8ea235d4",
    "deepnote_cell_type": "markdown"
   }
  },
  {
   "cell_type": "markdown",
   "source": "The categories whose actual datatype does not match our required datatypes are listed as follows:\n\n- citric acid is given as strings representing floats between 0 and 1",
   "metadata": {
    "tags": [],
    "cell_id": "00009-98c9ba08-1931-42b1-ac44-928dd1d975a2",
    "deepnote_cell_type": "markdown"
   }
  },
  {
   "cell_type": "markdown",
   "source": "##### Outliers:\nThe outliers are calculated as 3 times the std above the mean value from a column.  \nAs we can see in the sample below, there are 20 red wines with a exceptionally high price.",
   "metadata": {
    "tags": [],
    "cell_id": "00010-b2bb0ca7-2f9a-4d55-894d-ebc360167260",
    "deepnote_cell_type": "markdown"
   }
  },
  {
   "cell_type": "code",
   "metadata": {
    "tags": [],
    "cell_id": "00013-076d94c7-3326-4089-8ad2-98179e88a234",
    "deepnote_to_be_reexecuted": false,
    "source_hash": "f88152d9",
    "execution_start": 1633040033727,
    "execution_millis": 88,
    "deepnote_cell_type": "code"
   },
   "source": "df.describe()",
   "execution_count": 5,
   "outputs": [
    {
     "output_type": "execute_result",
     "execution_count": 5,
     "data": {
      "application/vnd.deepnote.dataframe.v2+json": {
       "row_count": 8,
       "column_count": 10,
       "columns": [
        {
         "name": "points",
         "dtype": "float64",
         "stats": {
          "unique_count": 8,
          "nan_count": 0,
          "min": "2.97400001932752",
          "max": "2465.0",
          "histogram": [
           {
            "bin_start": 2.97400001932752,
            "bin_end": 249.17660001739478,
            "count": 7
           },
           {
            "bin_start": 249.17660001739478,
            "bin_end": 495.37920001546206,
            "count": 0
           },
           {
            "bin_start": 495.37920001546206,
            "bin_end": 741.5818000135292,
            "count": 0
           },
           {
            "bin_start": 741.5818000135292,
            "bin_end": 987.7844000115965,
            "count": 0
           },
           {
            "bin_start": 987.7844000115965,
            "bin_end": 1233.987000009664,
            "count": 0
           },
           {
            "bin_start": 1233.987000009664,
            "bin_end": 1480.189600007731,
            "count": 0
           },
           {
            "bin_start": 1480.189600007731,
            "bin_end": 1726.3922000057985,
            "count": 0
           },
           {
            "bin_start": 1726.3922000057985,
            "bin_end": 1972.5948000038657,
            "count": 0
           },
           {
            "bin_start": 1972.5948000038657,
            "bin_end": 2218.7974000019326,
            "count": 0
           },
           {
            "bin_start": 2218.7974000019326,
            "bin_end": 2465,
            "count": 1
           }
          ]
         }
        },
        {
         "name": "price",
         "dtype": "float64",
         "stats": {
          "unique_count": 8,
          "nan_count": 0,
          "min": "5.0",
          "max": "2196.0",
          "histogram": [
           {
            "bin_start": 5,
            "bin_end": 224.1,
            "count": 6
           },
           {
            "bin_start": 224.1,
            "bin_end": 443.2,
            "count": 0
           },
           {
            "bin_start": 443.2,
            "bin_end": 662.3,
            "count": 1
           },
           {
            "bin_start": 662.3,
            "bin_end": 881.4,
            "count": 0
           },
           {
            "bin_start": 881.4,
            "bin_end": 1100.5,
            "count": 0
           },
           {
            "bin_start": 1100.5,
            "bin_end": 1319.6,
            "count": 0
           },
           {
            "bin_start": 1319.6,
            "bin_end": 1538.7,
            "count": 0
           },
           {
            "bin_start": 1538.7,
            "bin_end": 1757.8,
            "count": 0
           },
           {
            "bin_start": 1757.8,
            "bin_end": 1976.8999999999999,
            "count": 0
           },
           {
            "bin_start": 1976.8999999999999,
            "bin_end": 2196,
            "count": 1
           }
          ]
         }
        },
        {
         "name": "fixed_acidity",
         "dtype": "float64",
         "stats": {
          "unique_count": 8,
          "nan_count": 0,
          "min": "1.7348466033868817",
          "max": "2465.0",
          "histogram": [
           {
            "bin_start": 1.7348466033868817,
            "bin_end": 248.06136194304818,
            "count": 7
           },
           {
            "bin_start": 248.06136194304818,
            "bin_end": 494.3878772827095,
            "count": 0
           },
           {
            "bin_start": 494.3878772827095,
            "bin_end": 740.7143926223708,
            "count": 0
           },
           {
            "bin_start": 740.7143926223708,
            "bin_end": 987.0409079620322,
            "count": 0
           },
           {
            "bin_start": 987.0409079620322,
            "bin_end": 1233.3674233016934,
            "count": 0
           },
           {
            "bin_start": 1233.3674233016934,
            "bin_end": 1479.6939386413546,
            "count": 0
           },
           {
            "bin_start": 1479.6939386413546,
            "bin_end": 1726.020453981016,
            "count": 0
           },
           {
            "bin_start": 1726.020453981016,
            "bin_end": 1972.3469693206773,
            "count": 0
           },
           {
            "bin_start": 1972.3469693206773,
            "bin_end": 2218.6734846603385,
            "count": 0
           },
           {
            "bin_start": 2218.6734846603385,
            "bin_end": 2465,
            "count": 1
           }
          ]
         }
        },
        {
         "name": "volatile_acidity",
         "dtype": "float64",
         "stats": {
          "unique_count": 8,
          "nan_count": 0,
          "min": "0.12",
          "max": "2465.0",
          "histogram": [
           {
            "bin_start": 0.12,
            "bin_end": 246.608,
            "count": 7
           },
           {
            "bin_start": 246.608,
            "bin_end": 493.096,
            "count": 0
           },
           {
            "bin_start": 493.096,
            "bin_end": 739.584,
            "count": 0
           },
           {
            "bin_start": 739.584,
            "bin_end": 986.072,
            "count": 0
           },
           {
            "bin_start": 986.072,
            "bin_end": 1232.56,
            "count": 0
           },
           {
            "bin_start": 1232.56,
            "bin_end": 1479.0479999999998,
            "count": 0
           },
           {
            "bin_start": 1479.0479999999998,
            "bin_end": 1725.5359999999998,
            "count": 0
           },
           {
            "bin_start": 1725.5359999999998,
            "bin_end": 1972.024,
            "count": 0
           },
           {
            "bin_start": 1972.024,
            "bin_end": 2218.5119999999997,
            "count": 0
           },
           {
            "bin_start": 2218.5119999999997,
            "bin_end": 2465,
            "count": 1
           }
          ]
         }
        },
        {
         "name": "residual_sugar",
         "dtype": "float64",
         "stats": {
          "unique_count": 8,
          "nan_count": 0,
          "min": "0.9",
          "max": "2465.0",
          "histogram": [
           {
            "bin_start": 0.9,
            "bin_end": 247.31,
            "count": 7
           },
           {
            "bin_start": 247.31,
            "bin_end": 493.71999999999997,
            "count": 0
           },
           {
            "bin_start": 493.71999999999997,
            "bin_end": 740.13,
            "count": 0
           },
           {
            "bin_start": 740.13,
            "bin_end": 986.54,
            "count": 0
           },
           {
            "bin_start": 986.54,
            "bin_end": 1232.95,
            "count": 0
           },
           {
            "bin_start": 1232.95,
            "bin_end": 1479.3600000000001,
            "count": 0
           },
           {
            "bin_start": 1479.3600000000001,
            "bin_end": 1725.77,
            "count": 0
           },
           {
            "bin_start": 1725.77,
            "bin_end": 1972.18,
            "count": 0
           },
           {
            "bin_start": 1972.18,
            "bin_end": 2218.59,
            "count": 0
           },
           {
            "bin_start": 2218.59,
            "bin_end": 2465,
            "count": 1
           }
          ]
         }
        },
        {
         "name": "chlorides",
         "dtype": "float64",
         "stats": {
          "unique_count": 8,
          "nan_count": 0,
          "min": "0.012",
          "max": "2465.0",
          "histogram": [
           {
            "bin_start": 0.012,
            "bin_end": 246.5108,
            "count": 7
           },
           {
            "bin_start": 246.5108,
            "bin_end": 493.0096,
            "count": 0
           },
           {
            "bin_start": 493.0096,
            "bin_end": 739.5083999999999,
            "count": 0
           },
           {
            "bin_start": 739.5083999999999,
            "bin_end": 986.0071999999999,
            "count": 0
           },
           {
            "bin_start": 986.0071999999999,
            "bin_end": 1232.5059999999999,
            "count": 0
           },
           {
            "bin_start": 1232.5059999999999,
            "bin_end": 1479.0048,
            "count": 0
           },
           {
            "bin_start": 1479.0048,
            "bin_end": 1725.5035999999998,
            "count": 0
           },
           {
            "bin_start": 1725.5035999999998,
            "bin_end": 1972.0023999999999,
            "count": 0
           },
           {
            "bin_start": 1972.0023999999999,
            "bin_end": 2218.5012,
            "count": 0
           },
           {
            "bin_start": 2218.5012,
            "bin_end": 2465,
            "count": 1
           }
          ]
         }
        },
        {
         "name": "free_sulfur_dioxide",
         "dtype": "float64",
         "stats": {
          "unique_count": 8,
          "nan_count": 0,
          "min": "1.0",
          "max": "2465.0",
          "histogram": [
           {
            "bin_start": 1,
            "bin_end": 247.4,
            "count": 7
           },
           {
            "bin_start": 247.4,
            "bin_end": 493.8,
            "count": 0
           },
           {
            "bin_start": 493.8,
            "bin_end": 740.2,
            "count": 0
           },
           {
            "bin_start": 740.2,
            "bin_end": 986.6,
            "count": 0
           },
           {
            "bin_start": 986.6,
            "bin_end": 1233,
            "count": 0
           },
           {
            "bin_start": 1233,
            "bin_end": 1479.4,
            "count": 0
           },
           {
            "bin_start": 1479.4,
            "bin_end": 1725.8,
            "count": 0
           },
           {
            "bin_start": 1725.8,
            "bin_end": 1972.2,
            "count": 0
           },
           {
            "bin_start": 1972.2,
            "bin_end": 2218.6,
            "count": 0
           },
           {
            "bin_start": 2218.6,
            "bin_end": 2465,
            "count": 1
           }
          ]
         }
        },
        {
         "name": "total_sulfur_dioxide",
         "dtype": "float64",
         "stats": {
          "unique_count": 8,
          "nan_count": 0,
          "min": "6.0",
          "max": "2465.0",
          "histogram": [
           {
            "bin_start": 6,
            "bin_end": 251.9,
            "count": 6
           },
           {
            "bin_start": 251.9,
            "bin_end": 497.8,
            "count": 1
           },
           {
            "bin_start": 497.8,
            "bin_end": 743.7,
            "count": 0
           },
           {
            "bin_start": 743.7,
            "bin_end": 989.6,
            "count": 0
           },
           {
            "bin_start": 989.6,
            "bin_end": 1235.5,
            "count": 0
           },
           {
            "bin_start": 1235.5,
            "bin_end": 1481.4,
            "count": 0
           },
           {
            "bin_start": 1481.4,
            "bin_end": 1727.3,
            "count": 0
           },
           {
            "bin_start": 1727.3,
            "bin_end": 1973.2,
            "count": 0
           },
           {
            "bin_start": 1973.2,
            "bin_end": 2219.1,
            "count": 0
           },
           {
            "bin_start": 2219.1,
            "bin_end": 2465,
            "count": 1
           }
          ]
         }
        },
        {
         "name": "pH",
         "dtype": "float64",
         "stats": {
          "unique_count": 8,
          "nan_count": 0,
          "min": "0.15392727558224564",
          "max": "2465.0",
          "histogram": [
           {
            "bin_start": 0.15392727558224564,
            "bin_end": 246.63853454802404,
            "count": 7
           },
           {
            "bin_start": 246.63853454802404,
            "bin_end": 493.12314182046583,
            "count": 0
           },
           {
            "bin_start": 493.12314182046583,
            "bin_end": 739.6077490929076,
            "count": 0
           },
           {
            "bin_start": 739.6077490929076,
            "bin_end": 986.0923563653494,
            "count": 0
           },
           {
            "bin_start": 986.0923563653494,
            "bin_end": 1232.576963637791,
            "count": 0
           },
           {
            "bin_start": 1232.576963637791,
            "bin_end": 1479.061570910233,
            "count": 0
           },
           {
            "bin_start": 1479.061570910233,
            "bin_end": 1725.5461781826748,
            "count": 0
           },
           {
            "bin_start": 1725.5461781826748,
            "bin_end": 1972.0307854551165,
            "count": 0
           },
           {
            "bin_start": 1972.0307854551165,
            "bin_end": 2218.5153927275583,
            "count": 0
           },
           {
            "bin_start": 2218.5153927275583,
            "bin_end": 2465,
            "count": 1
           }
          ]
         }
        },
        {
         "name": "sulphates",
         "dtype": "float64",
         "stats": {
          "unique_count": 8,
          "nan_count": 0,
          "min": "0.17253128003281948",
          "max": "2465.0",
          "histogram": [
           {
            "bin_start": 0.17253128003281948,
            "bin_end": 246.65527815202955,
            "count": 7
           },
           {
            "bin_start": 246.65527815202955,
            "bin_end": 493.1380250240263,
            "count": 0
           },
           {
            "bin_start": 493.1380250240263,
            "bin_end": 739.620771896023,
            "count": 0
           },
           {
            "bin_start": 739.620771896023,
            "bin_end": 986.1035187680197,
            "count": 0
           },
           {
            "bin_start": 986.1035187680197,
            "bin_end": 1232.5862656400166,
            "count": 0
           },
           {
            "bin_start": 1232.5862656400166,
            "bin_end": 1479.0690125120134,
            "count": 0
           },
           {
            "bin_start": 1479.0690125120134,
            "bin_end": 1725.55175938401,
            "count": 0
           },
           {
            "bin_start": 1725.55175938401,
            "bin_end": 1972.0345062560068,
            "count": 0
           },
           {
            "bin_start": 1972.0345062560068,
            "bin_end": 2218.517253128003,
            "count": 0
           },
           {
            "bin_start": 2218.517253128003,
            "bin_end": 2465,
            "count": 1
           }
          ]
         }
        },
        {
         "name": "_deepnote_index_column",
         "dtype": "object"
        }
       ],
       "rows_top": [
        {
         "points": 2465,
         "price": 2196,
         "fixed_acidity": 2465,
         "volatile_acidity": 2465,
         "residual_sugar": 2465,
         "chlorides": 2465,
         "free_sulfur_dioxide": 2465,
         "total_sulfur_dioxide": 2465,
         "pH": 2465,
         "sulphates": 2465,
         "_deepnote_index_column": "count"
        },
        {
         "points": 88.81135902636917,
         "price": 24.819216757741348,
         "fixed_acidity": 8.352819472616632,
         "volatile_acidity": 0.5281622718052738,
         "residual_sugar": 2.5623529411764707,
         "chlorides": 0.08748519269776875,
         "free_sulfur_dioxide": 15.804665314401623,
         "total_sulfur_dioxide": 47.21866125760649,
         "pH": 3.311200811359026,
         "sulphates": 0.6603529411764706,
         "_deepnote_index_column": "mean"
        },
        {
         "points": 2.97400001932752,
         "price": 25.539475265459142,
         "fixed_acidity": 1.7348466033868817,
         "volatile_acidity": 0.17886907428366858,
         "residual_sugar": 1.407029740958027,
         "chlorides": 0.04704340402899578,
         "free_sulfur_dioxide": 10.379217894554081,
         "total_sulfur_dioxide": 33.187830278042945,
         "pH": 0.15392727558224564,
         "sulphates": 0.17253128003281948,
         "_deepnote_index_column": "std"
        },
        {
         "points": 81,
         "price": 5,
         "fixed_acidity": 4.6,
         "volatile_acidity": 0.12,
         "residual_sugar": 0.9,
         "chlorides": 0.012,
         "free_sulfur_dioxide": 1,
         "total_sulfur_dioxide": 6,
         "pH": 2.74,
         "sulphates": 0.33,
         "_deepnote_index_column": "min"
        },
        {
         "points": 87,
         "price": 12,
         "fixed_acidity": 7.1,
         "volatile_acidity": 0.4,
         "residual_sugar": 1.9,
         "chlorides": 0.07,
         "free_sulfur_dioxide": 7,
         "total_sulfur_dioxide": 22,
         "pH": 3.21,
         "sulphates": 0.55,
         "_deepnote_index_column": "25%"
        },
        {
         "points": 88,
         "price": 17,
         "fixed_acidity": 7.9,
         "volatile_acidity": 0.52,
         "residual_sugar": 2.2,
         "chlorides": 0.079,
         "free_sulfur_dioxide": 14,
         "total_sulfur_dioxide": 38,
         "pH": 3.31,
         "sulphates": 0.62,
         "_deepnote_index_column": "50%"
        },
        {
         "points": 91,
         "price": 28,
         "fixed_acidity": 9.3,
         "volatile_acidity": 0.635,
         "residual_sugar": 2.6,
         "chlorides": 0.091,
         "free_sulfur_dioxide": 21,
         "total_sulfur_dioxide": 64,
         "pH": 3.4,
         "sulphates": 0.73,
         "_deepnote_index_column": "75%"
        },
        {
         "points": 100,
         "price": 450,
         "fixed_acidity": 15.9,
         "volatile_acidity": 1.58,
         "residual_sugar": 15.5,
         "chlorides": 0.611,
         "free_sulfur_dioxide": 72,
         "total_sulfur_dioxide": 289,
         "pH": 4.01,
         "sulphates": 2,
         "_deepnote_index_column": "max"
        }
       ],
       "rows_bottom": null
      },
      "text/plain": "            points        price  fixed_acidity  volatile_acidity  \\\ncount  2465.000000  2196.000000    2465.000000       2465.000000   \nmean     88.811359    24.819217       8.352819          0.528162   \nstd       2.974000    25.539475       1.734847          0.178869   \nmin      81.000000     5.000000       4.600000          0.120000   \n25%      87.000000    12.000000       7.100000          0.400000   \n50%      88.000000    17.000000       7.900000          0.520000   \n75%      91.000000    28.000000       9.300000          0.635000   \nmax     100.000000   450.000000      15.900000          1.580000   \n\n       residual_sugar    chlorides  free_sulfur_dioxide  total_sulfur_dioxide  \\\ncount     2465.000000  2465.000000          2465.000000           2465.000000   \nmean         2.562353     0.087485            15.804665             47.218661   \nstd          1.407030     0.047043            10.379218             33.187830   \nmin          0.900000     0.012000             1.000000              6.000000   \n25%          1.900000     0.070000             7.000000             22.000000   \n50%          2.200000     0.079000            14.000000             38.000000   \n75%          2.600000     0.091000            21.000000             64.000000   \nmax         15.500000     0.611000            72.000000            289.000000   \n\n                pH    sulphates  \ncount  2465.000000  2465.000000  \nmean      3.311201     0.660353  \nstd       0.153927     0.172531  \nmin       2.740000     0.330000  \n25%       3.210000     0.550000  \n50%       3.310000     0.620000  \n75%       3.400000     0.730000  \nmax       4.010000     2.000000  ",
      "text/html": "<div>\n<style scoped>\n    .dataframe tbody tr th:only-of-type {\n        vertical-align: middle;\n    }\n\n    .dataframe tbody tr th {\n        vertical-align: top;\n    }\n\n    .dataframe thead th {\n        text-align: right;\n    }\n</style>\n<table border=\"1\" class=\"dataframe\">\n  <thead>\n    <tr style=\"text-align: right;\">\n      <th></th>\n      <th>points</th>\n      <th>price</th>\n      <th>fixed_acidity</th>\n      <th>volatile_acidity</th>\n      <th>residual_sugar</th>\n      <th>chlorides</th>\n      <th>free_sulfur_dioxide</th>\n      <th>total_sulfur_dioxide</th>\n      <th>pH</th>\n      <th>sulphates</th>\n    </tr>\n  </thead>\n  <tbody>\n    <tr>\n      <th>count</th>\n      <td>2465.000000</td>\n      <td>2196.000000</td>\n      <td>2465.000000</td>\n      <td>2465.000000</td>\n      <td>2465.000000</td>\n      <td>2465.000000</td>\n      <td>2465.000000</td>\n      <td>2465.000000</td>\n      <td>2465.000000</td>\n      <td>2465.000000</td>\n    </tr>\n    <tr>\n      <th>mean</th>\n      <td>88.811359</td>\n      <td>24.819217</td>\n      <td>8.352819</td>\n      <td>0.528162</td>\n      <td>2.562353</td>\n      <td>0.087485</td>\n      <td>15.804665</td>\n      <td>47.218661</td>\n      <td>3.311201</td>\n      <td>0.660353</td>\n    </tr>\n    <tr>\n      <th>std</th>\n      <td>2.974000</td>\n      <td>25.539475</td>\n      <td>1.734847</td>\n      <td>0.178869</td>\n      <td>1.407030</td>\n      <td>0.047043</td>\n      <td>10.379218</td>\n      <td>33.187830</td>\n      <td>0.153927</td>\n      <td>0.172531</td>\n    </tr>\n    <tr>\n      <th>min</th>\n      <td>81.000000</td>\n      <td>5.000000</td>\n      <td>4.600000</td>\n      <td>0.120000</td>\n      <td>0.900000</td>\n      <td>0.012000</td>\n      <td>1.000000</td>\n      <td>6.000000</td>\n      <td>2.740000</td>\n      <td>0.330000</td>\n    </tr>\n    <tr>\n      <th>25%</th>\n      <td>87.000000</td>\n      <td>12.000000</td>\n      <td>7.100000</td>\n      <td>0.400000</td>\n      <td>1.900000</td>\n      <td>0.070000</td>\n      <td>7.000000</td>\n      <td>22.000000</td>\n      <td>3.210000</td>\n      <td>0.550000</td>\n    </tr>\n    <tr>\n      <th>50%</th>\n      <td>88.000000</td>\n      <td>17.000000</td>\n      <td>7.900000</td>\n      <td>0.520000</td>\n      <td>2.200000</td>\n      <td>0.079000</td>\n      <td>14.000000</td>\n      <td>38.000000</td>\n      <td>3.310000</td>\n      <td>0.620000</td>\n    </tr>\n    <tr>\n      <th>75%</th>\n      <td>91.000000</td>\n      <td>28.000000</td>\n      <td>9.300000</td>\n      <td>0.635000</td>\n      <td>2.600000</td>\n      <td>0.091000</td>\n      <td>21.000000</td>\n      <td>64.000000</td>\n      <td>3.400000</td>\n      <td>0.730000</td>\n    </tr>\n    <tr>\n      <th>max</th>\n      <td>100.000000</td>\n      <td>450.000000</td>\n      <td>15.900000</td>\n      <td>1.580000</td>\n      <td>15.500000</td>\n      <td>0.611000</td>\n      <td>72.000000</td>\n      <td>289.000000</td>\n      <td>4.010000</td>\n      <td>2.000000</td>\n    </tr>\n  </tbody>\n</table>\n</div>"
     },
     "metadata": {}
    }
   ]
  },
  {
   "cell_type": "code",
   "metadata": {
    "tags": [],
    "cell_id": "00014-ee8fd4a2-d202-48ab-9376-09af82ad6782",
    "deepnote_to_be_reexecuted": false,
    "source_hash": "29663c7f",
    "execution_start": 1633040033809,
    "execution_millis": 137,
    "deepnote_cell_type": "code"
   },
   "source": "# Outliers from price:\nprice_col = df['price']\noutliers = df[price_col > price_col.mean() + 3 * price_col.std()]\noutliers",
   "execution_count": 6,
   "outputs": [
    {
     "output_type": "execute_result",
     "execution_count": 6,
     "data": {
      "application/vnd.deepnote.dataframe.v2+json": {
       "row_count": 20,
       "column_count": 21,
       "columns": [
        {
         "name": "country",
         "dtype": "object",
         "stats": {
          "unique_count": 1,
          "nan_count": 0,
          "categories": [
           {
            "name": "Portugal",
            "count": 20
           }
          ]
         }
        },
        {
         "name": "description",
         "dtype": "object",
         "stats": {
          "unique_count": 19,
          "nan_count": 0,
          "categories": [
           {
            "name": "One of the iconic wines of Portugal, the brand dates back to the 15th century and the Portuguese discovery of Brazil, In its latest incarnation, it is hugely dense and concentrated, It could be that it is too much, with dark extracts, yet somehow the super-ripe plum and berry flavors are given enough freshness, The structure is all there in what is still a young wine, With power and a dense texture, the wine needs to age further, Drink from 2020,",
            "count": 2
           },
           {
            "name": "This is a major Douro wine from the Poças family-owned Port and wine producer, Dusty tannins already give it class as well as richness, Packed with black-plum fruits and with good concentration, the wine is still maturing, It needs to age further, so drink from 2019,",
            "count": 1
           },
           {
            "name": "17 others",
            "count": 17
           }
          ]
         }
        },
        {
         "name": "designation",
         "dtype": "object",
         "stats": {
          "unique_count": 17,
          "nan_count": 0,
          "categories": [
           {
            "name": "Pêra-Manca",
            "count": 2
           },
           {
            "name": "Vinha do Rio",
            "count": 2
           },
           {
            "name": "15 others",
            "count": 16
           }
          ]
         }
        },
        {
         "name": "points",
         "dtype": "int64",
         "stats": {
          "unique_count": 8,
          "nan_count": 0,
          "min": "92",
          "max": "100",
          "histogram": [
           {
            "bin_start": 92,
            "bin_end": 92.8,
            "count": 3
           },
           {
            "bin_start": 92.8,
            "bin_end": 93.6,
            "count": 3
           },
           {
            "bin_start": 93.6,
            "bin_end": 94.4,
            "count": 6
           },
           {
            "bin_start": 94.4,
            "bin_end": 95.2,
            "count": 4
           },
           {
            "bin_start": 95.2,
            "bin_end": 96,
            "count": 0
           },
           {
            "bin_start": 96,
            "bin_end": 96.8,
            "count": 1
           },
           {
            "bin_start": 96.8,
            "bin_end": 97.6,
            "count": 1
           },
           {
            "bin_start": 97.6,
            "bin_end": 98.4,
            "count": 0
           },
           {
            "bin_start": 98.4,
            "bin_end": 99.2,
            "count": 1
           },
           {
            "bin_start": 99.2,
            "bin_end": 100,
            "count": 1
           }
          ]
         }
        },
        {
         "name": "price",
         "dtype": "float64",
         "stats": {
          "unique_count": 14,
          "nan_count": 0,
          "min": "110.0",
          "max": "450.0",
          "histogram": [
           {
            "bin_start": 110,
            "bin_end": 144,
            "count": 7
           },
           {
            "bin_start": 144,
            "bin_end": 178,
            "count": 6
           },
           {
            "bin_start": 178,
            "bin_end": 212,
            "count": 2
           },
           {
            "bin_start": 212,
            "bin_end": 246,
            "count": 0
           },
           {
            "bin_start": 246,
            "bin_end": 280,
            "count": 3
           },
           {
            "bin_start": 280,
            "bin_end": 314,
            "count": 0
           },
           {
            "bin_start": 314,
            "bin_end": 348,
            "count": 0
           },
           {
            "bin_start": 348,
            "bin_end": 382,
            "count": 0
           },
           {
            "bin_start": 382,
            "bin_end": 416,
            "count": 0
           },
           {
            "bin_start": 416,
            "bin_end": 450,
            "count": 2
           }
          ]
         }
        },
        {
         "name": "province",
         "dtype": "object",
         "stats": {
          "unique_count": 3,
          "nan_count": 0,
          "categories": [
           {
            "name": "Douro",
            "count": 14
           },
           {
            "name": "Alentejo",
            "count": 3
           },
           {
            "name": "Alentejano",
            "count": 3
           }
          ]
         }
        },
        {
         "name": "taster_name",
         "dtype": "object",
         "stats": {
          "unique_count": 9,
          "nan_count": 0,
          "categories": [
           {
            "name": "Michael Schachner",
            "count": 5
           },
           {
            "name": "Roger Voss",
            "count": 5
           },
           {
            "name": "7 others",
            "count": 10
           }
          ]
         }
        },
        {
         "name": "title",
         "dtype": "object",
         "stats": {
          "unique_count": 19,
          "nan_count": 0,
          "categories": [
           {
            "name": "Cartuxa 2011 Pêra-Manca Red (Alentejo)",
            "count": 2
           },
           {
            "name": "Poças 2014 Símbolo Red (Douro)",
            "count": 1
           },
           {
            "name": "17 others",
            "count": 17
           }
          ]
         }
        },
        {
         "name": "variety",
         "dtype": "object",
         "stats": {
          "unique_count": 1,
          "nan_count": 0,
          "categories": [
           {
            "name": "Portuguese Red",
            "count": 20
           }
          ]
         }
        },
        {
         "name": "winery",
         "dtype": "object",
         "stats": {
          "unique_count": 12,
          "nan_count": 0,
          "categories": [
           {
            "name": "Quinta Vale Dona Maria",
            "count": 3
           },
           {
            "name": "Casa Ferreirinha",
            "count": 3
           },
           {
            "name": "10 others",
            "count": 14
           }
          ]
         }
        },
        {
         "name": "fixed_acidity",
         "dtype": "float64",
         "stats": {
          "unique_count": 19,
          "nan_count": 0,
          "min": "5.0",
          "max": "11.8",
          "histogram": [
           {
            "bin_start": 5,
            "bin_end": 5.68,
            "count": 2
           },
           {
            "bin_start": 5.68,
            "bin_end": 6.36,
            "count": 0
           },
           {
            "bin_start": 6.36,
            "bin_end": 7.04,
            "count": 5
           },
           {
            "bin_start": 7.04,
            "bin_end": 7.720000000000001,
            "count": 2
           },
           {
            "bin_start": 7.720000000000001,
            "bin_end": 8.4,
            "count": 2
           },
           {
            "bin_start": 8.4,
            "bin_end": 9.08,
            "count": 3
           },
           {
            "bin_start": 9.08,
            "bin_end": 9.760000000000002,
            "count": 1
           },
           {
            "bin_start": 9.760000000000002,
            "bin_end": 10.440000000000001,
            "count": 3
           },
           {
            "bin_start": 10.440000000000001,
            "bin_end": 11.120000000000001,
            "count": 1
           },
           {
            "bin_start": 11.120000000000001,
            "bin_end": 11.8,
            "count": 1
           }
          ]
         }
        },
        {
         "name": "volatile_acidity",
         "dtype": "float64",
         "stats": {
          "unique_count": 15,
          "nan_count": 0,
          "min": "0.26",
          "max": "0.815",
          "histogram": [
           {
            "bin_start": 0.26,
            "bin_end": 0.3155,
            "count": 4
           },
           {
            "bin_start": 0.3155,
            "bin_end": 0.371,
            "count": 9
           },
           {
            "bin_start": 0.371,
            "bin_end": 0.4265,
            "count": 3
           },
           {
            "bin_start": 0.4265,
            "bin_end": 0.482,
            "count": 0
           },
           {
            "bin_start": 0.482,
            "bin_end": 0.5375,
            "count": 0
           },
           {
            "bin_start": 0.5375,
            "bin_end": 0.593,
            "count": 1
           },
           {
            "bin_start": 0.593,
            "bin_end": 0.6485,
            "count": 0
           },
           {
            "bin_start": 0.6485,
            "bin_end": 0.704,
            "count": 1
           },
           {
            "bin_start": 0.704,
            "bin_end": 0.7595,
            "count": 1
           },
           {
            "bin_start": 0.7595,
            "bin_end": 0.815,
            "count": 1
           }
          ]
         }
        },
        {
         "name": "citric_acid",
         "dtype": "object",
         "stats": {
          "unique_count": 17,
          "nan_count": 0,
          "categories": [
           {
            "name": "0.34",
            "count": 3
           },
           {
            "name": "0.53",
            "count": 2
           },
           {
            "name": "15 others",
            "count": 15
           }
          ]
         }
        },
        {
         "name": "residual_sugar",
         "dtype": "float64",
         "stats": {
          "unique_count": 16,
          "nan_count": 0,
          "min": "1.6",
          "max": "6.7",
          "histogram": [
           {
            "bin_start": 1.6,
            "bin_end": 2.1100000000000003,
            "count": 7
           },
           {
            "bin_start": 2.1100000000000003,
            "bin_end": 2.62,
            "count": 5
           },
           {
            "bin_start": 2.62,
            "bin_end": 3.13,
            "count": 2
           },
           {
            "bin_start": 3.13,
            "bin_end": 3.64,
            "count": 3
           },
           {
            "bin_start": 3.64,
            "bin_end": 4.15,
            "count": 0
           },
           {
            "bin_start": 4.15,
            "bin_end": 4.66,
            "count": 0
           },
           {
            "bin_start": 4.66,
            "bin_end": 5.17,
            "count": 0
           },
           {
            "bin_start": 5.17,
            "bin_end": 5.68,
            "count": 0
           },
           {
            "bin_start": 5.68,
            "bin_end": 6.1899999999999995,
            "count": 1
           },
           {
            "bin_start": 6.1899999999999995,
            "bin_end": 6.7,
            "count": 2
           }
          ]
         }
        },
        {
         "name": "chlorides",
         "dtype": "float64",
         "stats": {
          "unique_count": 18,
          "nan_count": 0,
          "min": "0.012",
          "max": "0.114",
          "histogram": [
           {
            "bin_start": 0.012,
            "bin_end": 0.0222,
            "count": 1
           },
           {
            "bin_start": 0.0222,
            "bin_end": 0.0324,
            "count": 0
           },
           {
            "bin_start": 0.0324,
            "bin_end": 0.0426,
            "count": 1
           },
           {
            "bin_start": 0.0426,
            "bin_end": 0.0528,
            "count": 1
           },
           {
            "bin_start": 0.0528,
            "bin_end": 0.063,
            "count": 1
           },
           {
            "bin_start": 0.063,
            "bin_end": 0.0732,
            "count": 8
           },
           {
            "bin_start": 0.0732,
            "bin_end": 0.0834,
            "count": 3
           },
           {
            "bin_start": 0.0834,
            "bin_end": 0.0936,
            "count": 2
           },
           {
            "bin_start": 0.0936,
            "bin_end": 0.1038,
            "count": 1
           },
           {
            "bin_start": 0.1038,
            "bin_end": 0.114,
            "count": 2
           }
          ]
         }
        },
        {
         "name": "free_sulfur_dioxide",
         "dtype": "float64",
         "stats": {
          "unique_count": 17,
          "nan_count": 0,
          "min": "3.0",
          "max": "54.0",
          "histogram": [
           {
            "bin_start": 3,
            "bin_end": 8.1,
            "count": 9
           },
           {
            "bin_start": 8.1,
            "bin_end": 13.2,
            "count": 2
           },
           {
            "bin_start": 13.2,
            "bin_end": 18.299999999999997,
            "count": 4
           },
           {
            "bin_start": 18.299999999999997,
            "bin_end": 23.4,
            "count": 2
           },
           {
            "bin_start": 23.4,
            "bin_end": 28.5,
            "count": 0
           },
           {
            "bin_start": 28.5,
            "bin_end": 33.599999999999994,
            "count": 0
           },
           {
            "bin_start": 33.599999999999994,
            "bin_end": 38.699999999999996,
            "count": 1
           },
           {
            "bin_start": 38.699999999999996,
            "bin_end": 43.8,
            "count": 1
           },
           {
            "bin_start": 43.8,
            "bin_end": 48.9,
            "count": 0
           },
           {
            "bin_start": 48.9,
            "bin_end": 54,
            "count": 1
           }
          ]
         }
        },
        {
         "name": "total_sulfur_dioxide",
         "dtype": "float64",
         "stats": {
          "unique_count": 18,
          "nan_count": 0,
          "min": "8.0",
          "max": "100.0",
          "histogram": [
           {
            "bin_start": 8,
            "bin_end": 17.2,
            "count": 6
           },
           {
            "bin_start": 17.2,
            "bin_end": 26.4,
            "count": 4
           },
           {
            "bin_start": 26.4,
            "bin_end": 35.599999999999994,
            "count": 1
           },
           {
            "bin_start": 35.599999999999994,
            "bin_end": 44.8,
            "count": 3
           },
           {
            "bin_start": 44.8,
            "bin_end": 54,
            "count": 2
           },
           {
            "bin_start": 54,
            "bin_end": 63.199999999999996,
            "count": 0
           },
           {
            "bin_start": 63.199999999999996,
            "bin_end": 72.39999999999999,
            "count": 1
           },
           {
            "bin_start": 72.39999999999999,
            "bin_end": 81.6,
            "count": 2
           },
           {
            "bin_start": 81.6,
            "bin_end": 90.8,
            "count": 0
           },
           {
            "bin_start": 90.8,
            "bin_end": 100,
            "count": 1
           }
          ]
         }
        },
        {
         "name": "density",
         "dtype": "object",
         "stats": {
          "unique_count": 20,
          "nan_count": 0,
          "categories": [
           {
            "name": "0.9933",
            "count": 1
           },
           {
            "name": "0.9955",
            "count": 1
           },
           {
            "name": "18 others",
            "count": 18
           }
          ]
         }
        },
        {
         "name": "pH",
         "dtype": "float64",
         "stats": {
          "unique_count": 17,
          "nan_count": 0,
          "min": "2.98",
          "max": "3.72",
          "histogram": [
           {
            "bin_start": 2.98,
            "bin_end": 3.054,
            "count": 1
           },
           {
            "bin_start": 3.054,
            "bin_end": 3.128,
            "count": 0
           },
           {
            "bin_start": 3.128,
            "bin_end": 3.202,
            "count": 2
           },
           {
            "bin_start": 3.202,
            "bin_end": 3.2760000000000002,
            "count": 7
           },
           {
            "bin_start": 3.2760000000000002,
            "bin_end": 3.35,
            "count": 3
           },
           {
            "bin_start": 3.35,
            "bin_end": 3.4240000000000004,
            "count": 3
           },
           {
            "bin_start": 3.4240000000000004,
            "bin_end": 3.498,
            "count": 1
           },
           {
            "bin_start": 3.498,
            "bin_end": 3.572,
            "count": 0
           },
           {
            "bin_start": 3.572,
            "bin_end": 3.6460000000000004,
            "count": 1
           },
           {
            "bin_start": 3.6460000000000004,
            "bin_end": 3.72,
            "count": 2
           }
          ]
         }
        },
        {
         "name": "sulphates",
         "dtype": "float64",
         "stats": {
          "unique_count": 18,
          "nan_count": 0,
          "min": "0.39",
          "max": "0.89",
          "histogram": [
           {
            "bin_start": 0.39,
            "bin_end": 0.44,
            "count": 1
           },
           {
            "bin_start": 0.44,
            "bin_end": 0.49,
            "count": 0
           },
           {
            "bin_start": 0.49,
            "bin_end": 0.54,
            "count": 1
           },
           {
            "bin_start": 0.54,
            "bin_end": 0.5900000000000001,
            "count": 3
           },
           {
            "bin_start": 0.5900000000000001,
            "bin_end": 0.64,
            "count": 3
           },
           {
            "bin_start": 0.64,
            "bin_end": 0.6900000000000001,
            "count": 1
           },
           {
            "bin_start": 0.6900000000000001,
            "bin_end": 0.74,
            "count": 3
           },
           {
            "bin_start": 0.74,
            "bin_end": 0.79,
            "count": 3
           },
           {
            "bin_start": 0.79,
            "bin_end": 0.8400000000000001,
            "count": 3
           },
           {
            "bin_start": 0.8400000000000001,
            "bin_end": 0.89,
            "count": 2
           }
          ]
         }
        },
        {
         "name": "alcohol",
         "dtype": "object",
         "stats": {
          "unique_count": 15,
          "nan_count": 0,
          "categories": [
           {
            "name": "12",
            "count": 3
           },
           {
            "name": "12.8",
            "count": 2
           },
           {
            "name": "13 others",
            "count": 15
           }
          ]
         }
        },
        {
         "name": "_deepnote_index_column",
         "dtype": "int64"
        }
       ],
       "rows_top": [
        {
         "country": "Portugal",
         "description": "This is a major Douro wine from the Poças family-owned Port and wine producer, Dusty tannins alread…",
         "designation": "Símbolo",
         "points": 94,
         "price": 150,
         "province": "Douro",
         "taster_name": "Matt Kettmann",
         "title": "Poças 2014 Símbolo Red (Douro)",
         "variety": "Portuguese Red",
         "winery": "Poças",
         "fixed_acidity": 7.4,
         "volatile_acidity": 0.36,
         "citric_acid": "0.34",
         "residual_sugar": 1.8,
         "chlorides": 0.075,
         "free_sulfur_dioxide": 18,
         "total_sulfur_dioxide": 38,
         "density": "0.9933",
         "pH": 3.38,
         "sulphates": 0.88,
         "alcohol": "13.6",
         "_deepnote_index_column": 15
        },
        {
         "country": "Portugal",
         "description": "One of the iconic wines of Portugal, the brand dates back to the 15th century and the Portuguese di…",
         "designation": "Pêra-Manca",
         "points": 94,
         "price": 275,
         "province": "Alentejo",
         "taster_name": "Michael Schachner",
         "title": "Cartuxa 2011 Pêra-Manca Red (Alentejo)",
         "variety": "Portuguese Red",
         "winery": "Cartuxa",
         "fixed_acidity": 6.6,
         "volatile_acidity": 0.815,
         "citric_acid": "0.02",
         "residual_sugar": 2.7,
         "chlorides": 0.072,
         "free_sulfur_dioxide": 17,
         "total_sulfur_dioxide": 34,
         "density": "0.9955",
         "pH": 3.58,
         "sulphates": 0.89,
         "alcohol": "12.3",
         "_deepnote_index_column": 279
        },
        {
         "country": "Portugal",
         "description": "This top wine from Quinta Vale Dona Maria comes from a small parcel of old vines on the estate clos…",
         "designation": "Vinha do Rio",
         "points": 95,
         "price": 150,
         "province": "Douro",
         "taster_name": "Jim Gordon",
         "title": "Quinta Vale Dona Maria 2012 Vinha do Rio Red (Douro)",
         "variety": "Portuguese Red",
         "winery": "Quinta Vale Dona Maria",
         "fixed_acidity": 8.8,
         "volatile_acidity": 0.33,
         "citric_acid": "0.41",
         "residual_sugar": 5.9,
         "chlorides": 0.073,
         "free_sulfur_dioxide": 7,
         "total_sulfur_dioxide": 13,
         "density": "0.99658",
         "pH": 3.3,
         "sulphates": 0.62,
         "alcohol": "12.1",
         "_deepnote_index_column": 296
        },
        {
         "country": "Portugal",
         "description": "Produced from selected parcels of fruit in top vintages, this is the flagship wine from this Jorgen…",
         "designation": "Reserva",
         "points": 92,
         "price": 110,
         "province": "Alentejano",
         "taster_name": "Virginie Boone",
         "title": "Cortes de Cima 2012 Reserva Red (Alentejano)",
         "variety": "Portuguese Red",
         "winery": "Cortes de Cima",
         "fixed_acidity": 6.5,
         "volatile_acidity": 0.34,
         "citric_acid": "0.27",
         "residual_sugar": 2.8,
         "chlorides": 0.067,
         "free_sulfur_dioxide": 8,
         "total_sulfur_dioxide": 44,
         "density": "0.99384",
         "pH": 3.21,
         "sulphates": 0.56,
         "alcohol": "12",
         "_deepnote_index_column": 356
        },
        {
         "country": "Portugal",
         "description": "Named after family members called Maria, this is a limited-edition wine, very smooth and rich, offe…",
         "designation": "Marias da Malhadinha",
         "points": 92,
         "price": 158,
         "province": "Alentejano",
         "taster_name": "Sean P. Sullivan",
         "title": "Herdade da Malhadinha Nova 2007 Marias da Malhadinha Red (Alentejano)",
         "variety": "Portuguese Red",
         "winery": "Herdade da Malhadinha Nova",
         "fixed_acidity": 7,
         "volatile_acidity": 0.745,
         "citric_acid": "0.12",
         "residual_sugar": 1.8,
         "chlorides": 0.114,
         "free_sulfur_dioxide": 15,
         "total_sulfur_dioxide": 64,
         "density": "0.99588",
         "pH": 3.22,
         "sulphates": 0.59,
         "alcohol": "9.5",
         "_deepnote_index_column": 530
        },
        {
         "country": "Portugal",
         "description": "Named after the tower that dominates the buildings of Esporão, this wine is the pinnacle of achieve…",
         "designation": "Torre do Esporão Garrafeira",
         "points": 95,
         "price": 180,
         "province": "Alentejo",
         "taster_name": "Sean P. Sullivan",
         "title": "Herdade do Esporão 2011 Torre do Esporão Garrafeira Red (Alentejo)",
         "variety": "Portuguese Red",
         "winery": "Herdade do Esporão",
         "fixed_acidity": 5.6,
         "volatile_acidity": 0.66,
         "citric_acid": " -   ",
         "residual_sugar": 2.2,
         "chlorides": 0.087,
         "free_sulfur_dioxide": 3,
         "total_sulfur_dioxide": 11,
         "density": "0.99378",
         "pH": 3.71,
         "sulphates": 0.63,
         "alcohol": "12.8",
         "_deepnote_index_column": 618
        },
        {
         "country": "Portugal",
         "description": "Made from a field blend of old vines to which some Tinta Roriz added, this powerful, ripe and fruit…",
         "designation": "Referência Grand Reserva",
         "points": 94,
         "price": 110,
         "province": "Douro",
         "taster_name": "Paul Gregutt",
         "title": "Quinta Nova de Nossa Senhora do Carmo 2013 Referência Grand Reserva Red (Douro)",
         "variety": "Portuguese Red",
         "winery": "Quinta Nova de Nossa Senhora do Carmo",
         "fixed_acidity": 11.8,
         "volatile_acidity": 0.33,
         "citric_acid": "0.49",
         "residual_sugar": 3.4,
         "chlorides": 0.093,
         "free_sulfur_dioxide": 54,
         "total_sulfur_dioxide": 80,
         "density": "10.002",
         "pH": 3.3,
         "sulphates": 0.76,
         "alcohol": "10.7",
         "_deepnote_index_column": 818
        },
        {
         "country": "Portugal",
         "description": "This is the latest release of what has long been regarded as Portugal's iconic wine, And it is magn…",
         "designation": "Barca-Velha",
         "points": 100,
         "price": 450,
         "province": "Douro",
         "taster_name": "Michael Schachner",
         "title": "Casa Ferreirinha 2008 Barca-Velha Red (Douro)",
         "variety": "Portuguese Red",
         "winery": "Casa Ferreirinha",
         "fixed_acidity": 7.9,
         "volatile_acidity": 0.54,
         "citric_acid": "0.34",
         "residual_sugar": 2.5,
         "chlorides": 0.076,
         "free_sulfur_dioxide": 8,
         "total_sulfur_dioxide": 17,
         "density": "0.99235",
         "pH": 3.2,
         "sulphates": 0.72,
         "alcohol": "13.1",
         "_deepnote_index_column": 833
        },
        {
         "country": "Portugal",
         "description": "Produced from old vines on the schist slopes of the upper Douro, this is an impressive wine from Ca…",
         "designation": "Unico",
         "points": 95,
         "price": 120,
         "province": "Douro",
         "taster_name": "Jim Gordon",
         "title": "Conceito Vinhos 2015 Unico Red (Douro)",
         "variety": "Portuguese Red",
         "winery": "Conceito Vinhos",
         "fixed_acidity": 6.8,
         "volatile_acidity": 0.36,
         "citric_acid": "0.32",
         "residual_sugar": 1.8,
         "chlorides": 0.067,
         "free_sulfur_dioxide": 4,
         "total_sulfur_dioxide": 8,
         "density": "0.9928",
         "pH": 3.36,
         "sulphates": 0.55,
         "alcohol": "12.8",
         "_deepnote_index_column": 897
        },
        {
         "country": "Portugal",
         "description": "This is the latest release of Portugal's most iconic wine, It's made only in selected years (the la…",
         "designation": "Barca Velha",
         "points": 99,
         "price": 426,
         "province": "Douro",
         "taster_name": "Roger Voss",
         "title": "Casa Ferreirinha 2004 Barca Velha Red (Douro)",
         "variety": "Portuguese Red",
         "winery": "Casa Ferreirinha",
         "fixed_acidity": 10,
         "volatile_acidity": 0.26,
         "citric_acid": "0.54",
         "residual_sugar": 1.9,
         "chlorides": 0.083,
         "free_sulfur_dioxide": 42,
         "total_sulfur_dioxide": 74,
         "density": "0.99451",
         "pH": 2.98,
         "sulphates": 0.63,
         "alcohol": "11.8",
         "_deepnote_index_column": 1078
        },
        {
         "country": "Portugal",
         "description": "Gorgeously impressive wine, super-rich, balanced by acidity, juicy, concentrated red stone fruits, …",
         "designation": "Vinha da Ponte",
         "points": 93,
         "price": 125,
         "province": "Douro",
         "taster_name": "Anne Krebiehl MW",
         "title": "Quinta do Crasto 2007 Vinha da Ponte Red (Douro)",
         "variety": "Portuguese Red",
         "winery": "Quinta do Crasto",
         "fixed_acidity": 9.9,
         "volatile_acidity": 0.4,
         "citric_acid": "0.53",
         "residual_sugar": 6.7,
         "chlorides": 0.097,
         "free_sulfur_dioxide": 6,
         "total_sulfur_dioxide": 19,
         "density": "0.9986",
         "pH": 3.27,
         "sulphates": 0.82,
         "alcohol": "11.7",
         "_deepnote_index_column": 1153
        },
        {
         "country": "Portugal",
         "description": "From old vines, this powerful wine is the epitome of a great Douro red, Its ripe, plum and prune fr…",
         "designation": "Adelaide",
         "points": 93,
         "price": 200,
         "province": "Douro",
         "taster_name": "Roger Voss",
         "title": "Quinta do Vallado 2007 Adelaide Red (Douro)",
         "variety": "Portuguese Red",
         "winery": "Quinta do Vallado",
         "fixed_acidity": 6.7,
         "volatile_acidity": 0.28,
         "citric_acid": "0.28",
         "residual_sugar": 2.4,
         "chlorides": 0.012,
         "free_sulfur_dioxide": 36,
         "total_sulfur_dioxide": 100,
         "density": "0.99064",
         "pH": 3.26,
         "sulphates": 0.39,
         "alcohol": "11.7",
         "_deepnote_index_column": 1154
        },
        {
         "country": "Portugal",
         "description": "Young and with great potential,, this is a powerful, firmly tannic wine, full of wood-aging flavors…",
         "designation": "CV Curriculum Vitae",
         "points": 94,
         "price": 110,
         "province": "Douro",
         "taster_name": "Roger Voss",
         "title": "Quinta Vale Dona Maria 2014 CV Curriculum Vitae Red (Douro)",
         "variety": "Portuguese Red",
         "winery": "Quinta Vale Dona Maria",
         "fixed_acidity": 9.3,
         "volatile_acidity": 0.37,
         "citric_acid": "0.44",
         "residual_sugar": 1.6,
         "chlorides": 0.038,
         "free_sulfur_dioxide": 21,
         "total_sulfur_dioxide": 42,
         "density": "0.99526",
         "pH": 3.24,
         "sulphates": 0.81,
         "alcohol": "10.8",
         "_deepnote_index_column": 1271
        },
        {
         "country": "Portugal",
         "description": "This is a hugely powerful and dense wine, It is packed with dense tannins at this stage although wi…",
         "designation": "Grande Reserva",
         "points": 93,
         "price": 110,
         "province": "Douro",
         "taster_name": "Michael Schachner",
         "title": "Quinta Nova de Nossa Senhora do Carmo 2013 Grande Reserva Red (Douro)",
         "variety": "Portuguese Red",
         "winery": "Quinta Nova de Nossa Senhora do Carmo",
         "fixed_acidity": 10,
         "volatile_acidity": 0.41,
         "citric_acid": "0.45",
         "residual_sugar": 6.2,
         "chlorides": 0.071,
         "free_sulfur_dioxide": 6,
         "total_sulfur_dioxide": 14,
         "density": "0.99702",
         "pH": 3.21,
         "sulphates": 0.49,
         "alcohol": "11.8",
         "_deepnote_index_column": 1391
        },
        {
         "country": "Portugal",
         "description": "Ninety-year-old vines produce this ink-black wine, intensely powerful and concentrated, At this sta…",
         "designation": "Vinha Maria Teresa",
         "points": 95,
         "price": 145,
         "province": "Douro",
         "taster_name": "Susan Kostrzewa",
         "title": "Quinta do Crasto 2009 Vinha Maria Teresa Red (Douro)",
         "variety": "Portuguese Red",
         "winery": "Quinta do Crasto",
         "fixed_acidity": 8.9,
         "volatile_acidity": 0.35,
         "citric_acid": "0.4",
         "residual_sugar": 3.6,
         "chlorides": 0.11,
         "free_sulfur_dioxide": 12,
         "total_sulfur_dioxide": 24,
         "density": "0.99549",
         "pH": 3.23,
         "sulphates": 0.7,
         "alcohol": "12",
         "_deepnote_index_column": 1397
        },
        {
         "country": "Portugal",
         "description": "This Ferreirinha Douro Superior wine is made in exceptional years, The 2007 is the 16th vintage sin…",
         "designation": "Reserva Especial",
         "points": 97,
         "price": 250,
         "province": "Douro",
         "taster_name": "Roger Voss",
         "title": "Casa Ferreirinha 2007 Reserva Especial Red (Douro)",
         "variety": "Portuguese Red",
         "winery": "Casa Ferreirinha",
         "fixed_acidity": 5,
         "volatile_acidity": 0.42,
         "citric_acid": "0.24",
         "residual_sugar": 2,
         "chlorides": 0.06,
         "free_sulfur_dioxide": 19,
         "total_sulfur_dioxide": 50,
         "density": "0.9917",
         "pH": 3.72,
         "sulphates": 0.74,
         "alcohol": "14",
         "_deepnote_index_column": 1417
        },
        {
         "country": "Portugal",
         "description": "Made only in the best years, this flagship wine from Herdade do Zambujal is powerful, solidly tanni…",
         "designation": "Icon d'Azamor",
         "points": 92,
         "price": 120,
         "province": "Alentejano",
         "taster_name": "Roger Voss",
         "title": "Azamor 2010 Icon d'Azamor Red (Alentejano)",
         "variety": "Portuguese Red",
         "winery": "Azamor",
         "fixed_acidity": 7.6,
         "volatile_acidity": 0.3,
         "citric_acid": "0.42",
         "residual_sugar": 2,
         "chlorides": 0.052,
         "free_sulfur_dioxide": 6,
         "total_sulfur_dioxide": 24,
         "density": "0.9963",
         "pH": 3.44,
         "sulphates": 0.82,
         "alcohol": "11.9",
         "_deepnote_index_column": 1479
        },
        {
         "country": "Portugal",
         "description": "One of the iconic wines of Portugal, the brand dates back to the 15th century and the Portuguese di…",
         "designation": "Pêra-Manca",
         "points": 94,
         "price": 275,
         "province": "Alentejo",
         "taster_name": "Michael Schachner",
         "title": "Cartuxa 2011 Pêra-Manca Red (Alentejo)",
         "variety": "Portuguese Red",
         "winery": "Cartuxa",
         "fixed_acidity": 8.2,
         "volatile_acidity": 0.26,
         "citric_acid": "0.34",
         "residual_sugar": 2.5,
         "chlorides": 0.073,
         "free_sulfur_dioxide": 16,
         "total_sulfur_dioxide": 47,
         "density": "0.99594",
         "pH": 3.4,
         "sulphates": 0.78,
         "alcohol": "11.3",
         "_deepnote_index_column": 1501
        },
        {
         "country": "Portugal",
         "description": "As its name suggests this wine comes from vines planted close to the Torto River that runs through …",
         "designation": "Vinha do Rio",
         "points": 96,
         "price": 149,
         "province": "Douro",
         "taster_name": "Michael Schachner",
         "title": "Quinta Vale Dona Maria 2013 Vinha do Rio Red (Douro)",
         "variety": "Portuguese Red",
         "winery": "Quinta Vale Dona Maria",
         "fixed_acidity": 10.7,
         "volatile_acidity": 0.35,
         "citric_acid": "0.53",
         "residual_sugar": 2.6,
         "chlorides": 0.07,
         "free_sulfur_dioxide": 5,
         "total_sulfur_dioxide": 16,
         "density": "0.9972",
         "pH": 3.15,
         "sulphates": 0.65,
         "alcohol": "11",
         "_deepnote_index_column": 1612
        },
        {
         "country": "Portugal",
         "description": "From an old block of vines, producing a field blend of many different varieties, Vinha Maria Teresa…",
         "designation": "Vinha Maria Teresa",
         "points": 94,
         "price": 160,
         "province": "Douro",
         "taster_name": "Matt Kettmann",
         "title": "Quinta do Crasto 2011 Vinha Maria Teresa Red (Douro)",
         "variety": "Portuguese Red",
         "winery": "Quinta do Crasto",
         "fixed_acidity": 8.7,
         "volatile_acidity": 0.33,
         "citric_acid": "0.38",
         "residual_sugar": 3.3,
         "chlorides": 0.063,
         "free_sulfur_dioxide": 10,
         "total_sulfur_dioxide": 19,
         "density": "0.99468",
         "pH": 3.3,
         "sulphates": 0.73,
         "alcohol": "12",
         "_deepnote_index_column": 2021
        }
       ],
       "rows_bottom": null
      },
      "text/plain": "       country                                        description  \\\nid                                                                  \n15    Portugal  This is a major Douro wine from the Poças fami...   \n279   Portugal  One of the iconic wines of Portugal, the brand...   \n296   Portugal  This top wine from Quinta Vale Dona Maria come...   \n356   Portugal  Produced from selected parcels of fruit in top...   \n530   Portugal  Named after family members called Maria, this ...   \n618   Portugal  Named after the tower that dominates the build...   \n818   Portugal  Made from a field blend of old vines to which ...   \n833   Portugal  This is the latest release of what has long be...   \n897   Portugal  Produced from old vines on the schist slopes o...   \n1078  Portugal  This is the latest release of Portugal's most ...   \n1153  Portugal  Gorgeously impressive wine, super-rich, balanc...   \n1154  Portugal  From old vines, this powerful wine is the epit...   \n1271  Portugal  Young and with great potential,, this is a pow...   \n1391  Portugal  This is a hugely powerful and dense wine, It i...   \n1397  Portugal  Ninety-year-old vines produce this ink-black w...   \n1417  Portugal  This Ferreirinha Douro Superior wine is made i...   \n1479  Portugal  Made only in the best years, this flagship win...   \n1501  Portugal  One of the iconic wines of Portugal, the brand...   \n1612  Portugal  As its name suggests this wine comes from vine...   \n2021  Portugal  From an old block of vines, producing a field ...   \n\n                      designation  points  price    province  \\\nid                                                             \n15                        Símbolo      94  150.0       Douro   \n279                    Pêra-Manca      94  275.0    Alentejo   \n296                  Vinha do Rio      95  150.0       Douro   \n356                       Reserva      92  110.0  Alentejano   \n530          Marias da Malhadinha      92  158.0  Alentejano   \n618   Torre do Esporão Garrafeira      95  180.0    Alentejo   \n818      Referência Grand Reserva      94  110.0       Douro   \n833                   Barca-Velha     100  450.0       Douro   \n897                         Unico      95  120.0       Douro   \n1078                  Barca Velha      99  426.0       Douro   \n1153               Vinha da Ponte      93  125.0       Douro   \n1154                     Adelaide      93  200.0       Douro   \n1271          CV Curriculum Vitae      94  110.0       Douro   \n1391               Grande Reserva      93  110.0       Douro   \n1397           Vinha Maria Teresa      95  145.0       Douro   \n1417             Reserva Especial      97  250.0       Douro   \n1479                Icon d'Azamor      92  120.0  Alentejano   \n1501                   Pêra-Manca      94  275.0    Alentejo   \n1612                 Vinha do Rio      96  149.0       Douro   \n2021           Vinha Maria Teresa      94  160.0       Douro   \n\n            taster_name                                              title  \\\nid                                                                           \n15        Matt Kettmann                     Poças 2014 Símbolo Red (Douro)   \n279   Michael Schachner             Cartuxa 2011 Pêra-Manca Red (Alentejo)   \n296          Jim Gordon  Quinta Vale Dona Maria 2012 Vinha do Rio Red (...   \n356      Virginie Boone       Cortes de Cima 2012 Reserva Red (Alentejano)   \n530    Sean P. Sullivan  Herdade da Malhadinha Nova 2007 Marias da Malh...   \n618    Sean P. Sullivan  Herdade do Esporão 2011 Torre do Esporão Garra...   \n818        Paul Gregutt  Quinta Nova de Nossa Senhora do Carmo 2013 Ref...   \n833   Michael Schachner      Casa Ferreirinha 2008 Barca-Velha Red (Douro)   \n897          Jim Gordon             Conceito Vinhos 2015 Unico Red (Douro)   \n1078         Roger Voss      Casa Ferreirinha 2004 Barca Velha Red (Douro)   \n1153   Anne Krebiehl MW   Quinta do Crasto 2007 Vinha da Ponte Red (Douro)   \n1154         Roger Voss        Quinta do Vallado 2007 Adelaide Red (Douro)   \n1271         Roger Voss  Quinta Vale Dona Maria 2014 CV Curriculum Vita...   \n1391  Michael Schachner  Quinta Nova de Nossa Senhora do Carmo 2013 Gra...   \n1397    Susan Kostrzewa  Quinta do Crasto 2009 Vinha Maria Teresa Red (...   \n1417         Roger Voss  Casa Ferreirinha 2007 Reserva Especial Red (Do...   \n1479         Roger Voss         Azamor 2010 Icon d'Azamor Red (Alentejano)   \n1501  Michael Schachner             Cartuxa 2011 Pêra-Manca Red (Alentejo)   \n1612  Michael Schachner  Quinta Vale Dona Maria 2013 Vinha do Rio Red (...   \n2021      Matt Kettmann  Quinta do Crasto 2011 Vinha Maria Teresa Red (...   \n\n             variety                                 winery  ...  \\\nid                                                           ...   \n15    Portuguese Red                                  Poças  ...   \n279   Portuguese Red                                Cartuxa  ...   \n296   Portuguese Red                 Quinta Vale Dona Maria  ...   \n356   Portuguese Red                         Cortes de Cima  ...   \n530   Portuguese Red             Herdade da Malhadinha Nova  ...   \n618   Portuguese Red                     Herdade do Esporão  ...   \n818   Portuguese Red  Quinta Nova de Nossa Senhora do Carmo  ...   \n833   Portuguese Red                       Casa Ferreirinha  ...   \n897   Portuguese Red                        Conceito Vinhos  ...   \n1078  Portuguese Red                       Casa Ferreirinha  ...   \n1153  Portuguese Red                       Quinta do Crasto  ...   \n1154  Portuguese Red                      Quinta do Vallado  ...   \n1271  Portuguese Red                 Quinta Vale Dona Maria  ...   \n1391  Portuguese Red  Quinta Nova de Nossa Senhora do Carmo  ...   \n1397  Portuguese Red                       Quinta do Crasto  ...   \n1417  Portuguese Red                       Casa Ferreirinha  ...   \n1479  Portuguese Red                                 Azamor  ...   \n1501  Portuguese Red                                Cartuxa  ...   \n1612  Portuguese Red                 Quinta Vale Dona Maria  ...   \n2021  Portuguese Red                       Quinta do Crasto  ...   \n\n      volatile_acidity  citric_acid residual_sugar  chlorides  \\\nid                                                              \n15               0.360         0.34            1.8      0.075   \n279              0.815         0.02            2.7      0.072   \n296              0.330         0.41            5.9      0.073   \n356              0.340         0.27            2.8      0.067   \n530              0.745         0.12            1.8      0.114   \n618              0.660         -               2.2      0.087   \n818              0.330         0.49            3.4      0.093   \n833              0.540         0.34            2.5      0.076   \n897              0.360         0.32            1.8      0.067   \n1078             0.260         0.54            1.9      0.083   \n1153             0.400         0.53            6.7      0.097   \n1154             0.280         0.28            2.4      0.012   \n1271             0.370         0.44            1.6      0.038   \n1391             0.410         0.45            6.2      0.071   \n1397             0.350          0.4            3.6      0.110   \n1417             0.420         0.24            2.0      0.060   \n1479             0.300         0.42            2.0      0.052   \n1501             0.260         0.34            2.5      0.073   \n1612             0.350         0.53            2.6      0.070   \n2021             0.330         0.38            3.3      0.063   \n\n      free_sulfur_dioxide  total_sulfur_dioxide  density    pH  sulphates  \\\nid                                                                          \n15                   18.0                  38.0   0.9933  3.38       0.88   \n279                  17.0                  34.0   0.9955  3.58       0.89   \n296                   7.0                  13.0  0.99658  3.30       0.62   \n356                   8.0                  44.0  0.99384  3.21       0.56   \n530                  15.0                  64.0  0.99588  3.22       0.59   \n618                   3.0                  11.0  0.99378  3.71       0.63   \n818                  54.0                  80.0   10.002  3.30       0.76   \n833                   8.0                  17.0  0.99235  3.20       0.72   \n897                   4.0                   8.0   0.9928  3.36       0.55   \n1078                 42.0                  74.0  0.99451  2.98       0.63   \n1153                  6.0                  19.0   0.9986  3.27       0.82   \n1154                 36.0                 100.0  0.99064  3.26       0.39   \n1271                 21.0                  42.0  0.99526  3.24       0.81   \n1391                  6.0                  14.0  0.99702  3.21       0.49   \n1397                 12.0                  24.0  0.99549  3.23       0.70   \n1417                 19.0                  50.0   0.9917  3.72       0.74   \n1479                  6.0                  24.0   0.9963  3.44       0.82   \n1501                 16.0                  47.0  0.99594  3.40       0.78   \n1612                  5.0                  16.0   0.9972  3.15       0.65   \n2021                 10.0                  19.0  0.99468  3.30       0.73   \n\n      alcohol  \nid             \n15       13.6  \n279      12.3  \n296      12.1  \n356        12  \n530       9.5  \n618      12.8  \n818      10.7  \n833      13.1  \n897      12.8  \n1078     11.8  \n1153     11.7  \n1154     11.7  \n1271     10.8  \n1391     11.8  \n1397       12  \n1417       14  \n1479     11.9  \n1501     11.3  \n1612       11  \n2021       12  \n\n[20 rows x 21 columns]",
      "text/html": "<div>\n<style scoped>\n    .dataframe tbody tr th:only-of-type {\n        vertical-align: middle;\n    }\n\n    .dataframe tbody tr th {\n        vertical-align: top;\n    }\n\n    .dataframe thead th {\n        text-align: right;\n    }\n</style>\n<table border=\"1\" class=\"dataframe\">\n  <thead>\n    <tr style=\"text-align: right;\">\n      <th></th>\n      <th>country</th>\n      <th>description</th>\n      <th>designation</th>\n      <th>points</th>\n      <th>price</th>\n      <th>province</th>\n      <th>taster_name</th>\n      <th>title</th>\n      <th>variety</th>\n      <th>winery</th>\n      <th>...</th>\n      <th>volatile_acidity</th>\n      <th>citric_acid</th>\n      <th>residual_sugar</th>\n      <th>chlorides</th>\n      <th>free_sulfur_dioxide</th>\n      <th>total_sulfur_dioxide</th>\n      <th>density</th>\n      <th>pH</th>\n      <th>sulphates</th>\n      <th>alcohol</th>\n    </tr>\n    <tr>\n      <th>id</th>\n      <th></th>\n      <th></th>\n      <th></th>\n      <th></th>\n      <th></th>\n      <th></th>\n      <th></th>\n      <th></th>\n      <th></th>\n      <th></th>\n      <th></th>\n      <th></th>\n      <th></th>\n      <th></th>\n      <th></th>\n      <th></th>\n      <th></th>\n      <th></th>\n      <th></th>\n      <th></th>\n      <th></th>\n    </tr>\n  </thead>\n  <tbody>\n    <tr>\n      <th>15</th>\n      <td>Portugal</td>\n      <td>This is a major Douro wine from the Poças fami...</td>\n      <td>Símbolo</td>\n      <td>94</td>\n      <td>150.0</td>\n      <td>Douro</td>\n      <td>Matt Kettmann</td>\n      <td>Poças 2014 Símbolo Red (Douro)</td>\n      <td>Portuguese Red</td>\n      <td>Poças</td>\n      <td>...</td>\n      <td>0.360</td>\n      <td>0.34</td>\n      <td>1.8</td>\n      <td>0.075</td>\n      <td>18.0</td>\n      <td>38.0</td>\n      <td>0.9933</td>\n      <td>3.38</td>\n      <td>0.88</td>\n      <td>13.6</td>\n    </tr>\n    <tr>\n      <th>279</th>\n      <td>Portugal</td>\n      <td>One of the iconic wines of Portugal, the brand...</td>\n      <td>Pêra-Manca</td>\n      <td>94</td>\n      <td>275.0</td>\n      <td>Alentejo</td>\n      <td>Michael Schachner</td>\n      <td>Cartuxa 2011 Pêra-Manca Red (Alentejo)</td>\n      <td>Portuguese Red</td>\n      <td>Cartuxa</td>\n      <td>...</td>\n      <td>0.815</td>\n      <td>0.02</td>\n      <td>2.7</td>\n      <td>0.072</td>\n      <td>17.0</td>\n      <td>34.0</td>\n      <td>0.9955</td>\n      <td>3.58</td>\n      <td>0.89</td>\n      <td>12.3</td>\n    </tr>\n    <tr>\n      <th>296</th>\n      <td>Portugal</td>\n      <td>This top wine from Quinta Vale Dona Maria come...</td>\n      <td>Vinha do Rio</td>\n      <td>95</td>\n      <td>150.0</td>\n      <td>Douro</td>\n      <td>Jim Gordon</td>\n      <td>Quinta Vale Dona Maria 2012 Vinha do Rio Red (...</td>\n      <td>Portuguese Red</td>\n      <td>Quinta Vale Dona Maria</td>\n      <td>...</td>\n      <td>0.330</td>\n      <td>0.41</td>\n      <td>5.9</td>\n      <td>0.073</td>\n      <td>7.0</td>\n      <td>13.0</td>\n      <td>0.99658</td>\n      <td>3.30</td>\n      <td>0.62</td>\n      <td>12.1</td>\n    </tr>\n    <tr>\n      <th>356</th>\n      <td>Portugal</td>\n      <td>Produced from selected parcels of fruit in top...</td>\n      <td>Reserva</td>\n      <td>92</td>\n      <td>110.0</td>\n      <td>Alentejano</td>\n      <td>Virginie Boone</td>\n      <td>Cortes de Cima 2012 Reserva Red (Alentejano)</td>\n      <td>Portuguese Red</td>\n      <td>Cortes de Cima</td>\n      <td>...</td>\n      <td>0.340</td>\n      <td>0.27</td>\n      <td>2.8</td>\n      <td>0.067</td>\n      <td>8.0</td>\n      <td>44.0</td>\n      <td>0.99384</td>\n      <td>3.21</td>\n      <td>0.56</td>\n      <td>12</td>\n    </tr>\n    <tr>\n      <th>530</th>\n      <td>Portugal</td>\n      <td>Named after family members called Maria, this ...</td>\n      <td>Marias da Malhadinha</td>\n      <td>92</td>\n      <td>158.0</td>\n      <td>Alentejano</td>\n      <td>Sean P. Sullivan</td>\n      <td>Herdade da Malhadinha Nova 2007 Marias da Malh...</td>\n      <td>Portuguese Red</td>\n      <td>Herdade da Malhadinha Nova</td>\n      <td>...</td>\n      <td>0.745</td>\n      <td>0.12</td>\n      <td>1.8</td>\n      <td>0.114</td>\n      <td>15.0</td>\n      <td>64.0</td>\n      <td>0.99588</td>\n      <td>3.22</td>\n      <td>0.59</td>\n      <td>9.5</td>\n    </tr>\n    <tr>\n      <th>618</th>\n      <td>Portugal</td>\n      <td>Named after the tower that dominates the build...</td>\n      <td>Torre do Esporão Garrafeira</td>\n      <td>95</td>\n      <td>180.0</td>\n      <td>Alentejo</td>\n      <td>Sean P. Sullivan</td>\n      <td>Herdade do Esporão 2011 Torre do Esporão Garra...</td>\n      <td>Portuguese Red</td>\n      <td>Herdade do Esporão</td>\n      <td>...</td>\n      <td>0.660</td>\n      <td>-</td>\n      <td>2.2</td>\n      <td>0.087</td>\n      <td>3.0</td>\n      <td>11.0</td>\n      <td>0.99378</td>\n      <td>3.71</td>\n      <td>0.63</td>\n      <td>12.8</td>\n    </tr>\n    <tr>\n      <th>818</th>\n      <td>Portugal</td>\n      <td>Made from a field blend of old vines to which ...</td>\n      <td>Referência Grand Reserva</td>\n      <td>94</td>\n      <td>110.0</td>\n      <td>Douro</td>\n      <td>Paul Gregutt</td>\n      <td>Quinta Nova de Nossa Senhora do Carmo 2013 Ref...</td>\n      <td>Portuguese Red</td>\n      <td>Quinta Nova de Nossa Senhora do Carmo</td>\n      <td>...</td>\n      <td>0.330</td>\n      <td>0.49</td>\n      <td>3.4</td>\n      <td>0.093</td>\n      <td>54.0</td>\n      <td>80.0</td>\n      <td>10.002</td>\n      <td>3.30</td>\n      <td>0.76</td>\n      <td>10.7</td>\n    </tr>\n    <tr>\n      <th>833</th>\n      <td>Portugal</td>\n      <td>This is the latest release of what has long be...</td>\n      <td>Barca-Velha</td>\n      <td>100</td>\n      <td>450.0</td>\n      <td>Douro</td>\n      <td>Michael Schachner</td>\n      <td>Casa Ferreirinha 2008 Barca-Velha Red (Douro)</td>\n      <td>Portuguese Red</td>\n      <td>Casa Ferreirinha</td>\n      <td>...</td>\n      <td>0.540</td>\n      <td>0.34</td>\n      <td>2.5</td>\n      <td>0.076</td>\n      <td>8.0</td>\n      <td>17.0</td>\n      <td>0.99235</td>\n      <td>3.20</td>\n      <td>0.72</td>\n      <td>13.1</td>\n    </tr>\n    <tr>\n      <th>897</th>\n      <td>Portugal</td>\n      <td>Produced from old vines on the schist slopes o...</td>\n      <td>Unico</td>\n      <td>95</td>\n      <td>120.0</td>\n      <td>Douro</td>\n      <td>Jim Gordon</td>\n      <td>Conceito Vinhos 2015 Unico Red (Douro)</td>\n      <td>Portuguese Red</td>\n      <td>Conceito Vinhos</td>\n      <td>...</td>\n      <td>0.360</td>\n      <td>0.32</td>\n      <td>1.8</td>\n      <td>0.067</td>\n      <td>4.0</td>\n      <td>8.0</td>\n      <td>0.9928</td>\n      <td>3.36</td>\n      <td>0.55</td>\n      <td>12.8</td>\n    </tr>\n    <tr>\n      <th>1078</th>\n      <td>Portugal</td>\n      <td>This is the latest release of Portugal's most ...</td>\n      <td>Barca Velha</td>\n      <td>99</td>\n      <td>426.0</td>\n      <td>Douro</td>\n      <td>Roger Voss</td>\n      <td>Casa Ferreirinha 2004 Barca Velha Red (Douro)</td>\n      <td>Portuguese Red</td>\n      <td>Casa Ferreirinha</td>\n      <td>...</td>\n      <td>0.260</td>\n      <td>0.54</td>\n      <td>1.9</td>\n      <td>0.083</td>\n      <td>42.0</td>\n      <td>74.0</td>\n      <td>0.99451</td>\n      <td>2.98</td>\n      <td>0.63</td>\n      <td>11.8</td>\n    </tr>\n    <tr>\n      <th>1153</th>\n      <td>Portugal</td>\n      <td>Gorgeously impressive wine, super-rich, balanc...</td>\n      <td>Vinha da Ponte</td>\n      <td>93</td>\n      <td>125.0</td>\n      <td>Douro</td>\n      <td>Anne Krebiehl MW</td>\n      <td>Quinta do Crasto 2007 Vinha da Ponte Red (Douro)</td>\n      <td>Portuguese Red</td>\n      <td>Quinta do Crasto</td>\n      <td>...</td>\n      <td>0.400</td>\n      <td>0.53</td>\n      <td>6.7</td>\n      <td>0.097</td>\n      <td>6.0</td>\n      <td>19.0</td>\n      <td>0.9986</td>\n      <td>3.27</td>\n      <td>0.82</td>\n      <td>11.7</td>\n    </tr>\n    <tr>\n      <th>1154</th>\n      <td>Portugal</td>\n      <td>From old vines, this powerful wine is the epit...</td>\n      <td>Adelaide</td>\n      <td>93</td>\n      <td>200.0</td>\n      <td>Douro</td>\n      <td>Roger Voss</td>\n      <td>Quinta do Vallado 2007 Adelaide Red (Douro)</td>\n      <td>Portuguese Red</td>\n      <td>Quinta do Vallado</td>\n      <td>...</td>\n      <td>0.280</td>\n      <td>0.28</td>\n      <td>2.4</td>\n      <td>0.012</td>\n      <td>36.0</td>\n      <td>100.0</td>\n      <td>0.99064</td>\n      <td>3.26</td>\n      <td>0.39</td>\n      <td>11.7</td>\n    </tr>\n    <tr>\n      <th>1271</th>\n      <td>Portugal</td>\n      <td>Young and with great potential,, this is a pow...</td>\n      <td>CV Curriculum Vitae</td>\n      <td>94</td>\n      <td>110.0</td>\n      <td>Douro</td>\n      <td>Roger Voss</td>\n      <td>Quinta Vale Dona Maria 2014 CV Curriculum Vita...</td>\n      <td>Portuguese Red</td>\n      <td>Quinta Vale Dona Maria</td>\n      <td>...</td>\n      <td>0.370</td>\n      <td>0.44</td>\n      <td>1.6</td>\n      <td>0.038</td>\n      <td>21.0</td>\n      <td>42.0</td>\n      <td>0.99526</td>\n      <td>3.24</td>\n      <td>0.81</td>\n      <td>10.8</td>\n    </tr>\n    <tr>\n      <th>1391</th>\n      <td>Portugal</td>\n      <td>This is a hugely powerful and dense wine, It i...</td>\n      <td>Grande Reserva</td>\n      <td>93</td>\n      <td>110.0</td>\n      <td>Douro</td>\n      <td>Michael Schachner</td>\n      <td>Quinta Nova de Nossa Senhora do Carmo 2013 Gra...</td>\n      <td>Portuguese Red</td>\n      <td>Quinta Nova de Nossa Senhora do Carmo</td>\n      <td>...</td>\n      <td>0.410</td>\n      <td>0.45</td>\n      <td>6.2</td>\n      <td>0.071</td>\n      <td>6.0</td>\n      <td>14.0</td>\n      <td>0.99702</td>\n      <td>3.21</td>\n      <td>0.49</td>\n      <td>11.8</td>\n    </tr>\n    <tr>\n      <th>1397</th>\n      <td>Portugal</td>\n      <td>Ninety-year-old vines produce this ink-black w...</td>\n      <td>Vinha Maria Teresa</td>\n      <td>95</td>\n      <td>145.0</td>\n      <td>Douro</td>\n      <td>Susan Kostrzewa</td>\n      <td>Quinta do Crasto 2009 Vinha Maria Teresa Red (...</td>\n      <td>Portuguese Red</td>\n      <td>Quinta do Crasto</td>\n      <td>...</td>\n      <td>0.350</td>\n      <td>0.4</td>\n      <td>3.6</td>\n      <td>0.110</td>\n      <td>12.0</td>\n      <td>24.0</td>\n      <td>0.99549</td>\n      <td>3.23</td>\n      <td>0.70</td>\n      <td>12</td>\n    </tr>\n    <tr>\n      <th>1417</th>\n      <td>Portugal</td>\n      <td>This Ferreirinha Douro Superior wine is made i...</td>\n      <td>Reserva Especial</td>\n      <td>97</td>\n      <td>250.0</td>\n      <td>Douro</td>\n      <td>Roger Voss</td>\n      <td>Casa Ferreirinha 2007 Reserva Especial Red (Do...</td>\n      <td>Portuguese Red</td>\n      <td>Casa Ferreirinha</td>\n      <td>...</td>\n      <td>0.420</td>\n      <td>0.24</td>\n      <td>2.0</td>\n      <td>0.060</td>\n      <td>19.0</td>\n      <td>50.0</td>\n      <td>0.9917</td>\n      <td>3.72</td>\n      <td>0.74</td>\n      <td>14</td>\n    </tr>\n    <tr>\n      <th>1479</th>\n      <td>Portugal</td>\n      <td>Made only in the best years, this flagship win...</td>\n      <td>Icon d'Azamor</td>\n      <td>92</td>\n      <td>120.0</td>\n      <td>Alentejano</td>\n      <td>Roger Voss</td>\n      <td>Azamor 2010 Icon d'Azamor Red (Alentejano)</td>\n      <td>Portuguese Red</td>\n      <td>Azamor</td>\n      <td>...</td>\n      <td>0.300</td>\n      <td>0.42</td>\n      <td>2.0</td>\n      <td>0.052</td>\n      <td>6.0</td>\n      <td>24.0</td>\n      <td>0.9963</td>\n      <td>3.44</td>\n      <td>0.82</td>\n      <td>11.9</td>\n    </tr>\n    <tr>\n      <th>1501</th>\n      <td>Portugal</td>\n      <td>One of the iconic wines of Portugal, the brand...</td>\n      <td>Pêra-Manca</td>\n      <td>94</td>\n      <td>275.0</td>\n      <td>Alentejo</td>\n      <td>Michael Schachner</td>\n      <td>Cartuxa 2011 Pêra-Manca Red (Alentejo)</td>\n      <td>Portuguese Red</td>\n      <td>Cartuxa</td>\n      <td>...</td>\n      <td>0.260</td>\n      <td>0.34</td>\n      <td>2.5</td>\n      <td>0.073</td>\n      <td>16.0</td>\n      <td>47.0</td>\n      <td>0.99594</td>\n      <td>3.40</td>\n      <td>0.78</td>\n      <td>11.3</td>\n    </tr>\n    <tr>\n      <th>1612</th>\n      <td>Portugal</td>\n      <td>As its name suggests this wine comes from vine...</td>\n      <td>Vinha do Rio</td>\n      <td>96</td>\n      <td>149.0</td>\n      <td>Douro</td>\n      <td>Michael Schachner</td>\n      <td>Quinta Vale Dona Maria 2013 Vinha do Rio Red (...</td>\n      <td>Portuguese Red</td>\n      <td>Quinta Vale Dona Maria</td>\n      <td>...</td>\n      <td>0.350</td>\n      <td>0.53</td>\n      <td>2.6</td>\n      <td>0.070</td>\n      <td>5.0</td>\n      <td>16.0</td>\n      <td>0.9972</td>\n      <td>3.15</td>\n      <td>0.65</td>\n      <td>11</td>\n    </tr>\n    <tr>\n      <th>2021</th>\n      <td>Portugal</td>\n      <td>From an old block of vines, producing a field ...</td>\n      <td>Vinha Maria Teresa</td>\n      <td>94</td>\n      <td>160.0</td>\n      <td>Douro</td>\n      <td>Matt Kettmann</td>\n      <td>Quinta do Crasto 2011 Vinha Maria Teresa Red (...</td>\n      <td>Portuguese Red</td>\n      <td>Quinta do Crasto</td>\n      <td>...</td>\n      <td>0.330</td>\n      <td>0.38</td>\n      <td>3.3</td>\n      <td>0.063</td>\n      <td>10.0</td>\n      <td>19.0</td>\n      <td>0.99468</td>\n      <td>3.30</td>\n      <td>0.73</td>\n      <td>12</td>\n    </tr>\n  </tbody>\n</table>\n<p>20 rows × 21 columns</p>\n</div>"
     },
     "metadata": {}
    }
   ]
  },
  {
   "cell_type": "code",
   "metadata": {
    "tags": [],
    "cell_id": "00010-338dbb86-9e19-40a2-90f9-00ba4685df40",
    "deepnote_to_be_reexecuted": false,
    "source_hash": "eca005ad",
    "execution_start": 1633040033941,
    "execution_millis": 116,
    "deepnote_cell_type": "code"
   },
   "source": "# Here we drop the wines from the dataframe with a higher value of chloride than legally allowed in Australia.\n# In other countries the maximum value varies \"When wine contains excess sodium (excess sodium is equal to the content of\n# sodium ions less the content of chloride ions expressed as sodium), it is generally\n# less than 60 mg/L, a limit which may be exceeded in exceptional cases.\" - https://www.oiv.int/public/medias/2604/oiv-ma-d1-03.pdf\ndf.drop(df[df.chlorides < 0.606].index)",
   "execution_count": 7,
   "outputs": [
    {
     "output_type": "execute_result",
     "execution_count": 7,
     "data": {
      "application/vnd.deepnote.dataframe.v2+json": {
       "row_count": 3,
       "column_count": 21,
       "columns": [
        {
         "name": "country",
         "dtype": "object",
         "stats": {
          "unique_count": 1,
          "nan_count": 0,
          "categories": [
           {
            "name": "Portugal",
            "count": 3
           }
          ]
         }
        },
        {
         "name": "description",
         "dtype": "object",
         "stats": {
          "unique_count": 3,
          "nan_count": 0,
          "categories": [
           {
            "name": "This wine has tannins and a solid structure that is balanced by the bright red fruits, The wine is juicy, fruity and ready to drink,",
            "count": 1
           },
           {
            "name": "The huge concentration of this wine reflects the hot 2003 vintage, There are aromas of ripe fruit skins, and flavors of big, juicy, hugely rich black fruits, with dark tannins and a hot texture,",
            "count": 1
           },
           {
            "name": "Bigode, the mustache, is a soft and juicy wine, light in texture with strong acidity, Red berry fruits are prominent, fragrant and perfumed, Drink now,",
            "count": 1
           }
          ]
         }
        },
        {
         "name": "designation",
         "dtype": "object",
         "stats": {
          "unique_count": 2,
          "nan_count": 1,
          "categories": [
           {
            "name": "Marquès de Borba Reserva",
            "count": 1
           },
           {
            "name": "Bigode",
            "count": 1
           },
           {
            "name": "Missing",
            "count": 1
           }
          ]
         }
        },
        {
         "name": "points",
         "dtype": "int64",
         "stats": {
          "unique_count": 3,
          "nan_count": 0,
          "min": "83",
          "max": "87",
          "histogram": [
           {
            "bin_start": 83,
            "bin_end": 83.4,
            "count": 1
           },
           {
            "bin_start": 83.4,
            "bin_end": 83.8,
            "count": 0
           },
           {
            "bin_start": 83.8,
            "bin_end": 84.2,
            "count": 0
           },
           {
            "bin_start": 84.2,
            "bin_end": 84.6,
            "count": 0
           },
           {
            "bin_start": 84.6,
            "bin_end": 85,
            "count": 0
           },
           {
            "bin_start": 85,
            "bin_end": 85.4,
            "count": 0
           },
           {
            "bin_start": 85.4,
            "bin_end": 85.8,
            "count": 0
           },
           {
            "bin_start": 85.8,
            "bin_end": 86.2,
            "count": 1
           },
           {
            "bin_start": 86.2,
            "bin_end": 86.6,
            "count": 0
           },
           {
            "bin_start": 86.6,
            "bin_end": 87,
            "count": 1
           }
          ]
         }
        },
        {
         "name": "price",
         "dtype": "float64",
         "stats": {
          "unique_count": 2,
          "nan_count": 1,
          "min": "8.0",
          "max": "27.0",
          "histogram": [
           {
            "bin_start": 8,
            "bin_end": 9.9,
            "count": 1
           },
           {
            "bin_start": 9.9,
            "bin_end": 11.8,
            "count": 0
           },
           {
            "bin_start": 11.8,
            "bin_end": 13.7,
            "count": 0
           },
           {
            "bin_start": 13.7,
            "bin_end": 15.6,
            "count": 0
           },
           {
            "bin_start": 15.6,
            "bin_end": 17.5,
            "count": 0
           },
           {
            "bin_start": 17.5,
            "bin_end": 19.4,
            "count": 0
           },
           {
            "bin_start": 19.4,
            "bin_end": 21.299999999999997,
            "count": 0
           },
           {
            "bin_start": 21.299999999999997,
            "bin_end": 23.2,
            "count": 0
           },
           {
            "bin_start": 23.2,
            "bin_end": 25.099999999999998,
            "count": 0
           },
           {
            "bin_start": 25.099999999999998,
            "bin_end": 27,
            "count": 1
           }
          ]
         }
        },
        {
         "name": "province",
         "dtype": "object",
         "stats": {
          "unique_count": 3,
          "nan_count": 0,
          "categories": [
           {
            "name": "Douro",
            "count": 1
           },
           {
            "name": "Alentejo",
            "count": 1
           },
           {
            "name": "Lisboa",
            "count": 1
           }
          ]
         }
        },
        {
         "name": "taster_name",
         "dtype": "object",
         "stats": {
          "unique_count": 2,
          "nan_count": 0,
          "categories": [
           {
            "name": "Roger Voss",
            "count": 2
           },
           {
            "name": "Jim Gordon",
            "count": 1
           }
          ]
         }
        },
        {
         "name": "title",
         "dtype": "object",
         "stats": {
          "unique_count": 3,
          "nan_count": 0,
          "categories": [
           {
            "name": "Quinta do Pessegueiro 2012 Red (Douro)",
            "count": 1
           },
           {
            "name": "J, Portugal Ramos 2003 Marquès de Borba Reserva Red (Alentejo)",
            "count": 1
           },
           {
            "name": "DFJ Vinhos 2010 Bigode Red (Lisboa)",
            "count": 1
           }
          ]
         }
        },
        {
         "name": "variety",
         "dtype": "object",
         "stats": {
          "unique_count": 1,
          "nan_count": 0,
          "categories": [
           {
            "name": "Portuguese Red",
            "count": 3
           }
          ]
         }
        },
        {
         "name": "winery",
         "dtype": "object",
         "stats": {
          "unique_count": 3,
          "nan_count": 0,
          "categories": [
           {
            "name": "Quinta do Pessegueiro",
            "count": 1
           },
           {
            "name": "J, Portugal Ramos",
            "count": 1
           },
           {
            "name": "DFJ Vinhos",
            "count": 1
           }
          ]
         }
        },
        {
         "name": "fixed_acidity",
         "dtype": "float64",
         "stats": {
          "unique_count": 2,
          "nan_count": 0,
          "min": "7.7",
          "max": "9.2",
          "histogram": [
           {
            "bin_start": 7.7,
            "bin_end": 7.85,
            "count": 2
           },
           {
            "bin_start": 7.85,
            "bin_end": 8,
            "count": 0
           },
           {
            "bin_start": 8,
            "bin_end": 8.15,
            "count": 0
           },
           {
            "bin_start": 8.15,
            "bin_end": 8.3,
            "count": 0
           },
           {
            "bin_start": 8.3,
            "bin_end": 8.45,
            "count": 0
           },
           {
            "bin_start": 8.45,
            "bin_end": 8.6,
            "count": 0
           },
           {
            "bin_start": 8.6,
            "bin_end": 8.75,
            "count": 0
           },
           {
            "bin_start": 8.75,
            "bin_end": 8.899999999999999,
            "count": 0
           },
           {
            "bin_start": 8.899999999999999,
            "bin_end": 9.049999999999999,
            "count": 0
           },
           {
            "bin_start": 9.049999999999999,
            "bin_end": 9.2,
            "count": 1
           }
          ]
         }
        },
        {
         "name": "volatile_acidity",
         "dtype": "float64",
         "stats": {
          "unique_count": 2,
          "nan_count": 0,
          "min": "0.41",
          "max": "0.52",
          "histogram": [
           {
            "bin_start": 0.41,
            "bin_end": 0.421,
            "count": 2
           },
           {
            "bin_start": 0.421,
            "bin_end": 0.432,
            "count": 0
           },
           {
            "bin_start": 0.432,
            "bin_end": 0.443,
            "count": 0
           },
           {
            "bin_start": 0.443,
            "bin_end": 0.454,
            "count": 0
           },
           {
            "bin_start": 0.454,
            "bin_end": 0.46499999999999997,
            "count": 0
           },
           {
            "bin_start": 0.46499999999999997,
            "bin_end": 0.476,
            "count": 0
           },
           {
            "bin_start": 0.476,
            "bin_end": 0.487,
            "count": 0
           },
           {
            "bin_start": 0.487,
            "bin_end": 0.498,
            "count": 0
           },
           {
            "bin_start": 0.498,
            "bin_end": 0.509,
            "count": 0
           },
           {
            "bin_start": 0.509,
            "bin_end": 0.52,
            "count": 1
           }
          ]
         }
        },
        {
         "name": "citric_acid",
         "dtype": "object",
         "stats": {
          "unique_count": 2,
          "nan_count": 0,
          "categories": [
           {
            "name": "0.76",
            "count": 2
           },
           {
            "name": "1",
            "count": 1
           }
          ]
         }
        },
        {
         "name": "residual_sugar",
         "dtype": "float64",
         "stats": {
          "unique_count": 2,
          "nan_count": 0,
          "min": "1.8",
          "max": "3.4",
          "histogram": [
           {
            "bin_start": 1.8,
            "bin_end": 1.96,
            "count": 2
           },
           {
            "bin_start": 1.96,
            "bin_end": 2.12,
            "count": 0
           },
           {
            "bin_start": 2.12,
            "bin_end": 2.28,
            "count": 0
           },
           {
            "bin_start": 2.28,
            "bin_end": 2.44,
            "count": 0
           },
           {
            "bin_start": 2.44,
            "bin_end": 2.5999999999999996,
            "count": 0
           },
           {
            "bin_start": 2.5999999999999996,
            "bin_end": 2.76,
            "count": 0
           },
           {
            "bin_start": 2.76,
            "bin_end": 2.92,
            "count": 0
           },
           {
            "bin_start": 2.92,
            "bin_end": 3.08,
            "count": 0
           },
           {
            "bin_start": 3.08,
            "bin_end": 3.2399999999999998,
            "count": 0
           },
           {
            "bin_start": 3.2399999999999998,
            "bin_end": 3.4,
            "count": 1
           }
          ]
         }
        },
        {
         "name": "chlorides",
         "dtype": "float64",
         "stats": {
          "unique_count": 2,
          "nan_count": 0,
          "min": "0.61",
          "max": "0.611",
          "histogram": [
           {
            "bin_start": 0.61,
            "bin_end": 0.6101,
            "count": 1
           },
           {
            "bin_start": 0.6101,
            "bin_end": 0.6102,
            "count": 0
           },
           {
            "bin_start": 0.6102,
            "bin_end": 0.6103,
            "count": 0
           },
           {
            "bin_start": 0.6103,
            "bin_end": 0.6103999999999999,
            "count": 0
           },
           {
            "bin_start": 0.6103999999999999,
            "bin_end": 0.6105,
            "count": 0
           },
           {
            "bin_start": 0.6105,
            "bin_end": 0.6106,
            "count": 0
           },
           {
            "bin_start": 0.6106,
            "bin_end": 0.6107,
            "count": 0
           },
           {
            "bin_start": 0.6107,
            "bin_end": 0.6108,
            "count": 0
           },
           {
            "bin_start": 0.6108,
            "bin_end": 0.6109,
            "count": 0
           },
           {
            "bin_start": 0.6109,
            "bin_end": 0.611,
            "count": 2
           }
          ]
         }
        },
        {
         "name": "free_sulfur_dioxide",
         "dtype": "float64",
         "stats": {
          "unique_count": 2,
          "nan_count": 0,
          "min": "8.0",
          "max": "32.0",
          "histogram": [
           {
            "bin_start": 8,
            "bin_end": 10.4,
            "count": 2
           },
           {
            "bin_start": 10.4,
            "bin_end": 12.8,
            "count": 0
           },
           {
            "bin_start": 12.8,
            "bin_end": 15.2,
            "count": 0
           },
           {
            "bin_start": 15.2,
            "bin_end": 17.6,
            "count": 0
           },
           {
            "bin_start": 17.6,
            "bin_end": 20,
            "count": 0
           },
           {
            "bin_start": 20,
            "bin_end": 22.4,
            "count": 0
           },
           {
            "bin_start": 22.4,
            "bin_end": 24.8,
            "count": 0
           },
           {
            "bin_start": 24.8,
            "bin_end": 27.2,
            "count": 0
           },
           {
            "bin_start": 27.2,
            "bin_end": 29.599999999999998,
            "count": 0
           },
           {
            "bin_start": 29.599999999999998,
            "bin_end": 32,
            "count": 1
           }
          ]
         }
        },
        {
         "name": "total_sulfur_dioxide",
         "dtype": "float64",
         "stats": {
          "unique_count": 2,
          "nan_count": 0,
          "min": "45.0",
          "max": "69.0",
          "histogram": [
           {
            "bin_start": 45,
            "bin_end": 47.4,
            "count": 2
           },
           {
            "bin_start": 47.4,
            "bin_end": 49.8,
            "count": 0
           },
           {
            "bin_start": 49.8,
            "bin_end": 52.2,
            "count": 0
           },
           {
            "bin_start": 52.2,
            "bin_end": 54.6,
            "count": 0
           },
           {
            "bin_start": 54.6,
            "bin_end": 57,
            "count": 0
           },
           {
            "bin_start": 57,
            "bin_end": 59.4,
            "count": 0
           },
           {
            "bin_start": 59.4,
            "bin_end": 61.8,
            "count": 0
           },
           {
            "bin_start": 61.8,
            "bin_end": 64.2,
            "count": 0
           },
           {
            "bin_start": 64.2,
            "bin_end": 66.6,
            "count": 0
           },
           {
            "bin_start": 66.6,
            "bin_end": 69,
            "count": 1
           }
          ]
         }
        },
        {
         "name": "density",
         "dtype": "object",
         "stats": {
          "unique_count": 2,
          "nan_count": 0,
          "categories": [
           {
            "name": "0.9968",
            "count": 2
           },
           {
            "name": "0.9996",
            "count": 1
           }
          ]
         }
        },
        {
         "name": "pH",
         "dtype": "float64",
         "stats": {
          "unique_count": 2,
          "nan_count": 0,
          "min": "2.74",
          "max": "3.06",
          "histogram": [
           {
            "bin_start": 2.74,
            "bin_end": 2.7720000000000002,
            "count": 1
           },
           {
            "bin_start": 2.7720000000000002,
            "bin_end": 2.8040000000000003,
            "count": 0
           },
           {
            "bin_start": 2.8040000000000003,
            "bin_end": 2.8360000000000003,
            "count": 0
           },
           {
            "bin_start": 2.8360000000000003,
            "bin_end": 2.8680000000000003,
            "count": 0
           },
           {
            "bin_start": 2.8680000000000003,
            "bin_end": 2.9000000000000004,
            "count": 0
           },
           {
            "bin_start": 2.9000000000000004,
            "bin_end": 2.932,
            "count": 0
           },
           {
            "bin_start": 2.932,
            "bin_end": 2.964,
            "count": 0
           },
           {
            "bin_start": 2.964,
            "bin_end": 2.996,
            "count": 0
           },
           {
            "bin_start": 2.996,
            "bin_end": 3.028,
            "count": 0
           },
           {
            "bin_start": 3.028,
            "bin_end": 3.06,
            "count": 2
           }
          ]
         }
        },
        {
         "name": "sulphates",
         "dtype": "float64",
         "stats": {
          "unique_count": 2,
          "nan_count": 0,
          "min": "1.26",
          "max": "2.0",
          "histogram": [
           {
            "bin_start": 1.26,
            "bin_end": 1.334,
            "count": 2
           },
           {
            "bin_start": 1.334,
            "bin_end": 1.408,
            "count": 0
           },
           {
            "bin_start": 1.408,
            "bin_end": 1.482,
            "count": 0
           },
           {
            "bin_start": 1.482,
            "bin_end": 1.556,
            "count": 0
           },
           {
            "bin_start": 1.556,
            "bin_end": 1.63,
            "count": 0
           },
           {
            "bin_start": 1.63,
            "bin_end": 1.704,
            "count": 0
           },
           {
            "bin_start": 1.704,
            "bin_end": 1.778,
            "count": 0
           },
           {
            "bin_start": 1.778,
            "bin_end": 1.8519999999999999,
            "count": 0
           },
           {
            "bin_start": 1.8519999999999999,
            "bin_end": 1.926,
            "count": 0
           },
           {
            "bin_start": 1.926,
            "bin_end": 2,
            "count": 1
           }
          ]
         }
        },
        {
         "name": "alcohol",
         "dtype": "object",
         "stats": {
          "unique_count": 1,
          "nan_count": 0,
          "categories": [
           {
            "name": "9.4",
            "count": 3
           }
          ]
         }
        },
        {
         "name": "_deepnote_index_column",
         "dtype": "int64"
        }
       ],
       "rows_top": [
        {
         "country": "Portugal",
         "description": "This wine has tannins and a solid structure that is balanced by the bright red fruits, The wine is …",
         "designation": "nan",
         "points": 86,
         "price": 27,
         "province": "Douro",
         "taster_name": "Roger Voss",
         "title": "Quinta do Pessegueiro 2012 Red (Douro)",
         "variety": "Portuguese Red",
         "winery": "Quinta do Pessegueiro",
         "fixed_acidity": 7.7,
         "volatile_acidity": 0.41,
         "citric_acid": "0.76",
         "residual_sugar": 1.8,
         "chlorides": 0.611,
         "free_sulfur_dioxide": 8,
         "total_sulfur_dioxide": 45,
         "density": "0.9968",
         "pH": 3.06,
         "sulphates": 1.26,
         "alcohol": "9.4",
         "_deepnote_index_column": 434
        },
        {
         "country": "Portugal",
         "description": "The huge concentration of this wine reflects the hot 2003 vintage, There are aromas of ripe fruit s…",
         "designation": "Marquès de Borba Reserva",
         "points": 87,
         "price": "nan",
         "province": "Alentejo",
         "taster_name": "Jim Gordon",
         "title": "J, Portugal Ramos 2003 Marquès de Borba Reserva Red (Alentejo)",
         "variety": "Portuguese Red",
         "winery": "J, Portugal Ramos",
         "fixed_acidity": 7.7,
         "volatile_acidity": 0.41,
         "citric_acid": "0.76",
         "residual_sugar": 1.8,
         "chlorides": 0.611,
         "free_sulfur_dioxide": 8,
         "total_sulfur_dioxide": 45,
         "density": "0.9968",
         "pH": 3.06,
         "sulphates": 1.26,
         "alcohol": "9.4",
         "_deepnote_index_column": 1948
        },
        {
         "country": "Portugal",
         "description": "Bigode, the mustache, is a soft and juicy wine, light in texture with strong acidity, Red berry fru…",
         "designation": "Bigode",
         "points": 83,
         "price": 8,
         "province": "Lisboa",
         "taster_name": "Roger Voss",
         "title": "DFJ Vinhos 2010 Bigode Red (Lisboa)",
         "variety": "Portuguese Red",
         "winery": "DFJ Vinhos",
         "fixed_acidity": 9.2,
         "volatile_acidity": 0.52,
         "citric_acid": "1",
         "residual_sugar": 3.4,
         "chlorides": 0.61,
         "free_sulfur_dioxide": 32,
         "total_sulfur_dioxide": 69,
         "density": "0.9996",
         "pH": 2.74,
         "sulphates": 2,
         "alcohol": "9.4",
         "_deepnote_index_column": 2311
        }
       ],
       "rows_bottom": null
      },
      "text/plain": "       country                                        description  \\\nid                                                                  \n434   Portugal  This wine has tannins and a solid structure th...   \n1948  Portugal  The huge concentration of this wine reflects t...   \n2311  Portugal  Bigode, the mustache, is a soft and juicy wine...   \n\n                   designation  points  price  province taster_name  \\\nid                                                                    \n434                        NaN      86   27.0     Douro  Roger Voss   \n1948  Marquès de Borba Reserva      87    NaN  Alentejo  Jim Gordon   \n2311                    Bigode      83    8.0    Lisboa  Roger Voss   \n\n                                                  title         variety  \\\nid                                                                        \n434              Quinta do Pessegueiro 2012 Red (Douro)  Portuguese Red   \n1948  J, Portugal Ramos 2003 Marquès de Borba Reserv...  Portuguese Red   \n2311                DFJ Vinhos 2010 Bigode Red (Lisboa)  Portuguese Red   \n\n                     winery  ...  volatile_acidity  citric_acid  \\\nid                           ...                                  \n434   Quinta do Pessegueiro  ...              0.41         0.76   \n1948      J, Portugal Ramos  ...              0.41         0.76   \n2311             DFJ Vinhos  ...              0.52            1   \n\n     residual_sugar  chlorides  free_sulfur_dioxide  total_sulfur_dioxide  \\\nid                                                                          \n434             1.8      0.611                  8.0                  45.0   \n1948            1.8      0.611                  8.0                  45.0   \n2311            3.4      0.610                 32.0                  69.0   \n\n      density    pH  sulphates  alcohol  \nid                                       \n434    0.9968  3.06       1.26      9.4  \n1948   0.9968  3.06       1.26      9.4  \n2311   0.9996  2.74       2.00      9.4  \n\n[3 rows x 21 columns]",
      "text/html": "<div>\n<style scoped>\n    .dataframe tbody tr th:only-of-type {\n        vertical-align: middle;\n    }\n\n    .dataframe tbody tr th {\n        vertical-align: top;\n    }\n\n    .dataframe thead th {\n        text-align: right;\n    }\n</style>\n<table border=\"1\" class=\"dataframe\">\n  <thead>\n    <tr style=\"text-align: right;\">\n      <th></th>\n      <th>country</th>\n      <th>description</th>\n      <th>designation</th>\n      <th>points</th>\n      <th>price</th>\n      <th>province</th>\n      <th>taster_name</th>\n      <th>title</th>\n      <th>variety</th>\n      <th>winery</th>\n      <th>...</th>\n      <th>volatile_acidity</th>\n      <th>citric_acid</th>\n      <th>residual_sugar</th>\n      <th>chlorides</th>\n      <th>free_sulfur_dioxide</th>\n      <th>total_sulfur_dioxide</th>\n      <th>density</th>\n      <th>pH</th>\n      <th>sulphates</th>\n      <th>alcohol</th>\n    </tr>\n    <tr>\n      <th>id</th>\n      <th></th>\n      <th></th>\n      <th></th>\n      <th></th>\n      <th></th>\n      <th></th>\n      <th></th>\n      <th></th>\n      <th></th>\n      <th></th>\n      <th></th>\n      <th></th>\n      <th></th>\n      <th></th>\n      <th></th>\n      <th></th>\n      <th></th>\n      <th></th>\n      <th></th>\n      <th></th>\n      <th></th>\n    </tr>\n  </thead>\n  <tbody>\n    <tr>\n      <th>434</th>\n      <td>Portugal</td>\n      <td>This wine has tannins and a solid structure th...</td>\n      <td>NaN</td>\n      <td>86</td>\n      <td>27.0</td>\n      <td>Douro</td>\n      <td>Roger Voss</td>\n      <td>Quinta do Pessegueiro 2012 Red (Douro)</td>\n      <td>Portuguese Red</td>\n      <td>Quinta do Pessegueiro</td>\n      <td>...</td>\n      <td>0.41</td>\n      <td>0.76</td>\n      <td>1.8</td>\n      <td>0.611</td>\n      <td>8.0</td>\n      <td>45.0</td>\n      <td>0.9968</td>\n      <td>3.06</td>\n      <td>1.26</td>\n      <td>9.4</td>\n    </tr>\n    <tr>\n      <th>1948</th>\n      <td>Portugal</td>\n      <td>The huge concentration of this wine reflects t...</td>\n      <td>Marquès de Borba Reserva</td>\n      <td>87</td>\n      <td>NaN</td>\n      <td>Alentejo</td>\n      <td>Jim Gordon</td>\n      <td>J, Portugal Ramos 2003 Marquès de Borba Reserv...</td>\n      <td>Portuguese Red</td>\n      <td>J, Portugal Ramos</td>\n      <td>...</td>\n      <td>0.41</td>\n      <td>0.76</td>\n      <td>1.8</td>\n      <td>0.611</td>\n      <td>8.0</td>\n      <td>45.0</td>\n      <td>0.9968</td>\n      <td>3.06</td>\n      <td>1.26</td>\n      <td>9.4</td>\n    </tr>\n    <tr>\n      <th>2311</th>\n      <td>Portugal</td>\n      <td>Bigode, the mustache, is a soft and juicy wine...</td>\n      <td>Bigode</td>\n      <td>83</td>\n      <td>8.0</td>\n      <td>Lisboa</td>\n      <td>Roger Voss</td>\n      <td>DFJ Vinhos 2010 Bigode Red (Lisboa)</td>\n      <td>Portuguese Red</td>\n      <td>DFJ Vinhos</td>\n      <td>...</td>\n      <td>0.52</td>\n      <td>1</td>\n      <td>3.4</td>\n      <td>0.610</td>\n      <td>32.0</td>\n      <td>69.0</td>\n      <td>0.9996</td>\n      <td>2.74</td>\n      <td>2.00</td>\n      <td>9.4</td>\n    </tr>\n  </tbody>\n</table>\n<p>3 rows × 21 columns</p>\n</div>"
     },
     "metadata": {}
    }
   ]
  },
  {
   "cell_type": "markdown",
   "source": "##### Some observations:  \n- The minimal score is 81 on a scale of 100, which means they all are recommended and might be biased.\n- Most density values are between 0 and 1, except for some, which need to be changed.\n- Some values from alcohol have the wrong format, for example \"100.333.333.333\".\n- As goes for citric acidity, this is the wrong type, it needs to be float.\n- The wines with id's: 434, 1948 and 2311 exceed the maximum legal level of chloride (>606mg/L).",
   "metadata": {
    "tags": [],
    "cell_id": "00011-ffb5bacb-21d1-4a50-aeb9-5e8a7292ba0a",
    "deepnote_cell_type": "markdown"
   }
  },
  {
   "cell_type": "markdown",
   "source": "#### 3) Data Analysis/Cleaning Data\nHere we look at how complete and clean the data is.\n\n\n",
   "metadata": {
    "tags": [],
    "cell_id": "00003-6b4bb710-63fa-4d6b-ab09-94b668357d55",
    "deepnote_cell_type": "markdown"
   }
  },
  {
   "cell_type": "code",
   "metadata": {
    "tags": [],
    "cell_id": "00005-0e311fff-ca6e-45d5-ac63-bdaf72ec3f7f",
    "deepnote_to_be_reexecuted": false,
    "source_hash": "94a2b935",
    "execution_start": 1633040034063,
    "execution_millis": 84,
    "deepnote_cell_type": "code"
   },
   "source": "df.describe(include = [object])",
   "execution_count": 8,
   "outputs": [
    {
     "output_type": "execute_result",
     "execution_count": 8,
     "data": {
      "application/vnd.deepnote.dataframe.v2+json": {
       "row_count": 4,
       "column_count": 11,
       "columns": [
        {
         "name": "country",
         "dtype": "object",
         "stats": {
          "unique_count": 3,
          "nan_count": 0,
          "categories": [
           {
            "name": "2465",
            "count": 2
           },
           {
            "name": "1",
            "count": 1
           },
           {
            "name": "Portugal",
            "count": 1
           }
          ]
         }
        },
        {
         "name": "description",
         "dtype": "object",
         "stats": {
          "unique_count": 4,
          "nan_count": 0,
          "categories": [
           {
            "name": "2465",
            "count": 1
           },
           {
            "name": "2281",
            "count": 1
           },
           {
            "name": "2 others",
            "count": 2
           }
          ]
         }
        },
        {
         "name": "designation",
         "dtype": "object",
         "stats": {
          "unique_count": 4,
          "nan_count": 0,
          "categories": [
           {
            "name": "2312",
            "count": 1
           },
           {
            "name": "1161",
            "count": 1
           },
           {
            "name": "2 others",
            "count": 2
           }
          ]
         }
        },
        {
         "name": "province",
         "dtype": "object",
         "stats": {
          "unique_count": 4,
          "nan_count": 0,
          "categories": [
           {
            "name": "2465",
            "count": 1
           },
           {
            "name": "30",
            "count": 1
           },
           {
            "name": "2 others",
            "count": 2
           }
          ]
         }
        },
        {
         "name": "taster_name",
         "dtype": "object",
         "stats": {
          "unique_count": 4,
          "nan_count": 0,
          "categories": [
           {
            "name": "2465",
            "count": 1
           },
           {
            "name": "18",
            "count": 1
           },
           {
            "name": "2 others",
            "count": 2
           }
          ]
         }
        },
        {
         "name": "title",
         "dtype": "object",
         "stats": {
          "unique_count": 4,
          "nan_count": 0,
          "categories": [
           {
            "name": "2465",
            "count": 1
           },
           {
            "name": "2268",
            "count": 1
           },
           {
            "name": "2 others",
            "count": 2
           }
          ]
         }
        },
        {
         "name": "variety",
         "dtype": "object",
         "stats": {
          "unique_count": 3,
          "nan_count": 0,
          "categories": [
           {
            "name": "2465",
            "count": 2
           },
           {
            "name": "1",
            "count": 1
           },
           {
            "name": "Portuguese Red",
            "count": 1
           }
          ]
         }
        },
        {
         "name": "winery",
         "dtype": "object",
         "stats": {
          "unique_count": 4,
          "nan_count": 0,
          "categories": [
           {
            "name": "2465",
            "count": 1
           },
           {
            "name": "310",
            "count": 1
           },
           {
            "name": "2 others",
            "count": 2
           }
          ]
         }
        },
        {
         "name": "citric_acid",
         "dtype": "object",
         "stats": {
          "unique_count": 4,
          "nan_count": 0,
          "categories": [
           {
            "name": "2465",
            "count": 1
           },
           {
            "name": "80",
            "count": 1
           },
           {
            "name": "2 others",
            "count": 2
           }
          ]
         }
        },
        {
         "name": "density",
         "dtype": "object",
         "stats": {
          "unique_count": 4,
          "nan_count": 0,
          "categories": [
           {
            "name": "2465",
            "count": 1
           },
           {
            "name": "428",
            "count": 1
           },
           {
            "name": "2 others",
            "count": 2
           }
          ]
         }
        },
        {
         "name": "alcohol",
         "dtype": "object",
         "stats": {
          "unique_count": 4,
          "nan_count": 0,
          "categories": [
           {
            "name": "2465",
            "count": 1
           },
           {
            "name": "61",
            "count": 1
           },
           {
            "name": "2 others",
            "count": 2
           }
          ]
         }
        },
        {
         "name": "_deepnote_index_column",
         "dtype": "object"
        }
       ],
       "rows_top": [
        {
         "country": "2465",
         "description": "2465",
         "designation": "2312",
         "province": "2465",
         "taster_name": "2465",
         "title": "2465",
         "variety": "2465",
         "winery": "2465",
         "citric_acid": "2465",
         "density": "2465",
         "alcohol": "2465",
         "_deepnote_index_column": "count"
        },
        {
         "country": "1",
         "description": "2281",
         "designation": "1161",
         "province": "30",
         "taster_name": "18",
         "title": "2268",
         "variety": "1",
         "winery": "310",
         "citric_acid": "80",
         "density": "428",
         "alcohol": "61",
         "_deepnote_index_column": "unique"
        },
        {
         "country": "Portugal",
         "description": "The wine is tannic and structured, with a dry character that masks the juicy black currant fruits t…",
         "designation": "Reserva",
         "province": "Douro",
         "taster_name": "Roger Voss",
         "title": "Rui Roboredo Madeira 2012 Castello d'Alba Limited Edition Red (Douro)",
         "variety": "Portuguese Red",
         "winery": "Wines & Winemakers",
         "citric_acid": " -   ",
         "density": "0.9976",
         "alcohol": "9.5",
         "_deepnote_index_column": "top"
        },
        {
         "country": "2465",
         "description": "2",
         "designation": "171",
         "province": "880",
         "taster_name": "630",
         "title": "3",
         "variety": "2465",
         "winery": "84",
         "citric_acid": "203",
         "density": "59",
         "alcohol": "234",
         "_deepnote_index_column": "freq"
        }
       ],
       "rows_bottom": null
      },
      "text/plain": "         country                                        description  \\\ncount       2465                                               2465   \nunique         1                                               2281   \ntop     Portugal  The wine is tannic and structured, with a dry ...   \nfreq        2465                                                  2   \n\n       designation province taster_name  \\\ncount         2312     2465        2465   \nunique        1161       30          18   \ntop        Reserva    Douro  Roger Voss   \nfreq           171      880         630   \n\n                                                    title         variety  \\\ncount                                                2465            2465   \nunique                                               2268               1   \ntop     Rui Roboredo Madeira 2012 Castello d'Alba Limi...  Portuguese Red   \nfreq                                                    3            2465   \n\n                    winery citric_acid density alcohol  \ncount                 2465        2465    2465    2465  \nunique                 310          80     428      61  \ntop     Wines & Winemakers        -     0.9976     9.5  \nfreq                    84         203      59     234  ",
      "text/html": "<div>\n<style scoped>\n    .dataframe tbody tr th:only-of-type {\n        vertical-align: middle;\n    }\n\n    .dataframe tbody tr th {\n        vertical-align: top;\n    }\n\n    .dataframe thead th {\n        text-align: right;\n    }\n</style>\n<table border=\"1\" class=\"dataframe\">\n  <thead>\n    <tr style=\"text-align: right;\">\n      <th></th>\n      <th>country</th>\n      <th>description</th>\n      <th>designation</th>\n      <th>province</th>\n      <th>taster_name</th>\n      <th>title</th>\n      <th>variety</th>\n      <th>winery</th>\n      <th>citric_acid</th>\n      <th>density</th>\n      <th>alcohol</th>\n    </tr>\n  </thead>\n  <tbody>\n    <tr>\n      <th>count</th>\n      <td>2465</td>\n      <td>2465</td>\n      <td>2312</td>\n      <td>2465</td>\n      <td>2465</td>\n      <td>2465</td>\n      <td>2465</td>\n      <td>2465</td>\n      <td>2465</td>\n      <td>2465</td>\n      <td>2465</td>\n    </tr>\n    <tr>\n      <th>unique</th>\n      <td>1</td>\n      <td>2281</td>\n      <td>1161</td>\n      <td>30</td>\n      <td>18</td>\n      <td>2268</td>\n      <td>1</td>\n      <td>310</td>\n      <td>80</td>\n      <td>428</td>\n      <td>61</td>\n    </tr>\n    <tr>\n      <th>top</th>\n      <td>Portugal</td>\n      <td>The wine is tannic and structured, with a dry ...</td>\n      <td>Reserva</td>\n      <td>Douro</td>\n      <td>Roger Voss</td>\n      <td>Rui Roboredo Madeira 2012 Castello d'Alba Limi...</td>\n      <td>Portuguese Red</td>\n      <td>Wines &amp; Winemakers</td>\n      <td>-</td>\n      <td>0.9976</td>\n      <td>9.5</td>\n    </tr>\n    <tr>\n      <th>freq</th>\n      <td>2465</td>\n      <td>2</td>\n      <td>171</td>\n      <td>880</td>\n      <td>630</td>\n      <td>3</td>\n      <td>2465</td>\n      <td>84</td>\n      <td>203</td>\n      <td>59</td>\n      <td>234</td>\n    </tr>\n  </tbody>\n</table>\n</div>"
     },
     "metadata": {}
    }
   ]
  },
  {
   "cell_type": "code",
   "metadata": {
    "tags": [],
    "cell_id": "00015-cb70b0b8-3281-4e62-aa52-5cc196ba21b2",
    "deepnote_to_be_reexecuted": false,
    "source_hash": "c53516c1",
    "execution_start": 1633040034151,
    "execution_millis": 86,
    "deepnote_cell_type": "code"
   },
   "source": "df.describe(exclude = [object])",
   "execution_count": 9,
   "outputs": [
    {
     "output_type": "execute_result",
     "execution_count": 9,
     "data": {
      "application/vnd.deepnote.dataframe.v2+json": {
       "row_count": 8,
       "column_count": 10,
       "columns": [
        {
         "name": "points",
         "dtype": "float64",
         "stats": {
          "unique_count": 8,
          "nan_count": 0,
          "min": "2.97400001932752",
          "max": "2465.0",
          "histogram": [
           {
            "bin_start": 2.97400001932752,
            "bin_end": 249.17660001739478,
            "count": 7
           },
           {
            "bin_start": 249.17660001739478,
            "bin_end": 495.37920001546206,
            "count": 0
           },
           {
            "bin_start": 495.37920001546206,
            "bin_end": 741.5818000135292,
            "count": 0
           },
           {
            "bin_start": 741.5818000135292,
            "bin_end": 987.7844000115965,
            "count": 0
           },
           {
            "bin_start": 987.7844000115965,
            "bin_end": 1233.987000009664,
            "count": 0
           },
           {
            "bin_start": 1233.987000009664,
            "bin_end": 1480.189600007731,
            "count": 0
           },
           {
            "bin_start": 1480.189600007731,
            "bin_end": 1726.3922000057985,
            "count": 0
           },
           {
            "bin_start": 1726.3922000057985,
            "bin_end": 1972.5948000038657,
            "count": 0
           },
           {
            "bin_start": 1972.5948000038657,
            "bin_end": 2218.7974000019326,
            "count": 0
           },
           {
            "bin_start": 2218.7974000019326,
            "bin_end": 2465,
            "count": 1
           }
          ]
         }
        },
        {
         "name": "price",
         "dtype": "float64",
         "stats": {
          "unique_count": 8,
          "nan_count": 0,
          "min": "5.0",
          "max": "2196.0",
          "histogram": [
           {
            "bin_start": 5,
            "bin_end": 224.1,
            "count": 6
           },
           {
            "bin_start": 224.1,
            "bin_end": 443.2,
            "count": 0
           },
           {
            "bin_start": 443.2,
            "bin_end": 662.3,
            "count": 1
           },
           {
            "bin_start": 662.3,
            "bin_end": 881.4,
            "count": 0
           },
           {
            "bin_start": 881.4,
            "bin_end": 1100.5,
            "count": 0
           },
           {
            "bin_start": 1100.5,
            "bin_end": 1319.6,
            "count": 0
           },
           {
            "bin_start": 1319.6,
            "bin_end": 1538.7,
            "count": 0
           },
           {
            "bin_start": 1538.7,
            "bin_end": 1757.8,
            "count": 0
           },
           {
            "bin_start": 1757.8,
            "bin_end": 1976.8999999999999,
            "count": 0
           },
           {
            "bin_start": 1976.8999999999999,
            "bin_end": 2196,
            "count": 1
           }
          ]
         }
        },
        {
         "name": "fixed_acidity",
         "dtype": "float64",
         "stats": {
          "unique_count": 8,
          "nan_count": 0,
          "min": "1.7348466033868817",
          "max": "2465.0",
          "histogram": [
           {
            "bin_start": 1.7348466033868817,
            "bin_end": 248.06136194304818,
            "count": 7
           },
           {
            "bin_start": 248.06136194304818,
            "bin_end": 494.3878772827095,
            "count": 0
           },
           {
            "bin_start": 494.3878772827095,
            "bin_end": 740.7143926223708,
            "count": 0
           },
           {
            "bin_start": 740.7143926223708,
            "bin_end": 987.0409079620322,
            "count": 0
           },
           {
            "bin_start": 987.0409079620322,
            "bin_end": 1233.3674233016934,
            "count": 0
           },
           {
            "bin_start": 1233.3674233016934,
            "bin_end": 1479.6939386413546,
            "count": 0
           },
           {
            "bin_start": 1479.6939386413546,
            "bin_end": 1726.020453981016,
            "count": 0
           },
           {
            "bin_start": 1726.020453981016,
            "bin_end": 1972.3469693206773,
            "count": 0
           },
           {
            "bin_start": 1972.3469693206773,
            "bin_end": 2218.6734846603385,
            "count": 0
           },
           {
            "bin_start": 2218.6734846603385,
            "bin_end": 2465,
            "count": 1
           }
          ]
         }
        },
        {
         "name": "volatile_acidity",
         "dtype": "float64",
         "stats": {
          "unique_count": 8,
          "nan_count": 0,
          "min": "0.12",
          "max": "2465.0",
          "histogram": [
           {
            "bin_start": 0.12,
            "bin_end": 246.608,
            "count": 7
           },
           {
            "bin_start": 246.608,
            "bin_end": 493.096,
            "count": 0
           },
           {
            "bin_start": 493.096,
            "bin_end": 739.584,
            "count": 0
           },
           {
            "bin_start": 739.584,
            "bin_end": 986.072,
            "count": 0
           },
           {
            "bin_start": 986.072,
            "bin_end": 1232.56,
            "count": 0
           },
           {
            "bin_start": 1232.56,
            "bin_end": 1479.0479999999998,
            "count": 0
           },
           {
            "bin_start": 1479.0479999999998,
            "bin_end": 1725.5359999999998,
            "count": 0
           },
           {
            "bin_start": 1725.5359999999998,
            "bin_end": 1972.024,
            "count": 0
           },
           {
            "bin_start": 1972.024,
            "bin_end": 2218.5119999999997,
            "count": 0
           },
           {
            "bin_start": 2218.5119999999997,
            "bin_end": 2465,
            "count": 1
           }
          ]
         }
        },
        {
         "name": "residual_sugar",
         "dtype": "float64",
         "stats": {
          "unique_count": 8,
          "nan_count": 0,
          "min": "0.9",
          "max": "2465.0",
          "histogram": [
           {
            "bin_start": 0.9,
            "bin_end": 247.31,
            "count": 7
           },
           {
            "bin_start": 247.31,
            "bin_end": 493.71999999999997,
            "count": 0
           },
           {
            "bin_start": 493.71999999999997,
            "bin_end": 740.13,
            "count": 0
           },
           {
            "bin_start": 740.13,
            "bin_end": 986.54,
            "count": 0
           },
           {
            "bin_start": 986.54,
            "bin_end": 1232.95,
            "count": 0
           },
           {
            "bin_start": 1232.95,
            "bin_end": 1479.3600000000001,
            "count": 0
           },
           {
            "bin_start": 1479.3600000000001,
            "bin_end": 1725.77,
            "count": 0
           },
           {
            "bin_start": 1725.77,
            "bin_end": 1972.18,
            "count": 0
           },
           {
            "bin_start": 1972.18,
            "bin_end": 2218.59,
            "count": 0
           },
           {
            "bin_start": 2218.59,
            "bin_end": 2465,
            "count": 1
           }
          ]
         }
        },
        {
         "name": "chlorides",
         "dtype": "float64",
         "stats": {
          "unique_count": 8,
          "nan_count": 0,
          "min": "0.012",
          "max": "2465.0",
          "histogram": [
           {
            "bin_start": 0.012,
            "bin_end": 246.5108,
            "count": 7
           },
           {
            "bin_start": 246.5108,
            "bin_end": 493.0096,
            "count": 0
           },
           {
            "bin_start": 493.0096,
            "bin_end": 739.5083999999999,
            "count": 0
           },
           {
            "bin_start": 739.5083999999999,
            "bin_end": 986.0071999999999,
            "count": 0
           },
           {
            "bin_start": 986.0071999999999,
            "bin_end": 1232.5059999999999,
            "count": 0
           },
           {
            "bin_start": 1232.5059999999999,
            "bin_end": 1479.0048,
            "count": 0
           },
           {
            "bin_start": 1479.0048,
            "bin_end": 1725.5035999999998,
            "count": 0
           },
           {
            "bin_start": 1725.5035999999998,
            "bin_end": 1972.0023999999999,
            "count": 0
           },
           {
            "bin_start": 1972.0023999999999,
            "bin_end": 2218.5012,
            "count": 0
           },
           {
            "bin_start": 2218.5012,
            "bin_end": 2465,
            "count": 1
           }
          ]
         }
        },
        {
         "name": "free_sulfur_dioxide",
         "dtype": "float64",
         "stats": {
          "unique_count": 8,
          "nan_count": 0,
          "min": "1.0",
          "max": "2465.0",
          "histogram": [
           {
            "bin_start": 1,
            "bin_end": 247.4,
            "count": 7
           },
           {
            "bin_start": 247.4,
            "bin_end": 493.8,
            "count": 0
           },
           {
            "bin_start": 493.8,
            "bin_end": 740.2,
            "count": 0
           },
           {
            "bin_start": 740.2,
            "bin_end": 986.6,
            "count": 0
           },
           {
            "bin_start": 986.6,
            "bin_end": 1233,
            "count": 0
           },
           {
            "bin_start": 1233,
            "bin_end": 1479.4,
            "count": 0
           },
           {
            "bin_start": 1479.4,
            "bin_end": 1725.8,
            "count": 0
           },
           {
            "bin_start": 1725.8,
            "bin_end": 1972.2,
            "count": 0
           },
           {
            "bin_start": 1972.2,
            "bin_end": 2218.6,
            "count": 0
           },
           {
            "bin_start": 2218.6,
            "bin_end": 2465,
            "count": 1
           }
          ]
         }
        },
        {
         "name": "total_sulfur_dioxide",
         "dtype": "float64",
         "stats": {
          "unique_count": 8,
          "nan_count": 0,
          "min": "6.0",
          "max": "2465.0",
          "histogram": [
           {
            "bin_start": 6,
            "bin_end": 251.9,
            "count": 6
           },
           {
            "bin_start": 251.9,
            "bin_end": 497.8,
            "count": 1
           },
           {
            "bin_start": 497.8,
            "bin_end": 743.7,
            "count": 0
           },
           {
            "bin_start": 743.7,
            "bin_end": 989.6,
            "count": 0
           },
           {
            "bin_start": 989.6,
            "bin_end": 1235.5,
            "count": 0
           },
           {
            "bin_start": 1235.5,
            "bin_end": 1481.4,
            "count": 0
           },
           {
            "bin_start": 1481.4,
            "bin_end": 1727.3,
            "count": 0
           },
           {
            "bin_start": 1727.3,
            "bin_end": 1973.2,
            "count": 0
           },
           {
            "bin_start": 1973.2,
            "bin_end": 2219.1,
            "count": 0
           },
           {
            "bin_start": 2219.1,
            "bin_end": 2465,
            "count": 1
           }
          ]
         }
        },
        {
         "name": "pH",
         "dtype": "float64",
         "stats": {
          "unique_count": 8,
          "nan_count": 0,
          "min": "0.15392727558224564",
          "max": "2465.0",
          "histogram": [
           {
            "bin_start": 0.15392727558224564,
            "bin_end": 246.63853454802404,
            "count": 7
           },
           {
            "bin_start": 246.63853454802404,
            "bin_end": 493.12314182046583,
            "count": 0
           },
           {
            "bin_start": 493.12314182046583,
            "bin_end": 739.6077490929076,
            "count": 0
           },
           {
            "bin_start": 739.6077490929076,
            "bin_end": 986.0923563653494,
            "count": 0
           },
           {
            "bin_start": 986.0923563653494,
            "bin_end": 1232.576963637791,
            "count": 0
           },
           {
            "bin_start": 1232.576963637791,
            "bin_end": 1479.061570910233,
            "count": 0
           },
           {
            "bin_start": 1479.061570910233,
            "bin_end": 1725.5461781826748,
            "count": 0
           },
           {
            "bin_start": 1725.5461781826748,
            "bin_end": 1972.0307854551165,
            "count": 0
           },
           {
            "bin_start": 1972.0307854551165,
            "bin_end": 2218.5153927275583,
            "count": 0
           },
           {
            "bin_start": 2218.5153927275583,
            "bin_end": 2465,
            "count": 1
           }
          ]
         }
        },
        {
         "name": "sulphates",
         "dtype": "float64",
         "stats": {
          "unique_count": 8,
          "nan_count": 0,
          "min": "0.17253128003281948",
          "max": "2465.0",
          "histogram": [
           {
            "bin_start": 0.17253128003281948,
            "bin_end": 246.65527815202955,
            "count": 7
           },
           {
            "bin_start": 246.65527815202955,
            "bin_end": 493.1380250240263,
            "count": 0
           },
           {
            "bin_start": 493.1380250240263,
            "bin_end": 739.620771896023,
            "count": 0
           },
           {
            "bin_start": 739.620771896023,
            "bin_end": 986.1035187680197,
            "count": 0
           },
           {
            "bin_start": 986.1035187680197,
            "bin_end": 1232.5862656400166,
            "count": 0
           },
           {
            "bin_start": 1232.5862656400166,
            "bin_end": 1479.0690125120134,
            "count": 0
           },
           {
            "bin_start": 1479.0690125120134,
            "bin_end": 1725.55175938401,
            "count": 0
           },
           {
            "bin_start": 1725.55175938401,
            "bin_end": 1972.0345062560068,
            "count": 0
           },
           {
            "bin_start": 1972.0345062560068,
            "bin_end": 2218.517253128003,
            "count": 0
           },
           {
            "bin_start": 2218.517253128003,
            "bin_end": 2465,
            "count": 1
           }
          ]
         }
        },
        {
         "name": "_deepnote_index_column",
         "dtype": "object"
        }
       ],
       "rows_top": [
        {
         "points": 2465,
         "price": 2196,
         "fixed_acidity": 2465,
         "volatile_acidity": 2465,
         "residual_sugar": 2465,
         "chlorides": 2465,
         "free_sulfur_dioxide": 2465,
         "total_sulfur_dioxide": 2465,
         "pH": 2465,
         "sulphates": 2465,
         "_deepnote_index_column": "count"
        },
        {
         "points": 88.81135902636917,
         "price": 24.819216757741348,
         "fixed_acidity": 8.352819472616632,
         "volatile_acidity": 0.5281622718052738,
         "residual_sugar": 2.5623529411764707,
         "chlorides": 0.08748519269776875,
         "free_sulfur_dioxide": 15.804665314401623,
         "total_sulfur_dioxide": 47.21866125760649,
         "pH": 3.311200811359026,
         "sulphates": 0.6603529411764706,
         "_deepnote_index_column": "mean"
        },
        {
         "points": 2.97400001932752,
         "price": 25.539475265459142,
         "fixed_acidity": 1.7348466033868817,
         "volatile_acidity": 0.17886907428366858,
         "residual_sugar": 1.407029740958027,
         "chlorides": 0.04704340402899578,
         "free_sulfur_dioxide": 10.379217894554081,
         "total_sulfur_dioxide": 33.187830278042945,
         "pH": 0.15392727558224564,
         "sulphates": 0.17253128003281948,
         "_deepnote_index_column": "std"
        },
        {
         "points": 81,
         "price": 5,
         "fixed_acidity": 4.6,
         "volatile_acidity": 0.12,
         "residual_sugar": 0.9,
         "chlorides": 0.012,
         "free_sulfur_dioxide": 1,
         "total_sulfur_dioxide": 6,
         "pH": 2.74,
         "sulphates": 0.33,
         "_deepnote_index_column": "min"
        },
        {
         "points": 87,
         "price": 12,
         "fixed_acidity": 7.1,
         "volatile_acidity": 0.4,
         "residual_sugar": 1.9,
         "chlorides": 0.07,
         "free_sulfur_dioxide": 7,
         "total_sulfur_dioxide": 22,
         "pH": 3.21,
         "sulphates": 0.55,
         "_deepnote_index_column": "25%"
        },
        {
         "points": 88,
         "price": 17,
         "fixed_acidity": 7.9,
         "volatile_acidity": 0.52,
         "residual_sugar": 2.2,
         "chlorides": 0.079,
         "free_sulfur_dioxide": 14,
         "total_sulfur_dioxide": 38,
         "pH": 3.31,
         "sulphates": 0.62,
         "_deepnote_index_column": "50%"
        },
        {
         "points": 91,
         "price": 28,
         "fixed_acidity": 9.3,
         "volatile_acidity": 0.635,
         "residual_sugar": 2.6,
         "chlorides": 0.091,
         "free_sulfur_dioxide": 21,
         "total_sulfur_dioxide": 64,
         "pH": 3.4,
         "sulphates": 0.73,
         "_deepnote_index_column": "75%"
        },
        {
         "points": 100,
         "price": 450,
         "fixed_acidity": 15.9,
         "volatile_acidity": 1.58,
         "residual_sugar": 15.5,
         "chlorides": 0.611,
         "free_sulfur_dioxide": 72,
         "total_sulfur_dioxide": 289,
         "pH": 4.01,
         "sulphates": 2,
         "_deepnote_index_column": "max"
        }
       ],
       "rows_bottom": null
      },
      "text/plain": "            points        price  fixed_acidity  volatile_acidity  \\\ncount  2465.000000  2196.000000    2465.000000       2465.000000   \nmean     88.811359    24.819217       8.352819          0.528162   \nstd       2.974000    25.539475       1.734847          0.178869   \nmin      81.000000     5.000000       4.600000          0.120000   \n25%      87.000000    12.000000       7.100000          0.400000   \n50%      88.000000    17.000000       7.900000          0.520000   \n75%      91.000000    28.000000       9.300000          0.635000   \nmax     100.000000   450.000000      15.900000          1.580000   \n\n       residual_sugar    chlorides  free_sulfur_dioxide  total_sulfur_dioxide  \\\ncount     2465.000000  2465.000000          2465.000000           2465.000000   \nmean         2.562353     0.087485            15.804665             47.218661   \nstd          1.407030     0.047043            10.379218             33.187830   \nmin          0.900000     0.012000             1.000000              6.000000   \n25%          1.900000     0.070000             7.000000             22.000000   \n50%          2.200000     0.079000            14.000000             38.000000   \n75%          2.600000     0.091000            21.000000             64.000000   \nmax         15.500000     0.611000            72.000000            289.000000   \n\n                pH    sulphates  \ncount  2465.000000  2465.000000  \nmean      3.311201     0.660353  \nstd       0.153927     0.172531  \nmin       2.740000     0.330000  \n25%       3.210000     0.550000  \n50%       3.310000     0.620000  \n75%       3.400000     0.730000  \nmax       4.010000     2.000000  ",
      "text/html": "<div>\n<style scoped>\n    .dataframe tbody tr th:only-of-type {\n        vertical-align: middle;\n    }\n\n    .dataframe tbody tr th {\n        vertical-align: top;\n    }\n\n    .dataframe thead th {\n        text-align: right;\n    }\n</style>\n<table border=\"1\" class=\"dataframe\">\n  <thead>\n    <tr style=\"text-align: right;\">\n      <th></th>\n      <th>points</th>\n      <th>price</th>\n      <th>fixed_acidity</th>\n      <th>volatile_acidity</th>\n      <th>residual_sugar</th>\n      <th>chlorides</th>\n      <th>free_sulfur_dioxide</th>\n      <th>total_sulfur_dioxide</th>\n      <th>pH</th>\n      <th>sulphates</th>\n    </tr>\n  </thead>\n  <tbody>\n    <tr>\n      <th>count</th>\n      <td>2465.000000</td>\n      <td>2196.000000</td>\n      <td>2465.000000</td>\n      <td>2465.000000</td>\n      <td>2465.000000</td>\n      <td>2465.000000</td>\n      <td>2465.000000</td>\n      <td>2465.000000</td>\n      <td>2465.000000</td>\n      <td>2465.000000</td>\n    </tr>\n    <tr>\n      <th>mean</th>\n      <td>88.811359</td>\n      <td>24.819217</td>\n      <td>8.352819</td>\n      <td>0.528162</td>\n      <td>2.562353</td>\n      <td>0.087485</td>\n      <td>15.804665</td>\n      <td>47.218661</td>\n      <td>3.311201</td>\n      <td>0.660353</td>\n    </tr>\n    <tr>\n      <th>std</th>\n      <td>2.974000</td>\n      <td>25.539475</td>\n      <td>1.734847</td>\n      <td>0.178869</td>\n      <td>1.407030</td>\n      <td>0.047043</td>\n      <td>10.379218</td>\n      <td>33.187830</td>\n      <td>0.153927</td>\n      <td>0.172531</td>\n    </tr>\n    <tr>\n      <th>min</th>\n      <td>81.000000</td>\n      <td>5.000000</td>\n      <td>4.600000</td>\n      <td>0.120000</td>\n      <td>0.900000</td>\n      <td>0.012000</td>\n      <td>1.000000</td>\n      <td>6.000000</td>\n      <td>2.740000</td>\n      <td>0.330000</td>\n    </tr>\n    <tr>\n      <th>25%</th>\n      <td>87.000000</td>\n      <td>12.000000</td>\n      <td>7.100000</td>\n      <td>0.400000</td>\n      <td>1.900000</td>\n      <td>0.070000</td>\n      <td>7.000000</td>\n      <td>22.000000</td>\n      <td>3.210000</td>\n      <td>0.550000</td>\n    </tr>\n    <tr>\n      <th>50%</th>\n      <td>88.000000</td>\n      <td>17.000000</td>\n      <td>7.900000</td>\n      <td>0.520000</td>\n      <td>2.200000</td>\n      <td>0.079000</td>\n      <td>14.000000</td>\n      <td>38.000000</td>\n      <td>3.310000</td>\n      <td>0.620000</td>\n    </tr>\n    <tr>\n      <th>75%</th>\n      <td>91.000000</td>\n      <td>28.000000</td>\n      <td>9.300000</td>\n      <td>0.635000</td>\n      <td>2.600000</td>\n      <td>0.091000</td>\n      <td>21.000000</td>\n      <td>64.000000</td>\n      <td>3.400000</td>\n      <td>0.730000</td>\n    </tr>\n    <tr>\n      <th>max</th>\n      <td>100.000000</td>\n      <td>450.000000</td>\n      <td>15.900000</td>\n      <td>1.580000</td>\n      <td>15.500000</td>\n      <td>0.611000</td>\n      <td>72.000000</td>\n      <td>289.000000</td>\n      <td>4.010000</td>\n      <td>2.000000</td>\n    </tr>\n  </tbody>\n</table>\n</div>"
     },
     "metadata": {}
    }
   ]
  },
  {
   "cell_type": "markdown",
   "source": "Here we can see the alcohol feature type being string, this is however not very usable. To be able to properly use the alcohol feature we will convert it to float.",
   "metadata": {
    "tags": [],
    "cell_id": "00009-1911902d-108e-4336-a481-6864468a32fd",
    "deepnote_cell_type": "markdown"
   }
  },
  {
   "cell_type": "markdown",
   "source": "##### (Missing) Value correction\n\nThis section changes the value types of **Alcohol**, **Density** and **Citric acid** to useable and readable values.\n\n- **Alcohol**:  \n    As can be seen below, there are a few values who's string representation are way larger than the rest of the values.\n    These numbers seem to represent floats with repeating digits, so the best plan of action would be to remove the full stops\n    and then add a decimal separator in the correct position to make it a valid alcohol percentage.\n    Seeing as the normal alcohol percentage ranges from ~9 to ~11, it would make sense to add a decimal separator after first digit\n    if the first digit is not a \"1\", because that would mean it is less than 10. If the first digit is a \"1\" then it is supposed to\n    be a number above 10, so then we put the decimal separator after the second digit. \n    <br /><br />\n- **Density**: All of these values are string like this \"0.99922\" and wil be converted to floats. The rows that have empty values are deleted.\n- **Citric acid**: Will be measured in grams/liters and the values are strings that will be converted to floats. The rows that have empty values are deleted.",
   "metadata": {
    "tags": [],
    "cell_id": "00017-fbda02a3-89cd-4497-a3d7-a85d7e28d396",
    "deepnote_cell_type": "markdown"
   }
  },
  {
   "cell_type": "code",
   "metadata": {
    "tags": [],
    "cell_id": "00020-31feaa5c-31d6-42de-8d09-67e28316544b",
    "deepnote_to_be_reexecuted": false,
    "source_hash": "34b06a9e",
    "execution_start": 1633040034235,
    "execution_millis": 10,
    "deepnote_cell_type": "code"
   },
   "source": "# Prints the values of the alcohol column based on their length as strings\nprint(df.sort_values(by=\"alcohol\", key=lambda x: x.str.len(), ascending=False).head(15)['alcohol'].to_string())",
   "execution_count": 10,
   "outputs": [
    {
     "name": "stdout",
     "text": "id\n1621    11.066.666.666.666.600\n1796    11.066.666.666.666.600\n1765       100.333.333.333.333\n1671       956.666.666.666.667\n1346       100.333.333.333.333\n1345       100.333.333.333.333\n1767       923.333.333.333.333\n1766       100.333.333.333.333\n1795       956.666.666.666.667\n2029       923.333.333.333.333\n678                      10.55\n1170                     11.95\n140                      10.55\n2252                     10.75\n1286                     10.75\n",
     "output_type": "stream"
    }
   ]
  },
  {
   "cell_type": "code",
   "metadata": {
    "tags": [],
    "cell_id": "00007-77bc5e4c-00b9-412f-80c1-cbd2e99195fe",
    "deepnote_to_be_reexecuted": false,
    "source_hash": "b291a9d2",
    "execution_start": 1633040034301,
    "execution_millis": 236,
    "deepnote_cell_type": "code"
   },
   "source": "# Takes a number as string, removes unnecessary full stops, and adds a decimal separator to the number\ndef formatalcohol(s):\n    s = s.replace('.', '')\n    if s[0] == '1':\n        s = s[:2] + '.' + s[2:]\n    else:\n        s = s[:1] + '.' + s[1:]\n    return s\n\n# Takes a number as string and places comma at right position\ndef format_dens_cacid(s):\n    s = s.replace('.', '')\n    s = s[:1] + '.' + s[1:]\n    return s\n\n\n# Convert all values in alcohol to strings\ndf['alcohol'] = df['alcohol'].astype(\"string\")\n\n# Apply the function formatalcohol to each string\ndf['alcohol'] = df['alcohol'].apply(formatalcohol)\n\n# Convert all values to floats\ndf['alcohol'] = df['alcohol'].astype(\"float\")\n\n\n# Convert all values in density to strings\ndf['density'] = df['density'].astype(\"string\")\n\n# Remove the occurence with value ' . ', as it is useless data\ndf = df[df.density != ' . ']\n\n# Apply the function format_dens_cacid to each string\ndf['density'] = df['density'].apply(format_dens_cacid)\n\n# Convert all values to floats\ndf['density'] = df['density'].astype(\"float\")\n\n\n# Convert all values in citric_acid to strings\ndf['citric_acid'] = df['citric_acid'].astype(\"string\")\n\n#Here the values that contain a ' ' wil be removed, there is only 1 row with this value\ndf = df[~df.citric_acid.str.contains(' ')]\n\n# Apply the function format_dens_cacid to each string\ndf['citric_acid'] = df['citric_acid'].apply(format_dens_cacid)\n\n# Convert all values to floats\ndf['citric_acid'] = df['citric_acid'].astype(\"float\")\n\ndf[['alcohol','density','citric_acid']].describe()\n#df",
   "execution_count": 11,
   "outputs": [
    {
     "output_type": "execute_result",
     "execution_count": 11,
     "data": {
      "application/vnd.deepnote.dataframe.v2+json": {
       "row_count": 8,
       "column_count": 3,
       "columns": [
        {
         "name": "alcohol",
         "dtype": "float64",
         "stats": {
          "unique_count": 8,
          "nan_count": 0,
          "min": "1.0372184027053348",
          "max": "2261.0",
          "histogram": [
           {
            "bin_start": 1.0372184027053348,
            "bin_end": 227.03349656243478,
            "count": 7
           },
           {
            "bin_start": 227.03349656243478,
            "bin_end": 453.02977472216423,
            "count": 0
           },
           {
            "bin_start": 453.02977472216423,
            "bin_end": 679.0260528818937,
            "count": 0
           },
           {
            "bin_start": 679.0260528818937,
            "bin_end": 905.0223310416231,
            "count": 0
           },
           {
            "bin_start": 905.0223310416231,
            "bin_end": 1131.0186092013525,
            "count": 0
           },
           {
            "bin_start": 1131.0186092013525,
            "bin_end": 1357.0148873610822,
            "count": 0
           },
           {
            "bin_start": 1357.0148873610822,
            "bin_end": 1583.0111655208116,
            "count": 0
           },
           {
            "bin_start": 1583.0111655208116,
            "bin_end": 1809.007443680541,
            "count": 0
           },
           {
            "bin_start": 1809.007443680541,
            "bin_end": 2035.0037218402704,
            "count": 0
           },
           {
            "bin_start": 2035.0037218402704,
            "bin_end": 2261,
            "count": 1
           }
          ]
         }
        },
        {
         "name": "density",
         "dtype": "float64",
         "stats": {
          "unique_count": 8,
          "nan_count": 0,
          "min": "0.0018498571767167763",
          "max": "2261.0",
          "histogram": [
           {
            "bin_start": 0.0018498571767167763,
            "bin_end": 226.10166487145906,
            "count": 7
           },
           {
            "bin_start": 226.10166487145906,
            "bin_end": 452.2014798857414,
            "count": 0
           },
           {
            "bin_start": 452.2014798857414,
            "bin_end": 678.3012949000238,
            "count": 0
           },
           {
            "bin_start": 678.3012949000238,
            "bin_end": 904.4011099143061,
            "count": 0
           },
           {
            "bin_start": 904.4011099143061,
            "bin_end": 1130.5009249285883,
            "count": 0
           },
           {
            "bin_start": 1130.5009249285883,
            "bin_end": 1356.6007399428709,
            "count": 0
           },
           {
            "bin_start": 1356.6007399428709,
            "bin_end": 1582.7005549571531,
            "count": 0
           },
           {
            "bin_start": 1582.7005549571531,
            "bin_end": 1808.8003699714354,
            "count": 0
           },
           {
            "bin_start": 1808.8003699714354,
            "bin_end": 2034.9001849857177,
            "count": 0
           },
           {
            "bin_start": 2034.9001849857177,
            "bin_end": 2261,
            "count": 1
           }
          ]
         }
        },
        {
         "name": "citric_acid",
         "dtype": "float64",
         "stats": {
          "unique_count": 8,
          "nan_count": 0,
          "min": "0.01",
          "max": "2261.0",
          "histogram": [
           {
            "bin_start": 0.01,
            "bin_end": 226.10899999999998,
            "count": 7
           },
           {
            "bin_start": 226.10899999999998,
            "bin_end": 452.20799999999997,
            "count": 0
           },
           {
            "bin_start": 452.20799999999997,
            "bin_end": 678.307,
            "count": 0
           },
           {
            "bin_start": 678.307,
            "bin_end": 904.406,
            "count": 0
           },
           {
            "bin_start": 904.406,
            "bin_end": 1130.5049999999999,
            "count": 0
           },
           {
            "bin_start": 1130.5049999999999,
            "bin_end": 1356.604,
            "count": 0
           },
           {
            "bin_start": 1356.604,
            "bin_end": 1582.703,
            "count": 0
           },
           {
            "bin_start": 1582.703,
            "bin_end": 1808.802,
            "count": 0
           },
           {
            "bin_start": 1808.802,
            "bin_end": 2034.9009999999998,
            "count": 0
           },
           {
            "bin_start": 2034.9009999999998,
            "bin_end": 2261,
            "count": 1
           }
          ]
         }
        },
        {
         "name": "_deepnote_index_column",
         "dtype": "object"
        }
       ],
       "rows_top": [
        {
         "alcohol": 2261,
         "density": 2261,
         "citric_acid": 2261,
         "_deepnote_index_column": "count"
        },
        {
         "alcohol": 10.399896800825594,
         "density": 0.9969026802299867,
         "citric_acid": 0.29934099955771787,
         "_deepnote_index_column": "mean"
        },
        {
         "alcohol": 1.0372184027053348,
         "density": 0.0018498571767167763,
         "citric_acid": 0.18535175610405977,
         "_deepnote_index_column": "std"
        },
        {
         "alcohol": 8.5,
         "density": 0.99007,
         "citric_acid": 0.01,
         "_deepnote_index_column": "min"
        },
        {
         "alcohol": 9.5,
         "density": 0.99577,
         "citric_acid": 0.14,
         "_deepnote_index_column": "25%"
        },
        {
         "alcohol": 10.2,
         "density": 0.99685,
         "citric_acid": 0.29,
         "_deepnote_index_column": "50%"
        },
        {
         "alcohol": 11.1,
         "density": 0.998,
         "citric_acid": 0.44,
         "_deepnote_index_column": "75%"
        },
        {
         "alcohol": 14.9,
         "density": 1.00369,
         "citric_acid": 1,
         "_deepnote_index_column": "max"
        }
       ],
       "rows_bottom": null
      },
      "text/plain": "           alcohol      density  citric_acid\ncount  2261.000000  2261.000000  2261.000000\nmean     10.399897     0.996903     0.299341\nstd       1.037218     0.001850     0.185352\nmin       8.500000     0.990070     0.010000\n25%       9.500000     0.995770     0.140000\n50%      10.200000     0.996850     0.290000\n75%      11.100000     0.998000     0.440000\nmax      14.900000     1.003690     1.000000",
      "text/html": "<div>\n<style scoped>\n    .dataframe tbody tr th:only-of-type {\n        vertical-align: middle;\n    }\n\n    .dataframe tbody tr th {\n        vertical-align: top;\n    }\n\n    .dataframe thead th {\n        text-align: right;\n    }\n</style>\n<table border=\"1\" class=\"dataframe\">\n  <thead>\n    <tr style=\"text-align: right;\">\n      <th></th>\n      <th>alcohol</th>\n      <th>density</th>\n      <th>citric_acid</th>\n    </tr>\n  </thead>\n  <tbody>\n    <tr>\n      <th>count</th>\n      <td>2261.000000</td>\n      <td>2261.000000</td>\n      <td>2261.000000</td>\n    </tr>\n    <tr>\n      <th>mean</th>\n      <td>10.399897</td>\n      <td>0.996903</td>\n      <td>0.299341</td>\n    </tr>\n    <tr>\n      <th>std</th>\n      <td>1.037218</td>\n      <td>0.001850</td>\n      <td>0.185352</td>\n    </tr>\n    <tr>\n      <th>min</th>\n      <td>8.500000</td>\n      <td>0.990070</td>\n      <td>0.010000</td>\n    </tr>\n    <tr>\n      <th>25%</th>\n      <td>9.500000</td>\n      <td>0.995770</td>\n      <td>0.140000</td>\n    </tr>\n    <tr>\n      <th>50%</th>\n      <td>10.200000</td>\n      <td>0.996850</td>\n      <td>0.290000</td>\n    </tr>\n    <tr>\n      <th>75%</th>\n      <td>11.100000</td>\n      <td>0.998000</td>\n      <td>0.440000</td>\n    </tr>\n    <tr>\n      <th>max</th>\n      <td>14.900000</td>\n      <td>1.003690</td>\n      <td>1.000000</td>\n    </tr>\n  </tbody>\n</table>\n</div>"
     },
     "metadata": {}
    }
   ]
  },
  {
   "cell_type": "markdown",
   "source": "- Here we can see that there are no more alcohol values above 14.9 percent and that the values are converted to floats.\n- Also we see that there are no more NaN values of density and that they are converted from string to float\n- Last but not least, we do not have any more string or empty values in citric_acid.",
   "metadata": {
    "tags": [],
    "cell_id": "00024-f42dc15c-d054-4bf2-9d62-e3ce0edc0913",
    "deepnote_cell_type": "markdown"
   }
  },
  {
   "cell_type": "markdown",
   "source": "#### Year extraction from title\n\nHere we extract the numbers from the title and check if this number is a year, we also checked if the amount of wines with a year number in the title is usable.",
   "metadata": {
    "tags": [],
    "cell_id": "00024-28fbae46-3c62-49e5-96a2-76fee293aec6",
    "deepnote_cell_type": "markdown"
   }
  },
  {
   "cell_type": "code",
   "metadata": {
    "tags": [],
    "cell_id": "00024-29e7d5da-a10a-42b8-beae-3075312613f3",
    "deepnote_to_be_reexecuted": false,
    "source_hash": "7f8e2ccd",
    "execution_start": 1633040034563,
    "execution_millis": 48,
    "deepnote_cell_type": "code"
   },
   "source": "def digitstoint(ns):\n    return int(\"\".join([str(n) for n in ns]))\n\nusableyears = 0\n\ndef sep_name_year(name):\n    if any([x.isdigit() for x in name]):\n        global usableyears\n        \n        year = digitstoint([int(s) for s in name if s.isdigit()])\n        if year<10000:\n            usableyears += 1\n            return year\n        else:\n            return 0\n    else:\n        \n        return 0\n\n\ndf['year'] = df.title.copy()\ndf['year'] = df['year'].map(sep_name_year)\n\nprint(f\"There are {usableyears} usable years of the {len(df['title'])} wines\")",
   "execution_count": 12,
   "outputs": [
    {
     "name": "stdout",
     "text": "There are 2223 usable years of the 2261 wines\n",
     "output_type": "stream"
    }
   ]
  },
  {
   "cell_type": "markdown",
   "source": "#### 4) Data visualisation",
   "metadata": {
    "tags": [],
    "cell_id": "00014-ccb42b59-372c-469f-a5d8-d7f537d30180",
    "deepnote_cell_type": "markdown"
   }
  },
  {
   "cell_type": "code",
   "metadata": {
    "tags": [],
    "cell_id": "00026-9237129e-94a6-411b-817b-87ecc04655c1",
    "deepnote_to_be_reexecuted": false,
    "source_hash": "975afd9d",
    "execution_start": 1633040034607,
    "execution_millis": 280,
    "deepnote_cell_type": "code"
   },
   "source": "# Visualisation of the outliers of column \"density\"\nplt.boxplot(df['density'])\nplt.xlabel('Density')\nplt.ylabel('Density values')\nplt.title('The division of density of the wines')\nplt.show()",
   "execution_count": 13,
   "outputs": [
    {
     "data": {
      "text/plain": "<Figure size 432x288 with 1 Axes>",
      "image/png": "[encoded data removed]"
     },
     "metadata": {
      "needs_background": "light",
      "image/png": {
       "width": 398,
       "height": 278
      }
     },
     "output_type": "display_data"
    }
   ]
  },
  {
   "cell_type": "code",
   "metadata": {
    "tags": [],
    "cell_id": "00021-84fa3c74-0b80-4a54-b838-af91ec881e54",
    "deepnote_to_be_reexecuted": false,
    "source_hash": "86847847",
    "execution_start": 1633040034965,
    "execution_millis": 501,
    "deepnote_cell_type": "code"
   },
   "source": "plt.title('Amount of wines per province')\nplt.ylabel('Frequency')\nplt.xlabel('Provinces')\ndf.province.value_counts().plot.bar()",
   "execution_count": 14,
   "outputs": [
    {
     "output_type": "execute_result",
     "execution_count": 14,
     "data": {
      "text/plain": "<AxesSubplot:title={'center':'Amount of wines per province'}, xlabel='Provinces', ylabel='Frequency'>"
     },
     "metadata": {}
    },
    {
     "data": {
      "text/plain": "<Figure size 432x288 with 1 Axes>",
      "image/png": "[encoded data removed]"
     },
     "metadata": {
      "needs_background": "light",
      "image/png": {
       "width": 389,
       "height": 382
      }
     },
     "output_type": "display_data"
    }
   ]
  },
  {
   "cell_type": "code",
   "metadata": {
    "tags": [],
    "cell_id": "00025-8d5f77ee-43ac-4959-a7f9-1e49da0767f2",
    "deepnote_to_be_reexecuted": false,
    "source_hash": "974c0f64",
    "execution_start": 1633040035469,
    "execution_millis": 311,
    "deepnote_cell_type": "code"
   },
   "source": "plt.title('Amount of wines per alcoholic percentage')\nplt.xlabel('Percentage of alcohol')\nplt.ylabel('Frequency')\ndf.alcohol.plot.hist()",
   "execution_count": 15,
   "outputs": [
    {
     "output_type": "execute_result",
     "execution_count": 15,
     "data": {
      "text/plain": "<AxesSubplot:title={'center':'Amount of wines per alcoholic percentage'}, xlabel='Percentage of alcohol', ylabel='Frequency'>"
     },
     "metadata": {}
    },
    {
     "data": {
      "text/plain": "<Figure size 432x288 with 1 Axes>",
      "image/png": "[encoded data removed]"
     },
     "metadata": {
      "needs_background": "light",
      "image/png": {
       "width": 389,
       "height": 278
      }
     },
     "output_type": "display_data"
    }
   ]
  },
  {
   "cell_type": "code",
   "metadata": {
    "tags": [],
    "cell_id": "00010-3309415c-7a51-479c-8a87-bacf75aa0e3d",
    "deepnote_to_be_reexecuted": false,
    "source_hash": "cbbcda23",
    "execution_start": 1633040035830,
    "execution_millis": 285,
    "deepnote_cell_type": "code"
   },
   "source": "#df.plot.scatter(x='density',y='residual_sugar', c='DarkBlue')\nplt.title('Scatterplot of density and residual sugar')\nplt.xlabel('Density')\nplt.ylabel('Residual sugar')\nplt.scatter(df['density'],df['residual_sugar'], alpha=0.1)\n",
   "execution_count": 16,
   "outputs": [
    {
     "output_type": "execute_result",
     "execution_count": 16,
     "data": {
      "text/plain": "<matplotlib.collections.PathCollection at 0x7fe1b4b1a910>"
     },
     "metadata": {}
    },
    {
     "data": {
      "text/plain": "<Figure size 432x288 with 1 Axes>",
      "image/png": "[encoded data removed]"
     },
     "metadata": {
      "needs_background": "light",
      "image/png": {
       "width": 388,
       "height": 278
      }
     },
     "output_type": "display_data"
    }
   ]
  },
  {
   "cell_type": "code",
   "metadata": {
    "tags": [],
    "cell_id": "00030-a6122e6f-530e-4ac1-a5e8-ccc79e1e0cf5",
    "deepnote_to_be_reexecuted": false,
    "source_hash": "eb8aadaa",
    "execution_start": 1633040036214,
    "execution_millis": 252,
    "deepnote_cell_type": "code"
   },
   "source": "plt.title('Scatterplot of Year and Points')\nplt.xlabel('Year')\nplt.xlim((1990, 2020))\nplt.ylabel('Points')\nplt.scatter(df['year'],df['points'], alpha=0.1)",
   "execution_count": 17,
   "outputs": [
    {
     "output_type": "execute_result",
     "execution_count": 17,
     "data": {
      "text/plain": "<matplotlib.collections.PathCollection at 0x7fe1b4ab5a50>"
     },
     "metadata": {}
    },
    {
     "data": {
      "text/plain": "<Figure size 432x288 with 1 Axes>",
      "image/png": "[encoded data removed]"
     },
     "metadata": {
      "needs_background": "light",
      "image/png": {
       "width": 411,
       "height": 278
      }
     },
     "output_type": "display_data"
    }
   ]
  },
  {
   "cell_type": "code",
   "metadata": {
    "tags": [],
    "cell_id": "00031-f2ff098b-a1dc-4473-8e73-ed63b4c6891d",
    "deepnote_to_be_reexecuted": false,
    "source_hash": "f3da05f2",
    "execution_start": 1633040036475,
    "execution_millis": 420,
    "deepnote_cell_type": "code"
   },
   "source": "plt.title('Scatterplot of Year and Alcohol')\nplt.xlabel('Year')\nplt.xlim((1990, 2020))\nplt.ylabel('Alcohol')\nplt.scatter(df['year'],df['alcohol'], alpha=0.3)",
   "execution_count": 18,
   "outputs": [
    {
     "output_type": "execute_result",
     "execution_count": 18,
     "data": {
      "text/plain": "<matplotlib.collections.PathCollection at 0x7fe1bf95f1d0>"
     },
     "metadata": {}
    },
    {
     "data": {
      "text/plain": "<Figure size 432x288 with 1 Axes>",
      "image/png": "[encoded data removed]"
     },
     "metadata": {
      "needs_background": "light",
      "image/png": {
       "width": 395,
       "height": 278
      }
     },
     "output_type": "display_data"
    }
   ]
  },
  {
   "cell_type": "markdown",
   "source": "When we look at the right side of the graph below we can see that when the concentration chlorides rises the average amount of points falls. We can also see in this graph that there are no wines with more than ",
   "metadata": {
    "tags": [],
    "cell_id": "00034-cd239a35-e56d-4d28-a176-10c497a27b84",
    "deepnote_cell_type": "markdown"
   }
  },
  {
   "cell_type": "code",
   "metadata": {
    "tags": [],
    "cell_id": "00033-a6bde90e-d589-42d2-884c-cb3f700ed626",
    "deepnote_to_be_reexecuted": false,
    "source_hash": "25687e05",
    "execution_start": 1633040036976,
    "execution_millis": 250,
    "deepnote_cell_type": "code"
   },
   "source": "plt.title('Scatterplot of Chloride and Points')\nplt.xlabel('chlorides')\nplt.ylabel('Points')\nplt.scatter(df['chlorides'],df['points'], alpha=0.3)",
   "execution_count": 19,
   "outputs": [
    {
     "output_type": "execute_result",
     "execution_count": 19,
     "data": {
      "text/plain": "<matplotlib.collections.PathCollection at 0x7fe1b4afcf90>"
     },
     "metadata": {}
    },
    {
     "data": {
      "text/plain": "<Figure size 432x288 with 1 Axes>",
      "image/png": "[encoded data removed]"
     },
     "metadata": {
      "needs_background": "light",
      "image/png": {
       "width": 398,
       "height": 278
      }
     },
     "output_type": "display_data"
    }
   ]
  },
  {
   "cell_type": "markdown",
   "source": "##### Linear regressie\n\nHere we are going to use Linear regression on the values Density and Residual Sugar.",
   "metadata": {
    "tags": [],
    "cell_id": "00037-53a7dd87-49ef-4569-81db-beff282cdab5",
    "deepnote_cell_type": "markdown"
   }
  },
  {
   "cell_type": "code",
   "metadata": {
    "tags": [],
    "cell_id": "00036-35bf3bd1-0c59-43b5-9b15-c0834741880d",
    "deepnote_to_be_reexecuted": false,
    "source_hash": "1a296251",
    "execution_start": 1633040037261,
    "execution_millis": 327,
    "deepnote_cell_type": "code"
   },
   "source": "#df.plot.scatter(x='density',y='residual_sugar', c='DarkBlue')\nplt.title('Linear regression of density and residual sugar')\nplt.xlabel('Density')\nplt.ylabel('Residual sugar')\nplt.scatter(df['density'],df['residual_sugar'], alpha=0.1)\n\nx = df.density.values.reshape(-1, 1)\ny = df.residual_sugar.values\nz = df.alcohol.values\n\nlr = LinearRegression()\nlr.fit(x,y)\ny1 = -274+278*x\nprint('a = {:.0f}, b = {:.0f}'.format(lr.intercept_, lr.coef_[0]))\n\nplt.plot(x, y1,'--g', label = 'first try')\n",
   "execution_count": 20,
   "outputs": [
    {
     "name": "stdout",
     "text": "a = -274, b = 278\n",
     "output_type": "stream"
    },
    {
     "output_type": "execute_result",
     "execution_count": 20,
     "data": {
      "text/plain": "[<matplotlib.lines.Line2D at 0x7fe1b49ca690>]"
     },
     "metadata": {}
    },
    {
     "data": {
      "text/plain": "<Figure size 432x288 with 1 Axes>",
      "image/png": "[encoded data removed]"
     },
     "metadata": {
      "needs_background": "light",
      "image/png": {
       "width": 388,
       "height": 278
      }
     },
     "output_type": "display_data"
    }
   ]
  },
  {
   "cell_type": "code",
   "metadata": {
    "tags": [],
    "cell_id": "00037-88ac2c4c-bb10-4909-bf86-8dfff2d7a9bc",
    "deepnote_to_be_reexecuted": false,
    "source_hash": "5e7303b2",
    "execution_start": 1633040037638,
    "execution_millis": 8,
    "deepnote_cell_type": "code"
   },
   "source": "#print('Zonder ons model is de variantie van inkomen: {:.0f}'.format(np.var(df.inkomen)))\naf = df.copy()\naf['ypred'] = -274 + 278 * af.density\n#display(df)\n\nfrom sklearn.metrics import r2_score\nprint('Check: {}'.format(r2_score(af.residual_sugar, af.ypred)))",
   "execution_count": 21,
   "outputs": [
    {
     "name": "stdout",
     "text": "Check: -0.01745329747028701\n",
     "output_type": "stream"
    }
   ]
  },
  {
   "cell_type": "code",
   "metadata": {
    "tags": [],
    "cell_id": "00038-90df3600-b17e-4400-8ca4-ad46255f3e71",
    "deepnote_to_be_reexecuted": false,
    "source_hash": "61e1ab29",
    "execution_start": 1633040037639,
    "execution_millis": 50,
    "deepnote_cell_type": "code"
   },
   "source": "RMSE = np.sqrt(np.mean((af.ypred - af.residual_sugar)**2))\nprint('De RMSE is: {:.0f}'.format(RMSE))\nfrom sklearn.metrics import mean_squared_error\nprint('Check: {}'.format(np.sqrt(mean_squared_error(af.residual_sugar, af.ypred))))",
   "execution_count": 22,
   "outputs": [
    {
     "name": "stdout",
     "text": "De RMSE is: 1\nCheck: 1.4594315934188502\n",
     "output_type": "stream"
    }
   ]
  },
  {
   "cell_type": "code",
   "metadata": {
    "tags": [],
    "cell_id": "00037-22e9a1c7-fe1d-4463-8530-44b6e2cafb3a",
    "deepnote_to_be_reexecuted": false,
    "source_hash": "83c1f1f7",
    "execution_start": 1633040037694,
    "execution_millis": 433,
    "deepnote_cell_type": "code"
   },
   "source": "#df.plot.scatter(x='density',y='residual_sugar', c='DarkBlue')\nplt.title('Linear regression of of Chloride and Points')\nplt.xlabel('Chloride')\nplt.ylabel('Points')\nplt.scatter(df['chlorides'],df['points'], alpha=0.1)\n\nx = df.chlorides.values.reshape(-1, 1)\ny = df.points.values\nlr = LinearRegression()\nlr.fit(x,y)\ny1 = 90+-8*x\nprint('a = {:.0f}, b = {:.0f}'.format(lr.intercept_, lr.coef_[0]))\n\nplt.plot(x, y1,'--g', label = 'first try')",
   "execution_count": 23,
   "outputs": [
    {
     "name": "stdout",
     "text": "a = 90, b = -8\n",
     "output_type": "stream"
    },
    {
     "output_type": "execute_result",
     "execution_count": 23,
     "data": {
      "text/plain": "[<matplotlib.lines.Line2D at 0x7fe1b48dfc90>]"
     },
     "metadata": {}
    },
    {
     "data": {
      "text/plain": "<Figure size 432x288 with 1 Axes>",
      "image/png": "[encoded data removed]"
     },
     "metadata": {
      "needs_background": "light",
      "image/png": {
       "width": 398,
       "height": 278
      }
     },
     "output_type": "display_data"
    }
   ]
  },
  {
   "cell_type": "code",
   "metadata": {
    "tags": [],
    "cell_id": "00047-ab85693c-94c8-4753-bbf7-d512cfcf1ff0",
    "deepnote_to_be_reexecuted": false,
    "source_hash": "b25469ca",
    "execution_start": 1633040038017,
    "execution_millis": 380,
    "deepnote_cell_type": "code"
   },
   "source": "df[\"points\"].plot.kde()\nplt.axvline(df[\"points\"].mean(), color='g', linewidth=2)\ndf[\"points\"].plot.hist(density=True)\n",
   "execution_count": 24,
   "outputs": [
    {
     "output_type": "execute_result",
     "execution_count": 24,
     "data": {
      "text/plain": "<AxesSubplot:ylabel='Frequency'>"
     },
     "metadata": {}
    },
    {
     "data": {
      "text/plain": "<Figure size 432x288 with 1 Axes>",
      "image/png": "[encoded data removed]"
     },
     "metadata": {
      "needs_background": "light",
      "image/png": {
       "width": 392,
       "height": 248
      }
     },
     "output_type": "display_data"
    }
   ]
  },
  {
   "cell_type": "markdown",
   "source": "#### Researching if there is a correlation between the chemical propperties in a wine and the points it is given.",
   "metadata": {
    "tags": [],
    "cell_id": "00040-4a0e4913-a584-4118-b33f-b473ae89fe6c",
    "deepnote_cell_type": "markdown"
   }
  },
  {
   "cell_type": "code",
   "metadata": {
    "tags": [],
    "cell_id": "00041-b9ae930c-825b-4eba-8acd-bfc1c2f4ffde",
    "deepnote_to_be_reexecuted": false,
    "source_hash": "b90cc370",
    "execution_start": 1633040038437,
    "execution_millis": 277,
    "deepnote_cell_type": "code"
   },
   "source": "print(df.corr()['points'])\nplt.title('Correlation of price and points')\nplt.xlabel('Price')\nplt.ylabel('Points')\nplt.scatter(df.price, df.points, alpha=0.3)\nplt.show()",
   "execution_count": 25,
   "outputs": [
    {
     "name": "stdout",
     "text": "points                  1.000000\nprice                   0.589421\nfixed_acidity           0.096236\nvolatile_acidity       -0.329223\ncitric_acid             0.185820\nresidual_sugar          0.001293\nchlorides              -0.128551\nfree_sulfur_dioxide    -0.079644\ntotal_sulfur_dioxide   -0.229706\ndensity                -0.199561\npH                     -0.023986\nsulphates               0.186578\nalcohol                 0.480122\nyear                   -0.041453\nName: points, dtype: float64\n",
     "output_type": "stream"
    },
    {
     "data": {
      "text/plain": "<Figure size 432x288 with 1 Axes>",
      "image/png": "[encoded data removed]"
     },
     "metadata": {
      "needs_background": "light",
      "image/png": {
       "width": 398,
       "height": 278
      }
     },
     "output_type": "display_data"
    }
   ]
  },
  {
   "cell_type": "code",
   "metadata": {
    "tags": [],
    "cell_id": "00041-2f0c5d11-4838-4d80-aead-85583c09ea19",
    "deepnote_to_be_reexecuted": false,
    "source_hash": "f3147580",
    "execution_start": 1633040038762,
    "execution_millis": 6,
    "deepnote_cell_type": "code"
   },
   "source": "# Here we drop all the values that are not chemical properties\nX = df.drop(['points','country','description','designation','price','province','taster_name','title','variety','winery','density'],axis=1) \ny = df['points']\n\n# Makeing test and train set\nX_train,X_test,y_train,y_test=train_test_split(X,y,random_state = 0)\n\n# Starting learning process\nlr = LinearRegression()\nlr.fit(X_train,y_train)\n\ny1 = lr.intercept_+lr.coef_[0]*x\nprint('a = {:.0f}, b = {:.0f}'.format(lr.intercept_, lr.coef_[0]))",
   "execution_count": 26,
   "outputs": [
    {
     "name": "stdout",
     "text": "a = 84, b = -0\n",
     "output_type": "stream"
    }
   ]
  },
  {
   "cell_type": "code",
   "metadata": {
    "tags": [],
    "cell_id": "00045-57a471f4-b0c2-497d-b9e1-a206c97ccc82",
    "deepnote_to_be_reexecuted": false,
    "source_hash": "92071ea2",
    "execution_start": 1633040038763,
    "execution_millis": 50,
    "deepnote_cell_type": "code"
   },
   "source": "# Validating Model\n\n# Here we test our Model with the r^2 method\n# A constant model that always predicts the expected value of y, disregarding the input features, would get a r^2 score of 0.0.\nlr.score(X_test,y_test)",
   "execution_count": 27,
   "outputs": [
    {
     "output_type": "execute_result",
     "execution_count": 27,
     "data": {
      "text/plain": "0.30384068222716165"
     },
     "metadata": {}
    }
   ]
  },
  {
   "cell_type": "code",
   "metadata": {
    "tags": [],
    "cell_id": "00047-688ea10b-36a5-4586-a14e-43f9b4497d7b",
    "deepnote_to_be_reexecuted": false,
    "source_hash": "387f8b4",
    "execution_start": 1633040038806,
    "execution_millis": 8,
    "deepnote_cell_type": "code"
   },
   "source": "# Here we test our Model with the RMSE method\n\npredmpg = lr.predict(X_test)\nnp.sqrt(mean_squared_error(y_test,predmpg))",
   "execution_count": 28,
   "outputs": [
    {
     "output_type": "execute_result",
     "execution_count": 28,
     "data": {
      "text/plain": "2.470397007636801"
     },
     "metadata": {}
    }
   ]
  },
  {
   "cell_type": "markdown",
   "source": "Now we want to test if the value Density has impact on the outcome of our Model results",
   "metadata": {
    "tags": [],
    "cell_id": "00047-3f175aca-6ac8-4ce5-b09d-58f5a9879c85",
    "deepnote_cell_type": "markdown"
   }
  },
  {
   "cell_type": "code",
   "metadata": {
    "tags": [],
    "cell_id": "00047-715709ed-78c6-49be-bf2d-5275ead8bd41",
    "deepnote_to_be_reexecuted": false,
    "source_hash": "500ec836",
    "execution_start": 1633040937233,
    "execution_millis": 156,
    "deepnote_cell_type": "code"
   },
   "source": "# Here we drop all the values that are not chemical properties and density\nX = df.drop(['points','country','description','designation','price','province','taster_name','title','variety','winery'],axis=1) \n\ny = df['points']\n\n# Makeing test and train set\nX_train,X_test,y_train,y_test=train_test_split(X,y,random_state = 0)\n\n# Starting learning process\nlr = LinearRegression()\nlr.fit(X_train,y_train)\n\ny1 = lr.intercept_+lr.coef_[0]*x\nprint('a = {:.0f}, b = {:.0f}'.format(lr.intercept_, lr.coef_[0]))\nX.describe()",
   "execution_count": 47,
   "outputs": [
    {
     "name": "stdout",
     "text": "a = 216, b = 0\n",
     "output_type": "stream"
    },
    {
     "output_type": "execute_result",
     "execution_count": 47,
     "data": {
      "application/vnd.deepnote.dataframe.v2+json": {
       "row_count": 8,
       "column_count": 12,
       "columns": [
        {
         "name": "fixed_acidity",
         "dtype": "float64",
         "stats": {
          "unique_count": 8,
          "nan_count": 0,
          "min": "1.7359062281268054",
          "max": "2261.0",
          "histogram": [
           {
            "bin_start": 1.7359062281268054,
            "bin_end": 227.66231560531412,
            "count": 7
           },
           {
            "bin_start": 227.66231560531412,
            "bin_end": 453.58872498250145,
            "count": 0
           },
           {
            "bin_start": 453.58872498250145,
            "bin_end": 679.5151343596888,
            "count": 0
           },
           {
            "bin_start": 679.5151343596888,
            "bin_end": 905.4415437368762,
            "count": 0
           },
           {
            "bin_start": 905.4415437368762,
            "bin_end": 1131.3679531140635,
            "count": 0
           },
           {
            "bin_start": 1131.3679531140635,
            "bin_end": 1357.2943624912507,
            "count": 0
           },
           {
            "bin_start": 1357.2943624912507,
            "bin_end": 1583.220771868438,
            "count": 0
           },
           {
            "bin_start": 1583.220771868438,
            "bin_end": 1809.1471812456255,
            "count": 0
           },
           {
            "bin_start": 1809.1471812456255,
            "bin_end": 2035.0735906228128,
            "count": 0
           },
           {
            "bin_start": 2035.0735906228128,
            "bin_end": 2261,
            "count": 1
           }
          ]
         }
        },
        {
         "name": "volatile_acidity",
         "dtype": "float64",
         "stats": {
          "unique_count": 8,
          "nan_count": 0,
          "min": "0.12",
          "max": "2261.0",
          "histogram": [
           {
            "bin_start": 0.12,
            "bin_end": 226.20800000000003,
            "count": 7
           },
           {
            "bin_start": 226.20800000000003,
            "bin_end": 452.29600000000005,
            "count": 0
           },
           {
            "bin_start": 452.29600000000005,
            "bin_end": 678.3840000000001,
            "count": 0
           },
           {
            "bin_start": 678.3840000000001,
            "bin_end": 904.4720000000001,
            "count": 0
           },
           {
            "bin_start": 904.4720000000001,
            "bin_end": 1130.56,
            "count": 0
           },
           {
            "bin_start": 1130.56,
            "bin_end": 1356.6480000000001,
            "count": 0
           },
           {
            "bin_start": 1356.6480000000001,
            "bin_end": 1582.736,
            "count": 0
           },
           {
            "bin_start": 1582.736,
            "bin_end": 1808.824,
            "count": 0
           },
           {
            "bin_start": 1808.824,
            "bin_end": 2034.912,
            "count": 0
           },
           {
            "bin_start": 2034.912,
            "bin_end": 2261,
            "count": 1
           }
          ]
         }
        },
        {
         "name": "citric_acid",
         "dtype": "float64",
         "stats": {
          "unique_count": 8,
          "nan_count": 0,
          "min": "0.01",
          "max": "2261.0",
          "histogram": [
           {
            "bin_start": 0.01,
            "bin_end": 226.10899999999998,
            "count": 7
           },
           {
            "bin_start": 226.10899999999998,
            "bin_end": 452.20799999999997,
            "count": 0
           },
           {
            "bin_start": 452.20799999999997,
            "bin_end": 678.307,
            "count": 0
           },
           {
            "bin_start": 678.307,
            "bin_end": 904.406,
            "count": 0
           },
           {
            "bin_start": 904.406,
            "bin_end": 1130.5049999999999,
            "count": 0
           },
           {
            "bin_start": 1130.5049999999999,
            "bin_end": 1356.604,
            "count": 0
           },
           {
            "bin_start": 1356.604,
            "bin_end": 1582.703,
            "count": 0
           },
           {
            "bin_start": 1582.703,
            "bin_end": 1808.802,
            "count": 0
           },
           {
            "bin_start": 1808.802,
            "bin_end": 2034.9009999999998,
            "count": 0
           },
           {
            "bin_start": 2034.9009999999998,
            "bin_end": 2261,
            "count": 1
           }
          ]
         }
        },
        {
         "name": "residual_sugar",
         "dtype": "float64",
         "stats": {
          "unique_count": 8,
          "nan_count": 0,
          "min": "0.9",
          "max": "2261.0",
          "histogram": [
           {
            "bin_start": 0.9,
            "bin_end": 226.91,
            "count": 7
           },
           {
            "bin_start": 226.91,
            "bin_end": 452.91999999999996,
            "count": 0
           },
           {
            "bin_start": 452.91999999999996,
            "bin_end": 678.93,
            "count": 0
           },
           {
            "bin_start": 678.93,
            "bin_end": 904.9399999999999,
            "count": 0
           },
           {
            "bin_start": 904.9399999999999,
            "bin_end": 1130.95,
            "count": 0
           },
           {
            "bin_start": 1130.95,
            "bin_end": 1356.96,
            "count": 0
           },
           {
            "bin_start": 1356.96,
            "bin_end": 1582.97,
            "count": 0
           },
           {
            "bin_start": 1582.97,
            "bin_end": 1808.98,
            "count": 0
           },
           {
            "bin_start": 1808.98,
            "bin_end": 2034.99,
            "count": 0
           },
           {
            "bin_start": 2034.99,
            "bin_end": 2261,
            "count": 1
           }
          ]
         }
        },
        {
         "name": "chlorides",
         "dtype": "float64",
         "stats": {
          "unique_count": 8,
          "nan_count": 0,
          "min": "0.012",
          "max": "2261.0",
          "histogram": [
           {
            "bin_start": 0.012,
            "bin_end": 226.11079999999998,
            "count": 7
           },
           {
            "bin_start": 226.11079999999998,
            "bin_end": 452.20959999999997,
            "count": 0
           },
           {
            "bin_start": 452.20959999999997,
            "bin_end": 678.3083999999999,
            "count": 0
           },
           {
            "bin_start": 678.3083999999999,
            "bin_end": 904.4071999999999,
            "count": 0
           },
           {
            "bin_start": 904.4071999999999,
            "bin_end": 1130.5059999999999,
            "count": 0
           },
           {
            "bin_start": 1130.5059999999999,
            "bin_end": 1356.6047999999998,
            "count": 0
           },
           {
            "bin_start": 1356.6047999999998,
            "bin_end": 1582.7035999999998,
            "count": 0
           },
           {
            "bin_start": 1582.7035999999998,
            "bin_end": 1808.8023999999998,
            "count": 0
           },
           {
            "bin_start": 1808.8023999999998,
            "bin_end": 2034.9011999999998,
            "count": 0
           },
           {
            "bin_start": 2034.9011999999998,
            "bin_end": 2261,
            "count": 1
           }
          ]
         }
        },
        {
         "name": "free_sulfur_dioxide",
         "dtype": "float64",
         "stats": {
          "unique_count": 8,
          "nan_count": 0,
          "min": "1.0",
          "max": "2261.0",
          "histogram": [
           {
            "bin_start": 1,
            "bin_end": 227,
            "count": 7
           },
           {
            "bin_start": 227,
            "bin_end": 453,
            "count": 0
           },
           {
            "bin_start": 453,
            "bin_end": 679,
            "count": 0
           },
           {
            "bin_start": 679,
            "bin_end": 905,
            "count": 0
           },
           {
            "bin_start": 905,
            "bin_end": 1131,
            "count": 0
           },
           {
            "bin_start": 1131,
            "bin_end": 1357,
            "count": 0
           },
           {
            "bin_start": 1357,
            "bin_end": 1583,
            "count": 0
           },
           {
            "bin_start": 1583,
            "bin_end": 1809,
            "count": 0
           },
           {
            "bin_start": 1809,
            "bin_end": 2035,
            "count": 0
           },
           {
            "bin_start": 2035,
            "bin_end": 2261,
            "count": 1
           }
          ]
         }
        },
        {
         "name": "total_sulfur_dioxide",
         "dtype": "float64",
         "stats": {
          "unique_count": 8,
          "nan_count": 0,
          "min": "6.0",
          "max": "2261.0",
          "histogram": [
           {
            "bin_start": 6,
            "bin_end": 231.5,
            "count": 6
           },
           {
            "bin_start": 231.5,
            "bin_end": 457,
            "count": 1
           },
           {
            "bin_start": 457,
            "bin_end": 682.5,
            "count": 0
           },
           {
            "bin_start": 682.5,
            "bin_end": 908,
            "count": 0
           },
           {
            "bin_start": 908,
            "bin_end": 1133.5,
            "count": 0
           },
           {
            "bin_start": 1133.5,
            "bin_end": 1359,
            "count": 0
           },
           {
            "bin_start": 1359,
            "bin_end": 1584.5,
            "count": 0
           },
           {
            "bin_start": 1584.5,
            "bin_end": 1810,
            "count": 0
           },
           {
            "bin_start": 1810,
            "bin_end": 2035.5,
            "count": 0
           },
           {
            "bin_start": 2035.5,
            "bin_end": 2261,
            "count": 1
           }
          ]
         }
        },
        {
         "name": "density",
         "dtype": "float64",
         "stats": {
          "unique_count": 8,
          "nan_count": 0,
          "min": "0.0018498571767167763",
          "max": "2261.0",
          "histogram": [
           {
            "bin_start": 0.0018498571767167763,
            "bin_end": 226.10166487145906,
            "count": 7
           },
           {
            "bin_start": 226.10166487145906,
            "bin_end": 452.2014798857414,
            "count": 0
           },
           {
            "bin_start": 452.2014798857414,
            "bin_end": 678.3012949000238,
            "count": 0
           },
           {
            "bin_start": 678.3012949000238,
            "bin_end": 904.4011099143061,
            "count": 0
           },
           {
            "bin_start": 904.4011099143061,
            "bin_end": 1130.5009249285883,
            "count": 0
           },
           {
            "bin_start": 1130.5009249285883,
            "bin_end": 1356.6007399428709,
            "count": 0
           },
           {
            "bin_start": 1356.6007399428709,
            "bin_end": 1582.7005549571531,
            "count": 0
           },
           {
            "bin_start": 1582.7005549571531,
            "bin_end": 1808.8003699714354,
            "count": 0
           },
           {
            "bin_start": 1808.8003699714354,
            "bin_end": 2034.9001849857177,
            "count": 0
           },
           {
            "bin_start": 2034.9001849857177,
            "bin_end": 2261,
            "count": 1
           }
          ]
         }
        },
        {
         "name": "pH",
         "dtype": "float64",
         "stats": {
          "unique_count": 8,
          "nan_count": 0,
          "min": "0.14729516954372623",
          "max": "2261.0",
          "histogram": [
           {
            "bin_start": 0.14729516954372623,
            "bin_end": 226.23256565258936,
            "count": 7
           },
           {
            "bin_start": 226.23256565258936,
            "bin_end": 452.317836135635,
            "count": 0
           },
           {
            "bin_start": 452.317836135635,
            "bin_end": 678.4031066186807,
            "count": 0
           },
           {
            "bin_start": 678.4031066186807,
            "bin_end": 904.4883771017263,
            "count": 0
           },
           {
            "bin_start": 904.4883771017263,
            "bin_end": 1130.5736475847718,
            "count": 0
           },
           {
            "bin_start": 1130.5736475847718,
            "bin_end": 1356.6589180678175,
            "count": 0
           },
           {
            "bin_start": 1356.6589180678175,
            "bin_end": 1582.744188550863,
            "count": 0
           },
           {
            "bin_start": 1582.744188550863,
            "bin_end": 1808.8294590339087,
            "count": 0
           },
           {
            "bin_start": 1808.8294590339087,
            "bin_end": 2034.9147295169544,
            "count": 0
           },
           {
            "bin_start": 2034.9147295169544,
            "bin_end": 2261,
            "count": 1
           }
          ]
         }
        },
        {
         "name": "sulphates",
         "dtype": "float64",
         "stats": {
          "unique_count": 8,
          "nan_count": 0,
          "min": "0.17568305690750466",
          "max": "2261.0",
          "histogram": [
           {
            "bin_start": 0.17568305690750466,
            "bin_end": 226.25811475121677,
            "count": 7
           },
           {
            "bin_start": 226.25811475121677,
            "bin_end": 452.34054644552606,
            "count": 0
           },
           {
            "bin_start": 452.34054644552606,
            "bin_end": 678.4229781398353,
            "count": 0
           },
           {
            "bin_start": 678.4229781398353,
            "bin_end": 904.5054098341445,
            "count": 0
           },
           {
            "bin_start": 904.5054098341445,
            "bin_end": 1130.5878415284537,
            "count": 0
           },
           {
            "bin_start": 1130.5878415284537,
            "bin_end": 1356.6702732227632,
            "count": 0
           },
           {
            "bin_start": 1356.6702732227632,
            "bin_end": 1582.7527049170724,
            "count": 0
           },
           {
            "bin_start": 1582.7527049170724,
            "bin_end": 1808.8351366113816,
            "count": 0
           },
           {
            "bin_start": 1808.8351366113816,
            "bin_end": 2034.9175683056908,
            "count": 0
           },
           {
            "bin_start": 2034.9175683056908,
            "bin_end": 2261,
            "count": 1
           }
          ]
         }
        },
        {
         "name": "alcohol",
         "dtype": "float64",
         "stats": {
          "unique_count": 8,
          "nan_count": 0,
          "min": "1.0372184027053348",
          "max": "2261.0",
          "histogram": [
           {
            "bin_start": 1.0372184027053348,
            "bin_end": 227.03349656243478,
            "count": 7
           },
           {
            "bin_start": 227.03349656243478,
            "bin_end": 453.02977472216423,
            "count": 0
           },
           {
            "bin_start": 453.02977472216423,
            "bin_end": 679.0260528818937,
            "count": 0
           },
           {
            "bin_start": 679.0260528818937,
            "bin_end": 905.0223310416231,
            "count": 0
           },
           {
            "bin_start": 905.0223310416231,
            "bin_end": 1131.0186092013525,
            "count": 0
           },
           {
            "bin_start": 1131.0186092013525,
            "bin_end": 1357.0148873610822,
            "count": 0
           },
           {
            "bin_start": 1357.0148873610822,
            "bin_end": 1583.0111655208116,
            "count": 0
           },
           {
            "bin_start": 1583.0111655208116,
            "bin_end": 1809.007443680541,
            "count": 0
           },
           {
            "bin_start": 1809.007443680541,
            "bin_end": 2035.0037218402704,
            "count": 0
           },
           {
            "bin_start": 2035.0037218402704,
            "bin_end": 2261,
            "count": 1
           }
          ]
         }
        },
        {
         "name": "year",
         "dtype": "float64",
         "stats": {
          "unique_count": 8,
          "nan_count": 0,
          "min": "0.0",
          "max": "2261.0",
          "histogram": [
           {
            "bin_start": 0,
            "bin_end": 226.1,
            "count": 1
           },
           {
            "bin_start": 226.1,
            "bin_end": 452.2,
            "count": 1
           },
           {
            "bin_start": 452.2,
            "bin_end": 678.3,
            "count": 0
           },
           {
            "bin_start": 678.3,
            "bin_end": 904.4,
            "count": 0
           },
           {
            "bin_start": 904.4,
            "bin_end": 1130.5,
            "count": 0
           },
           {
            "bin_start": 1130.5,
            "bin_end": 1356.6,
            "count": 0
           },
           {
            "bin_start": 1356.6,
            "bin_end": 1582.7,
            "count": 0
           },
           {
            "bin_start": 1582.7,
            "bin_end": 1808.8,
            "count": 0
           },
           {
            "bin_start": 1808.8,
            "bin_end": 2034.8999999999999,
            "count": 5
           },
           {
            "bin_start": 2034.8999999999999,
            "bin_end": 2261,
            "count": 1
           }
          ]
         }
        },
        {
         "name": "_deepnote_index_column",
         "dtype": "object"
        }
       ],
       "rows_top": [
        {
         "fixed_acidity": 2261,
         "volatile_acidity": 2261,
         "citric_acid": 2261,
         "residual_sugar": 2261,
         "chlorides": 2261,
         "free_sulfur_dioxide": 2261,
         "total_sulfur_dioxide": 2261,
         "density": 2261,
         "pH": 2261,
         "sulphates": 2261,
         "alcohol": 2261,
         "year": 2261,
         "_deepnote_index_column": "count"
        },
        {
         "fixed_acidity": 8.47279964617426,
         "volatile_acidity": 0.5128726227333038,
         "citric_acid": 0.29934099955771787,
         "residual_sugar": 2.590977443609023,
         "chlorides": 0.08789031402034497,
         "free_sulfur_dioxide": 15.874170720919947,
         "total_sulfur_dioxide": 48.605926581158776,
         "density": 0.9969026802299867,
         "pH": 3.2975984077841662,
         "sulphates": 0.6646528084918177,
         "alcohol": 10.399896800825594,
         "year": 1977.5360459973463,
         "_deepnote_index_column": "mean"
        },
        {
         "fixed_acidity": 1.7359062281268054,
         "volatile_acidity": 0.17075142015417294,
         "citric_acid": 0.18535175610405977,
         "residual_sugar": 1.4471800378254132,
         "chlorides": 0.04830122480480915,
         "free_sulfur_dioxide": 10.34556575462313,
         "total_sulfur_dioxide": 33.891405706894155,
         "density": 0.0018498571767167763,
         "pH": 0.14729516954372623,
         "sulphates": 0.17568305690750466,
         "alcohol": 1.0372184027053348,
         "year": 258.62417663461815,
         "_deepnote_index_column": "std"
        },
        {
         "fixed_acidity": 4.6,
         "volatile_acidity": 0.12,
         "citric_acid": 0.01,
         "residual_sugar": 0.9,
         "chlorides": 0.012,
         "free_sulfur_dioxide": 1,
         "total_sulfur_dioxide": 6,
         "density": 0.99007,
         "pH": 2.74,
         "sulphates": 0.33,
         "alcohol": 8.5,
         "year": 0,
         "_deepnote_index_column": "min"
        },
        {
         "fixed_acidity": 7.2,
         "volatile_acidity": 0.39,
         "citric_acid": 0.14,
         "residual_sugar": 1.9,
         "chlorides": 0.071,
         "free_sulfur_dioxide": 7,
         "total_sulfur_dioxide": 23,
         "density": 0.99577,
         "pH": 3.2,
         "sulphates": 0.56,
         "alcohol": 9.5,
         "year": 2009,
         "_deepnote_index_column": "25%"
        },
        {
         "fixed_acidity": 8.1,
         "volatile_acidity": 0.5,
         "citric_acid": 0.29,
         "residual_sugar": 2.2,
         "chlorides": 0.079,
         "free_sulfur_dioxide": 14,
         "total_sulfur_dioxide": 39,
         "density": 0.99685,
         "pH": 3.3,
         "sulphates": 0.62,
         "alcohol": 10.2,
         "year": 2012,
         "_deepnote_index_column": "50%"
        },
        {
         "fixed_acidity": 9.4,
         "volatile_acidity": 0.62,
         "citric_acid": 0.44,
         "residual_sugar": 2.6,
         "chlorides": 0.09,
         "free_sulfur_dioxide": 21,
         "total_sulfur_dioxide": 65,
         "density": 0.998,
         "pH": 3.39,
         "sulphates": 0.73,
         "alcohol": 11.1,
         "year": 2014,
         "_deepnote_index_column": "75%"
        },
        {
         "fixed_acidity": 15.9,
         "volatile_acidity": 1.24,
         "citric_acid": 1,
         "residual_sugar": 15.5,
         "chlorides": 0.611,
         "free_sulfur_dioxide": 72,
         "total_sulfur_dioxide": 289,
         "density": 1.00369,
         "pH": 3.9,
         "sulphates": 2,
         "alcohol": 14.9,
         "year": 2016,
         "_deepnote_index_column": "max"
        }
       ],
       "rows_bottom": null
      },
      "text/plain": "       fixed_acidity  volatile_acidity  citric_acid  residual_sugar  \\\ncount    2261.000000       2261.000000  2261.000000     2261.000000   \nmean        8.472800          0.512873     0.299341        2.590977   \nstd         1.735906          0.170751     0.185352        1.447180   \nmin         4.600000          0.120000     0.010000        0.900000   \n25%         7.200000          0.390000     0.140000        1.900000   \n50%         8.100000          0.500000     0.290000        2.200000   \n75%         9.400000          0.620000     0.440000        2.600000   \nmax        15.900000          1.240000     1.000000       15.500000   \n\n         chlorides  free_sulfur_dioxide  total_sulfur_dioxide      density  \\\ncount  2261.000000          2261.000000           2261.000000  2261.000000   \nmean      0.087890            15.874171             48.605927     0.996903   \nstd       0.048301            10.345566             33.891406     0.001850   \nmin       0.012000             1.000000              6.000000     0.990070   \n25%       0.071000             7.000000             23.000000     0.995770   \n50%       0.079000            14.000000             39.000000     0.996850   \n75%       0.090000            21.000000             65.000000     0.998000   \nmax       0.611000            72.000000            289.000000     1.003690   \n\n                pH    sulphates      alcohol         year  \ncount  2261.000000  2261.000000  2261.000000  2261.000000  \nmean      3.297598     0.664653    10.399897  1977.536046  \nstd       0.147295     0.175683     1.037218   258.624177  \nmin       2.740000     0.330000     8.500000     0.000000  \n25%       3.200000     0.560000     9.500000  2009.000000  \n50%       3.300000     0.620000    10.200000  2012.000000  \n75%       3.390000     0.730000    11.100000  2014.000000  \nmax       3.900000     2.000000    14.900000  2016.000000  ",
      "text/html": "<div>\n<style scoped>\n    .dataframe tbody tr th:only-of-type {\n        vertical-align: middle;\n    }\n\n    .dataframe tbody tr th {\n        vertical-align: top;\n    }\n\n    .dataframe thead th {\n        text-align: right;\n    }\n</style>\n<table border=\"1\" class=\"dataframe\">\n  <thead>\n    <tr style=\"text-align: right;\">\n      <th></th>\n      <th>fixed_acidity</th>\n      <th>volatile_acidity</th>\n      <th>citric_acid</th>\n      <th>residual_sugar</th>\n      <th>chlorides</th>\n      <th>free_sulfur_dioxide</th>\n      <th>total_sulfur_dioxide</th>\n      <th>density</th>\n      <th>pH</th>\n      <th>sulphates</th>\n      <th>alcohol</th>\n      <th>year</th>\n    </tr>\n  </thead>\n  <tbody>\n    <tr>\n      <th>count</th>\n      <td>2261.000000</td>\n      <td>2261.000000</td>\n      <td>2261.000000</td>\n      <td>2261.000000</td>\n      <td>2261.000000</td>\n      <td>2261.000000</td>\n      <td>2261.000000</td>\n      <td>2261.000000</td>\n      <td>2261.000000</td>\n      <td>2261.000000</td>\n      <td>2261.000000</td>\n      <td>2261.000000</td>\n    </tr>\n    <tr>\n      <th>mean</th>\n      <td>8.472800</td>\n      <td>0.512873</td>\n      <td>0.299341</td>\n      <td>2.590977</td>\n      <td>0.087890</td>\n      <td>15.874171</td>\n      <td>48.605927</td>\n      <td>0.996903</td>\n      <td>3.297598</td>\n      <td>0.664653</td>\n      <td>10.399897</td>\n      <td>1977.536046</td>\n    </tr>\n    <tr>\n      <th>std</th>\n      <td>1.735906</td>\n      <td>0.170751</td>\n      <td>0.185352</td>\n      <td>1.447180</td>\n      <td>0.048301</td>\n      <td>10.345566</td>\n      <td>33.891406</td>\n      <td>0.001850</td>\n      <td>0.147295</td>\n      <td>0.175683</td>\n      <td>1.037218</td>\n      <td>258.624177</td>\n    </tr>\n    <tr>\n      <th>min</th>\n      <td>4.600000</td>\n      <td>0.120000</td>\n      <td>0.010000</td>\n      <td>0.900000</td>\n      <td>0.012000</td>\n      <td>1.000000</td>\n      <td>6.000000</td>\n      <td>0.990070</td>\n      <td>2.740000</td>\n      <td>0.330000</td>\n      <td>8.500000</td>\n      <td>0.000000</td>\n    </tr>\n    <tr>\n      <th>25%</th>\n      <td>7.200000</td>\n      <td>0.390000</td>\n      <td>0.140000</td>\n      <td>1.900000</td>\n      <td>0.071000</td>\n      <td>7.000000</td>\n      <td>23.000000</td>\n      <td>0.995770</td>\n      <td>3.200000</td>\n      <td>0.560000</td>\n      <td>9.500000</td>\n      <td>2009.000000</td>\n    </tr>\n    <tr>\n      <th>50%</th>\n      <td>8.100000</td>\n      <td>0.500000</td>\n      <td>0.290000</td>\n      <td>2.200000</td>\n      <td>0.079000</td>\n      <td>14.000000</td>\n      <td>39.000000</td>\n      <td>0.996850</td>\n      <td>3.300000</td>\n      <td>0.620000</td>\n      <td>10.200000</td>\n      <td>2012.000000</td>\n    </tr>\n    <tr>\n      <th>75%</th>\n      <td>9.400000</td>\n      <td>0.620000</td>\n      <td>0.440000</td>\n      <td>2.600000</td>\n      <td>0.090000</td>\n      <td>21.000000</td>\n      <td>65.000000</td>\n      <td>0.998000</td>\n      <td>3.390000</td>\n      <td>0.730000</td>\n      <td>11.100000</td>\n      <td>2014.000000</td>\n    </tr>\n    <tr>\n      <th>max</th>\n      <td>15.900000</td>\n      <td>1.240000</td>\n      <td>1.000000</td>\n      <td>15.500000</td>\n      <td>0.611000</td>\n      <td>72.000000</td>\n      <td>289.000000</td>\n      <td>1.003690</td>\n      <td>3.900000</td>\n      <td>2.000000</td>\n      <td>14.900000</td>\n      <td>2016.000000</td>\n    </tr>\n  </tbody>\n</table>\n</div>"
     },
     "metadata": {}
    }
   ]
  },
  {
   "cell_type": "code",
   "metadata": {
    "tags": [],
    "cell_id": "00049-c997574b-6598-400d-9624-cecac65b80a2",
    "deepnote_to_be_reexecuted": false,
    "source_hash": "92071ea2",
    "execution_start": 1633040038851,
    "execution_millis": 7,
    "deepnote_cell_type": "code"
   },
   "source": "# Validating Model\n\n# Here we test our Model with the r^2 method\n# A constant model that always predicts the expected value of y, disregarding the input features, would get a r^2 score of 0.0.\nlr.score(X_test,y_test)",
   "execution_count": 30,
   "outputs": [
    {
     "output_type": "execute_result",
     "execution_count": 30,
     "data": {
      "text/plain": "0.3043840539133533"
     },
     "metadata": {}
    }
   ]
  },
  {
   "cell_type": "code",
   "source": "# This script tests all possible combination of features to check wich combination give the highest score for the linear regression\nimport itertools\ny = df['points']\n#possible_combinations = list(itertools.combinations(iterable, ['points','country','description','designation','price','province','taster_name','title','variety','winery']))\n#possible_combinations\nimport itertools\npossible_combinations =[]\nstuff = ['fixed_acidity','volatile_acidity','citric_acid','residual_sugar','chlorides','free_sulfur_dioxide','total_sulfur_dioxide','density','pH','sulphates','alcohol','year']\nfor L in range(1, len(stuff)+1):\n    for subset in itertools.combinations(stuff, L):\n        possible_combinations.append(np.asarray(subset))\n\nbest_score = 0.00\nbest_comb = comb[0]\n\nfor comb in possible_combinations:\n    X = df[comb]\n    # Making test and train set\n    X_train,X_test,y_train,y_test=train_test_split(X,y,random_state = 0)\n\n    # Starting learning process\n    lr = LinearRegression()\n    lr.fit(X_train,y_train)\n\n    y1 = lr.intercept_+lr.coef_[0]*x\n    score = lr.score(X_test,y_test)\n    #print(score)\n    if score > best_score:\n        best_score = score\n        best_comb = comb\n\nprint(best_comb)\nprint(best_score)\n\n\n",
   "metadata": {
    "tags": [],
    "cell_id": "00050-fcf07761-4edd-43eb-b4a6-c5ede508fc9b",
    "deepnote_to_be_reexecuted": false,
    "source_hash": "6c3770dd",
    "execution_start": 1633041254850,
    "execution_millis": 45417,
    "deepnote_cell_type": "code"
   },
   "outputs": [
    {
     "name": "stdout",
     "text": "['fixed_acidity' 'volatile_acidity' 'chlorides' 'free_sulfur_dioxide'\n 'total_sulfur_dioxide' 'density' 'sulphates' 'alcohol']\n0.3063670339570579\n",
     "output_type": "stream"
    }
   ],
   "execution_count": 50
  },
  {
   "cell_type": "code",
   "metadata": {
    "tags": [],
    "cell_id": "00050-c4a71777-f2d5-4fb3-a19f-dad1653f471d",
    "deepnote_to_be_reexecuted": true,
    "source_hash": "387f8b4",
    "execution_start": 1632995541423,
    "execution_millis": 17,
    "deepnote_cell_type": "code"
   },
   "source": "# Here we test our Model with the RMSE method\n\npredmpg = lr.predict(X_test)\nnp.sqrt(mean_squared_error(y_test,predmpg))",
   "outputs": [
    {
     "output_type": "execute_result",
     "execution_count": 31,
     "data": {
      "text/plain": "2.469432712690405"
     },
     "metadata": {}
    }
   ],
   "execution_count": null
  },
  {
   "cell_type": "markdown",
   "source": "<a style='text-decoration:none;line-height:16px;display:flex;color:#5B5B62;padding:10px;justify-content:end;' href='https://deepnote.com?utm_source=created-in-deepnote-cell&projectId=1e9b27b8-a34d-4e11-8ef1-1fdc6f91d699' target=\"_blank\">\n<img alt='Created in deepnote.com' style='display:inline;max-height:16px;margin:0px;margin-right:7.5px;' src='data:image/svg+xml;base64,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' > </img>\nCreated in <span style='font-weight:600;margin-left:4px;'>Deepnote</span></a>",
   "metadata": {
    "tags": [],
    "created_in_deepnote_cell": true,
    "deepnote_cell_type": "markdown"
   }
  }
 ],
 "nbformat": 4,
 "nbformat_minor": 5,
 "metadata": {
  "kernelspec": {
   "display_name": "Python 3",
   "language": "python",
   "name": "python3"
  },
  "language_info": {
   "codemirror_mode": {
    "name": "ipython",
    "version": 3
   },
   "file_extension": ".py",
   "mimetype": "text/x-python",
   "name": "python",
   "nbconvert_exporter": "python",
   "pygments_lexer": "ipython3",
   "version": "3.8.8"
  },
  "deepnote_notebook_id": "92ed4e5f-0c8d-4c96-a631-3b85c4b1ab88",
  "deepnote": {},
  "deepnote_execution_queue": []
 }
}